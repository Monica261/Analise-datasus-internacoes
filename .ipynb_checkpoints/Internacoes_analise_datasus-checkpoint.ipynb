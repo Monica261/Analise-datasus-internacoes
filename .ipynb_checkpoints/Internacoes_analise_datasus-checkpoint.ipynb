{
 "cells": [
  {
   "cell_type": "code",
   "execution_count": 29,
   "metadata": {},
   "outputs": [
    {
     "data": {
      "text/html": [
       "        <script type=\"text/javascript\">\n",
       "        window.PlotlyConfig = {MathJaxConfig: 'local'};\n",
       "        if (window.MathJax && window.MathJax.Hub && window.MathJax.Hub.Config) {window.MathJax.Hub.Config({SVG: {font: \"STIX-Web\"}});}\n",
       "        if (typeof require !== 'undefined') {\n",
       "        require.undef(\"plotly\");\n",
       "        requirejs.config({\n",
       "            paths: {\n",
       "                'plotly': ['https://cdn.plot.ly/plotly-2.14.0.min']\n",
       "            }\n",
       "        });\n",
       "        require(['plotly'], function(Plotly) {\n",
       "            window._Plotly = Plotly;\n",
       "        });\n",
       "        }\n",
       "        </script>\n",
       "        "
      ]
     },
     "metadata": {},
     "output_type": "display_data"
    }
   ],
   "source": [
    "#importando os pacotes\n",
    "\n",
    "%matplotlib inline\n",
    "import numpy as np\n",
    "import matplotlib.pyplot as plt\n",
    "import pandas as pd\n",
    "import colorsys\n",
    "plt.style.use('seaborn-talk')\n",
    "\n",
    "#foi necessario realizar novas importações e transformar os graficos em svg para que exibisse no github\n",
    "from plotly.offline import plot, iplot, init_notebook_mode\n",
    "import plotly.graph_objs as go\n",
    "init_notebook_mode(connected=True)\n",
    "import plotly.io as pio\n",
    "import plotly.express as px"
   ]
  },
  {
   "cell_type": "code",
   "execution_count": 30,
   "metadata": {},
   "outputs": [
    {
     "name": "stdout",
     "output_type": "stream",
     "text": [
      "        Data Região/Unidade da Federação  Internações  AIH_aprovadas  \\\n",
      "0 2017-12-01                Região Norte        80359          80383   \n",
      "1 2017-12-01                 .. Rondônia         9783           9783   \n",
      "2 2017-12-01                     .. Acre         3463           3487   \n",
      "3 2017-12-01                 .. Amazonas        14337          14337   \n",
      "4 2017-12-01                  .. Roraima         3513           3513   \n",
      "\n",
      "   Valor_total  Valor_serviços_hospitalares Val_serv_hosp_-_compl_federal  \\\n",
      "0  67267305.18                  50730417.62                        561206   \n",
      "1   7507845.13                   5931386.18                             -   \n",
      "2   2610454.55                   1966308.65                             -   \n",
      "3  13169660.32                  10020114.86                             -   \n",
      "4   2635287.45                   1986327.47                             -   \n",
      "\n",
      "  Val_serv_hosp_-_compl_gestor  Valor_serviços_profissionais  \\\n",
      "0                      1100.81                   15700377.99   \n",
      "1                            -                    1576458.95   \n",
      "2                            -                     644145.90   \n",
      "3                            -                    3149545.46   \n",
      "4                            -                     648959.98   \n",
      "\n",
      "  Val_serv_prof_-_compl_federal Val_serv_prof_-_compl_gestor  Valor_médio_AIH  \\\n",
      "0                       1100.81                       586.51           836.83   \n",
      "1                             -                            -           767.44   \n",
      "2                             -                            -           748.62   \n",
      "3                             -                            -           918.58   \n",
      "4                             -                            -           750.15   \n",
      "\n",
      "   Valor_médio_intern  Dias_permanência  Média_permanência  Óbitos  \\\n",
      "0              837.08            358295                4.5    1929   \n",
      "1              767.44             42043                4.3     235   \n",
      "2              753.81             16660                4.8     106   \n",
      "3              918.58             72629                5.1     403   \n",
      "4              750.15             18231                5.2      87   \n",
      "\n",
      "   Taxa_mortalidade  \n",
      "0              2.40  \n",
      "1              2.40  \n",
      "2              3.06  \n",
      "3              2.81  \n",
      "4              2.48  \n"
     ]
    }
   ],
   "source": [
    "df = pd.read_excel(\"case_internacao_SUS.xls\", sheet_name='dez17')\n",
    "print(df.head())"
   ]
  },
  {
   "cell_type": "code",
   "execution_count": 31,
   "metadata": {},
   "outputs": [],
   "source": [
    "#formartar nome das regioes\n",
    "\n",
    "df['Região/Unidade da Federação'] = df['Região/Unidade da Federação'].str.replace(r'\\W',\"\")\n",
    "\n",
    "#formartar valores dos campos de - para 0\n",
    "\n",
    "df['Val_serv_prof_-_compl_gestor'] = df['Val_serv_prof_-_compl_gestor'].replace('-','0')\n",
    "df['Val_serv_hosp_-_compl_federal'] = df['Val_serv_hosp_-_compl_federal'].replace('-','0')\n",
    "df['Val_serv_hosp_-_compl_gestor'] = df['Val_serv_hosp_-_compl_gestor'].replace('-','0')\n",
    "df['Val_serv_prof_-_compl_federal'] = df['Val_serv_prof_-_compl_federal'].replace('-','0')\n",
    "\n",
    "#renomear o nome das colunas\n",
    "\n",
    "df.rename({'Região/Unidade da Federação': 'regiao_unidade_da_federacao',\n",
    "           'Val_serv_hosp_-_compl_federal': 'Val_serv_hosp_compl_federal',\n",
    "           'Val_serv_hosp_-_compl_gestor':'Val_serv_hosp_compl_gestor',\n",
    "           'Val_serv_prof_-_compl_federal':'Val_serv_prof_compl_federal',\n",
    "           'Val_serv_prof_-_compl_gestor':'Val_serv_prof_compl_gestor',\n",
    "           'Valor_médio_AIH':'Valor_medio_AIH',\n",
    "           'Valor_médio_intern':'Valor_medio_intern',\n",
    "           'Dias_permanência':'Dias_permanencia',\n",
    "           'Média_permanência':'Media_permanencia',\n",
    "           'Óbitos':'obitos',\n",
    "           'valor_serviços_hospitalares': 'valor_servicos_hospitalares',\n",
    "           'internações':'internacoes',\n",
    "           'Valor_serviços_hospitalares':'Valor_servicos_hospitalares',\n",
    "           'Valor_serviços_profissionais':'Valor_servicos_profissionais',\n",
    "           'Internações':'Internacoes'\n",
    "          },axis=1, inplace=True)\n",
    "\n",
    "#deixar os cabeçalhos em minusculo\n",
    "\n",
    "df.columns = map(str.lower, df.columns)"
   ]
  },
  {
   "cell_type": "code",
   "execution_count": 32,
   "metadata": {},
   "outputs": [
    {
     "name": "stdout",
     "output_type": "stream",
     "text": [
      "        data regiao_unidade_da_federacao  internacoes  aih_aprovadas  \\\n",
      "0 2017-12-01                 RegiãoNorte        80359          80383   \n",
      "1 2017-12-01                    Rondônia         9783           9783   \n",
      "2 2017-12-01                        Acre         3463           3487   \n",
      "3 2017-12-01                    Amazonas        14337          14337   \n",
      "4 2017-12-01                     Roraima         3513           3513   \n",
      "\n",
      "   valor_total  valor_servicos_hospitalares val_serv_hosp_compl_federal  \\\n",
      "0  67267305.18                  50730417.62                      561206   \n",
      "1   7507845.13                   5931386.18                           0   \n",
      "2   2610454.55                   1966308.65                           0   \n",
      "3  13169660.32                  10020114.86                           0   \n",
      "4   2635287.45                   1986327.47                           0   \n",
      "\n",
      "  val_serv_hosp_compl_gestor  valor_servicos_profissionais  \\\n",
      "0                    1100.81                   15700377.99   \n",
      "1                          0                    1576458.95   \n",
      "2                          0                     644145.90   \n",
      "3                          0                    3149545.46   \n",
      "4                          0                     648959.98   \n",
      "\n",
      "  val_serv_prof_compl_federal val_serv_prof_compl_gestor  valor_medio_aih  \\\n",
      "0                     1100.81                     586.51           836.83   \n",
      "1                           0                          0           767.44   \n",
      "2                           0                          0           748.62   \n",
      "3                           0                          0           918.58   \n",
      "4                           0                          0           750.15   \n",
      "\n",
      "   valor_medio_intern  dias_permanencia  media_permanencia  obitos  \\\n",
      "0              837.08            358295                4.5    1929   \n",
      "1              767.44             42043                4.3     235   \n",
      "2              753.81             16660                4.8     106   \n",
      "3              918.58             72629                5.1     403   \n",
      "4              750.15             18231                5.2      87   \n",
      "\n",
      "   taxa_mortalidade  \n",
      "0              2.40  \n",
      "1              2.40  \n",
      "2              3.06  \n",
      "3              2.81  \n",
      "4              2.48  \n"
     ]
    }
   ],
   "source": [
    "print(df.head())"
   ]
  },
  {
   "cell_type": "code",
   "execution_count": 33,
   "metadata": {},
   "outputs": [],
   "source": [
    "import plotly.express as px"
   ]
  },
  {
   "cell_type": "code",
   "execution_count": 34,
   "metadata": {},
   "outputs": [],
   "source": [
    "#agrupamento para a monstagem do grafico\n",
    "df_agrupado_por_estado_obitos_internacoes = df.groupby(['regiao_unidade_da_federacao','internacoes']).agg({'obitos': np.mean}).reset_index()"
   ]
  },
  {
   "cell_type": "code",
   "execution_count": 35,
   "metadata": {},
   "outputs": [
    {
     "data": {
      "text/html": [
       "<div>\n",
       "<style scoped>\n",
       "    .dataframe tbody tr th:only-of-type {\n",
       "        vertical-align: middle;\n",
       "    }\n",
       "\n",
       "    .dataframe tbody tr th {\n",
       "        vertical-align: top;\n",
       "    }\n",
       "\n",
       "    .dataframe thead th {\n",
       "        text-align: right;\n",
       "    }\n",
       "</style>\n",
       "<table border=\"1\" class=\"dataframe\">\n",
       "  <thead>\n",
       "    <tr style=\"text-align: right;\">\n",
       "      <th></th>\n",
       "      <th>regiao_unidade_da_federacao</th>\n",
       "      <th>internacoes</th>\n",
       "      <th>obitos</th>\n",
       "    </tr>\n",
       "  </thead>\n",
       "  <tbody>\n",
       "    <tr>\n",
       "      <th>0</th>\n",
       "      <td>Acre</td>\n",
       "      <td>3463</td>\n",
       "      <td>106</td>\n",
       "    </tr>\n",
       "    <tr>\n",
       "      <th>1</th>\n",
       "      <td>Alagoas</td>\n",
       "      <td>13557</td>\n",
       "      <td>520</td>\n",
       "    </tr>\n",
       "    <tr>\n",
       "      <th>2</th>\n",
       "      <td>Amapá</td>\n",
       "      <td>2493</td>\n",
       "      <td>71</td>\n",
       "    </tr>\n",
       "    <tr>\n",
       "      <th>3</th>\n",
       "      <td>Amazonas</td>\n",
       "      <td>14337</td>\n",
       "      <td>403</td>\n",
       "    </tr>\n",
       "    <tr>\n",
       "      <th>4</th>\n",
       "      <td>Bahia</td>\n",
       "      <td>62557</td>\n",
       "      <td>2202</td>\n",
       "    </tr>\n",
       "    <tr>\n",
       "      <th>5</th>\n",
       "      <td>Ceará</td>\n",
       "      <td>37661</td>\n",
       "      <td>1488</td>\n",
       "    </tr>\n",
       "    <tr>\n",
       "      <th>6</th>\n",
       "      <td>DistritoFederal</td>\n",
       "      <td>15334</td>\n",
       "      <td>457</td>\n",
       "    </tr>\n",
       "    <tr>\n",
       "      <th>7</th>\n",
       "      <td>EspíritoSanto</td>\n",
       "      <td>20115</td>\n",
       "      <td>742</td>\n",
       "    </tr>\n",
       "    <tr>\n",
       "      <th>8</th>\n",
       "      <td>Goiás</td>\n",
       "      <td>26601</td>\n",
       "      <td>875</td>\n",
       "    </tr>\n",
       "    <tr>\n",
       "      <th>9</th>\n",
       "      <td>Maranhão</td>\n",
       "      <td>38308</td>\n",
       "      <td>773</td>\n",
       "    </tr>\n",
       "    <tr>\n",
       "      <th>10</th>\n",
       "      <td>MatoGrosso</td>\n",
       "      <td>14931</td>\n",
       "      <td>556</td>\n",
       "    </tr>\n",
       "    <tr>\n",
       "      <th>11</th>\n",
       "      <td>MatoGrossodoSul</td>\n",
       "      <td>13411</td>\n",
       "      <td>466</td>\n",
       "    </tr>\n",
       "    <tr>\n",
       "      <th>12</th>\n",
       "      <td>MinasGerais</td>\n",
       "      <td>98755</td>\n",
       "      <td>4573</td>\n",
       "    </tr>\n",
       "    <tr>\n",
       "      <th>13</th>\n",
       "      <td>Paraná</td>\n",
       "      <td>70396</td>\n",
       "      <td>2692</td>\n",
       "    </tr>\n",
       "    <tr>\n",
       "      <th>14</th>\n",
       "      <td>Paraíba</td>\n",
       "      <td>14998</td>\n",
       "      <td>677</td>\n",
       "    </tr>\n",
       "    <tr>\n",
       "      <th>15</th>\n",
       "      <td>Pará</td>\n",
       "      <td>40967</td>\n",
       "      <td>859</td>\n",
       "    </tr>\n",
       "    <tr>\n",
       "      <th>16</th>\n",
       "      <td>Pernambuco</td>\n",
       "      <td>45467</td>\n",
       "      <td>1967</td>\n",
       "    </tr>\n",
       "    <tr>\n",
       "      <th>17</th>\n",
       "      <td>Piauí</td>\n",
       "      <td>17763</td>\n",
       "      <td>431</td>\n",
       "    </tr>\n",
       "    <tr>\n",
       "      <th>18</th>\n",
       "      <td>RegiãoCentroOeste</td>\n",
       "      <td>70277</td>\n",
       "      <td>2354</td>\n",
       "    </tr>\n",
       "    <tr>\n",
       "      <th>19</th>\n",
       "      <td>RegiãoNordeste</td>\n",
       "      <td>249821</td>\n",
       "      <td>8859</td>\n",
       "    </tr>\n",
       "    <tr>\n",
       "      <th>20</th>\n",
       "      <td>RegiãoNorte</td>\n",
       "      <td>80359</td>\n",
       "      <td>1929</td>\n",
       "    </tr>\n",
       "    <tr>\n",
       "      <th>21</th>\n",
       "      <td>RegiãoSudeste</td>\n",
       "      <td>370247</td>\n",
       "      <td>18727</td>\n",
       "    </tr>\n",
       "    <tr>\n",
       "      <th>22</th>\n",
       "      <td>RegiãoSul</td>\n",
       "      <td>168897</td>\n",
       "      <td>7012</td>\n",
       "    </tr>\n",
       "    <tr>\n",
       "      <th>23</th>\n",
       "      <td>RioGrandedoNorte</td>\n",
       "      <td>12602</td>\n",
       "      <td>515</td>\n",
       "    </tr>\n",
       "    <tr>\n",
       "      <th>24</th>\n",
       "      <td>RioGrandedoSul</td>\n",
       "      <td>60383</td>\n",
       "      <td>2857</td>\n",
       "    </tr>\n",
       "    <tr>\n",
       "      <th>25</th>\n",
       "      <td>RiodeJaneiro</td>\n",
       "      <td>53294</td>\n",
       "      <td>3519</td>\n",
       "    </tr>\n",
       "    <tr>\n",
       "      <th>26</th>\n",
       "      <td>Rondônia</td>\n",
       "      <td>9783</td>\n",
       "      <td>235</td>\n",
       "    </tr>\n",
       "    <tr>\n",
       "      <th>27</th>\n",
       "      <td>Roraima</td>\n",
       "      <td>3513</td>\n",
       "      <td>87</td>\n",
       "    </tr>\n",
       "    <tr>\n",
       "      <th>28</th>\n",
       "      <td>SantaCatarina</td>\n",
       "      <td>38118</td>\n",
       "      <td>1463</td>\n",
       "    </tr>\n",
       "    <tr>\n",
       "      <th>29</th>\n",
       "      <td>Sergipe</td>\n",
       "      <td>6908</td>\n",
       "      <td>286</td>\n",
       "    </tr>\n",
       "    <tr>\n",
       "      <th>30</th>\n",
       "      <td>SãoPaulo</td>\n",
       "      <td>198083</td>\n",
       "      <td>9893</td>\n",
       "    </tr>\n",
       "    <tr>\n",
       "      <th>31</th>\n",
       "      <td>Tocantins</td>\n",
       "      <td>5803</td>\n",
       "      <td>168</td>\n",
       "    </tr>\n",
       "  </tbody>\n",
       "</table>\n",
       "</div>"
      ],
      "text/plain": [
       "   regiao_unidade_da_federacao  internacoes  obitos\n",
       "0                         Acre         3463     106\n",
       "1                      Alagoas        13557     520\n",
       "2                        Amapá         2493      71\n",
       "3                     Amazonas        14337     403\n",
       "4                        Bahia        62557    2202\n",
       "5                        Ceará        37661    1488\n",
       "6              DistritoFederal        15334     457\n",
       "7                EspíritoSanto        20115     742\n",
       "8                        Goiás        26601     875\n",
       "9                     Maranhão        38308     773\n",
       "10                  MatoGrosso        14931     556\n",
       "11             MatoGrossodoSul        13411     466\n",
       "12                 MinasGerais        98755    4573\n",
       "13                      Paraná        70396    2692\n",
       "14                     Paraíba        14998     677\n",
       "15                        Pará        40967     859\n",
       "16                  Pernambuco        45467    1967\n",
       "17                       Piauí        17763     431\n",
       "18           RegiãoCentroOeste        70277    2354\n",
       "19              RegiãoNordeste       249821    8859\n",
       "20                 RegiãoNorte        80359    1929\n",
       "21               RegiãoSudeste       370247   18727\n",
       "22                   RegiãoSul       168897    7012\n",
       "23            RioGrandedoNorte        12602     515\n",
       "24              RioGrandedoSul        60383    2857\n",
       "25                RiodeJaneiro        53294    3519\n",
       "26                    Rondônia         9783     235\n",
       "27                     Roraima         3513      87\n",
       "28               SantaCatarina        38118    1463\n",
       "29                     Sergipe         6908     286\n",
       "30                    SãoPaulo       198083    9893\n",
       "31                   Tocantins         5803     168"
      ]
     },
     "execution_count": 35,
     "metadata": {},
     "output_type": "execute_result"
    }
   ],
   "source": [
    "df_agrupado_por_estado_obitos_internacoes"
   ]
  },
  {
   "cell_type": "code",
   "execution_count": 36,
   "metadata": {},
   "outputs": [
    {
     "data": {
      "application/vnd.plotly.v1+json": {
       "config": {
        "plotlyServerURL": "https://plot.ly"
       },
       "data": [
        {
         "alignmentgroup": "True",
         "hovertemplate": "regiao_unidade_da_federacao=%{x}<br>obitos=%{y}<br>internacoes=%{marker.color}<extra></extra>",
         "legendgroup": "",
         "marker": {
          "color": [
           3463,
           13557,
           2493,
           14337,
           62557,
           37661,
           15334,
           20115,
           26601,
           38308,
           14931,
           13411,
           98755,
           70396,
           14998,
           40967,
           45467,
           17763,
           70277,
           249821,
           80359,
           370247,
           168897,
           12602,
           60383,
           53294,
           9783,
           3513,
           38118,
           6908,
           198083,
           5803
          ],
          "coloraxis": "coloraxis",
          "pattern": {
           "shape": ""
          }
         },
         "name": "",
         "offsetgroup": "",
         "orientation": "v",
         "showlegend": false,
         "textposition": "auto",
         "type": "bar",
         "x": [
          "Acre",
          "Alagoas",
          "Amapá",
          "Amazonas",
          "Bahia",
          "Ceará",
          "DistritoFederal",
          "EspíritoSanto",
          "Goiás",
          "Maranhão",
          "MatoGrosso",
          "MatoGrossodoSul",
          "MinasGerais",
          "Paraná",
          "Paraíba",
          "Pará",
          "Pernambuco",
          "Piauí",
          "RegiãoCentroOeste",
          "RegiãoNordeste",
          "RegiãoNorte",
          "RegiãoSudeste",
          "RegiãoSul",
          "RioGrandedoNorte",
          "RioGrandedoSul",
          "RiodeJaneiro",
          "Rondônia",
          "Roraima",
          "SantaCatarina",
          "Sergipe",
          "SãoPaulo",
          "Tocantins"
         ],
         "xaxis": "x",
         "y": [
          106,
          520,
          71,
          403,
          2202,
          1488,
          457,
          742,
          875,
          773,
          556,
          466,
          4573,
          2692,
          677,
          859,
          1967,
          431,
          2354,
          8859,
          1929,
          18727,
          7012,
          515,
          2857,
          3519,
          235,
          87,
          1463,
          286,
          9893,
          168
         ],
         "yaxis": "y"
        }
       ],
       "layout": {
        "barmode": "relative",
        "coloraxis": {
         "colorbar": {
          "title": {
           "text": "internacoes"
          }
         },
         "colorscale": [
          [
           0,
           "#0d0887"
          ],
          [
           0.1111111111111111,
           "#46039f"
          ],
          [
           0.2222222222222222,
           "#7201a8"
          ],
          [
           0.3333333333333333,
           "#9c179e"
          ],
          [
           0.4444444444444444,
           "#bd3786"
          ],
          [
           0.5555555555555556,
           "#d8576b"
          ],
          [
           0.6666666666666666,
           "#ed7953"
          ],
          [
           0.7777777777777778,
           "#fb9f3a"
          ],
          [
           0.8888888888888888,
           "#fdca26"
          ],
          [
           1,
           "#f0f921"
          ]
         ]
        },
        "height": 600,
        "legend": {
         "tracegroupgap": 0
        },
        "template": {
         "data": {
          "bar": [
           {
            "error_x": {
             "color": "#2a3f5f"
            },
            "error_y": {
             "color": "#2a3f5f"
            },
            "marker": {
             "line": {
              "color": "#E5ECF6",
              "width": 0.5
             },
             "pattern": {
              "fillmode": "overlay",
              "size": 10,
              "solidity": 0.2
             }
            },
            "type": "bar"
           }
          ],
          "barpolar": [
           {
            "marker": {
             "line": {
              "color": "#E5ECF6",
              "width": 0.5
             },
             "pattern": {
              "fillmode": "overlay",
              "size": 10,
              "solidity": 0.2
             }
            },
            "type": "barpolar"
           }
          ],
          "carpet": [
           {
            "aaxis": {
             "endlinecolor": "#2a3f5f",
             "gridcolor": "white",
             "linecolor": "white",
             "minorgridcolor": "white",
             "startlinecolor": "#2a3f5f"
            },
            "baxis": {
             "endlinecolor": "#2a3f5f",
             "gridcolor": "white",
             "linecolor": "white",
             "minorgridcolor": "white",
             "startlinecolor": "#2a3f5f"
            },
            "type": "carpet"
           }
          ],
          "choropleth": [
           {
            "colorbar": {
             "outlinewidth": 0,
             "ticks": ""
            },
            "type": "choropleth"
           }
          ],
          "contour": [
           {
            "colorbar": {
             "outlinewidth": 0,
             "ticks": ""
            },
            "colorscale": [
             [
              0,
              "#0d0887"
             ],
             [
              0.1111111111111111,
              "#46039f"
             ],
             [
              0.2222222222222222,
              "#7201a8"
             ],
             [
              0.3333333333333333,
              "#9c179e"
             ],
             [
              0.4444444444444444,
              "#bd3786"
             ],
             [
              0.5555555555555556,
              "#d8576b"
             ],
             [
              0.6666666666666666,
              "#ed7953"
             ],
             [
              0.7777777777777778,
              "#fb9f3a"
             ],
             [
              0.8888888888888888,
              "#fdca26"
             ],
             [
              1,
              "#f0f921"
             ]
            ],
            "type": "contour"
           }
          ],
          "contourcarpet": [
           {
            "colorbar": {
             "outlinewidth": 0,
             "ticks": ""
            },
            "type": "contourcarpet"
           }
          ],
          "heatmap": [
           {
            "colorbar": {
             "outlinewidth": 0,
             "ticks": ""
            },
            "colorscale": [
             [
              0,
              "#0d0887"
             ],
             [
              0.1111111111111111,
              "#46039f"
             ],
             [
              0.2222222222222222,
              "#7201a8"
             ],
             [
              0.3333333333333333,
              "#9c179e"
             ],
             [
              0.4444444444444444,
              "#bd3786"
             ],
             [
              0.5555555555555556,
              "#d8576b"
             ],
             [
              0.6666666666666666,
              "#ed7953"
             ],
             [
              0.7777777777777778,
              "#fb9f3a"
             ],
             [
              0.8888888888888888,
              "#fdca26"
             ],
             [
              1,
              "#f0f921"
             ]
            ],
            "type": "heatmap"
           }
          ],
          "heatmapgl": [
           {
            "colorbar": {
             "outlinewidth": 0,
             "ticks": ""
            },
            "colorscale": [
             [
              0,
              "#0d0887"
             ],
             [
              0.1111111111111111,
              "#46039f"
             ],
             [
              0.2222222222222222,
              "#7201a8"
             ],
             [
              0.3333333333333333,
              "#9c179e"
             ],
             [
              0.4444444444444444,
              "#bd3786"
             ],
             [
              0.5555555555555556,
              "#d8576b"
             ],
             [
              0.6666666666666666,
              "#ed7953"
             ],
             [
              0.7777777777777778,
              "#fb9f3a"
             ],
             [
              0.8888888888888888,
              "#fdca26"
             ],
             [
              1,
              "#f0f921"
             ]
            ],
            "type": "heatmapgl"
           }
          ],
          "histogram": [
           {
            "marker": {
             "pattern": {
              "fillmode": "overlay",
              "size": 10,
              "solidity": 0.2
             }
            },
            "type": "histogram"
           }
          ],
          "histogram2d": [
           {
            "colorbar": {
             "outlinewidth": 0,
             "ticks": ""
            },
            "colorscale": [
             [
              0,
              "#0d0887"
             ],
             [
              0.1111111111111111,
              "#46039f"
             ],
             [
              0.2222222222222222,
              "#7201a8"
             ],
             [
              0.3333333333333333,
              "#9c179e"
             ],
             [
              0.4444444444444444,
              "#bd3786"
             ],
             [
              0.5555555555555556,
              "#d8576b"
             ],
             [
              0.6666666666666666,
              "#ed7953"
             ],
             [
              0.7777777777777778,
              "#fb9f3a"
             ],
             [
              0.8888888888888888,
              "#fdca26"
             ],
             [
              1,
              "#f0f921"
             ]
            ],
            "type": "histogram2d"
           }
          ],
          "histogram2dcontour": [
           {
            "colorbar": {
             "outlinewidth": 0,
             "ticks": ""
            },
            "colorscale": [
             [
              0,
              "#0d0887"
             ],
             [
              0.1111111111111111,
              "#46039f"
             ],
             [
              0.2222222222222222,
              "#7201a8"
             ],
             [
              0.3333333333333333,
              "#9c179e"
             ],
             [
              0.4444444444444444,
              "#bd3786"
             ],
             [
              0.5555555555555556,
              "#d8576b"
             ],
             [
              0.6666666666666666,
              "#ed7953"
             ],
             [
              0.7777777777777778,
              "#fb9f3a"
             ],
             [
              0.8888888888888888,
              "#fdca26"
             ],
             [
              1,
              "#f0f921"
             ]
            ],
            "type": "histogram2dcontour"
           }
          ],
          "mesh3d": [
           {
            "colorbar": {
             "outlinewidth": 0,
             "ticks": ""
            },
            "type": "mesh3d"
           }
          ],
          "parcoords": [
           {
            "line": {
             "colorbar": {
              "outlinewidth": 0,
              "ticks": ""
             }
            },
            "type": "parcoords"
           }
          ],
          "pie": [
           {
            "automargin": true,
            "type": "pie"
           }
          ],
          "scatter": [
           {
            "fillpattern": {
             "fillmode": "overlay",
             "size": 10,
             "solidity": 0.2
            },
            "type": "scatter"
           }
          ],
          "scatter3d": [
           {
            "line": {
             "colorbar": {
              "outlinewidth": 0,
              "ticks": ""
             }
            },
            "marker": {
             "colorbar": {
              "outlinewidth": 0,
              "ticks": ""
             }
            },
            "type": "scatter3d"
           }
          ],
          "scattercarpet": [
           {
            "marker": {
             "colorbar": {
              "outlinewidth": 0,
              "ticks": ""
             }
            },
            "type": "scattercarpet"
           }
          ],
          "scattergeo": [
           {
            "marker": {
             "colorbar": {
              "outlinewidth": 0,
              "ticks": ""
             }
            },
            "type": "scattergeo"
           }
          ],
          "scattergl": [
           {
            "marker": {
             "colorbar": {
              "outlinewidth": 0,
              "ticks": ""
             }
            },
            "type": "scattergl"
           }
          ],
          "scattermapbox": [
           {
            "marker": {
             "colorbar": {
              "outlinewidth": 0,
              "ticks": ""
             }
            },
            "type": "scattermapbox"
           }
          ],
          "scatterpolar": [
           {
            "marker": {
             "colorbar": {
              "outlinewidth": 0,
              "ticks": ""
             }
            },
            "type": "scatterpolar"
           }
          ],
          "scatterpolargl": [
           {
            "marker": {
             "colorbar": {
              "outlinewidth": 0,
              "ticks": ""
             }
            },
            "type": "scatterpolargl"
           }
          ],
          "scatterternary": [
           {
            "marker": {
             "colorbar": {
              "outlinewidth": 0,
              "ticks": ""
             }
            },
            "type": "scatterternary"
           }
          ],
          "surface": [
           {
            "colorbar": {
             "outlinewidth": 0,
             "ticks": ""
            },
            "colorscale": [
             [
              0,
              "#0d0887"
             ],
             [
              0.1111111111111111,
              "#46039f"
             ],
             [
              0.2222222222222222,
              "#7201a8"
             ],
             [
              0.3333333333333333,
              "#9c179e"
             ],
             [
              0.4444444444444444,
              "#bd3786"
             ],
             [
              0.5555555555555556,
              "#d8576b"
             ],
             [
              0.6666666666666666,
              "#ed7953"
             ],
             [
              0.7777777777777778,
              "#fb9f3a"
             ],
             [
              0.8888888888888888,
              "#fdca26"
             ],
             [
              1,
              "#f0f921"
             ]
            ],
            "type": "surface"
           }
          ],
          "table": [
           {
            "cells": {
             "fill": {
              "color": "#EBF0F8"
             },
             "line": {
              "color": "white"
             }
            },
            "header": {
             "fill": {
              "color": "#C8D4E3"
             },
             "line": {
              "color": "white"
             }
            },
            "type": "table"
           }
          ]
         },
         "layout": {
          "annotationdefaults": {
           "arrowcolor": "#2a3f5f",
           "arrowhead": 0,
           "arrowwidth": 1
          },
          "autotypenumbers": "strict",
          "coloraxis": {
           "colorbar": {
            "outlinewidth": 0,
            "ticks": ""
           }
          },
          "colorscale": {
           "diverging": [
            [
             0,
             "#8e0152"
            ],
            [
             0.1,
             "#c51b7d"
            ],
            [
             0.2,
             "#de77ae"
            ],
            [
             0.3,
             "#f1b6da"
            ],
            [
             0.4,
             "#fde0ef"
            ],
            [
             0.5,
             "#f7f7f7"
            ],
            [
             0.6,
             "#e6f5d0"
            ],
            [
             0.7,
             "#b8e186"
            ],
            [
             0.8,
             "#7fbc41"
            ],
            [
             0.9,
             "#4d9221"
            ],
            [
             1,
             "#276419"
            ]
           ],
           "sequential": [
            [
             0,
             "#0d0887"
            ],
            [
             0.1111111111111111,
             "#46039f"
            ],
            [
             0.2222222222222222,
             "#7201a8"
            ],
            [
             0.3333333333333333,
             "#9c179e"
            ],
            [
             0.4444444444444444,
             "#bd3786"
            ],
            [
             0.5555555555555556,
             "#d8576b"
            ],
            [
             0.6666666666666666,
             "#ed7953"
            ],
            [
             0.7777777777777778,
             "#fb9f3a"
            ],
            [
             0.8888888888888888,
             "#fdca26"
            ],
            [
             1,
             "#f0f921"
            ]
           ],
           "sequentialminus": [
            [
             0,
             "#0d0887"
            ],
            [
             0.1111111111111111,
             "#46039f"
            ],
            [
             0.2222222222222222,
             "#7201a8"
            ],
            [
             0.3333333333333333,
             "#9c179e"
            ],
            [
             0.4444444444444444,
             "#bd3786"
            ],
            [
             0.5555555555555556,
             "#d8576b"
            ],
            [
             0.6666666666666666,
             "#ed7953"
            ],
            [
             0.7777777777777778,
             "#fb9f3a"
            ],
            [
             0.8888888888888888,
             "#fdca26"
            ],
            [
             1,
             "#f0f921"
            ]
           ]
          },
          "colorway": [
           "#636efa",
           "#EF553B",
           "#00cc96",
           "#ab63fa",
           "#FFA15A",
           "#19d3f3",
           "#FF6692",
           "#B6E880",
           "#FF97FF",
           "#FECB52"
          ],
          "font": {
           "color": "#2a3f5f"
          },
          "geo": {
           "bgcolor": "white",
           "lakecolor": "white",
           "landcolor": "#E5ECF6",
           "showlakes": true,
           "showland": true,
           "subunitcolor": "white"
          },
          "hoverlabel": {
           "align": "left"
          },
          "hovermode": "closest",
          "mapbox": {
           "style": "light"
          },
          "paper_bgcolor": "white",
          "plot_bgcolor": "#E5ECF6",
          "polar": {
           "angularaxis": {
            "gridcolor": "white",
            "linecolor": "white",
            "ticks": ""
           },
           "bgcolor": "#E5ECF6",
           "radialaxis": {
            "gridcolor": "white",
            "linecolor": "white",
            "ticks": ""
           }
          },
          "scene": {
           "xaxis": {
            "backgroundcolor": "#E5ECF6",
            "gridcolor": "white",
            "gridwidth": 2,
            "linecolor": "white",
            "showbackground": true,
            "ticks": "",
            "zerolinecolor": "white"
           },
           "yaxis": {
            "backgroundcolor": "#E5ECF6",
            "gridcolor": "white",
            "gridwidth": 2,
            "linecolor": "white",
            "showbackground": true,
            "ticks": "",
            "zerolinecolor": "white"
           },
           "zaxis": {
            "backgroundcolor": "#E5ECF6",
            "gridcolor": "white",
            "gridwidth": 2,
            "linecolor": "white",
            "showbackground": true,
            "ticks": "",
            "zerolinecolor": "white"
           }
          },
          "shapedefaults": {
           "line": {
            "color": "#2a3f5f"
           }
          },
          "ternary": {
           "aaxis": {
            "gridcolor": "white",
            "linecolor": "white",
            "ticks": ""
           },
           "baxis": {
            "gridcolor": "white",
            "linecolor": "white",
            "ticks": ""
           },
           "bgcolor": "#E5ECF6",
           "caxis": {
            "gridcolor": "white",
            "linecolor": "white",
            "ticks": ""
           }
          },
          "title": {
           "x": 0.05
          },
          "xaxis": {
           "automargin": true,
           "gridcolor": "white",
           "linecolor": "white",
           "ticks": "",
           "title": {
            "standoff": 15
           },
           "zerolinecolor": "white",
           "zerolinewidth": 2
          },
          "yaxis": {
           "automargin": true,
           "gridcolor": "white",
           "linecolor": "white",
           "ticks": "",
           "title": {
            "standoff": 15
           },
           "zerolinecolor": "white",
           "zerolinewidth": 2
          }
         }
        },
        "title": {
         "text": "Média de óbitos por estado e internacoes em dez/17"
        },
        "xaxis": {
         "anchor": "y",
         "domain": [
          0,
          1
         ],
         "title": {
          "text": "regiao_unidade_da_federacao"
         }
        },
        "yaxis": {
         "anchor": "x",
         "domain": [
          0,
          1
         ],
         "title": {
          "text": "obitos"
         }
        }
       }
      },
      "text/html": [
       "<div>                            <div id=\"339f3b09-7e0b-4aed-9efe-4a8939704020\" class=\"plotly-graph-div\" style=\"height:600px; width:100%;\"></div>            <script type=\"text/javascript\">                require([\"plotly\"], function(Plotly) {                    window.PLOTLYENV=window.PLOTLYENV || {};                                    if (document.getElementById(\"339f3b09-7e0b-4aed-9efe-4a8939704020\")) {                    Plotly.newPlot(                        \"339f3b09-7e0b-4aed-9efe-4a8939704020\",                        [{\"alignmentgroup\":\"True\",\"hovertemplate\":\"regiao_unidade_da_federacao=%{x}<br>obitos=%{y}<br>internacoes=%{marker.color}<extra></extra>\",\"legendgroup\":\"\",\"marker\":{\"color\":[3463,13557,2493,14337,62557,37661,15334,20115,26601,38308,14931,13411,98755,70396,14998,40967,45467,17763,70277,249821,80359,370247,168897,12602,60383,53294,9783,3513,38118,6908,198083,5803],\"coloraxis\":\"coloraxis\",\"pattern\":{\"shape\":\"\"}},\"name\":\"\",\"offsetgroup\":\"\",\"orientation\":\"v\",\"showlegend\":false,\"textposition\":\"auto\",\"x\":[\"Acre\",\"Alagoas\",\"Amap\\u00e1\",\"Amazonas\",\"Bahia\",\"Cear\\u00e1\",\"DistritoFederal\",\"Esp\\u00edritoSanto\",\"Goi\\u00e1s\",\"Maranh\\u00e3o\",\"MatoGrosso\",\"MatoGrossodoSul\",\"MinasGerais\",\"Paran\\u00e1\",\"Para\\u00edba\",\"Par\\u00e1\",\"Pernambuco\",\"Piau\\u00ed\",\"Regi\\u00e3oCentroOeste\",\"Regi\\u00e3oNordeste\",\"Regi\\u00e3oNorte\",\"Regi\\u00e3oSudeste\",\"Regi\\u00e3oSul\",\"RioGrandedoNorte\",\"RioGrandedoSul\",\"RiodeJaneiro\",\"Rond\\u00f4nia\",\"Roraima\",\"SantaCatarina\",\"Sergipe\",\"S\\u00e3oPaulo\",\"Tocantins\"],\"xaxis\":\"x\",\"y\":[106,520,71,403,2202,1488,457,742,875,773,556,466,4573,2692,677,859,1967,431,2354,8859,1929,18727,7012,515,2857,3519,235,87,1463,286,9893,168],\"yaxis\":\"y\",\"type\":\"bar\"}],                        {\"template\":{\"data\":{\"histogram2dcontour\":[{\"type\":\"histogram2dcontour\",\"colorbar\":{\"outlinewidth\":0,\"ticks\":\"\"},\"colorscale\":[[0.0,\"#0d0887\"],[0.1111111111111111,\"#46039f\"],[0.2222222222222222,\"#7201a8\"],[0.3333333333333333,\"#9c179e\"],[0.4444444444444444,\"#bd3786\"],[0.5555555555555556,\"#d8576b\"],[0.6666666666666666,\"#ed7953\"],[0.7777777777777778,\"#fb9f3a\"],[0.8888888888888888,\"#fdca26\"],[1.0,\"#f0f921\"]]}],\"choropleth\":[{\"type\":\"choropleth\",\"colorbar\":{\"outlinewidth\":0,\"ticks\":\"\"}}],\"histogram2d\":[{\"type\":\"histogram2d\",\"colorbar\":{\"outlinewidth\":0,\"ticks\":\"\"},\"colorscale\":[[0.0,\"#0d0887\"],[0.1111111111111111,\"#46039f\"],[0.2222222222222222,\"#7201a8\"],[0.3333333333333333,\"#9c179e\"],[0.4444444444444444,\"#bd3786\"],[0.5555555555555556,\"#d8576b\"],[0.6666666666666666,\"#ed7953\"],[0.7777777777777778,\"#fb9f3a\"],[0.8888888888888888,\"#fdca26\"],[1.0,\"#f0f921\"]]}],\"heatmap\":[{\"type\":\"heatmap\",\"colorbar\":{\"outlinewidth\":0,\"ticks\":\"\"},\"colorscale\":[[0.0,\"#0d0887\"],[0.1111111111111111,\"#46039f\"],[0.2222222222222222,\"#7201a8\"],[0.3333333333333333,\"#9c179e\"],[0.4444444444444444,\"#bd3786\"],[0.5555555555555556,\"#d8576b\"],[0.6666666666666666,\"#ed7953\"],[0.7777777777777778,\"#fb9f3a\"],[0.8888888888888888,\"#fdca26\"],[1.0,\"#f0f921\"]]}],\"heatmapgl\":[{\"type\":\"heatmapgl\",\"colorbar\":{\"outlinewidth\":0,\"ticks\":\"\"},\"colorscale\":[[0.0,\"#0d0887\"],[0.1111111111111111,\"#46039f\"],[0.2222222222222222,\"#7201a8\"],[0.3333333333333333,\"#9c179e\"],[0.4444444444444444,\"#bd3786\"],[0.5555555555555556,\"#d8576b\"],[0.6666666666666666,\"#ed7953\"],[0.7777777777777778,\"#fb9f3a\"],[0.8888888888888888,\"#fdca26\"],[1.0,\"#f0f921\"]]}],\"contourcarpet\":[{\"type\":\"contourcarpet\",\"colorbar\":{\"outlinewidth\":0,\"ticks\":\"\"}}],\"contour\":[{\"type\":\"contour\",\"colorbar\":{\"outlinewidth\":0,\"ticks\":\"\"},\"colorscale\":[[0.0,\"#0d0887\"],[0.1111111111111111,\"#46039f\"],[0.2222222222222222,\"#7201a8\"],[0.3333333333333333,\"#9c179e\"],[0.4444444444444444,\"#bd3786\"],[0.5555555555555556,\"#d8576b\"],[0.6666666666666666,\"#ed7953\"],[0.7777777777777778,\"#fb9f3a\"],[0.8888888888888888,\"#fdca26\"],[1.0,\"#f0f921\"]]}],\"surface\":[{\"type\":\"surface\",\"colorbar\":{\"outlinewidth\":0,\"ticks\":\"\"},\"colorscale\":[[0.0,\"#0d0887\"],[0.1111111111111111,\"#46039f\"],[0.2222222222222222,\"#7201a8\"],[0.3333333333333333,\"#9c179e\"],[0.4444444444444444,\"#bd3786\"],[0.5555555555555556,\"#d8576b\"],[0.6666666666666666,\"#ed7953\"],[0.7777777777777778,\"#fb9f3a\"],[0.8888888888888888,\"#fdca26\"],[1.0,\"#f0f921\"]]}],\"mesh3d\":[{\"type\":\"mesh3d\",\"colorbar\":{\"outlinewidth\":0,\"ticks\":\"\"}}],\"scatter\":[{\"fillpattern\":{\"fillmode\":\"overlay\",\"size\":10,\"solidity\":0.2},\"type\":\"scatter\"}],\"parcoords\":[{\"type\":\"parcoords\",\"line\":{\"colorbar\":{\"outlinewidth\":0,\"ticks\":\"\"}}}],\"scatterpolargl\":[{\"type\":\"scatterpolargl\",\"marker\":{\"colorbar\":{\"outlinewidth\":0,\"ticks\":\"\"}}}],\"bar\":[{\"error_x\":{\"color\":\"#2a3f5f\"},\"error_y\":{\"color\":\"#2a3f5f\"},\"marker\":{\"line\":{\"color\":\"#E5ECF6\",\"width\":0.5},\"pattern\":{\"fillmode\":\"overlay\",\"size\":10,\"solidity\":0.2}},\"type\":\"bar\"}],\"scattergeo\":[{\"type\":\"scattergeo\",\"marker\":{\"colorbar\":{\"outlinewidth\":0,\"ticks\":\"\"}}}],\"scatterpolar\":[{\"type\":\"scatterpolar\",\"marker\":{\"colorbar\":{\"outlinewidth\":0,\"ticks\":\"\"}}}],\"histogram\":[{\"marker\":{\"pattern\":{\"fillmode\":\"overlay\",\"size\":10,\"solidity\":0.2}},\"type\":\"histogram\"}],\"scattergl\":[{\"type\":\"scattergl\",\"marker\":{\"colorbar\":{\"outlinewidth\":0,\"ticks\":\"\"}}}],\"scatter3d\":[{\"type\":\"scatter3d\",\"line\":{\"colorbar\":{\"outlinewidth\":0,\"ticks\":\"\"}},\"marker\":{\"colorbar\":{\"outlinewidth\":0,\"ticks\":\"\"}}}],\"scattermapbox\":[{\"type\":\"scattermapbox\",\"marker\":{\"colorbar\":{\"outlinewidth\":0,\"ticks\":\"\"}}}],\"scatterternary\":[{\"type\":\"scatterternary\",\"marker\":{\"colorbar\":{\"outlinewidth\":0,\"ticks\":\"\"}}}],\"scattercarpet\":[{\"type\":\"scattercarpet\",\"marker\":{\"colorbar\":{\"outlinewidth\":0,\"ticks\":\"\"}}}],\"carpet\":[{\"aaxis\":{\"endlinecolor\":\"#2a3f5f\",\"gridcolor\":\"white\",\"linecolor\":\"white\",\"minorgridcolor\":\"white\",\"startlinecolor\":\"#2a3f5f\"},\"baxis\":{\"endlinecolor\":\"#2a3f5f\",\"gridcolor\":\"white\",\"linecolor\":\"white\",\"minorgridcolor\":\"white\",\"startlinecolor\":\"#2a3f5f\"},\"type\":\"carpet\"}],\"table\":[{\"cells\":{\"fill\":{\"color\":\"#EBF0F8\"},\"line\":{\"color\":\"white\"}},\"header\":{\"fill\":{\"color\":\"#C8D4E3\"},\"line\":{\"color\":\"white\"}},\"type\":\"table\"}],\"barpolar\":[{\"marker\":{\"line\":{\"color\":\"#E5ECF6\",\"width\":0.5},\"pattern\":{\"fillmode\":\"overlay\",\"size\":10,\"solidity\":0.2}},\"type\":\"barpolar\"}],\"pie\":[{\"automargin\":true,\"type\":\"pie\"}]},\"layout\":{\"autotypenumbers\":\"strict\",\"colorway\":[\"#636efa\",\"#EF553B\",\"#00cc96\",\"#ab63fa\",\"#FFA15A\",\"#19d3f3\",\"#FF6692\",\"#B6E880\",\"#FF97FF\",\"#FECB52\"],\"font\":{\"color\":\"#2a3f5f\"},\"hovermode\":\"closest\",\"hoverlabel\":{\"align\":\"left\"},\"paper_bgcolor\":\"white\",\"plot_bgcolor\":\"#E5ECF6\",\"polar\":{\"bgcolor\":\"#E5ECF6\",\"angularaxis\":{\"gridcolor\":\"white\",\"linecolor\":\"white\",\"ticks\":\"\"},\"radialaxis\":{\"gridcolor\":\"white\",\"linecolor\":\"white\",\"ticks\":\"\"}},\"ternary\":{\"bgcolor\":\"#E5ECF6\",\"aaxis\":{\"gridcolor\":\"white\",\"linecolor\":\"white\",\"ticks\":\"\"},\"baxis\":{\"gridcolor\":\"white\",\"linecolor\":\"white\",\"ticks\":\"\"},\"caxis\":{\"gridcolor\":\"white\",\"linecolor\":\"white\",\"ticks\":\"\"}},\"coloraxis\":{\"colorbar\":{\"outlinewidth\":0,\"ticks\":\"\"}},\"colorscale\":{\"sequential\":[[0.0,\"#0d0887\"],[0.1111111111111111,\"#46039f\"],[0.2222222222222222,\"#7201a8\"],[0.3333333333333333,\"#9c179e\"],[0.4444444444444444,\"#bd3786\"],[0.5555555555555556,\"#d8576b\"],[0.6666666666666666,\"#ed7953\"],[0.7777777777777778,\"#fb9f3a\"],[0.8888888888888888,\"#fdca26\"],[1.0,\"#f0f921\"]],\"sequentialminus\":[[0.0,\"#0d0887\"],[0.1111111111111111,\"#46039f\"],[0.2222222222222222,\"#7201a8\"],[0.3333333333333333,\"#9c179e\"],[0.4444444444444444,\"#bd3786\"],[0.5555555555555556,\"#d8576b\"],[0.6666666666666666,\"#ed7953\"],[0.7777777777777778,\"#fb9f3a\"],[0.8888888888888888,\"#fdca26\"],[1.0,\"#f0f921\"]],\"diverging\":[[0,\"#8e0152\"],[0.1,\"#c51b7d\"],[0.2,\"#de77ae\"],[0.3,\"#f1b6da\"],[0.4,\"#fde0ef\"],[0.5,\"#f7f7f7\"],[0.6,\"#e6f5d0\"],[0.7,\"#b8e186\"],[0.8,\"#7fbc41\"],[0.9,\"#4d9221\"],[1,\"#276419\"]]},\"xaxis\":{\"gridcolor\":\"white\",\"linecolor\":\"white\",\"ticks\":\"\",\"title\":{\"standoff\":15},\"zerolinecolor\":\"white\",\"automargin\":true,\"zerolinewidth\":2},\"yaxis\":{\"gridcolor\":\"white\",\"linecolor\":\"white\",\"ticks\":\"\",\"title\":{\"standoff\":15},\"zerolinecolor\":\"white\",\"automargin\":true,\"zerolinewidth\":2},\"scene\":{\"xaxis\":{\"backgroundcolor\":\"#E5ECF6\",\"gridcolor\":\"white\",\"linecolor\":\"white\",\"showbackground\":true,\"ticks\":\"\",\"zerolinecolor\":\"white\",\"gridwidth\":2},\"yaxis\":{\"backgroundcolor\":\"#E5ECF6\",\"gridcolor\":\"white\",\"linecolor\":\"white\",\"showbackground\":true,\"ticks\":\"\",\"zerolinecolor\":\"white\",\"gridwidth\":2},\"zaxis\":{\"backgroundcolor\":\"#E5ECF6\",\"gridcolor\":\"white\",\"linecolor\":\"white\",\"showbackground\":true,\"ticks\":\"\",\"zerolinecolor\":\"white\",\"gridwidth\":2}},\"shapedefaults\":{\"line\":{\"color\":\"#2a3f5f\"}},\"annotationdefaults\":{\"arrowcolor\":\"#2a3f5f\",\"arrowhead\":0,\"arrowwidth\":1},\"geo\":{\"bgcolor\":\"white\",\"landcolor\":\"#E5ECF6\",\"subunitcolor\":\"white\",\"showland\":true,\"showlakes\":true,\"lakecolor\":\"white\"},\"title\":{\"x\":0.05},\"mapbox\":{\"style\":\"light\"}}},\"xaxis\":{\"anchor\":\"y\",\"domain\":[0.0,1.0],\"title\":{\"text\":\"regiao_unidade_da_federacao\"}},\"yaxis\":{\"anchor\":\"x\",\"domain\":[0.0,1.0],\"title\":{\"text\":\"obitos\"}},\"coloraxis\":{\"colorbar\":{\"title\":{\"text\":\"internacoes\"}},\"colorscale\":[[0.0,\"#0d0887\"],[0.1111111111111111,\"#46039f\"],[0.2222222222222222,\"#7201a8\"],[0.3333333333333333,\"#9c179e\"],[0.4444444444444444,\"#bd3786\"],[0.5555555555555556,\"#d8576b\"],[0.6666666666666666,\"#ed7953\"],[0.7777777777777778,\"#fb9f3a\"],[0.8888888888888888,\"#fdca26\"],[1.0,\"#f0f921\"]]},\"legend\":{\"tracegroupgap\":0},\"title\":{\"text\":\"M\\u00e9dia de \\u00f3bitos por estado e internacoes em dez/17\"},\"barmode\":\"relative\",\"height\":600},                        {\"responsive\": true}                    ).then(function(){\n",
       "                            \n",
       "var gd = document.getElementById('339f3b09-7e0b-4aed-9efe-4a8939704020');\n",
       "var x = new MutationObserver(function (mutations, observer) {{\n",
       "        var display = window.getComputedStyle(gd).display;\n",
       "        if (!display || display === 'none') {{\n",
       "            console.log([gd, 'removed!']);\n",
       "            Plotly.purge(gd);\n",
       "            observer.disconnect();\n",
       "        }}\n",
       "}});\n",
       "\n",
       "// Listen for the removal of the full notebook cells\n",
       "var notebookContainer = gd.closest('#notebook-container');\n",
       "if (notebookContainer) {{\n",
       "    x.observe(notebookContainer, {childList: true});\n",
       "}}\n",
       "\n",
       "// Listen for the clearing of the current output cell\n",
       "var outputEl = gd.closest('.output');\n",
       "if (outputEl) {{\n",
       "    x.observe(outputEl, {childList: true});\n",
       "}}\n",
       "\n",
       "                        })                };                });            </script>        </div>"
      ]
     },
     "metadata": {},
     "output_type": "display_data"
    }
   ],
   "source": [
    "px.bar(df_agrupado_por_estado_obitos_internacoes, color='internacoes', x='regiao_unidade_da_federacao', y='obitos', title = \"Média de óbitos por estado e internacoes em dez/17\",\n",
    "       hover_data=['regiao_unidade_da_federacao', 'obitos'], height=600)"
   ]
  },
  {
   "cell_type": "code",
   "execution_count": 37,
   "metadata": {},
   "outputs": [
    {
     "name": "stdout",
     "output_type": "stream",
     "text": [
      "        Data Região/Unidade da Federação  Internações  AIH_aprovadas  \\\n",
      "0 2018-03-01                Região Norte        82247          82249   \n",
      "1 2018-03-01                 .. Rondônia        10315          10315   \n",
      "2 2018-03-01                     .. Acre         3339           3341   \n",
      "3 2018-03-01                 .. Amazonas        15120          15120   \n",
      "4 2018-03-01                  .. Roraima         3567           3567   \n",
      "\n",
      "   Valor_total  Valor_serviços_hospitalares Val_serv_hosp_-_compl_federal  \\\n",
      "0  69238448.24                  53422980.04                        103440   \n",
      "1   8867793.32                   7116826.21                             -   \n",
      "2   2602434.35                   1982799.22                             -   \n",
      "3  14322305.22                  11116559.94                             -   \n",
      "4   2740423.51                   2035315.64                             -   \n",
      "\n",
      "  Val_serv_hosp_-_compl_gestor  Valor_serviços_profissionais  \\\n",
      "0                            -                   15656513.48   \n",
      "1                            -                    1750967.11   \n",
      "2                            -                     619635.13   \n",
      "3                            -                    3205745.28   \n",
      "4                            -                     705107.87   \n",
      "\n",
      "  Val_serv_prof_-_compl_federal Val_serv_prof_-_compl_gestor  Valor_médio_AIH  \\\n",
      "0                             -                            -           841.82   \n",
      "1                             -                            -           859.70   \n",
      "2                             -                            -           778.94   \n",
      "3                             -                            -           947.24   \n",
      "4                             -                            -           768.27   \n",
      "\n",
      "   Valor_médio_intern  Dias_permanência  Média_permanência  Óbitos  \\\n",
      "0              841.84            371970                4.5    2269   \n",
      "1              859.70             48101                4.7     289   \n",
      "2              779.41             15649                4.7      91   \n",
      "3              947.24             78395                5.2     492   \n",
      "4              768.27             18126                5.1      78   \n",
      "\n",
      "   Taxa_mortalidade  \n",
      "0              2.76  \n",
      "1              2.80  \n",
      "2              2.73  \n",
      "3              3.25  \n",
      "4              2.19  \n"
     ]
    }
   ],
   "source": [
    "df = pd.read_excel(\"case_internacao_SUS.xls\", sheet_name='mar18')\n",
    "print(df.head())"
   ]
  },
  {
   "cell_type": "code",
   "execution_count": 38,
   "metadata": {},
   "outputs": [],
   "source": [
    "#formartar nome das regioes\n",
    "\n",
    "df['Região/Unidade da Federação'] = df['Região/Unidade da Federação'].str.replace(r'\\W',\"\")\n",
    "\n",
    "#formartar valores dos campos de - para 0\n",
    "\n",
    "df['Val_serv_prof_-_compl_gestor'] = df['Val_serv_prof_-_compl_gestor'].replace('-','0')\n",
    "df['Val_serv_hosp_-_compl_federal'] = df['Val_serv_hosp_-_compl_federal'].replace('-','0')\n",
    "df['Val_serv_hosp_-_compl_gestor'] = df['Val_serv_hosp_-_compl_gestor'].replace('-','0')\n",
    "df['Val_serv_prof_-_compl_federal'] = df['Val_serv_prof_-_compl_federal'].replace('-','0')\n",
    "\n",
    "#renomear o nome das colunas\n",
    "\n",
    "df.rename({'Região/Unidade da Federação': 'regiao_unidade_da_federacao',\n",
    "           'Val_serv_hosp_-_compl_federal': 'Val_serv_hosp_compl_federal',\n",
    "           'Val_serv_hosp_-_compl_gestor':'Val_serv_hosp_compl_gestor',\n",
    "           'Val_serv_prof_-_compl_federal':'Val_serv_prof_compl_federal',\n",
    "           'Val_serv_prof_-_compl_gestor':'Val_serv_prof_compl_gestor',\n",
    "           'Valor_médio_AIH':'Valor_medio_AIH',\n",
    "           'Valor_médio_intern':'Valor_medio_intern',\n",
    "           'Dias_permanência':'Dias_permanencia',\n",
    "           'Média_permanência':'Media_permanencia',\n",
    "           'Óbitos':'obitos',\n",
    "           'valor_serviços_hospitalares': 'valor_servicos_hospitalares',\n",
    "           'internações':'internacoes',\n",
    "           'Valor_serviços_hospitalares':'Valor_servicos_hospitalares',\n",
    "           'Valor_serviços_profissionais':'Valor_servicos_profissionais',\n",
    "           'Internações':'Internacoes'\n",
    "          },axis=1, inplace=True)\n",
    "\n",
    "#deixar os cabeçalhos em minusculo\n",
    "\n",
    "df.columns = map(str.lower, df.columns)"
   ]
  },
  {
   "cell_type": "code",
   "execution_count": 39,
   "metadata": {},
   "outputs": [
    {
     "name": "stdout",
     "output_type": "stream",
     "text": [
      "        data regiao_unidade_da_federacao  internacoes  aih_aprovadas  \\\n",
      "0 2018-03-01                 RegiãoNorte        82247          82249   \n",
      "1 2018-03-01                    Rondônia        10315          10315   \n",
      "2 2018-03-01                        Acre         3339           3341   \n",
      "3 2018-03-01                    Amazonas        15120          15120   \n",
      "4 2018-03-01                     Roraima         3567           3567   \n",
      "\n",
      "   valor_total  valor_servicos_hospitalares val_serv_hosp_compl_federal  \\\n",
      "0  69238448.24                  53422980.04                      103440   \n",
      "1   8867793.32                   7116826.21                           0   \n",
      "2   2602434.35                   1982799.22                           0   \n",
      "3  14322305.22                  11116559.94                           0   \n",
      "4   2740423.51                   2035315.64                           0   \n",
      "\n",
      "  val_serv_hosp_compl_gestor  valor_servicos_profissionais  \\\n",
      "0                          0                   15656513.48   \n",
      "1                          0                    1750967.11   \n",
      "2                          0                     619635.13   \n",
      "3                          0                    3205745.28   \n",
      "4                          0                     705107.87   \n",
      "\n",
      "  val_serv_prof_compl_federal val_serv_prof_compl_gestor  valor_medio_aih  \\\n",
      "0                           0                          0           841.82   \n",
      "1                           0                          0           859.70   \n",
      "2                           0                          0           778.94   \n",
      "3                           0                          0           947.24   \n",
      "4                           0                          0           768.27   \n",
      "\n",
      "   valor_medio_intern  dias_permanencia  media_permanencia  obitos  \\\n",
      "0              841.84            371970                4.5    2269   \n",
      "1              859.70             48101                4.7     289   \n",
      "2              779.41             15649                4.7      91   \n",
      "3              947.24             78395                5.2     492   \n",
      "4              768.27             18126                5.1      78   \n",
      "\n",
      "   taxa_mortalidade  \n",
      "0              2.76  \n",
      "1              2.80  \n",
      "2              2.73  \n",
      "3              3.25  \n",
      "4              2.19  \n"
     ]
    }
   ],
   "source": [
    "print(df.head())"
   ]
  },
  {
   "cell_type": "code",
   "execution_count": 40,
   "metadata": {},
   "outputs": [],
   "source": [
    "#soma dias de permanencia por taxa de mortalidade\n",
    "df_dias_por_taxa = df.groupby('taxa_mortalidade').agg({'dias_permanencia': np.sum}).reset_index()"
   ]
  },
  {
   "cell_type": "code",
   "execution_count": 41,
   "metadata": {},
   "outputs": [
    {
     "data": {
      "text/html": [
       "<div>\n",
       "<style scoped>\n",
       "    .dataframe tbody tr th:only-of-type {\n",
       "        vertical-align: middle;\n",
       "    }\n",
       "\n",
       "    .dataframe tbody tr th {\n",
       "        vertical-align: top;\n",
       "    }\n",
       "\n",
       "    .dataframe thead th {\n",
       "        text-align: right;\n",
       "    }\n",
       "</style>\n",
       "<table border=\"1\" class=\"dataframe\">\n",
       "  <thead>\n",
       "    <tr style=\"text-align: right;\">\n",
       "      <th></th>\n",
       "      <th>taxa_mortalidade</th>\n",
       "      <th>dias_permanencia</th>\n",
       "    </tr>\n",
       "  </thead>\n",
       "  <tbody>\n",
       "    <tr>\n",
       "      <th>0</th>\n",
       "      <td>2.19</td>\n",
       "      <td>18126</td>\n",
       "    </tr>\n",
       "    <tr>\n",
       "      <th>1</th>\n",
       "      <td>2.23</td>\n",
       "      <td>179497</td>\n",
       "    </tr>\n",
       "    <tr>\n",
       "      <th>2</th>\n",
       "      <td>2.49</td>\n",
       "      <td>164193</td>\n",
       "    </tr>\n",
       "    <tr>\n",
       "      <th>3</th>\n",
       "      <td>2.65</td>\n",
       "      <td>14489</td>\n",
       "    </tr>\n",
       "    <tr>\n",
       "      <th>4</th>\n",
       "      <td>2.73</td>\n",
       "      <td>15649</td>\n",
       "    </tr>\n",
       "    <tr>\n",
       "      <th>5</th>\n",
       "      <td>2.76</td>\n",
       "      <td>371970</td>\n",
       "    </tr>\n",
       "    <tr>\n",
       "      <th>6</th>\n",
       "      <td>2.80</td>\n",
       "      <td>48101</td>\n",
       "    </tr>\n",
       "    <tr>\n",
       "      <th>7</th>\n",
       "      <td>3.00</td>\n",
       "      <td>89680</td>\n",
       "    </tr>\n",
       "    <tr>\n",
       "      <th>8</th>\n",
       "      <td>3.16</td>\n",
       "      <td>109738</td>\n",
       "    </tr>\n",
       "    <tr>\n",
       "      <th>9</th>\n",
       "      <td>3.25</td>\n",
       "      <td>149051</td>\n",
       "    </tr>\n",
       "    <tr>\n",
       "      <th>10</th>\n",
       "      <td>3.44</td>\n",
       "      <td>131802</td>\n",
       "    </tr>\n",
       "    <tr>\n",
       "      <th>11</th>\n",
       "      <td>3.47</td>\n",
       "      <td>380267</td>\n",
       "    </tr>\n",
       "    <tr>\n",
       "      <th>12</th>\n",
       "      <td>3.52</td>\n",
       "      <td>310853</td>\n",
       "    </tr>\n",
       "    <tr>\n",
       "      <th>13</th>\n",
       "      <td>3.56</td>\n",
       "      <td>323610</td>\n",
       "    </tr>\n",
       "    <tr>\n",
       "      <th>14</th>\n",
       "      <td>3.58</td>\n",
       "      <td>1436945</td>\n",
       "    </tr>\n",
       "    <tr>\n",
       "      <th>15</th>\n",
       "      <td>3.60</td>\n",
       "      <td>128549</td>\n",
       "    </tr>\n",
       "    <tr>\n",
       "      <th>16</th>\n",
       "      <td>3.70</td>\n",
       "      <td>80678</td>\n",
       "    </tr>\n",
       "    <tr>\n",
       "      <th>17</th>\n",
       "      <td>3.74</td>\n",
       "      <td>75386</td>\n",
       "    </tr>\n",
       "    <tr>\n",
       "      <th>18</th>\n",
       "      <td>3.78</td>\n",
       "      <td>191447</td>\n",
       "    </tr>\n",
       "    <tr>\n",
       "      <th>19</th>\n",
       "      <td>3.93</td>\n",
       "      <td>870717</td>\n",
       "    </tr>\n",
       "    <tr>\n",
       "      <th>20</th>\n",
       "      <td>3.97</td>\n",
       "      <td>240779</td>\n",
       "    </tr>\n",
       "    <tr>\n",
       "      <th>21</th>\n",
       "      <td>4.16</td>\n",
       "      <td>259811</td>\n",
       "    </tr>\n",
       "    <tr>\n",
       "      <th>22</th>\n",
       "      <td>4.40</td>\n",
       "      <td>533778</td>\n",
       "    </tr>\n",
       "    <tr>\n",
       "      <th>23</th>\n",
       "      <td>4.51</td>\n",
       "      <td>409142</td>\n",
       "    </tr>\n",
       "    <tr>\n",
       "      <th>24</th>\n",
       "      <td>4.60</td>\n",
       "      <td>88168</td>\n",
       "    </tr>\n",
       "    <tr>\n",
       "      <th>25</th>\n",
       "      <td>4.67</td>\n",
       "      <td>1164944</td>\n",
       "    </tr>\n",
       "    <tr>\n",
       "      <th>26</th>\n",
       "      <td>4.86</td>\n",
       "      <td>2240046</td>\n",
       "    </tr>\n",
       "    <tr>\n",
       "      <th>27</th>\n",
       "      <td>6.79</td>\n",
       "      <td>445792</td>\n",
       "    </tr>\n",
       "  </tbody>\n",
       "</table>\n",
       "</div>"
      ],
      "text/plain": [
       "    taxa_mortalidade  dias_permanencia\n",
       "0               2.19             18126\n",
       "1               2.23            179497\n",
       "2               2.49            164193\n",
       "3               2.65             14489\n",
       "4               2.73             15649\n",
       "5               2.76            371970\n",
       "6               2.80             48101\n",
       "7               3.00             89680\n",
       "8               3.16            109738\n",
       "9               3.25            149051\n",
       "10              3.44            131802\n",
       "11              3.47            380267\n",
       "12              3.52            310853\n",
       "13              3.56            323610\n",
       "14              3.58           1436945\n",
       "15              3.60            128549\n",
       "16              3.70             80678\n",
       "17              3.74             75386\n",
       "18              3.78            191447\n",
       "19              3.93            870717\n",
       "20              3.97            240779\n",
       "21              4.16            259811\n",
       "22              4.40            533778\n",
       "23              4.51            409142\n",
       "24              4.60             88168\n",
       "25              4.67           1164944\n",
       "26              4.86           2240046\n",
       "27              6.79            445792"
      ]
     },
     "execution_count": 41,
     "metadata": {},
     "output_type": "execute_result"
    }
   ],
   "source": [
    "df_dias_por_taxa"
   ]
  },
  {
   "cell_type": "code",
   "execution_count": 42,
   "metadata": {},
   "outputs": [
    {
     "data": {
      "application/vnd.plotly.v1+json": {
       "config": {
        "plotlyServerURL": "https://plot.ly"
       },
       "data": [
        {
         "hovertemplate": "taxa_mortalidade=%{x}<br>dias_permanencia=%{y}<extra></extra>",
         "legendgroup": "",
         "line": {
          "color": "#636efa",
          "dash": "solid"
         },
         "marker": {
          "symbol": "circle"
         },
         "mode": "lines",
         "name": "",
         "orientation": "v",
         "showlegend": false,
         "type": "scatter",
         "x": [
          2.19,
          2.23,
          2.49,
          2.65,
          2.73,
          2.76,
          2.8,
          3,
          3.16,
          3.25,
          3.44,
          3.47,
          3.52,
          3.56,
          3.58,
          3.6,
          3.7,
          3.74,
          3.78,
          3.93,
          3.97,
          4.16,
          4.4,
          4.51,
          4.6,
          4.67,
          4.86,
          6.79
         ],
         "xaxis": "x",
         "y": [
          18126,
          179497,
          164193,
          14489,
          15649,
          371970,
          48101,
          89680,
          109738,
          149051,
          131802,
          380267,
          310853,
          323610,
          1436945,
          128549,
          80678,
          75386,
          191447,
          870717,
          240779,
          259811,
          533778,
          409142,
          88168,
          1164944,
          2240046,
          445792
         ],
         "yaxis": "y"
        }
       ],
       "layout": {
        "height": 600,
        "legend": {
         "tracegroupgap": 0
        },
        "template": {
         "data": {
          "bar": [
           {
            "error_x": {
             "color": "#2a3f5f"
            },
            "error_y": {
             "color": "#2a3f5f"
            },
            "marker": {
             "line": {
              "color": "#E5ECF6",
              "width": 0.5
             },
             "pattern": {
              "fillmode": "overlay",
              "size": 10,
              "solidity": 0.2
             }
            },
            "type": "bar"
           }
          ],
          "barpolar": [
           {
            "marker": {
             "line": {
              "color": "#E5ECF6",
              "width": 0.5
             },
             "pattern": {
              "fillmode": "overlay",
              "size": 10,
              "solidity": 0.2
             }
            },
            "type": "barpolar"
           }
          ],
          "carpet": [
           {
            "aaxis": {
             "endlinecolor": "#2a3f5f",
             "gridcolor": "white",
             "linecolor": "white",
             "minorgridcolor": "white",
             "startlinecolor": "#2a3f5f"
            },
            "baxis": {
             "endlinecolor": "#2a3f5f",
             "gridcolor": "white",
             "linecolor": "white",
             "minorgridcolor": "white",
             "startlinecolor": "#2a3f5f"
            },
            "type": "carpet"
           }
          ],
          "choropleth": [
           {
            "colorbar": {
             "outlinewidth": 0,
             "ticks": ""
            },
            "type": "choropleth"
           }
          ],
          "contour": [
           {
            "colorbar": {
             "outlinewidth": 0,
             "ticks": ""
            },
            "colorscale": [
             [
              0,
              "#0d0887"
             ],
             [
              0.1111111111111111,
              "#46039f"
             ],
             [
              0.2222222222222222,
              "#7201a8"
             ],
             [
              0.3333333333333333,
              "#9c179e"
             ],
             [
              0.4444444444444444,
              "#bd3786"
             ],
             [
              0.5555555555555556,
              "#d8576b"
             ],
             [
              0.6666666666666666,
              "#ed7953"
             ],
             [
              0.7777777777777778,
              "#fb9f3a"
             ],
             [
              0.8888888888888888,
              "#fdca26"
             ],
             [
              1,
              "#f0f921"
             ]
            ],
            "type": "contour"
           }
          ],
          "contourcarpet": [
           {
            "colorbar": {
             "outlinewidth": 0,
             "ticks": ""
            },
            "type": "contourcarpet"
           }
          ],
          "heatmap": [
           {
            "colorbar": {
             "outlinewidth": 0,
             "ticks": ""
            },
            "colorscale": [
             [
              0,
              "#0d0887"
             ],
             [
              0.1111111111111111,
              "#46039f"
             ],
             [
              0.2222222222222222,
              "#7201a8"
             ],
             [
              0.3333333333333333,
              "#9c179e"
             ],
             [
              0.4444444444444444,
              "#bd3786"
             ],
             [
              0.5555555555555556,
              "#d8576b"
             ],
             [
              0.6666666666666666,
              "#ed7953"
             ],
             [
              0.7777777777777778,
              "#fb9f3a"
             ],
             [
              0.8888888888888888,
              "#fdca26"
             ],
             [
              1,
              "#f0f921"
             ]
            ],
            "type": "heatmap"
           }
          ],
          "heatmapgl": [
           {
            "colorbar": {
             "outlinewidth": 0,
             "ticks": ""
            },
            "colorscale": [
             [
              0,
              "#0d0887"
             ],
             [
              0.1111111111111111,
              "#46039f"
             ],
             [
              0.2222222222222222,
              "#7201a8"
             ],
             [
              0.3333333333333333,
              "#9c179e"
             ],
             [
              0.4444444444444444,
              "#bd3786"
             ],
             [
              0.5555555555555556,
              "#d8576b"
             ],
             [
              0.6666666666666666,
              "#ed7953"
             ],
             [
              0.7777777777777778,
              "#fb9f3a"
             ],
             [
              0.8888888888888888,
              "#fdca26"
             ],
             [
              1,
              "#f0f921"
             ]
            ],
            "type": "heatmapgl"
           }
          ],
          "histogram": [
           {
            "marker": {
             "pattern": {
              "fillmode": "overlay",
              "size": 10,
              "solidity": 0.2
             }
            },
            "type": "histogram"
           }
          ],
          "histogram2d": [
           {
            "colorbar": {
             "outlinewidth": 0,
             "ticks": ""
            },
            "colorscale": [
             [
              0,
              "#0d0887"
             ],
             [
              0.1111111111111111,
              "#46039f"
             ],
             [
              0.2222222222222222,
              "#7201a8"
             ],
             [
              0.3333333333333333,
              "#9c179e"
             ],
             [
              0.4444444444444444,
              "#bd3786"
             ],
             [
              0.5555555555555556,
              "#d8576b"
             ],
             [
              0.6666666666666666,
              "#ed7953"
             ],
             [
              0.7777777777777778,
              "#fb9f3a"
             ],
             [
              0.8888888888888888,
              "#fdca26"
             ],
             [
              1,
              "#f0f921"
             ]
            ],
            "type": "histogram2d"
           }
          ],
          "histogram2dcontour": [
           {
            "colorbar": {
             "outlinewidth": 0,
             "ticks": ""
            },
            "colorscale": [
             [
              0,
              "#0d0887"
             ],
             [
              0.1111111111111111,
              "#46039f"
             ],
             [
              0.2222222222222222,
              "#7201a8"
             ],
             [
              0.3333333333333333,
              "#9c179e"
             ],
             [
              0.4444444444444444,
              "#bd3786"
             ],
             [
              0.5555555555555556,
              "#d8576b"
             ],
             [
              0.6666666666666666,
              "#ed7953"
             ],
             [
              0.7777777777777778,
              "#fb9f3a"
             ],
             [
              0.8888888888888888,
              "#fdca26"
             ],
             [
              1,
              "#f0f921"
             ]
            ],
            "type": "histogram2dcontour"
           }
          ],
          "mesh3d": [
           {
            "colorbar": {
             "outlinewidth": 0,
             "ticks": ""
            },
            "type": "mesh3d"
           }
          ],
          "parcoords": [
           {
            "line": {
             "colorbar": {
              "outlinewidth": 0,
              "ticks": ""
             }
            },
            "type": "parcoords"
           }
          ],
          "pie": [
           {
            "automargin": true,
            "type": "pie"
           }
          ],
          "scatter": [
           {
            "fillpattern": {
             "fillmode": "overlay",
             "size": 10,
             "solidity": 0.2
            },
            "type": "scatter"
           }
          ],
          "scatter3d": [
           {
            "line": {
             "colorbar": {
              "outlinewidth": 0,
              "ticks": ""
             }
            },
            "marker": {
             "colorbar": {
              "outlinewidth": 0,
              "ticks": ""
             }
            },
            "type": "scatter3d"
           }
          ],
          "scattercarpet": [
           {
            "marker": {
             "colorbar": {
              "outlinewidth": 0,
              "ticks": ""
             }
            },
            "type": "scattercarpet"
           }
          ],
          "scattergeo": [
           {
            "marker": {
             "colorbar": {
              "outlinewidth": 0,
              "ticks": ""
             }
            },
            "type": "scattergeo"
           }
          ],
          "scattergl": [
           {
            "marker": {
             "colorbar": {
              "outlinewidth": 0,
              "ticks": ""
             }
            },
            "type": "scattergl"
           }
          ],
          "scattermapbox": [
           {
            "marker": {
             "colorbar": {
              "outlinewidth": 0,
              "ticks": ""
             }
            },
            "type": "scattermapbox"
           }
          ],
          "scatterpolar": [
           {
            "marker": {
             "colorbar": {
              "outlinewidth": 0,
              "ticks": ""
             }
            },
            "type": "scatterpolar"
           }
          ],
          "scatterpolargl": [
           {
            "marker": {
             "colorbar": {
              "outlinewidth": 0,
              "ticks": ""
             }
            },
            "type": "scatterpolargl"
           }
          ],
          "scatterternary": [
           {
            "marker": {
             "colorbar": {
              "outlinewidth": 0,
              "ticks": ""
             }
            },
            "type": "scatterternary"
           }
          ],
          "surface": [
           {
            "colorbar": {
             "outlinewidth": 0,
             "ticks": ""
            },
            "colorscale": [
             [
              0,
              "#0d0887"
             ],
             [
              0.1111111111111111,
              "#46039f"
             ],
             [
              0.2222222222222222,
              "#7201a8"
             ],
             [
              0.3333333333333333,
              "#9c179e"
             ],
             [
              0.4444444444444444,
              "#bd3786"
             ],
             [
              0.5555555555555556,
              "#d8576b"
             ],
             [
              0.6666666666666666,
              "#ed7953"
             ],
             [
              0.7777777777777778,
              "#fb9f3a"
             ],
             [
              0.8888888888888888,
              "#fdca26"
             ],
             [
              1,
              "#f0f921"
             ]
            ],
            "type": "surface"
           }
          ],
          "table": [
           {
            "cells": {
             "fill": {
              "color": "#EBF0F8"
             },
             "line": {
              "color": "white"
             }
            },
            "header": {
             "fill": {
              "color": "#C8D4E3"
             },
             "line": {
              "color": "white"
             }
            },
            "type": "table"
           }
          ]
         },
         "layout": {
          "annotationdefaults": {
           "arrowcolor": "#2a3f5f",
           "arrowhead": 0,
           "arrowwidth": 1
          },
          "autotypenumbers": "strict",
          "coloraxis": {
           "colorbar": {
            "outlinewidth": 0,
            "ticks": ""
           }
          },
          "colorscale": {
           "diverging": [
            [
             0,
             "#8e0152"
            ],
            [
             0.1,
             "#c51b7d"
            ],
            [
             0.2,
             "#de77ae"
            ],
            [
             0.3,
             "#f1b6da"
            ],
            [
             0.4,
             "#fde0ef"
            ],
            [
             0.5,
             "#f7f7f7"
            ],
            [
             0.6,
             "#e6f5d0"
            ],
            [
             0.7,
             "#b8e186"
            ],
            [
             0.8,
             "#7fbc41"
            ],
            [
             0.9,
             "#4d9221"
            ],
            [
             1,
             "#276419"
            ]
           ],
           "sequential": [
            [
             0,
             "#0d0887"
            ],
            [
             0.1111111111111111,
             "#46039f"
            ],
            [
             0.2222222222222222,
             "#7201a8"
            ],
            [
             0.3333333333333333,
             "#9c179e"
            ],
            [
             0.4444444444444444,
             "#bd3786"
            ],
            [
             0.5555555555555556,
             "#d8576b"
            ],
            [
             0.6666666666666666,
             "#ed7953"
            ],
            [
             0.7777777777777778,
             "#fb9f3a"
            ],
            [
             0.8888888888888888,
             "#fdca26"
            ],
            [
             1,
             "#f0f921"
            ]
           ],
           "sequentialminus": [
            [
             0,
             "#0d0887"
            ],
            [
             0.1111111111111111,
             "#46039f"
            ],
            [
             0.2222222222222222,
             "#7201a8"
            ],
            [
             0.3333333333333333,
             "#9c179e"
            ],
            [
             0.4444444444444444,
             "#bd3786"
            ],
            [
             0.5555555555555556,
             "#d8576b"
            ],
            [
             0.6666666666666666,
             "#ed7953"
            ],
            [
             0.7777777777777778,
             "#fb9f3a"
            ],
            [
             0.8888888888888888,
             "#fdca26"
            ],
            [
             1,
             "#f0f921"
            ]
           ]
          },
          "colorway": [
           "#636efa",
           "#EF553B",
           "#00cc96",
           "#ab63fa",
           "#FFA15A",
           "#19d3f3",
           "#FF6692",
           "#B6E880",
           "#FF97FF",
           "#FECB52"
          ],
          "font": {
           "color": "#2a3f5f"
          },
          "geo": {
           "bgcolor": "white",
           "lakecolor": "white",
           "landcolor": "#E5ECF6",
           "showlakes": true,
           "showland": true,
           "subunitcolor": "white"
          },
          "hoverlabel": {
           "align": "left"
          },
          "hovermode": "closest",
          "mapbox": {
           "style": "light"
          },
          "paper_bgcolor": "white",
          "plot_bgcolor": "#E5ECF6",
          "polar": {
           "angularaxis": {
            "gridcolor": "white",
            "linecolor": "white",
            "ticks": ""
           },
           "bgcolor": "#E5ECF6",
           "radialaxis": {
            "gridcolor": "white",
            "linecolor": "white",
            "ticks": ""
           }
          },
          "scene": {
           "xaxis": {
            "backgroundcolor": "#E5ECF6",
            "gridcolor": "white",
            "gridwidth": 2,
            "linecolor": "white",
            "showbackground": true,
            "ticks": "",
            "zerolinecolor": "white"
           },
           "yaxis": {
            "backgroundcolor": "#E5ECF6",
            "gridcolor": "white",
            "gridwidth": 2,
            "linecolor": "white",
            "showbackground": true,
            "ticks": "",
            "zerolinecolor": "white"
           },
           "zaxis": {
            "backgroundcolor": "#E5ECF6",
            "gridcolor": "white",
            "gridwidth": 2,
            "linecolor": "white",
            "showbackground": true,
            "ticks": "",
            "zerolinecolor": "white"
           }
          },
          "shapedefaults": {
           "line": {
            "color": "#2a3f5f"
           }
          },
          "ternary": {
           "aaxis": {
            "gridcolor": "white",
            "linecolor": "white",
            "ticks": ""
           },
           "baxis": {
            "gridcolor": "white",
            "linecolor": "white",
            "ticks": ""
           },
           "bgcolor": "#E5ECF6",
           "caxis": {
            "gridcolor": "white",
            "linecolor": "white",
            "ticks": ""
           }
          },
          "title": {
           "x": 0.05
          },
          "xaxis": {
           "automargin": true,
           "gridcolor": "white",
           "linecolor": "white",
           "ticks": "",
           "title": {
            "standoff": 15
           },
           "zerolinecolor": "white",
           "zerolinewidth": 2
          },
          "yaxis": {
           "automargin": true,
           "gridcolor": "white",
           "linecolor": "white",
           "ticks": "",
           "title": {
            "standoff": 15
           },
           "zerolinecolor": "white",
           "zerolinewidth": 2
          }
         }
        },
        "title": {
         "text": "Taxa de mortalidade por dias de permanencia internado em mar/18"
        },
        "xaxis": {
         "anchor": "y",
         "domain": [
          0,
          1
         ],
         "title": {
          "text": "taxa_mortalidade"
         }
        },
        "yaxis": {
         "anchor": "x",
         "domain": [
          0,
          1
         ],
         "title": {
          "text": "dias_permanencia"
         }
        }
       }
      },
      "text/html": [
       "<div>                            <div id=\"b6582f4a-f2b8-4096-9980-1a0f5ea2c672\" class=\"plotly-graph-div\" style=\"height:600px; width:100%;\"></div>            <script type=\"text/javascript\">                require([\"plotly\"], function(Plotly) {                    window.PLOTLYENV=window.PLOTLYENV || {};                                    if (document.getElementById(\"b6582f4a-f2b8-4096-9980-1a0f5ea2c672\")) {                    Plotly.newPlot(                        \"b6582f4a-f2b8-4096-9980-1a0f5ea2c672\",                        [{\"hovertemplate\":\"taxa_mortalidade=%{x}<br>dias_permanencia=%{y}<extra></extra>\",\"legendgroup\":\"\",\"line\":{\"color\":\"#636efa\",\"dash\":\"solid\"},\"marker\":{\"symbol\":\"circle\"},\"mode\":\"lines\",\"name\":\"\",\"orientation\":\"v\",\"showlegend\":false,\"x\":[2.19,2.23,2.49,2.65,2.73,2.76,2.8,3.0,3.16,3.25,3.44,3.47,3.52,3.56,3.58,3.6,3.7,3.74,3.78,3.93,3.97,4.16,4.4,4.51,4.6,4.67,4.86,6.79],\"xaxis\":\"x\",\"y\":[18126,179497,164193,14489,15649,371970,48101,89680,109738,149051,131802,380267,310853,323610,1436945,128549,80678,75386,191447,870717,240779,259811,533778,409142,88168,1164944,2240046,445792],\"yaxis\":\"y\",\"type\":\"scatter\"}],                        {\"template\":{\"data\":{\"histogram2dcontour\":[{\"type\":\"histogram2dcontour\",\"colorbar\":{\"outlinewidth\":0,\"ticks\":\"\"},\"colorscale\":[[0.0,\"#0d0887\"],[0.1111111111111111,\"#46039f\"],[0.2222222222222222,\"#7201a8\"],[0.3333333333333333,\"#9c179e\"],[0.4444444444444444,\"#bd3786\"],[0.5555555555555556,\"#d8576b\"],[0.6666666666666666,\"#ed7953\"],[0.7777777777777778,\"#fb9f3a\"],[0.8888888888888888,\"#fdca26\"],[1.0,\"#f0f921\"]]}],\"choropleth\":[{\"type\":\"choropleth\",\"colorbar\":{\"outlinewidth\":0,\"ticks\":\"\"}}],\"histogram2d\":[{\"type\":\"histogram2d\",\"colorbar\":{\"outlinewidth\":0,\"ticks\":\"\"},\"colorscale\":[[0.0,\"#0d0887\"],[0.1111111111111111,\"#46039f\"],[0.2222222222222222,\"#7201a8\"],[0.3333333333333333,\"#9c179e\"],[0.4444444444444444,\"#bd3786\"],[0.5555555555555556,\"#d8576b\"],[0.6666666666666666,\"#ed7953\"],[0.7777777777777778,\"#fb9f3a\"],[0.8888888888888888,\"#fdca26\"],[1.0,\"#f0f921\"]]}],\"heatmap\":[{\"type\":\"heatmap\",\"colorbar\":{\"outlinewidth\":0,\"ticks\":\"\"},\"colorscale\":[[0.0,\"#0d0887\"],[0.1111111111111111,\"#46039f\"],[0.2222222222222222,\"#7201a8\"],[0.3333333333333333,\"#9c179e\"],[0.4444444444444444,\"#bd3786\"],[0.5555555555555556,\"#d8576b\"],[0.6666666666666666,\"#ed7953\"],[0.7777777777777778,\"#fb9f3a\"],[0.8888888888888888,\"#fdca26\"],[1.0,\"#f0f921\"]]}],\"heatmapgl\":[{\"type\":\"heatmapgl\",\"colorbar\":{\"outlinewidth\":0,\"ticks\":\"\"},\"colorscale\":[[0.0,\"#0d0887\"],[0.1111111111111111,\"#46039f\"],[0.2222222222222222,\"#7201a8\"],[0.3333333333333333,\"#9c179e\"],[0.4444444444444444,\"#bd3786\"],[0.5555555555555556,\"#d8576b\"],[0.6666666666666666,\"#ed7953\"],[0.7777777777777778,\"#fb9f3a\"],[0.8888888888888888,\"#fdca26\"],[1.0,\"#f0f921\"]]}],\"contourcarpet\":[{\"type\":\"contourcarpet\",\"colorbar\":{\"outlinewidth\":0,\"ticks\":\"\"}}],\"contour\":[{\"type\":\"contour\",\"colorbar\":{\"outlinewidth\":0,\"ticks\":\"\"},\"colorscale\":[[0.0,\"#0d0887\"],[0.1111111111111111,\"#46039f\"],[0.2222222222222222,\"#7201a8\"],[0.3333333333333333,\"#9c179e\"],[0.4444444444444444,\"#bd3786\"],[0.5555555555555556,\"#d8576b\"],[0.6666666666666666,\"#ed7953\"],[0.7777777777777778,\"#fb9f3a\"],[0.8888888888888888,\"#fdca26\"],[1.0,\"#f0f921\"]]}],\"surface\":[{\"type\":\"surface\",\"colorbar\":{\"outlinewidth\":0,\"ticks\":\"\"},\"colorscale\":[[0.0,\"#0d0887\"],[0.1111111111111111,\"#46039f\"],[0.2222222222222222,\"#7201a8\"],[0.3333333333333333,\"#9c179e\"],[0.4444444444444444,\"#bd3786\"],[0.5555555555555556,\"#d8576b\"],[0.6666666666666666,\"#ed7953\"],[0.7777777777777778,\"#fb9f3a\"],[0.8888888888888888,\"#fdca26\"],[1.0,\"#f0f921\"]]}],\"mesh3d\":[{\"type\":\"mesh3d\",\"colorbar\":{\"outlinewidth\":0,\"ticks\":\"\"}}],\"scatter\":[{\"fillpattern\":{\"fillmode\":\"overlay\",\"size\":10,\"solidity\":0.2},\"type\":\"scatter\"}],\"parcoords\":[{\"type\":\"parcoords\",\"line\":{\"colorbar\":{\"outlinewidth\":0,\"ticks\":\"\"}}}],\"scatterpolargl\":[{\"type\":\"scatterpolargl\",\"marker\":{\"colorbar\":{\"outlinewidth\":0,\"ticks\":\"\"}}}],\"bar\":[{\"error_x\":{\"color\":\"#2a3f5f\"},\"error_y\":{\"color\":\"#2a3f5f\"},\"marker\":{\"line\":{\"color\":\"#E5ECF6\",\"width\":0.5},\"pattern\":{\"fillmode\":\"overlay\",\"size\":10,\"solidity\":0.2}},\"type\":\"bar\"}],\"scattergeo\":[{\"type\":\"scattergeo\",\"marker\":{\"colorbar\":{\"outlinewidth\":0,\"ticks\":\"\"}}}],\"scatterpolar\":[{\"type\":\"scatterpolar\",\"marker\":{\"colorbar\":{\"outlinewidth\":0,\"ticks\":\"\"}}}],\"histogram\":[{\"marker\":{\"pattern\":{\"fillmode\":\"overlay\",\"size\":10,\"solidity\":0.2}},\"type\":\"histogram\"}],\"scattergl\":[{\"type\":\"scattergl\",\"marker\":{\"colorbar\":{\"outlinewidth\":0,\"ticks\":\"\"}}}],\"scatter3d\":[{\"type\":\"scatter3d\",\"line\":{\"colorbar\":{\"outlinewidth\":0,\"ticks\":\"\"}},\"marker\":{\"colorbar\":{\"outlinewidth\":0,\"ticks\":\"\"}}}],\"scattermapbox\":[{\"type\":\"scattermapbox\",\"marker\":{\"colorbar\":{\"outlinewidth\":0,\"ticks\":\"\"}}}],\"scatterternary\":[{\"type\":\"scatterternary\",\"marker\":{\"colorbar\":{\"outlinewidth\":0,\"ticks\":\"\"}}}],\"scattercarpet\":[{\"type\":\"scattercarpet\",\"marker\":{\"colorbar\":{\"outlinewidth\":0,\"ticks\":\"\"}}}],\"carpet\":[{\"aaxis\":{\"endlinecolor\":\"#2a3f5f\",\"gridcolor\":\"white\",\"linecolor\":\"white\",\"minorgridcolor\":\"white\",\"startlinecolor\":\"#2a3f5f\"},\"baxis\":{\"endlinecolor\":\"#2a3f5f\",\"gridcolor\":\"white\",\"linecolor\":\"white\",\"minorgridcolor\":\"white\",\"startlinecolor\":\"#2a3f5f\"},\"type\":\"carpet\"}],\"table\":[{\"cells\":{\"fill\":{\"color\":\"#EBF0F8\"},\"line\":{\"color\":\"white\"}},\"header\":{\"fill\":{\"color\":\"#C8D4E3\"},\"line\":{\"color\":\"white\"}},\"type\":\"table\"}],\"barpolar\":[{\"marker\":{\"line\":{\"color\":\"#E5ECF6\",\"width\":0.5},\"pattern\":{\"fillmode\":\"overlay\",\"size\":10,\"solidity\":0.2}},\"type\":\"barpolar\"}],\"pie\":[{\"automargin\":true,\"type\":\"pie\"}]},\"layout\":{\"autotypenumbers\":\"strict\",\"colorway\":[\"#636efa\",\"#EF553B\",\"#00cc96\",\"#ab63fa\",\"#FFA15A\",\"#19d3f3\",\"#FF6692\",\"#B6E880\",\"#FF97FF\",\"#FECB52\"],\"font\":{\"color\":\"#2a3f5f\"},\"hovermode\":\"closest\",\"hoverlabel\":{\"align\":\"left\"},\"paper_bgcolor\":\"white\",\"plot_bgcolor\":\"#E5ECF6\",\"polar\":{\"bgcolor\":\"#E5ECF6\",\"angularaxis\":{\"gridcolor\":\"white\",\"linecolor\":\"white\",\"ticks\":\"\"},\"radialaxis\":{\"gridcolor\":\"white\",\"linecolor\":\"white\",\"ticks\":\"\"}},\"ternary\":{\"bgcolor\":\"#E5ECF6\",\"aaxis\":{\"gridcolor\":\"white\",\"linecolor\":\"white\",\"ticks\":\"\"},\"baxis\":{\"gridcolor\":\"white\",\"linecolor\":\"white\",\"ticks\":\"\"},\"caxis\":{\"gridcolor\":\"white\",\"linecolor\":\"white\",\"ticks\":\"\"}},\"coloraxis\":{\"colorbar\":{\"outlinewidth\":0,\"ticks\":\"\"}},\"colorscale\":{\"sequential\":[[0.0,\"#0d0887\"],[0.1111111111111111,\"#46039f\"],[0.2222222222222222,\"#7201a8\"],[0.3333333333333333,\"#9c179e\"],[0.4444444444444444,\"#bd3786\"],[0.5555555555555556,\"#d8576b\"],[0.6666666666666666,\"#ed7953\"],[0.7777777777777778,\"#fb9f3a\"],[0.8888888888888888,\"#fdca26\"],[1.0,\"#f0f921\"]],\"sequentialminus\":[[0.0,\"#0d0887\"],[0.1111111111111111,\"#46039f\"],[0.2222222222222222,\"#7201a8\"],[0.3333333333333333,\"#9c179e\"],[0.4444444444444444,\"#bd3786\"],[0.5555555555555556,\"#d8576b\"],[0.6666666666666666,\"#ed7953\"],[0.7777777777777778,\"#fb9f3a\"],[0.8888888888888888,\"#fdca26\"],[1.0,\"#f0f921\"]],\"diverging\":[[0,\"#8e0152\"],[0.1,\"#c51b7d\"],[0.2,\"#de77ae\"],[0.3,\"#f1b6da\"],[0.4,\"#fde0ef\"],[0.5,\"#f7f7f7\"],[0.6,\"#e6f5d0\"],[0.7,\"#b8e186\"],[0.8,\"#7fbc41\"],[0.9,\"#4d9221\"],[1,\"#276419\"]]},\"xaxis\":{\"gridcolor\":\"white\",\"linecolor\":\"white\",\"ticks\":\"\",\"title\":{\"standoff\":15},\"zerolinecolor\":\"white\",\"automargin\":true,\"zerolinewidth\":2},\"yaxis\":{\"gridcolor\":\"white\",\"linecolor\":\"white\",\"ticks\":\"\",\"title\":{\"standoff\":15},\"zerolinecolor\":\"white\",\"automargin\":true,\"zerolinewidth\":2},\"scene\":{\"xaxis\":{\"backgroundcolor\":\"#E5ECF6\",\"gridcolor\":\"white\",\"linecolor\":\"white\",\"showbackground\":true,\"ticks\":\"\",\"zerolinecolor\":\"white\",\"gridwidth\":2},\"yaxis\":{\"backgroundcolor\":\"#E5ECF6\",\"gridcolor\":\"white\",\"linecolor\":\"white\",\"showbackground\":true,\"ticks\":\"\",\"zerolinecolor\":\"white\",\"gridwidth\":2},\"zaxis\":{\"backgroundcolor\":\"#E5ECF6\",\"gridcolor\":\"white\",\"linecolor\":\"white\",\"showbackground\":true,\"ticks\":\"\",\"zerolinecolor\":\"white\",\"gridwidth\":2}},\"shapedefaults\":{\"line\":{\"color\":\"#2a3f5f\"}},\"annotationdefaults\":{\"arrowcolor\":\"#2a3f5f\",\"arrowhead\":0,\"arrowwidth\":1},\"geo\":{\"bgcolor\":\"white\",\"landcolor\":\"#E5ECF6\",\"subunitcolor\":\"white\",\"showland\":true,\"showlakes\":true,\"lakecolor\":\"white\"},\"title\":{\"x\":0.05},\"mapbox\":{\"style\":\"light\"}}},\"xaxis\":{\"anchor\":\"y\",\"domain\":[0.0,1.0],\"title\":{\"text\":\"taxa_mortalidade\"}},\"yaxis\":{\"anchor\":\"x\",\"domain\":[0.0,1.0],\"title\":{\"text\":\"dias_permanencia\"}},\"legend\":{\"tracegroupgap\":0},\"title\":{\"text\":\"Taxa de mortalidade por dias de permanencia internado em mar/18\"},\"height\":600},                        {\"responsive\": true}                    ).then(function(){\n",
       "                            \n",
       "var gd = document.getElementById('b6582f4a-f2b8-4096-9980-1a0f5ea2c672');\n",
       "var x = new MutationObserver(function (mutations, observer) {{\n",
       "        var display = window.getComputedStyle(gd).display;\n",
       "        if (!display || display === 'none') {{\n",
       "            console.log([gd, 'removed!']);\n",
       "            Plotly.purge(gd);\n",
       "            observer.disconnect();\n",
       "        }}\n",
       "}});\n",
       "\n",
       "// Listen for the removal of the full notebook cells\n",
       "var notebookContainer = gd.closest('#notebook-container');\n",
       "if (notebookContainer) {{\n",
       "    x.observe(notebookContainer, {childList: true});\n",
       "}}\n",
       "\n",
       "// Listen for the clearing of the current output cell\n",
       "var outputEl = gd.closest('.output');\n",
       "if (outputEl) {{\n",
       "    x.observe(outputEl, {childList: true});\n",
       "}}\n",
       "\n",
       "                        })                };                });            </script>        </div>"
      ]
     },
     "metadata": {},
     "output_type": "display_data"
    }
   ],
   "source": [
    "px.line(df_dias_por_taxa, x='taxa_mortalidade', y='dias_permanencia', title = \"Taxa de mortalidade por dias de permanencia internado em mar/18\",\n",
    "       hover_data=['taxa_mortalidade', 'dias_permanencia'], height=600)"
   ]
  },
  {
   "cell_type": "code",
   "execution_count": 43,
   "metadata": {},
   "outputs": [
    {
     "name": "stdout",
     "output_type": "stream",
     "text": [
      "        Data Região/Unidade da Federação  Internações  AIH_aprovadas  \\\n",
      "0 2018-07-01                Região Norte      82647.0        82664.0   \n",
      "1 2018-07-01                 .. Rondônia       9965.0         9965.0   \n",
      "2 2018-07-01                     .. Acre       3941.0         3958.0   \n",
      "3 2018-07-01                 .. Amazonas      15802.0        15802.0   \n",
      "4 2018-07-01                  .. Roraima       3661.0         3661.0   \n",
      "\n",
      "   Valor_total  Valor_serviços_hospitalares Val_serv_hosp_-_compl_federal  \\\n",
      "0  70012928.89                  53804253.02                        221840   \n",
      "1   8525499.78                   6842770.02                             -   \n",
      "2   3126429.88                   2399764.51                             -   \n",
      "3  14840533.42                  11480781.27                             -   \n",
      "4   2860584.22                   2125258.18                             -   \n",
      "\n",
      "  Val_serv_hosp_-_compl_gestor  Valor_serviços_profissionais  \\\n",
      "0                            -                   15858363.45   \n",
      "1                            -                    1682729.76   \n",
      "2                            -                     726665.37   \n",
      "3                            -                    3359752.15   \n",
      "4                            -                     735326.04   \n",
      "\n",
      "  Val_serv_prof_-_compl_federal Val_serv_prof_-_compl_gestor  Valor_médio_AIH  \\\n",
      "0                             -                            -           846.96   \n",
      "1                             -                            -           855.54   \n",
      "2                             -                            -           789.90   \n",
      "3                             -                            -           939.16   \n",
      "4                             -                            -           781.37   \n",
      "\n",
      "   Valor_médio_intern  Dias_permanência  Média_permanência  Óbitos  \\\n",
      "0              847.13          382669.0                4.6  2300.0   \n",
      "1              855.54           43583.0                4.4   365.0   \n",
      "2              793.31           20078.0                5.1   128.0   \n",
      "3              939.16           82831.0                5.2   486.0   \n",
      "4              781.37           19370.0                5.3   123.0   \n",
      "\n",
      "   Taxa_mortalidade  \n",
      "0              2.78  \n",
      "1              3.66  \n",
      "2              3.25  \n",
      "3              3.08  \n",
      "4              3.36  \n"
     ]
    }
   ],
   "source": [
    "df = pd.read_excel(\"case_internacao_SUS.xls\", sheet_name='jul18')\n",
    "print(df.head())"
   ]
  },
  {
   "cell_type": "code",
   "execution_count": 44,
   "metadata": {},
   "outputs": [],
   "source": [
    "#formartar nome das regioes\n",
    "\n",
    "df['Região/Unidade da Federação'] = df['Região/Unidade da Federação'].str.replace(r'\\W',\"\")\n",
    "\n",
    "#formartar valores dos campos de - para 0\n",
    "\n",
    "df['Val_serv_prof_-_compl_gestor'] = df['Val_serv_prof_-_compl_gestor'].replace('-','0')\n",
    "df['Val_serv_hosp_-_compl_federal'] = df['Val_serv_hosp_-_compl_federal'].replace('-','0')\n",
    "df['Val_serv_hosp_-_compl_gestor'] = df['Val_serv_hosp_-_compl_gestor'].replace('-','0')\n",
    "df['Val_serv_prof_-_compl_federal'] = df['Val_serv_prof_-_compl_federal'].replace('-','0')\n",
    "\n",
    "#renomear o nome das colunas\n",
    "\n",
    "df.rename({'Região/Unidade da Federação': 'regiao_unidade_da_federacao',\n",
    "           'Val_serv_hosp_-_compl_federal': 'Val_serv_hosp_compl_federal',\n",
    "           'Val_serv_hosp_-_compl_gestor':'Val_serv_hosp_compl_gestor',\n",
    "           'Val_serv_prof_-_compl_federal':'Val_serv_prof_compl_federal',\n",
    "           'Val_serv_prof_-_compl_gestor':'Val_serv_prof_compl_gestor',\n",
    "           'Valor_médio_AIH':'Valor_medio_AIH',\n",
    "           'Valor_médio_intern':'Valor_medio_intern',\n",
    "           'Dias_permanência':'Dias_permanencia',\n",
    "           'Média_permanência':'Media_permanencia',\n",
    "           'Óbitos':'obitos',\n",
    "           'valor_serviços_hospitalares': 'valor_servicos_hospitalares',\n",
    "           'internações':'internacoes',\n",
    "           'Valor_serviços_hospitalares':'Valor_servicos_hospitalares',\n",
    "           'Valor_serviços_profissionais':'Valor_servicos_profissionais',\n",
    "           'Internações':'Internacoes'\n",
    "          },axis=1, inplace=True)\n",
    "\n",
    "#deixar os cabeçalhos em minusculo\n",
    "\n",
    "df.columns = map(str.lower, df.columns)"
   ]
  },
  {
   "cell_type": "code",
   "execution_count": 45,
   "metadata": {},
   "outputs": [
    {
     "name": "stdout",
     "output_type": "stream",
     "text": [
      "        data regiao_unidade_da_federacao  internacoes  aih_aprovadas  \\\n",
      "0 2018-07-01                 RegiãoNorte      82647.0        82664.0   \n",
      "1 2018-07-01                    Rondônia       9965.0         9965.0   \n",
      "2 2018-07-01                        Acre       3941.0         3958.0   \n",
      "3 2018-07-01                    Amazonas      15802.0        15802.0   \n",
      "4 2018-07-01                     Roraima       3661.0         3661.0   \n",
      "\n",
      "   valor_total  valor_servicos_hospitalares val_serv_hosp_compl_federal  \\\n",
      "0  70012928.89                  53804253.02                      221840   \n",
      "1   8525499.78                   6842770.02                           0   \n",
      "2   3126429.88                   2399764.51                           0   \n",
      "3  14840533.42                  11480781.27                           0   \n",
      "4   2860584.22                   2125258.18                           0   \n",
      "\n",
      "  val_serv_hosp_compl_gestor  valor_servicos_profissionais  \\\n",
      "0                          0                   15858363.45   \n",
      "1                          0                    1682729.76   \n",
      "2                          0                     726665.37   \n",
      "3                          0                    3359752.15   \n",
      "4                          0                     735326.04   \n",
      "\n",
      "  val_serv_prof_compl_federal val_serv_prof_compl_gestor  valor_medio_aih  \\\n",
      "0                           0                          0           846.96   \n",
      "1                           0                          0           855.54   \n",
      "2                           0                          0           789.90   \n",
      "3                           0                          0           939.16   \n",
      "4                           0                          0           781.37   \n",
      "\n",
      "   valor_medio_intern  dias_permanencia  media_permanencia  obitos  \\\n",
      "0              847.13          382669.0                4.6  2300.0   \n",
      "1              855.54           43583.0                4.4   365.0   \n",
      "2              793.31           20078.0                5.1   128.0   \n",
      "3              939.16           82831.0                5.2   486.0   \n",
      "4              781.37           19370.0                5.3   123.0   \n",
      "\n",
      "   taxa_mortalidade  \n",
      "0              2.78  \n",
      "1              3.66  \n",
      "2              3.25  \n",
      "3              3.08  \n",
      "4              3.36  \n"
     ]
    }
   ],
   "source": [
    "print(df.head())"
   ]
  },
  {
   "cell_type": "code",
   "execution_count": 46,
   "metadata": {},
   "outputs": [
    {
     "data": {
      "application/vnd.plotly.v1+json": {
       "config": {
        "plotlyServerURL": "https://plot.ly"
       },
       "data": [
        {
         "hovertemplate": "<b>%{hovertext}</b><br><br>dias_permanencia=%{x}<br>regiao_unidade_da_federacao=%{y}<br>internacoes=%{marker.color}<extra></extra>",
         "hovertext": [
          382669,
          43583,
          20078,
          82831,
          19370,
          171880,
          15651,
          29276,
          1421458,
          175070,
          91358,
          239946,
          93792,
          92368,
          269650,
          76095,
          49376,
          333803,
          2327627,
          553916,
          99067,
          481919,
          1192725,
          932552,
          336596,
          200894,
          395062,
          403446,
          68662,
          76040,
          130266,
          128478,
          null
         ],
         "legendgroup": "",
         "marker": {
          "color": [
           82647,
           9965,
           3941,
           15802,
           3661,
           40598,
           2897,
           5783,
           273883,
           39301,
           18206,
           42936,
           15444,
           16113,
           47708,
           14975,
           8572,
           70628,
           397352,
           106719,
           20408,
           62421,
           207804,
           181353,
           74451,
           42849,
           64053,
           78781,
           14634,
           16499,
           27002,
           20646,
           null
          ],
          "coloraxis": "coloraxis",
          "symbol": "circle"
         },
         "mode": "markers",
         "name": "",
         "orientation": "h",
         "showlegend": false,
         "type": "scatter",
         "x": [
          382669,
          43583,
          20078,
          82831,
          19370,
          171880,
          15651,
          29276,
          1421458,
          175070,
          91358,
          239946,
          93792,
          92368,
          269650,
          76095,
          49376,
          333803,
          2327627,
          553916,
          99067,
          481919,
          1192725,
          932552,
          336596,
          200894,
          395062,
          403446,
          68662,
          76040,
          130266,
          128478,
          null
         ],
         "xaxis": "x",
         "y": [
          "RegiãoNorte",
          "Rondônia",
          "Acre",
          "Amazonas",
          "Roraima",
          "Pará",
          "Amapá",
          "Tocantins",
          "RegiãoNordeste",
          "Maranhão",
          "Piauí",
          "Ceará",
          "RioGrandedoNorte",
          "Paraíba",
          "Pernambuco",
          "Alagoas",
          "Sergipe",
          "Bahia",
          "RegiãoSudeste",
          "MinasGerais",
          "EspíritoSanto",
          "RiodeJaneiro",
          "SãoPaulo",
          "RegiãoSul",
          "Paraná",
          "SantaCatarina",
          "RioGrandedoSul",
          "RegiãoCentroOeste",
          "MatoGrossodoSul",
          "MatoGrosso",
          "Goiás",
          "DistritoFederal",
          ""
         ],
         "yaxis": "y"
        }
       ],
       "layout": {
        "coloraxis": {
         "colorbar": {
          "title": {
           "text": "internacoes"
          }
         },
         "colorscale": [
          [
           0,
           "#0d0887"
          ],
          [
           0.1111111111111111,
           "#46039f"
          ],
          [
           0.2222222222222222,
           "#7201a8"
          ],
          [
           0.3333333333333333,
           "#9c179e"
          ],
          [
           0.4444444444444444,
           "#bd3786"
          ],
          [
           0.5555555555555556,
           "#d8576b"
          ],
          [
           0.6666666666666666,
           "#ed7953"
          ],
          [
           0.7777777777777778,
           "#fb9f3a"
          ],
          [
           0.8888888888888888,
           "#fdca26"
          ],
          [
           1,
           "#f0f921"
          ]
         ]
        },
        "legend": {
         "tracegroupgap": 0
        },
        "template": {
         "data": {
          "bar": [
           {
            "error_x": {
             "color": "#2a3f5f"
            },
            "error_y": {
             "color": "#2a3f5f"
            },
            "marker": {
             "line": {
              "color": "#E5ECF6",
              "width": 0.5
             },
             "pattern": {
              "fillmode": "overlay",
              "size": 10,
              "solidity": 0.2
             }
            },
            "type": "bar"
           }
          ],
          "barpolar": [
           {
            "marker": {
             "line": {
              "color": "#E5ECF6",
              "width": 0.5
             },
             "pattern": {
              "fillmode": "overlay",
              "size": 10,
              "solidity": 0.2
             }
            },
            "type": "barpolar"
           }
          ],
          "carpet": [
           {
            "aaxis": {
             "endlinecolor": "#2a3f5f",
             "gridcolor": "white",
             "linecolor": "white",
             "minorgridcolor": "white",
             "startlinecolor": "#2a3f5f"
            },
            "baxis": {
             "endlinecolor": "#2a3f5f",
             "gridcolor": "white",
             "linecolor": "white",
             "minorgridcolor": "white",
             "startlinecolor": "#2a3f5f"
            },
            "type": "carpet"
           }
          ],
          "choropleth": [
           {
            "colorbar": {
             "outlinewidth": 0,
             "ticks": ""
            },
            "type": "choropleth"
           }
          ],
          "contour": [
           {
            "colorbar": {
             "outlinewidth": 0,
             "ticks": ""
            },
            "colorscale": [
             [
              0,
              "#0d0887"
             ],
             [
              0.1111111111111111,
              "#46039f"
             ],
             [
              0.2222222222222222,
              "#7201a8"
             ],
             [
              0.3333333333333333,
              "#9c179e"
             ],
             [
              0.4444444444444444,
              "#bd3786"
             ],
             [
              0.5555555555555556,
              "#d8576b"
             ],
             [
              0.6666666666666666,
              "#ed7953"
             ],
             [
              0.7777777777777778,
              "#fb9f3a"
             ],
             [
              0.8888888888888888,
              "#fdca26"
             ],
             [
              1,
              "#f0f921"
             ]
            ],
            "type": "contour"
           }
          ],
          "contourcarpet": [
           {
            "colorbar": {
             "outlinewidth": 0,
             "ticks": ""
            },
            "type": "contourcarpet"
           }
          ],
          "heatmap": [
           {
            "colorbar": {
             "outlinewidth": 0,
             "ticks": ""
            },
            "colorscale": [
             [
              0,
              "#0d0887"
             ],
             [
              0.1111111111111111,
              "#46039f"
             ],
             [
              0.2222222222222222,
              "#7201a8"
             ],
             [
              0.3333333333333333,
              "#9c179e"
             ],
             [
              0.4444444444444444,
              "#bd3786"
             ],
             [
              0.5555555555555556,
              "#d8576b"
             ],
             [
              0.6666666666666666,
              "#ed7953"
             ],
             [
              0.7777777777777778,
              "#fb9f3a"
             ],
             [
              0.8888888888888888,
              "#fdca26"
             ],
             [
              1,
              "#f0f921"
             ]
            ],
            "type": "heatmap"
           }
          ],
          "heatmapgl": [
           {
            "colorbar": {
             "outlinewidth": 0,
             "ticks": ""
            },
            "colorscale": [
             [
              0,
              "#0d0887"
             ],
             [
              0.1111111111111111,
              "#46039f"
             ],
             [
              0.2222222222222222,
              "#7201a8"
             ],
             [
              0.3333333333333333,
              "#9c179e"
             ],
             [
              0.4444444444444444,
              "#bd3786"
             ],
             [
              0.5555555555555556,
              "#d8576b"
             ],
             [
              0.6666666666666666,
              "#ed7953"
             ],
             [
              0.7777777777777778,
              "#fb9f3a"
             ],
             [
              0.8888888888888888,
              "#fdca26"
             ],
             [
              1,
              "#f0f921"
             ]
            ],
            "type": "heatmapgl"
           }
          ],
          "histogram": [
           {
            "marker": {
             "pattern": {
              "fillmode": "overlay",
              "size": 10,
              "solidity": 0.2
             }
            },
            "type": "histogram"
           }
          ],
          "histogram2d": [
           {
            "colorbar": {
             "outlinewidth": 0,
             "ticks": ""
            },
            "colorscale": [
             [
              0,
              "#0d0887"
             ],
             [
              0.1111111111111111,
              "#46039f"
             ],
             [
              0.2222222222222222,
              "#7201a8"
             ],
             [
              0.3333333333333333,
              "#9c179e"
             ],
             [
              0.4444444444444444,
              "#bd3786"
             ],
             [
              0.5555555555555556,
              "#d8576b"
             ],
             [
              0.6666666666666666,
              "#ed7953"
             ],
             [
              0.7777777777777778,
              "#fb9f3a"
             ],
             [
              0.8888888888888888,
              "#fdca26"
             ],
             [
              1,
              "#f0f921"
             ]
            ],
            "type": "histogram2d"
           }
          ],
          "histogram2dcontour": [
           {
            "colorbar": {
             "outlinewidth": 0,
             "ticks": ""
            },
            "colorscale": [
             [
              0,
              "#0d0887"
             ],
             [
              0.1111111111111111,
              "#46039f"
             ],
             [
              0.2222222222222222,
              "#7201a8"
             ],
             [
              0.3333333333333333,
              "#9c179e"
             ],
             [
              0.4444444444444444,
              "#bd3786"
             ],
             [
              0.5555555555555556,
              "#d8576b"
             ],
             [
              0.6666666666666666,
              "#ed7953"
             ],
             [
              0.7777777777777778,
              "#fb9f3a"
             ],
             [
              0.8888888888888888,
              "#fdca26"
             ],
             [
              1,
              "#f0f921"
             ]
            ],
            "type": "histogram2dcontour"
           }
          ],
          "mesh3d": [
           {
            "colorbar": {
             "outlinewidth": 0,
             "ticks": ""
            },
            "type": "mesh3d"
           }
          ],
          "parcoords": [
           {
            "line": {
             "colorbar": {
              "outlinewidth": 0,
              "ticks": ""
             }
            },
            "type": "parcoords"
           }
          ],
          "pie": [
           {
            "automargin": true,
            "type": "pie"
           }
          ],
          "scatter": [
           {
            "fillpattern": {
             "fillmode": "overlay",
             "size": 10,
             "solidity": 0.2
            },
            "type": "scatter"
           }
          ],
          "scatter3d": [
           {
            "line": {
             "colorbar": {
              "outlinewidth": 0,
              "ticks": ""
             }
            },
            "marker": {
             "colorbar": {
              "outlinewidth": 0,
              "ticks": ""
             }
            },
            "type": "scatter3d"
           }
          ],
          "scattercarpet": [
           {
            "marker": {
             "colorbar": {
              "outlinewidth": 0,
              "ticks": ""
             }
            },
            "type": "scattercarpet"
           }
          ],
          "scattergeo": [
           {
            "marker": {
             "colorbar": {
              "outlinewidth": 0,
              "ticks": ""
             }
            },
            "type": "scattergeo"
           }
          ],
          "scattergl": [
           {
            "marker": {
             "colorbar": {
              "outlinewidth": 0,
              "ticks": ""
             }
            },
            "type": "scattergl"
           }
          ],
          "scattermapbox": [
           {
            "marker": {
             "colorbar": {
              "outlinewidth": 0,
              "ticks": ""
             }
            },
            "type": "scattermapbox"
           }
          ],
          "scatterpolar": [
           {
            "marker": {
             "colorbar": {
              "outlinewidth": 0,
              "ticks": ""
             }
            },
            "type": "scatterpolar"
           }
          ],
          "scatterpolargl": [
           {
            "marker": {
             "colorbar": {
              "outlinewidth": 0,
              "ticks": ""
             }
            },
            "type": "scatterpolargl"
           }
          ],
          "scatterternary": [
           {
            "marker": {
             "colorbar": {
              "outlinewidth": 0,
              "ticks": ""
             }
            },
            "type": "scatterternary"
           }
          ],
          "surface": [
           {
            "colorbar": {
             "outlinewidth": 0,
             "ticks": ""
            },
            "colorscale": [
             [
              0,
              "#0d0887"
             ],
             [
              0.1111111111111111,
              "#46039f"
             ],
             [
              0.2222222222222222,
              "#7201a8"
             ],
             [
              0.3333333333333333,
              "#9c179e"
             ],
             [
              0.4444444444444444,
              "#bd3786"
             ],
             [
              0.5555555555555556,
              "#d8576b"
             ],
             [
              0.6666666666666666,
              "#ed7953"
             ],
             [
              0.7777777777777778,
              "#fb9f3a"
             ],
             [
              0.8888888888888888,
              "#fdca26"
             ],
             [
              1,
              "#f0f921"
             ]
            ],
            "type": "surface"
           }
          ],
          "table": [
           {
            "cells": {
             "fill": {
              "color": "#EBF0F8"
             },
             "line": {
              "color": "white"
             }
            },
            "header": {
             "fill": {
              "color": "#C8D4E3"
             },
             "line": {
              "color": "white"
             }
            },
            "type": "table"
           }
          ]
         },
         "layout": {
          "annotationdefaults": {
           "arrowcolor": "#2a3f5f",
           "arrowhead": 0,
           "arrowwidth": 1
          },
          "autotypenumbers": "strict",
          "coloraxis": {
           "colorbar": {
            "outlinewidth": 0,
            "ticks": ""
           }
          },
          "colorscale": {
           "diverging": [
            [
             0,
             "#8e0152"
            ],
            [
             0.1,
             "#c51b7d"
            ],
            [
             0.2,
             "#de77ae"
            ],
            [
             0.3,
             "#f1b6da"
            ],
            [
             0.4,
             "#fde0ef"
            ],
            [
             0.5,
             "#f7f7f7"
            ],
            [
             0.6,
             "#e6f5d0"
            ],
            [
             0.7,
             "#b8e186"
            ],
            [
             0.8,
             "#7fbc41"
            ],
            [
             0.9,
             "#4d9221"
            ],
            [
             1,
             "#276419"
            ]
           ],
           "sequential": [
            [
             0,
             "#0d0887"
            ],
            [
             0.1111111111111111,
             "#46039f"
            ],
            [
             0.2222222222222222,
             "#7201a8"
            ],
            [
             0.3333333333333333,
             "#9c179e"
            ],
            [
             0.4444444444444444,
             "#bd3786"
            ],
            [
             0.5555555555555556,
             "#d8576b"
            ],
            [
             0.6666666666666666,
             "#ed7953"
            ],
            [
             0.7777777777777778,
             "#fb9f3a"
            ],
            [
             0.8888888888888888,
             "#fdca26"
            ],
            [
             1,
             "#f0f921"
            ]
           ],
           "sequentialminus": [
            [
             0,
             "#0d0887"
            ],
            [
             0.1111111111111111,
             "#46039f"
            ],
            [
             0.2222222222222222,
             "#7201a8"
            ],
            [
             0.3333333333333333,
             "#9c179e"
            ],
            [
             0.4444444444444444,
             "#bd3786"
            ],
            [
             0.5555555555555556,
             "#d8576b"
            ],
            [
             0.6666666666666666,
             "#ed7953"
            ],
            [
             0.7777777777777778,
             "#fb9f3a"
            ],
            [
             0.8888888888888888,
             "#fdca26"
            ],
            [
             1,
             "#f0f921"
            ]
           ]
          },
          "colorway": [
           "#636efa",
           "#EF553B",
           "#00cc96",
           "#ab63fa",
           "#FFA15A",
           "#19d3f3",
           "#FF6692",
           "#B6E880",
           "#FF97FF",
           "#FECB52"
          ],
          "font": {
           "color": "#2a3f5f"
          },
          "geo": {
           "bgcolor": "white",
           "lakecolor": "white",
           "landcolor": "#E5ECF6",
           "showlakes": true,
           "showland": true,
           "subunitcolor": "white"
          },
          "hoverlabel": {
           "align": "left"
          },
          "hovermode": "closest",
          "mapbox": {
           "style": "light"
          },
          "paper_bgcolor": "white",
          "plot_bgcolor": "#E5ECF6",
          "polar": {
           "angularaxis": {
            "gridcolor": "white",
            "linecolor": "white",
            "ticks": ""
           },
           "bgcolor": "#E5ECF6",
           "radialaxis": {
            "gridcolor": "white",
            "linecolor": "white",
            "ticks": ""
           }
          },
          "scene": {
           "xaxis": {
            "backgroundcolor": "#E5ECF6",
            "gridcolor": "white",
            "gridwidth": 2,
            "linecolor": "white",
            "showbackground": true,
            "ticks": "",
            "zerolinecolor": "white"
           },
           "yaxis": {
            "backgroundcolor": "#E5ECF6",
            "gridcolor": "white",
            "gridwidth": 2,
            "linecolor": "white",
            "showbackground": true,
            "ticks": "",
            "zerolinecolor": "white"
           },
           "zaxis": {
            "backgroundcolor": "#E5ECF6",
            "gridcolor": "white",
            "gridwidth": 2,
            "linecolor": "white",
            "showbackground": true,
            "ticks": "",
            "zerolinecolor": "white"
           }
          },
          "shapedefaults": {
           "line": {
            "color": "#2a3f5f"
           }
          },
          "ternary": {
           "aaxis": {
            "gridcolor": "white",
            "linecolor": "white",
            "ticks": ""
           },
           "baxis": {
            "gridcolor": "white",
            "linecolor": "white",
            "ticks": ""
           },
           "bgcolor": "#E5ECF6",
           "caxis": {
            "gridcolor": "white",
            "linecolor": "white",
            "ticks": ""
           }
          },
          "title": {
           "x": 0.05
          },
          "xaxis": {
           "automargin": true,
           "gridcolor": "white",
           "linecolor": "white",
           "ticks": "",
           "title": {
            "standoff": 15
           },
           "zerolinecolor": "white",
           "zerolinewidth": 2
          },
          "yaxis": {
           "automargin": true,
           "gridcolor": "white",
           "linecolor": "white",
           "ticks": "",
           "title": {
            "standoff": 15
           },
           "zerolinecolor": "white",
           "zerolinewidth": 2
          }
         }
        },
        "title": {
         "text": "Casos de internações e quantidade de dias de permanencia por região"
        },
        "xaxis": {
         "anchor": "y",
         "domain": [
          0,
          1
         ],
         "title": {
          "text": "dias_permanencia"
         }
        },
        "yaxis": {
         "anchor": "x",
         "domain": [
          0,
          1
         ],
         "title": {
          "text": "regiao_unidade_da_federacao"
         }
        }
       }
      },
      "text/html": [
       "<div>                            <div id=\"b224e5c7-c8f3-47a1-beb2-bcb5b67a76cc\" class=\"plotly-graph-div\" style=\"height:525px; width:100%;\"></div>            <script type=\"text/javascript\">                require([\"plotly\"], function(Plotly) {                    window.PLOTLYENV=window.PLOTLYENV || {};                                    if (document.getElementById(\"b224e5c7-c8f3-47a1-beb2-bcb5b67a76cc\")) {                    Plotly.newPlot(                        \"b224e5c7-c8f3-47a1-beb2-bcb5b67a76cc\",                        [{\"hovertemplate\":\"<b>%{hovertext}</b><br><br>dias_permanencia=%{x}<br>regiao_unidade_da_federacao=%{y}<br>internacoes=%{marker.color}<extra></extra>\",\"hovertext\":[382669.0,43583.0,20078.0,82831.0,19370.0,171880.0,15651.0,29276.0,1421458.0,175070.0,91358.0,239946.0,93792.0,92368.0,269650.0,76095.0,49376.0,333803.0,2327627.0,553916.0,99067.0,481919.0,1192725.0,932552.0,336596.0,200894.0,395062.0,403446.0,68662.0,76040.0,130266.0,128478.0,null],\"legendgroup\":\"\",\"marker\":{\"color\":[82647.0,9965.0,3941.0,15802.0,3661.0,40598.0,2897.0,5783.0,273883.0,39301.0,18206.0,42936.0,15444.0,16113.0,47708.0,14975.0,8572.0,70628.0,397352.0,106719.0,20408.0,62421.0,207804.0,181353.0,74451.0,42849.0,64053.0,78781.0,14634.0,16499.0,27002.0,20646.0,null],\"coloraxis\":\"coloraxis\",\"symbol\":\"circle\"},\"mode\":\"markers\",\"name\":\"\",\"orientation\":\"h\",\"showlegend\":false,\"x\":[382669.0,43583.0,20078.0,82831.0,19370.0,171880.0,15651.0,29276.0,1421458.0,175070.0,91358.0,239946.0,93792.0,92368.0,269650.0,76095.0,49376.0,333803.0,2327627.0,553916.0,99067.0,481919.0,1192725.0,932552.0,336596.0,200894.0,395062.0,403446.0,68662.0,76040.0,130266.0,128478.0,null],\"xaxis\":\"x\",\"y\":[\"Regi\\u00e3oNorte\",\"Rond\\u00f4nia\",\"Acre\",\"Amazonas\",\"Roraima\",\"Par\\u00e1\",\"Amap\\u00e1\",\"Tocantins\",\"Regi\\u00e3oNordeste\",\"Maranh\\u00e3o\",\"Piau\\u00ed\",\"Cear\\u00e1\",\"RioGrandedoNorte\",\"Para\\u00edba\",\"Pernambuco\",\"Alagoas\",\"Sergipe\",\"Bahia\",\"Regi\\u00e3oSudeste\",\"MinasGerais\",\"Esp\\u00edritoSanto\",\"RiodeJaneiro\",\"S\\u00e3oPaulo\",\"Regi\\u00e3oSul\",\"Paran\\u00e1\",\"SantaCatarina\",\"RioGrandedoSul\",\"Regi\\u00e3oCentroOeste\",\"MatoGrossodoSul\",\"MatoGrosso\",\"Goi\\u00e1s\",\"DistritoFederal\",\"\"],\"yaxis\":\"y\",\"type\":\"scatter\"}],                        {\"template\":{\"data\":{\"histogram2dcontour\":[{\"type\":\"histogram2dcontour\",\"colorbar\":{\"outlinewidth\":0,\"ticks\":\"\"},\"colorscale\":[[0.0,\"#0d0887\"],[0.1111111111111111,\"#46039f\"],[0.2222222222222222,\"#7201a8\"],[0.3333333333333333,\"#9c179e\"],[0.4444444444444444,\"#bd3786\"],[0.5555555555555556,\"#d8576b\"],[0.6666666666666666,\"#ed7953\"],[0.7777777777777778,\"#fb9f3a\"],[0.8888888888888888,\"#fdca26\"],[1.0,\"#f0f921\"]]}],\"choropleth\":[{\"type\":\"choropleth\",\"colorbar\":{\"outlinewidth\":0,\"ticks\":\"\"}}],\"histogram2d\":[{\"type\":\"histogram2d\",\"colorbar\":{\"outlinewidth\":0,\"ticks\":\"\"},\"colorscale\":[[0.0,\"#0d0887\"],[0.1111111111111111,\"#46039f\"],[0.2222222222222222,\"#7201a8\"],[0.3333333333333333,\"#9c179e\"],[0.4444444444444444,\"#bd3786\"],[0.5555555555555556,\"#d8576b\"],[0.6666666666666666,\"#ed7953\"],[0.7777777777777778,\"#fb9f3a\"],[0.8888888888888888,\"#fdca26\"],[1.0,\"#f0f921\"]]}],\"heatmap\":[{\"type\":\"heatmap\",\"colorbar\":{\"outlinewidth\":0,\"ticks\":\"\"},\"colorscale\":[[0.0,\"#0d0887\"],[0.1111111111111111,\"#46039f\"],[0.2222222222222222,\"#7201a8\"],[0.3333333333333333,\"#9c179e\"],[0.4444444444444444,\"#bd3786\"],[0.5555555555555556,\"#d8576b\"],[0.6666666666666666,\"#ed7953\"],[0.7777777777777778,\"#fb9f3a\"],[0.8888888888888888,\"#fdca26\"],[1.0,\"#f0f921\"]]}],\"heatmapgl\":[{\"type\":\"heatmapgl\",\"colorbar\":{\"outlinewidth\":0,\"ticks\":\"\"},\"colorscale\":[[0.0,\"#0d0887\"],[0.1111111111111111,\"#46039f\"],[0.2222222222222222,\"#7201a8\"],[0.3333333333333333,\"#9c179e\"],[0.4444444444444444,\"#bd3786\"],[0.5555555555555556,\"#d8576b\"],[0.6666666666666666,\"#ed7953\"],[0.7777777777777778,\"#fb9f3a\"],[0.8888888888888888,\"#fdca26\"],[1.0,\"#f0f921\"]]}],\"contourcarpet\":[{\"type\":\"contourcarpet\",\"colorbar\":{\"outlinewidth\":0,\"ticks\":\"\"}}],\"contour\":[{\"type\":\"contour\",\"colorbar\":{\"outlinewidth\":0,\"ticks\":\"\"},\"colorscale\":[[0.0,\"#0d0887\"],[0.1111111111111111,\"#46039f\"],[0.2222222222222222,\"#7201a8\"],[0.3333333333333333,\"#9c179e\"],[0.4444444444444444,\"#bd3786\"],[0.5555555555555556,\"#d8576b\"],[0.6666666666666666,\"#ed7953\"],[0.7777777777777778,\"#fb9f3a\"],[0.8888888888888888,\"#fdca26\"],[1.0,\"#f0f921\"]]}],\"surface\":[{\"type\":\"surface\",\"colorbar\":{\"outlinewidth\":0,\"ticks\":\"\"},\"colorscale\":[[0.0,\"#0d0887\"],[0.1111111111111111,\"#46039f\"],[0.2222222222222222,\"#7201a8\"],[0.3333333333333333,\"#9c179e\"],[0.4444444444444444,\"#bd3786\"],[0.5555555555555556,\"#d8576b\"],[0.6666666666666666,\"#ed7953\"],[0.7777777777777778,\"#fb9f3a\"],[0.8888888888888888,\"#fdca26\"],[1.0,\"#f0f921\"]]}],\"mesh3d\":[{\"type\":\"mesh3d\",\"colorbar\":{\"outlinewidth\":0,\"ticks\":\"\"}}],\"scatter\":[{\"fillpattern\":{\"fillmode\":\"overlay\",\"size\":10,\"solidity\":0.2},\"type\":\"scatter\"}],\"parcoords\":[{\"type\":\"parcoords\",\"line\":{\"colorbar\":{\"outlinewidth\":0,\"ticks\":\"\"}}}],\"scatterpolargl\":[{\"type\":\"scatterpolargl\",\"marker\":{\"colorbar\":{\"outlinewidth\":0,\"ticks\":\"\"}}}],\"bar\":[{\"error_x\":{\"color\":\"#2a3f5f\"},\"error_y\":{\"color\":\"#2a3f5f\"},\"marker\":{\"line\":{\"color\":\"#E5ECF6\",\"width\":0.5},\"pattern\":{\"fillmode\":\"overlay\",\"size\":10,\"solidity\":0.2}},\"type\":\"bar\"}],\"scattergeo\":[{\"type\":\"scattergeo\",\"marker\":{\"colorbar\":{\"outlinewidth\":0,\"ticks\":\"\"}}}],\"scatterpolar\":[{\"type\":\"scatterpolar\",\"marker\":{\"colorbar\":{\"outlinewidth\":0,\"ticks\":\"\"}}}],\"histogram\":[{\"marker\":{\"pattern\":{\"fillmode\":\"overlay\",\"size\":10,\"solidity\":0.2}},\"type\":\"histogram\"}],\"scattergl\":[{\"type\":\"scattergl\",\"marker\":{\"colorbar\":{\"outlinewidth\":0,\"ticks\":\"\"}}}],\"scatter3d\":[{\"type\":\"scatter3d\",\"line\":{\"colorbar\":{\"outlinewidth\":0,\"ticks\":\"\"}},\"marker\":{\"colorbar\":{\"outlinewidth\":0,\"ticks\":\"\"}}}],\"scattermapbox\":[{\"type\":\"scattermapbox\",\"marker\":{\"colorbar\":{\"outlinewidth\":0,\"ticks\":\"\"}}}],\"scatterternary\":[{\"type\":\"scatterternary\",\"marker\":{\"colorbar\":{\"outlinewidth\":0,\"ticks\":\"\"}}}],\"scattercarpet\":[{\"type\":\"scattercarpet\",\"marker\":{\"colorbar\":{\"outlinewidth\":0,\"ticks\":\"\"}}}],\"carpet\":[{\"aaxis\":{\"endlinecolor\":\"#2a3f5f\",\"gridcolor\":\"white\",\"linecolor\":\"white\",\"minorgridcolor\":\"white\",\"startlinecolor\":\"#2a3f5f\"},\"baxis\":{\"endlinecolor\":\"#2a3f5f\",\"gridcolor\":\"white\",\"linecolor\":\"white\",\"minorgridcolor\":\"white\",\"startlinecolor\":\"#2a3f5f\"},\"type\":\"carpet\"}],\"table\":[{\"cells\":{\"fill\":{\"color\":\"#EBF0F8\"},\"line\":{\"color\":\"white\"}},\"header\":{\"fill\":{\"color\":\"#C8D4E3\"},\"line\":{\"color\":\"white\"}},\"type\":\"table\"}],\"barpolar\":[{\"marker\":{\"line\":{\"color\":\"#E5ECF6\",\"width\":0.5},\"pattern\":{\"fillmode\":\"overlay\",\"size\":10,\"solidity\":0.2}},\"type\":\"barpolar\"}],\"pie\":[{\"automargin\":true,\"type\":\"pie\"}]},\"layout\":{\"autotypenumbers\":\"strict\",\"colorway\":[\"#636efa\",\"#EF553B\",\"#00cc96\",\"#ab63fa\",\"#FFA15A\",\"#19d3f3\",\"#FF6692\",\"#B6E880\",\"#FF97FF\",\"#FECB52\"],\"font\":{\"color\":\"#2a3f5f\"},\"hovermode\":\"closest\",\"hoverlabel\":{\"align\":\"left\"},\"paper_bgcolor\":\"white\",\"plot_bgcolor\":\"#E5ECF6\",\"polar\":{\"bgcolor\":\"#E5ECF6\",\"angularaxis\":{\"gridcolor\":\"white\",\"linecolor\":\"white\",\"ticks\":\"\"},\"radialaxis\":{\"gridcolor\":\"white\",\"linecolor\":\"white\",\"ticks\":\"\"}},\"ternary\":{\"bgcolor\":\"#E5ECF6\",\"aaxis\":{\"gridcolor\":\"white\",\"linecolor\":\"white\",\"ticks\":\"\"},\"baxis\":{\"gridcolor\":\"white\",\"linecolor\":\"white\",\"ticks\":\"\"},\"caxis\":{\"gridcolor\":\"white\",\"linecolor\":\"white\",\"ticks\":\"\"}},\"coloraxis\":{\"colorbar\":{\"outlinewidth\":0,\"ticks\":\"\"}},\"colorscale\":{\"sequential\":[[0.0,\"#0d0887\"],[0.1111111111111111,\"#46039f\"],[0.2222222222222222,\"#7201a8\"],[0.3333333333333333,\"#9c179e\"],[0.4444444444444444,\"#bd3786\"],[0.5555555555555556,\"#d8576b\"],[0.6666666666666666,\"#ed7953\"],[0.7777777777777778,\"#fb9f3a\"],[0.8888888888888888,\"#fdca26\"],[1.0,\"#f0f921\"]],\"sequentialminus\":[[0.0,\"#0d0887\"],[0.1111111111111111,\"#46039f\"],[0.2222222222222222,\"#7201a8\"],[0.3333333333333333,\"#9c179e\"],[0.4444444444444444,\"#bd3786\"],[0.5555555555555556,\"#d8576b\"],[0.6666666666666666,\"#ed7953\"],[0.7777777777777778,\"#fb9f3a\"],[0.8888888888888888,\"#fdca26\"],[1.0,\"#f0f921\"]],\"diverging\":[[0,\"#8e0152\"],[0.1,\"#c51b7d\"],[0.2,\"#de77ae\"],[0.3,\"#f1b6da\"],[0.4,\"#fde0ef\"],[0.5,\"#f7f7f7\"],[0.6,\"#e6f5d0\"],[0.7,\"#b8e186\"],[0.8,\"#7fbc41\"],[0.9,\"#4d9221\"],[1,\"#276419\"]]},\"xaxis\":{\"gridcolor\":\"white\",\"linecolor\":\"white\",\"ticks\":\"\",\"title\":{\"standoff\":15},\"zerolinecolor\":\"white\",\"automargin\":true,\"zerolinewidth\":2},\"yaxis\":{\"gridcolor\":\"white\",\"linecolor\":\"white\",\"ticks\":\"\",\"title\":{\"standoff\":15},\"zerolinecolor\":\"white\",\"automargin\":true,\"zerolinewidth\":2},\"scene\":{\"xaxis\":{\"backgroundcolor\":\"#E5ECF6\",\"gridcolor\":\"white\",\"linecolor\":\"white\",\"showbackground\":true,\"ticks\":\"\",\"zerolinecolor\":\"white\",\"gridwidth\":2},\"yaxis\":{\"backgroundcolor\":\"#E5ECF6\",\"gridcolor\":\"white\",\"linecolor\":\"white\",\"showbackground\":true,\"ticks\":\"\",\"zerolinecolor\":\"white\",\"gridwidth\":2},\"zaxis\":{\"backgroundcolor\":\"#E5ECF6\",\"gridcolor\":\"white\",\"linecolor\":\"white\",\"showbackground\":true,\"ticks\":\"\",\"zerolinecolor\":\"white\",\"gridwidth\":2}},\"shapedefaults\":{\"line\":{\"color\":\"#2a3f5f\"}},\"annotationdefaults\":{\"arrowcolor\":\"#2a3f5f\",\"arrowhead\":0,\"arrowwidth\":1},\"geo\":{\"bgcolor\":\"white\",\"landcolor\":\"#E5ECF6\",\"subunitcolor\":\"white\",\"showland\":true,\"showlakes\":true,\"lakecolor\":\"white\"},\"title\":{\"x\":0.05},\"mapbox\":{\"style\":\"light\"}}},\"xaxis\":{\"anchor\":\"y\",\"domain\":[0.0,1.0],\"title\":{\"text\":\"dias_permanencia\"}},\"yaxis\":{\"anchor\":\"x\",\"domain\":[0.0,1.0],\"title\":{\"text\":\"regiao_unidade_da_federacao\"}},\"coloraxis\":{\"colorbar\":{\"title\":{\"text\":\"internacoes\"}},\"colorscale\":[[0.0,\"#0d0887\"],[0.1111111111111111,\"#46039f\"],[0.2222222222222222,\"#7201a8\"],[0.3333333333333333,\"#9c179e\"],[0.4444444444444444,\"#bd3786\"],[0.5555555555555556,\"#d8576b\"],[0.6666666666666666,\"#ed7953\"],[0.7777777777777778,\"#fb9f3a\"],[0.8888888888888888,\"#fdca26\"],[1.0,\"#f0f921\"]]},\"legend\":{\"tracegroupgap\":0},\"title\":{\"text\":\"Casos de interna\\u00e7\\u00f5es e quantidade de dias de permanencia por regi\\u00e3o\"}},                        {\"responsive\": true}                    ).then(function(){\n",
       "                            \n",
       "var gd = document.getElementById('b224e5c7-c8f3-47a1-beb2-bcb5b67a76cc');\n",
       "var x = new MutationObserver(function (mutations, observer) {{\n",
       "        var display = window.getComputedStyle(gd).display;\n",
       "        if (!display || display === 'none') {{\n",
       "            console.log([gd, 'removed!']);\n",
       "            Plotly.purge(gd);\n",
       "            observer.disconnect();\n",
       "        }}\n",
       "}});\n",
       "\n",
       "// Listen for the removal of the full notebook cells\n",
       "var notebookContainer = gd.closest('#notebook-container');\n",
       "if (notebookContainer) {{\n",
       "    x.observe(notebookContainer, {childList: true});\n",
       "}}\n",
       "\n",
       "// Listen for the clearing of the current output cell\n",
       "var outputEl = gd.closest('.output');\n",
       "if (outputEl) {{\n",
       "    x.observe(outputEl, {childList: true});\n",
       "}}\n",
       "\n",
       "                        })                };                });            </script>        </div>"
      ]
     },
     "metadata": {},
     "output_type": "display_data"
    }
   ],
   "source": [
    "#dispersao de dias de permanencia por regiao, quanto maior os casos de internacoes, maior os dias de permanencia\n",
    "px.scatter(df, y='regiao_unidade_da_federacao', x='dias_permanencia', color='internacoes', hover_name='dias_permanencia',\n",
    "          title='Casos de internações e quantidade de dias de permanencia por região')"
   ]
  },
  {
   "cell_type": "code",
   "execution_count": 51,
   "metadata": {},
   "outputs": [],
   "source": [
    "#retornar o conteudo de todas as sheets para saber a mediana e a soma em resposta a pergunta 3.2 do teste\n",
    "sheets = pd.read_excel(\"case_internacao_SUS.xls\",  sheet_name=[\"dez17\",\"mar18\",\"abr18\",\"mai18\",\"jul18\",\"ago18\",\"set18\",\"nov18\",\"dez18\",\"jan19\",\"fev19\",\"abr19\",\"jun19\",\"jul19\"])"
   ]
  },
  {
   "cell_type": "code",
   "execution_count": 52,
   "metadata": {},
   "outputs": [
    {
     "data": {
      "text/plain": [
       "{'dez17':          Data Região/Unidade da Federação  Internações  AIH_aprovadas  \\\n",
       " 0  2017-12-01                Região Norte        80359          80383   \n",
       " 1  2017-12-01                 .. Rondônia         9783           9783   \n",
       " 2  2017-12-01                     .. Acre         3463           3487   \n",
       " 3  2017-12-01                 .. Amazonas        14337          14337   \n",
       " 4  2017-12-01                  .. Roraima         3513           3513   \n",
       " 5  2017-12-01                     .. Pará        40967          40967   \n",
       " 6  2017-12-01                    .. Amapá         2493           2493   \n",
       " 7  2017-12-01                .. Tocantins         5803           5803   \n",
       " 8  2017-12-01             Região Nordeste       249821         253377   \n",
       " 9  2017-12-01                 .. Maranhão        38308          38779   \n",
       " 10 2017-12-01                    .. Piauí        17763          17890   \n",
       " 11 2017-12-01                    .. Ceará        37661          38125   \n",
       " 12 2017-12-01      .. Rio Grande do Norte        12602          12820   \n",
       " 13 2017-12-01                  .. Paraíba        14998          15370   \n",
       " 14 2017-12-01               .. Pernambuco        45467          45888   \n",
       " 15 2017-12-01                  .. Alagoas        13557          14113   \n",
       " 16 2017-12-01                  .. Sergipe         6908           6971   \n",
       " 17 2017-12-01                    .. Bahia        62557          63421   \n",
       " 18 2017-12-01              Região Sudeste       370247         380182   \n",
       " 19 2017-12-01             .. Minas Gerais        98755          99588   \n",
       " 20 2017-12-01           .. Espírito Santo        20115          20166   \n",
       " 21 2017-12-01           .. Rio de Janeiro        53294          55765   \n",
       " 22 2017-12-01                .. São Paulo       198083         204663   \n",
       " 23 2017-12-01                  Região Sul       168897         170982   \n",
       " 24 2017-12-01                   .. Paraná        70396          71898   \n",
       " 25 2017-12-01           .. Santa Catarina        38118          38364   \n",
       " 26 2017-12-01        .. Rio Grande do Sul        60383          60720   \n",
       " 27 2017-12-01         Região Centro-Oeste        70277          71141   \n",
       " 28 2017-12-01       .. Mato Grosso do Sul        13411          13518   \n",
       " 29 2017-12-01              .. Mato Grosso        14931          15049   \n",
       " 30 2017-12-01                    .. Goiás        26601          27206   \n",
       " 31 2017-12-01         .. Distrito Federal        15334          15368   \n",
       " \n",
       "      Valor_total  Valor_serviços_hospitalares Val_serv_hosp_-_compl_federal  \\\n",
       " 0   6.726731e+07                 5.073042e+07                        561206   \n",
       " 1   7.507845e+06                 5.931386e+06                             -   \n",
       " 2   2.610455e+06                 1.966309e+06                             -   \n",
       " 3   1.316966e+07                 1.002011e+07                             -   \n",
       " 4   2.635287e+06                 1.986327e+06                             -   \n",
       " 5   3.442641e+07                 2.570988e+07                        524013   \n",
       " 6   1.716856e+06                 1.220961e+06                             -   \n",
       " 7   5.200789e+06                 3.895439e+06                         37193   \n",
       " 8   2.813121e+08                 2.183209e+08                   1.03534e+06   \n",
       " 9   2.943550e+07                 2.275097e+07                        164515   \n",
       " 10  1.604886e+07                 1.246070e+07                        225085   \n",
       " 11  4.550944e+07                 3.574565e+07                             -   \n",
       " 12  1.831184e+07                 1.427518e+07                             -   \n",
       " 13  1.795609e+07                 1.404491e+07                             -   \n",
       " 14  6.581992e+07                 5.218829e+07                       41705.8   \n",
       " 15  1.590317e+07                 1.234040e+07                        100843   \n",
       " 16  7.678926e+06                 5.830957e+06                       14246.1   \n",
       " 17  6.464837e+07                 4.868387e+07                        488944   \n",
       " 18  5.195994e+08                 4.142530e+08                   3.58123e+06   \n",
       " 19  1.428486e+08                 1.143035e+08                        858087   \n",
       " 20  2.549380e+07                 2.036170e+07                         55985   \n",
       " 21  7.117651e+07                 5.608307e+07                        876512   \n",
       " 22  2.800805e+08                 2.235047e+08                   1.79064e+06   \n",
       " 23  2.521644e+08                 2.023134e+08                        953762   \n",
       " 24  1.151739e+08                 9.197775e+07                        397136   \n",
       " 25  5.405579e+07                 4.283770e+07                        199044   \n",
       " 26  8.293475e+07                 6.749794e+07                        357582   \n",
       " 27  8.148492e+07                 6.419609e+07                        658832   \n",
       " 28  1.535400e+07                 1.187715e+07                       79520.4   \n",
       " 29  1.477073e+07                 1.176024e+07                             -   \n",
       " 30  3.433132e+07                 2.706606e+07                        579312   \n",
       " 31  1.702887e+07                 1.349265e+07                             -   \n",
       " \n",
       "    Val_serv_hosp_-_compl_gestor  Valor_serviços_profissionais  \\\n",
       " 0                       1100.81                   15700377.99   \n",
       " 1                             -                    1576458.95   \n",
       " 2                             -                     644145.90   \n",
       " 3                             -                    3149545.46   \n",
       " 4                             -                     648959.98   \n",
       " 5                       1100.81                    7940611.55   \n",
       " 6                             -                     495894.51   \n",
       " 7                             -                    1244761.64   \n",
       " 8                   1.22073e+06                   59580284.24   \n",
       " 9                       24223.4                    6423423.03   \n",
       " 10                            -                    3246692.34   \n",
       " 11                            -                    9763787.33   \n",
       " 12                            -                    4036658.28   \n",
       " 13                            -                    3911185.29   \n",
       " 14                            -                   13561703.42   \n",
       " 15                            -                    3406585.28   \n",
       " 16                            -                    1826528.21   \n",
       " 17                  1.19651e+06                   13403721.06   \n",
       " 18                      91942.9                   99456916.78   \n",
       " 19                      81908.3                   26803605.72   \n",
       " 20                            -                    5058412.94   \n",
       " 21                            -                   13796567.72   \n",
       " 22                      10034.6                   53798330.40   \n",
       " 23                      34602.4                   48231934.68   \n",
       " 24                            -                   22540682.67   \n",
       " 25                      34602.4                   10827029.48   \n",
       " 26                            -                   14864222.53   \n",
       " 27                      30039.5                   16279222.05   \n",
       " 28                            -                    3360387.25   \n",
       " 29                            -                    3010496.18   \n",
       " 30                      30039.5                    6372119.41   \n",
       " 31                            -                    3536219.21   \n",
       " \n",
       "    Val_serv_prof_-_compl_federal Val_serv_prof_-_compl_gestor  \\\n",
       " 0                        1100.81                       586.51   \n",
       " 1                              -                            -   \n",
       " 2                              -                            -   \n",
       " 3                              -                            -   \n",
       " 4                              -                            -   \n",
       " 5                        1100.81                       586.51   \n",
       " 6                              -                            -   \n",
       " 7                              -                            -   \n",
       " 8                    1.22073e+06                       618387   \n",
       " 9                        24223.4                            -   \n",
       " 10                             -                            -   \n",
       " 11                             -                            -   \n",
       " 12                             -                            -   \n",
       " 13                             -                            -   \n",
       " 14                             -                            -   \n",
       " 15                             -                            -   \n",
       " 16                             -                            -   \n",
       " 17                   1.19651e+06                       618387   \n",
       " 18                       91942.9                       191178   \n",
       " 19                       81908.3                       191178   \n",
       " 20                             -                            -   \n",
       " 21                             -                            -   \n",
       " 22                       10034.6                            -   \n",
       " 23                       34602.4                      5125.77   \n",
       " 24                             -                            -   \n",
       " 25                       34602.4                            -   \n",
       " 26                             -                      5125.77   \n",
       " 27                       30039.5                      14270.5   \n",
       " 28                             -                            -   \n",
       " 29                             -                            -   \n",
       " 30                       30039.5                      14270.5   \n",
       " 31                             -                            -   \n",
       " \n",
       "     Valor_médio_AIH  Valor_médio_intern  Dias_permanência  Média_permanência  \\\n",
       " 0            836.83              837.08            358295                4.5   \n",
       " 1            767.44              767.44             42043                4.3   \n",
       " 2            748.62              753.81             16660                4.8   \n",
       " 3            918.58              918.58             72629                5.1   \n",
       " 4            750.15              750.15             18231                5.2   \n",
       " 5            840.34              840.34            167386                4.1   \n",
       " 6            688.67              688.67             12648                5.1   \n",
       " 7            896.22              896.22             28698                4.9   \n",
       " 8           1110.25             1126.05           1301639                5.2   \n",
       " 9            759.06              768.39            173939                4.5   \n",
       " 10           897.09              903.50             83497                4.7   \n",
       " 11          1193.69             1208.40            212341                5.6   \n",
       " 12          1428.38             1453.09             74577                5.9   \n",
       " 13          1168.26             1197.23             86714                5.8   \n",
       " 14          1434.36             1447.64            251960                5.5   \n",
       " 15          1126.85             1173.06             73471                5.4   \n",
       " 16          1101.55             1111.60             37040                5.4   \n",
       " 17          1019.35             1033.43            308100                4.9   \n",
       " 18          1366.71             1403.39           2181114                5.9   \n",
       " 19          1434.40             1446.49            501519                5.1   \n",
       " 20          1264.20             1267.40             98158                4.9   \n",
       " 21          1276.37             1335.54            425600                8.0   \n",
       " 22          1368.50             1413.96           1155837                5.8   \n",
       " 23          1474.80             1493.01            855364                5.1   \n",
       " 24          1601.91             1636.09            313874                4.5   \n",
       " 25          1409.02             1418.12            177792                4.7   \n",
       " 26          1365.86             1373.48            363698                6.0   \n",
       " 27          1145.40             1159.48            353017                5.0   \n",
       " 28          1135.82             1144.88             61001                4.5   \n",
       " 29           981.51              989.27             66488                4.5   \n",
       " 30          1261.90             1290.60            127847                4.8   \n",
       " 31          1108.07             1110.53             97681                6.4   \n",
       " \n",
       "     Óbitos  Taxa_mortalidade  \n",
       " 0     1929              2.40  \n",
       " 1      235              2.40  \n",
       " 2      106              3.06  \n",
       " 3      403              2.81  \n",
       " 4       87              2.48  \n",
       " 5      859              2.10  \n",
       " 6       71              2.85  \n",
       " 7      168              2.90  \n",
       " 8     8859              3.55  \n",
       " 9      773              2.02  \n",
       " 10     431              2.43  \n",
       " 11    1488              3.95  \n",
       " 12     515              4.09  \n",
       " 13     677              4.51  \n",
       " 14    1967              4.33  \n",
       " 15     520              3.84  \n",
       " 16     286              4.14  \n",
       " 17    2202              3.52  \n",
       " 18   18727              5.06  \n",
       " 19    4573              4.63  \n",
       " 20     742              3.69  \n",
       " 21    3519              6.60  \n",
       " 22    9893              4.99  \n",
       " 23    7012              4.15  \n",
       " 24    2692              3.82  \n",
       " 25    1463              3.84  \n",
       " 26    2857              4.73  \n",
       " 27    2354              3.35  \n",
       " 28     466              3.47  \n",
       " 29     556              3.72  \n",
       " 30     875              3.29  \n",
       " 31     457              2.98  ,\n",
       " 'mar18':          Data Região/Unidade da Federação  Internações  AIH_aprovadas  \\\n",
       " 0  2018-03-01                Região Norte        82247          82249   \n",
       " 1  2018-03-01                 .. Rondônia        10315          10315   \n",
       " 2  2018-03-01                     .. Acre         3339           3341   \n",
       " 3  2018-03-01                 .. Amazonas        15120          15120   \n",
       " 4  2018-03-01                  .. Roraima         3567           3567   \n",
       " 5  2018-03-01                     .. Pará        40553          40553   \n",
       " 6  2018-03-01                    .. Amapá         3018           3018   \n",
       " 7  2018-03-01                .. Tocantins         6335           6335   \n",
       " 8  2018-03-01             Região Nordeste       265810         269389   \n",
       " 9  2018-03-01                 .. Maranhão        39267          39732   \n",
       " 10 2018-03-01                    .. Piauí        18425          18543   \n",
       " 11 2018-03-01                    .. Ceará        42387          42846   \n",
       " 12 2018-03-01      .. Rio Grande do Norte        14246          14465   \n",
       " 13 2018-03-01                  .. Paraíba        15614          15991   \n",
       " 14 2018-03-01               .. Pernambuco        47835          48334   \n",
       " 15 2018-03-01                  .. Alagoas        14252          14758   \n",
       " 16 2018-03-01                  .. Sergipe         7280           7337   \n",
       " 17 2018-03-01                    .. Bahia        66504          67383   \n",
       " 18 2018-03-01              Região Sudeste       394732         404171   \n",
       " 19 2018-03-01             .. Minas Gerais       105344         106139   \n",
       " 20 2018-03-01           .. Espírito Santo        19599          19666   \n",
       " 21 2018-03-01           .. Rio de Janeiro        58584          60976   \n",
       " 22 2018-03-01                .. São Paulo       211205         217390   \n",
       " 23 2018-03-01                  Região Sul       175547         177579   \n",
       " 24 2018-03-01                   .. Paraná        71795          73290   \n",
       " 25 2018-03-01           .. Santa Catarina        41757          41982   \n",
       " 26 2018-03-01        .. Rio Grande do Sul        61995          62307   \n",
       " 27 2018-03-01         Região Centro-Oeste        75886          76769   \n",
       " 28 2018-03-01       .. Mato Grosso do Sul        13502          13596   \n",
       " 29 2018-03-01              .. Mato Grosso        16674          16814   \n",
       " 30 2018-03-01                    .. Goiás        27890          28527   \n",
       " 31 2018-03-01         .. Distrito Federal        17820          17832   \n",
       " \n",
       "      Valor_total  Valor_serviços_hospitalares Val_serv_hosp_-_compl_federal  \\\n",
       " 0   6.923845e+07                 5.342298e+07                        103440   \n",
       " 1   8.867793e+06                 7.116826e+06                             -   \n",
       " 2   2.602434e+06                 1.982799e+06                             -   \n",
       " 3   1.432231e+07                 1.111656e+07                             -   \n",
       " 4   2.740424e+06                 2.035316e+06                             -   \n",
       " 5   3.290988e+07                 2.523395e+07                       60080.3   \n",
       " 6   1.882553e+06                 1.372306e+06                             -   \n",
       " 7   5.913061e+06                 4.565221e+06                       43359.7   \n",
       " 8   2.914986e+08                 2.284103e+08                        817948   \n",
       " 9   3.005092e+07                 2.328795e+07                        213845   \n",
       " 10  1.640826e+07                 1.288519e+07                       85074.5   \n",
       " 11  4.813292e+07                 3.781251e+07                       8570.02   \n",
       " 12  1.984283e+07                 1.548127e+07                             -   \n",
       " 13  1.768050e+07                 1.387829e+07                             -   \n",
       " 14  6.779266e+07                 5.368734e+07                       38358.2   \n",
       " 15  1.591332e+07                 1.240173e+07                       36395.3   \n",
       " 16  8.375279e+06                 6.453149e+06                        1023.8   \n",
       " 17  6.730194e+07                 5.252289e+07                        434681   \n",
       " 18  5.361995e+08                 4.269340e+08                   3.25417e+06   \n",
       " 19  1.498300e+08                 1.198770e+08                        681640   \n",
       " 20  2.399207e+07                 1.912816e+07                       19548.4   \n",
       " 21  7.560173e+07                 5.982552e+07                        593821   \n",
       " 22  2.867757e+08                 2.281034e+08                   1.95916e+06   \n",
       " 23  2.628208e+08                 2.104732e+08                        439804   \n",
       " 24  1.166302e+08                 9.252662e+07                       88610.3   \n",
       " 25  5.877070e+07                 4.688361e+07                       12032.5   \n",
       " 26  8.741990e+07                 7.106300e+07                        339161   \n",
       " 27  8.981340e+07                 7.146176e+07                        130264   \n",
       " 28  1.662032e+07                 1.292107e+07                       20784.8   \n",
       " 29  1.749895e+07                 1.397832e+07                             -   \n",
       " 30  3.535324e+07                 2.839983e+07                        109480   \n",
       " 31  2.034090e+07                 1.616254e+07                             -   \n",
       " \n",
       "    Val_serv_hosp_-_compl_gestor  Valor_serviços_profissionais  \\\n",
       " 0                             -                  1.565651e+07   \n",
       " 1                             -                  1.750967e+06   \n",
       " 2                             -                  6.196351e+05   \n",
       " 3                             -                  3.205745e+06   \n",
       " 4                             -                  7.051079e+05   \n",
       " 5                             -                  7.585844e+06   \n",
       " 6                             -                  5.102468e+05   \n",
       " 7                             -                  1.278968e+06   \n",
       " 8                       66702.1                  6.174255e+07   \n",
       " 9                             -                  6.450839e+06   \n",
       " 10                            -                  3.393456e+06   \n",
       " 11                            -                  1.030712e+07   \n",
       " 12                            -                  4.361564e+06   \n",
       " 13                            -                  3.802209e+06   \n",
       " 14                            -                  1.404355e+07   \n",
       " 15                            -                  3.449271e+06   \n",
       " 16                            -                  1.920589e+06   \n",
       " 17                      66702.1                  1.401395e+07   \n",
       " 18                      77857.7                  1.039934e+08   \n",
       " 19                      77636.9                  2.853738e+07   \n",
       " 20                            -                  4.837378e+06   \n",
       " 21                            -                  1.489085e+07   \n",
       " 22                        220.8                  5.572782e+07   \n",
       " 23                      55406.6                  5.160880e+07   \n",
       " 24                            -                  2.396870e+07   \n",
       " 25                      55406.6                  1.180647e+07   \n",
       " 26                            -                  1.583363e+07   \n",
       " 27                      56476.4                  1.808928e+07   \n",
       " 28                            -                  3.664402e+06   \n",
       " 29                            -                  3.520632e+06   \n",
       " 30                      56476.4                  6.725882e+06   \n",
       " 31                            -                  4.178361e+06   \n",
       " \n",
       "    Val_serv_prof_-_compl_federal Val_serv_prof_-_compl_gestor  \\\n",
       " 0                              -                            -   \n",
       " 1                              -                            -   \n",
       " 2                              -                            -   \n",
       " 3                              -                            -   \n",
       " 4                              -                            -   \n",
       " 5                              -                            -   \n",
       " 6                              -                            -   \n",
       " 7                              -                            -   \n",
       " 8                        66702.1                      45070.6   \n",
       " 9                              -                            -   \n",
       " 10                             -                            -   \n",
       " 11                             -                            -   \n",
       " 12                             -                            -   \n",
       " 13                             -                            -   \n",
       " 14                             -                            -   \n",
       " 15                             -                            -   \n",
       " 16                             -                            -   \n",
       " 17                       66702.1                      45070.6   \n",
       " 18                       77857.7                       156308   \n",
       " 19                       77636.9                       156308   \n",
       " 20                             -                            -   \n",
       " 21                             -                            -   \n",
       " 22                         220.8                            -   \n",
       " 23                       55406.6                      8541.08   \n",
       " 24                             -                            -   \n",
       " 25                       55406.6                            -   \n",
       " 26                             -                      8541.08   \n",
       " 27                       56476.4                      2920.64   \n",
       " 28                             -                            -   \n",
       " 29                             -                            -   \n",
       " 30                       56476.4                      2920.64   \n",
       " 31                             -                            -   \n",
       " \n",
       "     Valor_médio_AIH  Valor_médio_intern  Dias_permanência  Média_permanência  \\\n",
       " 0            841.82              841.84            371970                4.5   \n",
       " 1            859.70              859.70             48101                4.7   \n",
       " 2            778.94              779.41             15649                4.7   \n",
       " 3            947.24              947.24             78395                5.2   \n",
       " 4            768.27              768.27             18126                5.1   \n",
       " 5            811.53              811.53            164193                4.0   \n",
       " 6            623.78              623.78             14489                4.8   \n",
       " 7            933.40              933.40             33017                5.2   \n",
       " 8           1082.07             1096.64           1373604                5.2   \n",
       " 9            756.34              765.30            179497                4.6   \n",
       " 10           884.88              890.54             89680                4.9   \n",
       " 11          1123.39             1135.56            240779                5.7   \n",
       " 12          1371.78             1392.87             80678                5.7   \n",
       " 13          1105.65             1132.35             88168                5.6   \n",
       " 14          1402.59             1417.22            259811                5.4   \n",
       " 15          1078.28             1116.57             70656                5.0   \n",
       " 16          1141.51             1150.45             40725                5.6   \n",
       " 17           998.80             1012.00            323610                4.9   \n",
       " 18          1326.66             1358.39           2240046                5.7   \n",
       " 19          1411.64             1422.29            533778                5.1   \n",
       " 20          1219.98             1224.15             95532                4.9   \n",
       " 21          1239.86             1290.48            445792                7.6   \n",
       " 22          1319.18             1357.81           1164944                5.5   \n",
       " 23          1480.02             1497.15            870717                5.0   \n",
       " 24          1591.35             1624.49            310853                4.3   \n",
       " 25          1399.90             1407.45            191447                4.6   \n",
       " 26          1403.05             1410.11            368417                5.9   \n",
       " 27          1169.92             1183.53            380267                5.0   \n",
       " 28          1222.44             1230.95             63341                4.7   \n",
       " 29          1040.74             1049.48             75386                4.5   \n",
       " 30          1239.29             1267.60            131802                4.7   \n",
       " 31          1140.70             1141.46            109738                6.2   \n",
       " \n",
       "     Óbitos  Taxa_mortalidade  \n",
       " 0     2269              2.76  \n",
       " 1      289              2.80  \n",
       " 2       91              2.73  \n",
       " 3      492              3.25  \n",
       " 4       78              2.19  \n",
       " 5     1011              2.49  \n",
       " 6       80              2.65  \n",
       " 7      228              3.60  \n",
       " 8     9503              3.58  \n",
       " 9      874              2.23  \n",
       " 10     553              3.00  \n",
       " 11    1682              3.97  \n",
       " 12     527              3.70  \n",
       " 13     718              4.60  \n",
       " 14    1991              4.16  \n",
       " 15     463              3.25  \n",
       " 16     328              4.51  \n",
       " 17    2367              3.56  \n",
       " 18   19187              4.86  \n",
       " 19    4638              4.40  \n",
       " 20     706              3.60  \n",
       " 21    3975              6.79  \n",
       " 22    9868              4.67  \n",
       " 23    6901              3.93  \n",
       " 24    2524              3.52  \n",
       " 25    1578              3.78  \n",
       " 26    2799              4.51  \n",
       " 27    2630              3.47  \n",
       " 28     484              3.58  \n",
       " 29     623              3.74  \n",
       " 30     959              3.44  \n",
       " 31     564              3.16  ,\n",
       " 'abr18':          Data Região/Unidade da Federação  Internações  AIH_aprovadas  \\\n",
       " 0  2018-04-01                Região Norte      83222.0        83237.0   \n",
       " 1  2018-04-01                 .. Rondônia      10290.0        10290.0   \n",
       " 2  2018-04-01                     .. Acre       4237.0         4252.0   \n",
       " 3  2018-04-01                 .. Amazonas      15446.0        15446.0   \n",
       " 4  2018-04-01                  .. Roraima       3461.0         3461.0   \n",
       " 5  2018-04-01                     .. Pará      41899.0        41899.0   \n",
       " 6  2018-04-01                    .. Amapá       2723.0         2723.0   \n",
       " 7  2018-04-01                .. Tocantins       5166.0         5166.0   \n",
       " 8  2018-04-01             Região Nordeste     273419.0       276949.0   \n",
       " 9  2018-04-01                 .. Maranhão      40613.0        41053.0   \n",
       " 10 2018-04-01                    .. Piauí      18292.0        18435.0   \n",
       " 11 2018-04-01                    .. Ceará      43074.0        43494.0   \n",
       " 12 2018-04-01      .. Rio Grande do Norte      15363.0        15576.0   \n",
       " 13 2018-04-01                  .. Paraíba      15569.0        15950.0   \n",
       " 14 2018-04-01               .. Pernambuco      47612.0        48157.0   \n",
       " 15 2018-04-01                  .. Alagoas      14713.0        15183.0   \n",
       " 16 2018-04-01                  .. Sergipe       7993.0         8054.0   \n",
       " 17 2018-04-01                    .. Bahia      70190.0        71047.0   \n",
       " 18 2018-04-01              Região Sudeste     397165.0       406635.0   \n",
       " 19 2018-04-01             .. Minas Gerais     105513.0       106274.0   \n",
       " 20 2018-04-01           .. Espírito Santo      21100.0        21186.0   \n",
       " 21 2018-04-01           .. Rio de Janeiro      60348.0        62695.0   \n",
       " 22 2018-04-01                .. São Paulo     210204.0       216480.0   \n",
       " 23 2018-04-01                  Região Sul     177175.0       179208.0   \n",
       " 24 2018-04-01                   .. Paraná      73214.0        74694.0   \n",
       " 25 2018-04-01           .. Santa Catarina      41428.0        41653.0   \n",
       " 26 2018-04-01        .. Rio Grande do Sul      62533.0        62861.0   \n",
       " 27 2018-04-01         Região Centro-Oeste      75290.0        76154.0   \n",
       " 28 2018-04-01       .. Mato Grosso do Sul      13927.0        14031.0   \n",
       " 29 2018-04-01              .. Mato Grosso      16113.0        16263.0   \n",
       " 30 2018-04-01                    .. Goiás      27058.0        27636.0   \n",
       " 31 2018-04-01         .. Distrito Federal      18192.0        18224.0   \n",
       " 32        NaT                                      NaN            NaN   \n",
       " \n",
       "      Valor_total  Valor_serviços_hospitalares Val_serv_hosp_-_compl_federal  \\\n",
       " 0   7.072609e+07                 5.409773e+07                        329036   \n",
       " 1   8.871408e+06                 7.110636e+06                             -   \n",
       " 2   3.064163e+06                 2.304188e+06                             -   \n",
       " 3   1.464334e+07                 1.125966e+07                             -   \n",
       " 4   2.695485e+06                 1.993425e+06                             -   \n",
       " 5   3.505328e+07                 2.664187e+07                        290772   \n",
       " 6   1.781034e+06                 1.273657e+06                             -   \n",
       " 7   4.617379e+06                 3.514293e+06                       38264.2   \n",
       " 8   2.973002e+08                 2.328736e+08                        725770   \n",
       " 9   3.107743e+07                 2.423717e+07                        133676   \n",
       " 10  1.645526e+07                 1.294346e+07                       73668.5   \n",
       " 11  4.806199e+07                 3.777716e+07                       4226.83   \n",
       " 12  2.077481e+07                 1.618967e+07                             -   \n",
       " 13  1.837918e+07                 1.433200e+07                             -   \n",
       " 14  6.649147e+07                 5.277810e+07                       28214.1   \n",
       " 15  1.690121e+07                 1.316808e+07                       28079.2   \n",
       " 16  9.020647e+06                 7.006429e+06                        412.32   \n",
       " 17  7.013819e+07                 5.444152e+07                        457493   \n",
       " 18  5.411852e+08                 4.319260e+08                   2.83272e+06   \n",
       " 19  1.498945e+08                 1.203657e+08                        644423   \n",
       " 20  2.558075e+07                 2.041253e+07                             -   \n",
       " 21  7.599817e+07                 6.024830e+07                        469124   \n",
       " 22  2.897118e+08                 2.308995e+08                   1.71917e+06   \n",
       " 23  2.697468e+08                 2.165952e+08                        425484   \n",
       " 24  1.200610e+08                 9.569652e+07                       58294.7   \n",
       " 25  6.028883e+07                 4.825384e+07                       64303.9   \n",
       " 26  8.939694e+07                 7.264483e+07                        302885   \n",
       " 27  8.661106e+07                 6.892292e+07                        176900   \n",
       " 28  1.668203e+07                 1.308277e+07                       14157.5   \n",
       " 29  1.627985e+07                 1.297828e+07                             -   \n",
       " 30  3.312699e+07                 2.644053e+07                        162742   \n",
       " 31  2.052218e+07                 1.642133e+07                             -   \n",
       " 32           NaN                          NaN                           NaN   \n",
       " \n",
       "    Val_serv_hosp_-_compl_gestor  Valor_serviços_profissionais  \\\n",
       " 0                             -                  1.614178e+07   \n",
       " 1                             -                  1.760772e+06   \n",
       " 2                             -                  7.599758e+05   \n",
       " 3                             -                  3.383680e+06   \n",
       " 4                             -                  7.020596e+05   \n",
       " 5                             -                  7.984985e+06   \n",
       " 6                             -                  5.073771e+05   \n",
       " 7                             -                  1.042927e+06   \n",
       " 8                       29013.8                  6.326504e+07   \n",
       " 9                             -                  6.635211e+06   \n",
       " 10                            -                  3.397864e+06   \n",
       " 11                            -                  1.027827e+07   \n",
       " 12                            -                  4.585141e+06   \n",
       " 13                            -                  4.047175e+06   \n",
       " 14                            -                  1.366738e+07   \n",
       " 15                            -                  3.687758e+06   \n",
       " 16                            -                  2.013584e+06   \n",
       " 17                      29013.8                  1.495266e+07   \n",
       " 18                      99893.7                  1.044649e+08   \n",
       " 19                      99672.9                  2.818311e+07   \n",
       " 20                            -                  5.168227e+06   \n",
       " 21                            -                  1.503341e+07   \n",
       " 22                        220.8                  5.608010e+07   \n",
       " 23                      57675.4                  5.239531e+07   \n",
       " 24                            -                  2.427735e+07   \n",
       " 25                      57675.4                  1.185564e+07   \n",
       " 26                            -                  1.626232e+07   \n",
       " 27                      76685.1                  1.734232e+07   \n",
       " 28                            -                  3.577718e+06   \n",
       " 29                            -                  3.301571e+06   \n",
       " 30                      76685.1                  6.362177e+06   \n",
       " 31                            -                  4.100856e+06   \n",
       " 32                          NaN                           NaN   \n",
       " \n",
       "    Val_serv_prof_-_compl_federal Val_serv_prof_-_compl_gestor  \\\n",
       " 0                              -                            -   \n",
       " 1                              -                            -   \n",
       " 2                              -                            -   \n",
       " 3                              -                            -   \n",
       " 4                              -                            -   \n",
       " 5                              -                            -   \n",
       " 6                              -                            -   \n",
       " 7                              -                            -   \n",
       " 8                        29013.8                      27686.8   \n",
       " 9                              -                            -   \n",
       " 10                             -                            -   \n",
       " 11                             -                            -   \n",
       " 12                             -                            -   \n",
       " 13                             -                            -   \n",
       " 14                             -                            -   \n",
       " 15                             -                            -   \n",
       " 16                             -                            -   \n",
       " 17                       29013.8                      27686.8   \n",
       " 18                       99893.7                       152405   \n",
       " 19                       99672.9                       141217   \n",
       " 20                             -                            -   \n",
       " 21                             -                            -   \n",
       " 22                         220.8                      11188.2   \n",
       " 23                       57675.4                      7327.43   \n",
       " 24                             -                            -   \n",
       " 25                       57675.4                            -   \n",
       " 26                             -                      7327.43   \n",
       " 27                       76685.1                      3965.89   \n",
       " 28                             -                            -   \n",
       " 29                             -                            -   \n",
       " 30                       76685.1                      3965.89   \n",
       " 31                             -                            -   \n",
       " 32                           NaN                          NaN   \n",
       " \n",
       "     Valor_médio_AIH  Valor_médio_intern  Dias_permanência  Média_permanência  \\\n",
       " 0            849.70              849.85          378341.0                4.5   \n",
       " 1            862.14              862.14           47175.0                4.6   \n",
       " 2            720.64              723.19           19446.0                4.6   \n",
       " 3            948.03              948.03           79680.0                5.2   \n",
       " 4            778.82              778.82           18636.0                5.4   \n",
       " 5            836.61              836.61          171709.0                4.1   \n",
       " 6            654.07              654.07           14169.0                5.2   \n",
       " 7            893.80              893.80           27526.0                5.3   \n",
       " 8           1073.48             1087.34         1407868.0                5.1   \n",
       " 9            757.01              765.21          187007.0                4.6   \n",
       " 10           892.61              899.59           89659.0                4.9   \n",
       " 11          1105.03             1115.80          239420.0                5.6   \n",
       " 12          1333.77             1352.26           91424.0                6.0   \n",
       " 13          1152.30             1180.50           87485.0                5.6   \n",
       " 14          1380.72             1396.53          260462.0                5.5   \n",
       " 15          1113.17             1148.73           74924.0                5.1   \n",
       " 16          1120.02             1128.57           46971.0                5.9   \n",
       " 17           987.21              999.26          330516.0                4.7   \n",
       " 18          1330.89             1362.62         2252542.0                5.7   \n",
       " 19          1410.45             1420.63          534974.0                5.1   \n",
       " 20          1207.44             1212.36          101791.0                4.8   \n",
       " 21          1212.19             1259.33          444325.0                7.4   \n",
       " 22          1338.28             1378.24         1171452.0                5.6   \n",
       " 23          1505.22             1522.49          889864.0                5.0   \n",
       " 24          1607.37             1639.86          321244.0                4.4   \n",
       " 25          1447.41             1455.27          193997.0                4.7   \n",
       " 26          1422.14             1429.60          374623.0                6.0   \n",
       " 27          1137.31             1150.37          377026.0                5.0   \n",
       " 28          1188.94             1197.82           64229.0                4.6   \n",
       " 29          1001.04             1010.36           73605.0                4.6   \n",
       " 30          1198.69             1224.30          125777.0                4.6   \n",
       " 31          1126.11             1128.09          113415.0                6.2   \n",
       " 32              NaN                 NaN               NaN                NaN   \n",
       " \n",
       "      Óbitos  Taxa_mortalidade  \n",
       " 0    2206.0              2.65  \n",
       " 1     286.0              2.78  \n",
       " 2      97.0              2.29  \n",
       " 3     470.0              3.04  \n",
       " 4      93.0              2.69  \n",
       " 5     996.0              2.38  \n",
       " 6      96.0              3.53  \n",
       " 7     168.0              3.25  \n",
       " 8   10001.0              3.66  \n",
       " 9     979.0              2.41  \n",
       " 10    562.0              3.07  \n",
       " 11   1709.0              3.97  \n",
       " 12    594.0              3.87  \n",
       " 13    720.0              4.62  \n",
       " 14   2026.0              4.26  \n",
       " 15    544.0              3.70  \n",
       " 16    456.0              5.70  \n",
       " 17   2411.0              3.43  \n",
       " 18  19144.0              4.82  \n",
       " 19   4746.0              4.50  \n",
       " 20    763.0              3.62  \n",
       " 21   3792.0              6.28  \n",
       " 22   9843.0              4.68  \n",
       " 23   7069.0              3.99  \n",
       " 24   2603.0              3.56  \n",
       " 25   1552.0              3.75  \n",
       " 26   2914.0              4.66  \n",
       " 27   2691.0              3.57  \n",
       " 28    578.0              4.15  \n",
       " 29    650.0              4.03  \n",
       " 30    887.0              3.28  \n",
       " 31    576.0              3.17  \n",
       " 32      NaN               NaN  ,\n",
       " 'mai18':          Data Região/Unidade da Federação  Internações  AIH_aprovadas  \\\n",
       " 0  2018-05-01                Região Norte      82929.0        82959.0   \n",
       " 1  2018-05-01                 .. Rondônia      10537.0        10537.0   \n",
       " 2  2018-05-01                     .. Acre       3309.0         3339.0   \n",
       " 3  2018-05-01                 .. Amazonas      15705.0        15705.0   \n",
       " 4  2018-05-01                  .. Roraima       3504.0         3504.0   \n",
       " 5  2018-05-01                     .. Pará      41519.0        41519.0   \n",
       " 6  2018-05-01                    .. Amapá       2504.0         2504.0   \n",
       " 7  2018-05-01                .. Tocantins       5851.0         5851.0   \n",
       " 8  2018-05-01             Região Nordeste     278785.0       282269.0   \n",
       " 9  2018-05-01                 .. Maranhão      40561.0        40989.0   \n",
       " 10 2018-05-01                    .. Piauí      18548.0        18692.0   \n",
       " 11 2018-05-01                    .. Ceará      43237.0        43673.0   \n",
       " 12 2018-05-01      .. Rio Grande do Norte      15751.0        15962.0   \n",
       " 13 2018-05-01                  .. Paraíba      16364.0        16776.0   \n",
       " 14 2018-05-01               .. Pernambuco      49833.0        50351.0   \n",
       " 15 2018-05-01                  .. Alagoas      15118.0        15557.0   \n",
       " 16 2018-05-01                  .. Sergipe       8389.0         8437.0   \n",
       " 17 2018-05-01                    .. Bahia      70984.0        71832.0   \n",
       " 18 2018-05-01              Região Sudeste     401012.0       410392.0   \n",
       " 19 2018-05-01             .. Minas Gerais     105513.0       106289.0   \n",
       " 20 2018-05-01           .. Espírito Santo      21471.0        21562.0   \n",
       " 21 2018-05-01           .. Rio de Janeiro      61332.0        63696.0   \n",
       " 22 2018-05-01                .. São Paulo     212696.0       218845.0   \n",
       " 23 2018-05-01                  Região Sul     177293.0       179353.0   \n",
       " 24 2018-05-01                   .. Paraná      73085.0        74550.0   \n",
       " 25 2018-05-01           .. Santa Catarina      41710.0        41931.0   \n",
       " 26 2018-05-01        .. Rio Grande do Sul      62498.0        62872.0   \n",
       " 27 2018-05-01         Região Centro-Oeste      78386.0        79210.0   \n",
       " 28 2018-05-01       .. Mato Grosso do Sul      14360.0        14477.0   \n",
       " 29 2018-05-01              .. Mato Grosso      16591.0        16726.0   \n",
       " 30 2018-05-01                    .. Goiás      28492.0        29040.0   \n",
       " 31 2018-05-01         .. Distrito Federal      18943.0        18967.0   \n",
       " 32        NaT                                      NaN            NaN   \n",
       " \n",
       "      Valor_total  Valor_serviços_hospitalares Val_serv_hosp_-_compl_federal  \\\n",
       " 0   6.848088e+07                 5.281788e+07                        181190   \n",
       " 1   8.501602e+06                 6.815435e+06                             -   \n",
       " 2   2.276237e+06                 1.708291e+06                             -   \n",
       " 3   1.463221e+07                 1.132510e+07                             -   \n",
       " 4   2.613895e+06                 1.945396e+06                             -   \n",
       " 5   3.397313e+07                 2.611612e+07                        138926   \n",
       " 6   1.821567e+06                 1.369906e+06                             -   \n",
       " 7   4.662238e+06                 3.537622e+06                       42263.6   \n",
       " 8   3.042116e+08                 2.377207e+08                        900231   \n",
       " 9   2.948573e+07                 2.295770e+07                        105133   \n",
       " 10  1.664695e+07                 1.306787e+07                       93490.8   \n",
       " 11  4.895486e+07                 3.825375e+07                             -   \n",
       " 12  2.078904e+07                 1.616033e+07                             -   \n",
       " 13  1.856827e+07                 1.446254e+07                             -   \n",
       " 14  7.101402e+07                 5.645684e+07                       13662.2   \n",
       " 15  1.702643e+07                 1.327563e+07                       30031.4   \n",
       " 16  9.710691e+06                 7.467338e+06                       12488.7   \n",
       " 17  7.201564e+07                 5.561868e+07                        645425   \n",
       " 18  5.497315e+08                 4.393348e+08                   2.71937e+06   \n",
       " 19  1.515469e+08                 1.218227e+08                        679720   \n",
       " 20  2.704709e+07                 2.159506e+07                             -   \n",
       " 21  7.803325e+07                 6.228284e+07                        299602   \n",
       " 22  2.931043e+08                 2.336341e+08                   1.74005e+06   \n",
       " 23  2.701682e+08                 2.167728e+08                        612497   \n",
       " 24  1.213607e+08                 9.701143e+07                       39474.3   \n",
       " 25  6.065925e+07                 4.803696e+07                        218924   \n",
       " 26  8.814825e+07                 7.172445e+07                        354098   \n",
       " 27  8.732515e+07                 6.950651e+07                        158736   \n",
       " 28  1.755583e+07                 1.377211e+07                       13524.4   \n",
       " 29  1.610399e+07                 1.282917e+07                             -   \n",
       " 30  3.332192e+07                 2.665407e+07                        145212   \n",
       " 31  2.034341e+07                 1.625115e+07                             -   \n",
       " 32           NaN                          NaN                           NaN   \n",
       " \n",
       "    Val_serv_hosp_-_compl_gestor  Valor_serviços_profissionais  \\\n",
       " 0                             -                  1.540089e+07   \n",
       " 1                             -                  1.686167e+06   \n",
       " 2                             -                  5.679460e+05   \n",
       " 3                             -                  3.307103e+06   \n",
       " 4                             -                  6.684992e+05   \n",
       " 5                             -                  7.661541e+06   \n",
       " 6                             -                  4.516617e+05   \n",
       " 7                             -                  1.057970e+06   \n",
       " 8                       91563.6                  6.497123e+07   \n",
       " 9                             -                  6.366936e+06   \n",
       " 10                            -                  3.438349e+06   \n",
       " 11                            -                  1.070111e+07   \n",
       " 12                            -                  4.628713e+06   \n",
       " 13                            -                  4.105733e+06   \n",
       " 14                            -                  1.453454e+07   \n",
       " 15                            -                  3.699671e+06   \n",
       " 16                            -                  2.224731e+06   \n",
       " 17                      91563.6                  1.527145e+07   \n",
       " 18                      98585.1                  1.057354e+08   \n",
       " 19                      98585.1                  2.832016e+07   \n",
       " 20                            -                  5.452036e+06   \n",
       " 21                            -                  1.528522e+07   \n",
       " 22                            -                  5.667795e+07   \n",
       " 23                      70296.3                  5.230650e+07   \n",
       " 24                            -                  2.428576e+07   \n",
       " 25                      70296.3                  1.216033e+07   \n",
       " 26                            -                  1.586041e+07   \n",
       " 27                      39545.9                  1.753856e+07   \n",
       " 28                            -                  3.763205e+06   \n",
       " 29                            -                  3.274819e+06   \n",
       " 30                      39545.9                  6.408284e+06   \n",
       " 31                            -                  4.092253e+06   \n",
       " 32                          NaN                           NaN   \n",
       " \n",
       "    Val_serv_prof_-_compl_federal Val_serv_prof_-_compl_gestor  \\\n",
       " 0                              -                            -   \n",
       " 1                              -                            -   \n",
       " 2                              -                            -   \n",
       " 3                              -                            -   \n",
       " 4                              -                            -   \n",
       " 5                              -                            -   \n",
       " 6                              -                            -   \n",
       " 7                              -                            -   \n",
       " 8                        91563.6                      58525.8   \n",
       " 9                              -                            -   \n",
       " 10                             -                            -   \n",
       " 11                             -                            -   \n",
       " 12                             -                            -   \n",
       " 13                             -                            -   \n",
       " 14                             -                            -   \n",
       " 15                             -                            -   \n",
       " 16                             -                            -   \n",
       " 17                       91563.6                      58525.8   \n",
       " 18                       98585.1                       165271   \n",
       " 19                       98585.1                       156012   \n",
       " 20                             -                            -   \n",
       " 21                             -                            -   \n",
       " 22                             -                       9258.9   \n",
       " 23                       70296.3                       8541.9   \n",
       " 24                             -                            -   \n",
       " 25                       70296.3                            -   \n",
       " 26                             -                       8541.9   \n",
       " 27                       39545.9                      2909.77   \n",
       " 28                             -                            -   \n",
       " 29                             -                            -   \n",
       " 30                       39545.9                      2909.77   \n",
       " 31                             -                            -   \n",
       " 32                           NaN                          NaN   \n",
       " \n",
       "     Valor_médio_AIH  Valor_médio_intern  Dias_permanência  Média_permanência  \\\n",
       " 0            825.48              825.78          381375.0                4.6   \n",
       " 1            806.83              806.83           45849.0                4.4   \n",
       " 2            681.71              687.89           15859.0                4.8   \n",
       " 3            931.69              931.69           84432.0                5.4   \n",
       " 4            745.97              745.97           18456.0                5.3   \n",
       " 5            818.26              818.26          172356.0                4.2   \n",
       " 6            727.46              727.46           14947.0                6.0   \n",
       " 7            796.83              796.83           29476.0                5.0   \n",
       " 8           1077.74             1091.21         1427972.0                5.1   \n",
       " 9            719.36              726.95          183303.0                4.5   \n",
       " 10           890.59              897.51           89282.0                4.8   \n",
       " 11          1120.94             1132.24          241505.0                5.6   \n",
       " 12          1302.41             1319.86           88055.0                5.6   \n",
       " 13          1106.84             1134.70           91282.0                5.6   \n",
       " 14          1410.38             1425.04          274402.0                5.5   \n",
       " 15          1094.45             1126.24           73492.0                4.9   \n",
       " 16          1150.96             1157.55           48441.0                5.8   \n",
       " 17          1002.56             1014.53          338210.0                4.8   \n",
       " 18          1339.53             1370.86         2289823.0                5.7   \n",
       " 19          1425.80             1436.29          541701.0                5.1   \n",
       " 20          1254.39             1259.70          107610.0                5.0   \n",
       " 21          1225.09             1272.31          453975.0                7.4   \n",
       " 22          1339.32             1378.04         1186537.0                5.6   \n",
       " 23          1506.35             1523.85          903757.0                5.1   \n",
       " 24          1627.91             1660.54          325474.0                4.5   \n",
       " 25          1446.64             1454.31          199623.0                4.8   \n",
       " 26          1402.03             1410.42          378660.0                6.1   \n",
       " 27          1102.45             1114.04          389148.0                5.0   \n",
       " 28          1212.67             1222.55           69105.0                4.8   \n",
       " 29           962.81              970.65           75201.0                4.5   \n",
       " 30          1147.45             1169.52          130613.0                4.6   \n",
       " 31          1072.57             1073.93          114229.0                6.0   \n",
       " 32              NaN                 NaN               NaN                NaN   \n",
       " \n",
       "      Óbitos  Taxa_mortalidade  \n",
       " 0    2369.0              2.86  \n",
       " 1     283.0              2.69  \n",
       " 2      95.0              2.87  \n",
       " 3     533.0              3.39  \n",
       " 4     103.0              2.94  \n",
       " 5    1083.0              2.61  \n",
       " 6     105.0              4.19  \n",
       " 7     167.0              2.85  \n",
       " 8   10094.0              3.62  \n",
       " 9     980.0              2.42  \n",
       " 10    578.0              3.12  \n",
       " 11   1681.0              3.89  \n",
       " 12    565.0              3.59  \n",
       " 13    701.0              4.28  \n",
       " 14   2138.0              4.29  \n",
       " 15    568.0              3.76  \n",
       " 16    435.0              5.19  \n",
       " 17   2448.0              3.45  \n",
       " 18  20141.0              5.02  \n",
       " 19   4751.0              4.50  \n",
       " 20    792.0              3.69  \n",
       " 21   4249.0              6.93  \n",
       " 22  10349.0              4.87  \n",
       " 23   7275.0              4.10  \n",
       " 24   2633.0              3.60  \n",
       " 25   1628.0              3.90  \n",
       " 26   3014.0              4.82  \n",
       " 27   2629.0              3.35  \n",
       " 28    581.0              4.05  \n",
       " 29    535.0              3.22  \n",
       " 30    890.0              3.12  \n",
       " 31    623.0              3.29  \n",
       " 32      NaN               NaN  ,\n",
       " 'jul18':          Data Região/Unidade da Federação  Internações  AIH_aprovadas  \\\n",
       " 0  2018-07-01                Região Norte      82647.0        82664.0   \n",
       " 1  2018-07-01                 .. Rondônia       9965.0         9965.0   \n",
       " 2  2018-07-01                     .. Acre       3941.0         3958.0   \n",
       " 3  2018-07-01                 .. Amazonas      15802.0        15802.0   \n",
       " 4  2018-07-01                  .. Roraima       3661.0         3661.0   \n",
       " 5  2018-07-01                     .. Pará      40598.0        40598.0   \n",
       " 6  2018-07-01                    .. Amapá       2897.0         2897.0   \n",
       " 7  2018-07-01                .. Tocantins       5783.0         5783.0   \n",
       " 8  2018-07-01             Região Nordeste     273883.0       277210.0   \n",
       " 9  2018-07-01                 .. Maranhão      39301.0        39687.0   \n",
       " 10 2018-07-01                    .. Piauí      18206.0        18346.0   \n",
       " 11 2018-07-01                    .. Ceará      42936.0        43346.0   \n",
       " 12 2018-07-01      .. Rio Grande do Norte      15444.0        15660.0   \n",
       " 13 2018-07-01                  .. Paraíba      16113.0        16476.0   \n",
       " 14 2018-07-01               .. Pernambuco      47708.0        48180.0   \n",
       " 15 2018-07-01                  .. Alagoas      14975.0        15442.0   \n",
       " 16 2018-07-01                  .. Sergipe       8572.0         8619.0   \n",
       " 17 2018-07-01                    .. Bahia      70628.0        71454.0   \n",
       " 18 2018-07-01              Região Sudeste     397352.0       406513.0   \n",
       " 19 2018-07-01             .. Minas Gerais     106719.0       107468.0   \n",
       " 20 2018-07-01           .. Espírito Santo      20408.0        20441.0   \n",
       " 21 2018-07-01           .. Rio de Janeiro      62421.0        64770.0   \n",
       " 22 2018-07-01                .. São Paulo     207804.0       213834.0   \n",
       " 23 2018-07-01                  Região Sul     181353.0       183469.0   \n",
       " 24 2018-07-01                   .. Paraná      74451.0        75967.0   \n",
       " 25 2018-07-01           .. Santa Catarina      42849.0        43080.0   \n",
       " 26 2018-07-01        .. Rio Grande do Sul      64053.0        64422.0   \n",
       " 27 2018-07-01         Região Centro-Oeste      78781.0        79596.0   \n",
       " 28 2018-07-01       .. Mato Grosso do Sul      14634.0        14751.0   \n",
       " 29 2018-07-01              .. Mato Grosso      16499.0        16621.0   \n",
       " 30 2018-07-01                    .. Goiás      27002.0        27573.0   \n",
       " 31 2018-07-01         .. Distrito Federal      20646.0        20651.0   \n",
       " 32        NaT                                      NaN            NaN   \n",
       " \n",
       "      Valor_total  Valor_serviços_hospitalares Val_serv_hosp_-_compl_federal  \\\n",
       " 0   7.001293e+07                 5.380425e+07                        221840   \n",
       " 1   8.525500e+06                 6.842770e+06                             -   \n",
       " 2   3.126430e+06                 2.399765e+06                             -   \n",
       " 3   1.484053e+07                 1.148078e+07                             -   \n",
       " 4   2.860584e+06                 2.125258e+06                             -   \n",
       " 5   3.342000e+07                 2.554242e+07                        180619   \n",
       " 6   1.910968e+06                 1.384183e+06                             -   \n",
       " 7   5.328909e+06                 4.029076e+06                       41221.6   \n",
       " 8   3.078322e+08                 2.411871e+08                        993754   \n",
       " 9   2.944118e+07                 2.294397e+07                       8939.59   \n",
       " 10  1.639372e+07                 1.282780e+07                        126523   \n",
       " 11  4.925039e+07                 3.856066e+07                             -   \n",
       " 12  2.165239e+07                 1.699098e+07                             -   \n",
       " 13  1.927969e+07                 1.519034e+07                             -   \n",
       " 14  7.074183e+07                 5.622996e+07                        9632.7   \n",
       " 15  1.790898e+07                 1.382620e+07                        108625   \n",
       " 16  9.766114e+06                 7.558789e+06                       16869.7   \n",
       " 17  7.339790e+07                 5.705839e+07                        723164   \n",
       " 18  5.570694e+08                 4.457158e+08                    3.3274e+06   \n",
       " 19  1.566802e+08                 1.260695e+08                        790638   \n",
       " 20  2.513038e+07                 1.996904e+07                       36101.4   \n",
       " 21  8.373389e+07                 6.704090e+07                        505765   \n",
       " 22  2.915249e+08                 2.326364e+08                   1.99489e+06   \n",
       " 23  2.749820e+08                 2.211836e+08                        814417   \n",
       " 24  1.246103e+08                 9.981324e+07                       84481.3   \n",
       " 25  6.127805e+07                 4.863680e+07                        384508   \n",
       " 26  8.909369e+07                 7.273352e+07                        345427   \n",
       " 27  9.156597e+07                 7.280528e+07                        153712   \n",
       " 28  1.709088e+07                 1.328402e+07                       19329.9   \n",
       " 29  1.716367e+07                 1.372972e+07                             -   \n",
       " 30  3.500995e+07                 2.804988e+07                        134383   \n",
       " 31  2.230147e+07                 1.774166e+07                             -   \n",
       " 32           NaN                          NaN                           NaN   \n",
       " \n",
       "    Val_serv_hosp_-_compl_gestor  Valor_serviços_profissionais  \\\n",
       " 0                             -                  1.585836e+07   \n",
       " 1                             -                  1.682730e+06   \n",
       " 2                             -                  7.266654e+05   \n",
       " 3                             -                  3.359752e+06   \n",
       " 4                             -                  7.353260e+05   \n",
       " 5                             -                  7.593629e+06   \n",
       " 6                             -                  5.267846e+05   \n",
       " 7                             -                  1.233477e+06   \n",
       " 8                       23350.2                  6.511583e+07   \n",
       " 9                             -                  6.483757e+06   \n",
       " 10                            -                  3.376719e+06   \n",
       " 11                            -                  1.068973e+07   \n",
       " 12                            -                  4.661416e+06   \n",
       " 13                            -                  4.089351e+06   \n",
       " 14                            -                  1.449614e+07   \n",
       " 15                            -                  3.909388e+06   \n",
       " 16                            -                  2.182179e+06   \n",
       " 17                      23350.2                  1.522715e+07   \n",
       " 18                      79515.2                  1.058224e+08   \n",
       " 19                      79073.6                  2.906945e+07   \n",
       " 20                            -                  5.112977e+06   \n",
       " 21                            -                  1.598391e+07   \n",
       " 22                        441.6                  5.565608e+07   \n",
       " 23                      76430.5                  5.236166e+07   \n",
       " 24                            -                  2.467285e+07   \n",
       " 25                      76430.5                  1.188303e+07   \n",
       " 26                            -                  1.580578e+07   \n",
       " 27                      83382.8                  1.843964e+07   \n",
       " 28                            -                  3.776844e+06   \n",
       " 29                            -                  3.433948e+06   \n",
       " 30                      83382.8                  6.669036e+06   \n",
       " 31                            -                  4.559807e+06   \n",
       " 32                          NaN                           NaN   \n",
       " \n",
       "    Val_serv_prof_-_compl_federal Val_serv_prof_-_compl_gestor  \\\n",
       " 0                              -                            -   \n",
       " 1                              -                            -   \n",
       " 2                              -                            -   \n",
       " 3                              -                            -   \n",
       " 4                              -                            -   \n",
       " 5                              -                            -   \n",
       " 6                              -                            -   \n",
       " 7                              -                            -   \n",
       " 8                        23350.2                      25117.3   \n",
       " 9                              -                            -   \n",
       " 10                             -                            -   \n",
       " 11                             -                            -   \n",
       " 12                             -                            -   \n",
       " 13                             -                            -   \n",
       " 14                             -                            -   \n",
       " 15                             -                            -   \n",
       " 16                             -                            -   \n",
       " 17                       23350.2                      25117.3   \n",
       " 18                       79515.2                       150435   \n",
       " 19                       79073.6                       138475   \n",
       " 20                             -                            -   \n",
       " 21                             -                            -   \n",
       " 22                         441.6                      11959.7   \n",
       " 23                       76430.5                       325.69   \n",
       " 24                             -                            -   \n",
       " 25                       76430.5                            -   \n",
       " 26                             -                       325.69   \n",
       " 27                       83382.8                      4590.03   \n",
       " 28                             -                            -   \n",
       " 29                             -                            -   \n",
       " 30                       83382.8                      4590.03   \n",
       " 31                             -                            -   \n",
       " 32                           NaN                          NaN   \n",
       " \n",
       "     Valor_médio_AIH  Valor_médio_intern  Dias_permanência  Média_permanência  \\\n",
       " 0            846.96              847.13          382669.0                4.6   \n",
       " 1            855.54              855.54           43583.0                4.4   \n",
       " 2            789.90              793.31           20078.0                5.1   \n",
       " 3            939.16              939.16           82831.0                5.2   \n",
       " 4            781.37              781.37           19370.0                5.3   \n",
       " 5            823.19              823.19          171880.0                4.2   \n",
       " 6            659.64              659.64           15651.0                5.4   \n",
       " 7            921.48              921.48           29276.0                5.1   \n",
       " 8           1110.47             1123.96         1421458.0                5.2   \n",
       " 9            741.83              749.12          175070.0                4.5   \n",
       " 10           893.59              900.46           91358.0                5.0   \n",
       " 11          1136.22             1147.07          239946.0                5.6   \n",
       " 12          1382.66             1401.99           93792.0                6.1   \n",
       " 13          1170.17             1196.53           92368.0                5.7   \n",
       " 14          1468.28             1482.81          269650.0                5.7   \n",
       " 15          1159.76             1195.92           76095.0                5.1   \n",
       " 16          1133.09             1139.30           49376.0                5.8   \n",
       " 17          1027.20             1039.22          333803.0                4.7   \n",
       " 18          1370.36             1401.95         2327627.0                5.9   \n",
       " 19          1457.92             1468.16          553916.0                5.2   \n",
       " 20          1229.41             1231.40           99067.0                4.9   \n",
       " 21          1292.79             1341.44          481919.0                7.7   \n",
       " 22          1363.32             1402.88         1192725.0                5.7   \n",
       " 23          1498.79             1516.28          932552.0                5.1   \n",
       " 24          1640.32             1673.72          336596.0                4.5   \n",
       " 25          1422.42             1430.09          200894.0                4.7   \n",
       " 26          1382.97             1390.94          395062.0                6.2   \n",
       " 27          1150.38             1162.28          403446.0                5.1   \n",
       " 28          1158.62             1167.89           68662.0                4.7   \n",
       " 29          1032.65             1040.29           76040.0                4.6   \n",
       " 30          1269.72             1296.57          130266.0                4.8   \n",
       " 31          1079.92             1080.18          128478.0                6.2   \n",
       " 32              NaN                 NaN               NaN                NaN   \n",
       " \n",
       "      Óbitos  Taxa_mortalidade  \n",
       " 0    2300.0              2.78  \n",
       " 1     365.0              3.66  \n",
       " 2     128.0              3.25  \n",
       " 3     486.0              3.08  \n",
       " 4     123.0              3.36  \n",
       " 5     919.0              2.26  \n",
       " 6      84.0              2.90  \n",
       " 7     195.0              3.37  \n",
       " 8   10113.0              3.69  \n",
       " 9     885.0              2.25  \n",
       " 10    584.0              3.21  \n",
       " 11   1541.0              3.59  \n",
       " 12    600.0              3.89  \n",
       " 13    825.0              5.12  \n",
       " 14   2170.0              4.55  \n",
       " 15    516.0              3.45  \n",
       " 16    491.0              5.73  \n",
       " 17   2501.0              3.54  \n",
       " 18  21620.0              5.44  \n",
       " 19   4977.0              4.66  \n",
       " 20    827.0              4.05  \n",
       " 21   4530.0              7.26  \n",
       " 22  11286.0              5.43  \n",
       " 23   8708.0              4.80  \n",
       " 24   3105.0              4.17  \n",
       " 25   1872.0              4.37  \n",
       " 26   3731.0              5.82  \n",
       " 27   2854.0              3.62  \n",
       " 28    574.0              3.92  \n",
       " 29    649.0              3.93  \n",
       " 30    964.0              3.57  \n",
       " 31    667.0              3.23  \n",
       " 32      NaN               NaN  ,\n",
       " 'ago18':          Data Região/Unidade da Federação  Internações  AIH_aprovadas  \\\n",
       " 0  2018-08-01                Região Norte      84786.0        84804.0   \n",
       " 1  2018-08-01                 .. Rondônia      10379.0        10379.0   \n",
       " 2  2018-08-01                     .. Acre       3982.0         4000.0   \n",
       " 3  2018-08-01                 .. Amazonas      15657.0        15657.0   \n",
       " 4  2018-08-01                  .. Roraima       3739.0         3739.0   \n",
       " 5  2018-08-01                     .. Pará      41606.0        41606.0   \n",
       " 6  2018-08-01                    .. Amapá       3506.0         3506.0   \n",
       " 7  2018-08-01                .. Tocantins       5917.0         5917.0   \n",
       " 8  2018-08-01             Região Nordeste     276439.0       279609.0   \n",
       " 9  2018-08-01                 .. Maranhão      39636.0        39987.0   \n",
       " 10 2018-08-01                    .. Piauí      18546.0        18686.0   \n",
       " 11 2018-08-01                    .. Ceará      43485.0        43904.0   \n",
       " 12 2018-08-01      .. Rio Grande do Norte      14917.0        15126.0   \n",
       " 13 2018-08-01                  .. Paraíba      16558.0        16922.0   \n",
       " 14 2018-08-01               .. Pernambuco      48823.0        49297.0   \n",
       " 15 2018-08-01                  .. Alagoas      14484.0        14872.0   \n",
       " 16 2018-08-01                  .. Sergipe       8557.0         8596.0   \n",
       " 17 2018-08-01                    .. Bahia      71433.0        72219.0   \n",
       " 18 2018-08-01              Região Sudeste     400079.0       409075.0   \n",
       " 19 2018-08-01             .. Minas Gerais     105993.0       106723.0   \n",
       " 20 2018-08-01           .. Espírito Santo      20517.0        20559.0   \n",
       " 21 2018-08-01           .. Rio de Janeiro      61022.0        63277.0   \n",
       " 22 2018-08-01                .. São Paulo     212547.0       218516.0   \n",
       " 23 2018-08-01                  Região Sul     181798.0       183883.0   \n",
       " 24 2018-08-01                   .. Paraná      74103.0        75583.0   \n",
       " 25 2018-08-01           .. Santa Catarina      43170.0        43409.0   \n",
       " 26 2018-08-01        .. Rio Grande do Sul      64525.0        64891.0   \n",
       " 27 2018-08-01         Região Centro-Oeste      77118.0        77992.0   \n",
       " 28 2018-08-01       .. Mato Grosso do Sul      13642.0        13760.0   \n",
       " 29 2018-08-01              .. Mato Grosso      15367.0        15482.0   \n",
       " 30 2018-08-01                    .. Goiás      27281.0        27883.0   \n",
       " 31 2018-08-01         .. Distrito Federal      20828.0        20867.0   \n",
       " 32        NaT                                      NaN            NaN   \n",
       " \n",
       "      Valor_total  Valor_serviços_hospitalares Val_serv_hosp_-_compl_federal  \\\n",
       " 0   7.272790e+07                 5.570030e+07                        278611   \n",
       " 1   9.177611e+06                 7.374084e+06                             -   \n",
       " 2   2.998866e+06                 2.285946e+06                             -   \n",
       " 3   1.442762e+07                 1.109843e+07                             -   \n",
       " 4   2.740088e+06                 2.005695e+06                             -   \n",
       " 5   3.545649e+07                 2.693118e+07                        263705   \n",
       " 6   2.453555e+06                 1.789326e+06                             -   \n",
       " 7   5.473667e+06                 4.215629e+06                       14906.9   \n",
       " 8   3.105279e+08                 2.435526e+08                        906310   \n",
       " 9   3.025583e+07                 2.353813e+07                       1985.07   \n",
       " 10  1.705596e+07                 1.341996e+07                       77508.4   \n",
       " 11  5.052883e+07                 3.956997e+07                             -   \n",
       " 12  2.162980e+07                 1.702687e+07                             -   \n",
       " 13  1.901161e+07                 1.492161e+07                             -   \n",
       " 14  7.055434e+07                 5.597670e+07                        225675   \n",
       " 15  1.679381e+07                 1.322376e+07                       6912.69   \n",
       " 16  1.019844e+07                 7.999651e+06                       1606.52   \n",
       " 17  7.449931e+07                 5.787588e+07                        592622   \n",
       " 18  5.594468e+08                 4.481751e+08                   2.65079e+06   \n",
       " 19  1.542815e+08                 1.243958e+08                        551788   \n",
       " 20  2.600934e+07                 2.081360e+07                       15401.8   \n",
       " 21  8.045378e+07                 6.485555e+07                         79733   \n",
       " 22  2.987022e+08                 2.381101e+08                   2.00387e+06   \n",
       " 23  2.846163e+08                 2.299576e+08                        403652   \n",
       " 24  1.278745e+08                 1.026458e+08                       63566.8   \n",
       " 25  6.273091e+07                 5.010697e+07                        258297   \n",
       " 26  9.401089e+07                 7.720487e+07                       81788.6   \n",
       " 27  8.925555e+07                 7.128156e+07                       72122.6   \n",
       " 28  1.646826e+07                 1.295468e+07                       9104.59   \n",
       " 29  1.556929e+07                 1.243496e+07                             -   \n",
       " 30  3.389929e+07                 2.720564e+07                         63018   \n",
       " 31  2.331873e+07                 1.868628e+07                             -   \n",
       " 32           NaN                          NaN                           NaN   \n",
       " \n",
       "    Val_serv_hosp_-_compl_gestor  Valor_serviços_profissionais  \\\n",
       " 0                             -                  1.661772e+07   \n",
       " 1                             -                  1.803528e+06   \n",
       " 2                             -                  7.129193e+05   \n",
       " 3                             -                  3.329188e+06   \n",
       " 4                             -                  7.343931e+05   \n",
       " 5                             -                  8.139349e+06   \n",
       " 6                             -                  6.642294e+05   \n",
       " 7                             -                  1.234114e+06   \n",
       " 8                       29857.7                  6.553224e+07   \n",
       " 9                             -                  6.714710e+06   \n",
       " 10                            -                  3.519890e+06   \n",
       " 11                            -                  1.095886e+07   \n",
       " 12                            -                  4.602923e+06   \n",
       " 13                            -                  4.089994e+06   \n",
       " 14                            -                  1.421898e+07   \n",
       " 15                            -                  3.559490e+06   \n",
       " 16                            -                  2.196399e+06   \n",
       " 17                      29857.7                  1.567099e+07   \n",
       " 18                      82614.6                  1.068245e+08   \n",
       " 19                      82504.2                  2.873069e+07   \n",
       " 20                            -                  5.153690e+06   \n",
       " 21                            -                  1.547635e+07   \n",
       " 22                        110.4                  5.746377e+07   \n",
       " 23                      61368.1                  5.392322e+07   \n",
       " 24                            -                  2.513798e+07   \n",
       " 25                      61368.1                  1.209472e+07   \n",
       " 26                            -                  1.669052e+07   \n",
       " 27                      89508.8                  1.777049e+07   \n",
       " 28                            -                  3.499455e+06   \n",
       " 29                            -                  3.134327e+06   \n",
       " 30                      89508.8                  6.504256e+06   \n",
       " 31                            -                  4.632448e+06   \n",
       " 32                          NaN                           NaN   \n",
       " \n",
       "    Val_serv_prof_-_compl_federal Val_serv_prof_-_compl_gestor  \\\n",
       " 0                              -                            -   \n",
       " 1                              -                            -   \n",
       " 2                              -                            -   \n",
       " 3                              -                            -   \n",
       " 4                              -                            -   \n",
       " 5                              -                            -   \n",
       " 6                              -                            -   \n",
       " 7                              -                            -   \n",
       " 8                        29857.7                      40897.8   \n",
       " 9                              -                            -   \n",
       " 10                             -                            -   \n",
       " 11                             -                            -   \n",
       " 12                             -                            -   \n",
       " 13                             -                            -   \n",
       " 14                             -                            -   \n",
       " 15                             -                            -   \n",
       " 16                             -                            -   \n",
       " 17                       29857.7                      40897.8   \n",
       " 18                       82614.6                       142095   \n",
       " 19                       82504.2                       130135   \n",
       " 20                             -                            -   \n",
       " 21                             -                            -   \n",
       " 22                         110.4                      11959.7   \n",
       " 23                       61368.1                            -   \n",
       " 24                             -                            -   \n",
       " 25                       61368.1                            -   \n",
       " 26                             -                            -   \n",
       " 27                       89508.8                       4136.7   \n",
       " 28                             -                            -   \n",
       " 29                             -                            -   \n",
       " 30                       89508.8                       4136.7   \n",
       " 31                             -                            -   \n",
       " 32                           NaN                          NaN   \n",
       " \n",
       "     Valor_médio_AIH  Valor_médio_intern  Dias_permanência  Média_permanência  \\\n",
       " 0            857.60              857.78          397503.0                4.7   \n",
       " 1            884.25              884.25           49862.0                4.8   \n",
       " 2            749.72              753.11           20032.0                5.0   \n",
       " 3            921.48              921.48           81814.0                5.2   \n",
       " 4            732.84              732.84           18281.0                4.9   \n",
       " 5            852.20              852.20          174262.0                4.2   \n",
       " 6            699.82              699.82           19489.0                5.6   \n",
       " 7            925.07              925.07           33763.0                5.7   \n",
       " 8           1110.58             1123.31         1418297.0                5.1   \n",
       " 9            756.64              763.34          172674.0                4.4   \n",
       " 10           912.77              919.66           92535.0                5.0   \n",
       " 11          1150.89             1161.98          246006.0                5.7   \n",
       " 12          1429.97             1450.01           87446.0                5.9   \n",
       " 13          1123.48             1148.18           92214.0                5.6   \n",
       " 14          1431.21             1445.10          266496.0                5.5   \n",
       " 15          1129.22             1159.47           72118.0                5.0   \n",
       " 16          1186.42             1191.82           48829.0                5.7   \n",
       " 17          1031.57             1042.93          339979.0                4.8   \n",
       " 18          1367.59             1398.34         2284690.0                5.7   \n",
       " 19          1445.63             1455.58          547279.0                5.2   \n",
       " 20          1265.11             1267.70          101714.0                5.0   \n",
       " 21          1271.45             1318.44          452446.0                7.4   \n",
       " 22          1366.96             1405.35         1183251.0                5.6   \n",
       " 23          1547.81             1565.56          944341.0                5.2   \n",
       " 24          1691.84             1725.63          334521.0                4.5   \n",
       " 25          1445.11             1453.11          205463.0                4.8   \n",
       " 26          1448.75             1456.97          404357.0                6.3   \n",
       " 27          1144.42             1157.39          402794.0                5.2   \n",
       " 28          1196.82             1207.17           65443.0                4.8   \n",
       " 29          1005.64             1013.16           69747.0                4.5   \n",
       " 30          1215.77             1242.60          131985.0                4.8   \n",
       " 31          1117.49             1119.59          135619.0                6.5   \n",
       " 32              NaN                 NaN               NaN                NaN   \n",
       " \n",
       "      Óbitos  Taxa_mortalidade  \n",
       " 0    2300.0              2.71  \n",
       " 1     270.0              2.60  \n",
       " 2     117.0              2.94  \n",
       " 3     486.0              3.10  \n",
       " 4     104.0              2.78  \n",
       " 5    1024.0              2.46  \n",
       " 6      86.0              2.45  \n",
       " 7     213.0              3.60  \n",
       " 8    9994.0              3.62  \n",
       " 9     880.0              2.22  \n",
       " 10    463.0              2.50  \n",
       " 11   1661.0              3.82  \n",
       " 12    577.0              3.87  \n",
       " 13    785.0              4.74  \n",
       " 14   2010.0              4.12  \n",
       " 15    533.0              3.68  \n",
       " 16    409.0              4.78  \n",
       " 17   2676.0              3.75  \n",
       " 18  20724.0              5.18  \n",
       " 19   5004.0              4.72  \n",
       " 20    752.0              3.67  \n",
       " 21   4161.0              6.82  \n",
       " 22  10807.0              5.08  \n",
       " 23   8822.0              4.85  \n",
       " 24   2929.0              3.95  \n",
       " 25   2048.0              4.74  \n",
       " 26   3845.0              5.96  \n",
       " 27   2710.0              3.51  \n",
       " 28    560.0              4.10  \n",
       " 29    567.0              3.69  \n",
       " 30    919.0              3.37  \n",
       " 31    664.0              3.19  \n",
       " 32      NaN               NaN  ,\n",
       " 'set18':          Data Região/Unidade da Federação  Internações  AIH_aprovadas  \\\n",
       " 0  2018-09-01                Região Norte      83954.0        83965.0   \n",
       " 1  2018-09-01                 .. Rondônia       9494.0         9494.0   \n",
       " 2  2018-09-01                     .. Acre       3698.0         3709.0   \n",
       " 3  2018-09-01                 .. Amazonas      15803.0        15803.0   \n",
       " 4  2018-09-01                  .. Roraima       3471.0         3471.0   \n",
       " 5  2018-09-01                     .. Pará      42407.0        42407.0   \n",
       " 6  2018-09-01                    .. Amapá       3693.0         3693.0   \n",
       " 7  2018-09-01                .. Tocantins       5388.0         5388.0   \n",
       " 8  2018-09-01             Região Nordeste     265031.0       268212.0   \n",
       " 9  2018-09-01                 .. Maranhão      38514.0        38859.0   \n",
       " 10 2018-09-01                    .. Piauí      17961.0        18092.0   \n",
       " 11 2018-09-01                    .. Ceará      40642.0        41142.0   \n",
       " 12 2018-09-01      .. Rio Grande do Norte      14562.0        14764.0   \n",
       " 13 2018-09-01                  .. Paraíba      15125.0        15476.0   \n",
       " 14 2018-09-01               .. Pernambuco      46265.0        46717.0   \n",
       " 15 2018-09-01                  .. Alagoas      14857.0        15262.0   \n",
       " 16 2018-09-01                  .. Sergipe       8014.0         8014.0   \n",
       " 17 2018-09-01                    .. Bahia      69091.0        69886.0   \n",
       " 18 2018-09-01              Região Sudeste     385670.0       394568.0   \n",
       " 19 2018-09-01             .. Minas Gerais     104207.0       104937.0   \n",
       " 20 2018-09-01           .. Espírito Santo      19575.0        19636.0   \n",
       " 21 2018-09-01           .. Rio de Janeiro      58775.0        61038.0   \n",
       " 22 2018-09-01                .. São Paulo     203113.0       208957.0   \n",
       " 23 2018-09-01                  Região Sul     178122.0       180239.0   \n",
       " 24 2018-09-01                   .. Paraná      73357.0        74894.0   \n",
       " 25 2018-09-01           .. Santa Catarina      41185.0        41411.0   \n",
       " 26 2018-09-01        .. Rio Grande do Sul      63580.0        63934.0   \n",
       " 27 2018-09-01         Região Centro-Oeste      76154.0        76998.0   \n",
       " 28 2018-09-01       .. Mato Grosso do Sul      14179.0        14277.0   \n",
       " 29 2018-09-01              .. Mato Grosso      16147.0        16272.0   \n",
       " 30 2018-09-01                    .. Goiás      27826.0        28420.0   \n",
       " 31 2018-09-01         .. Distrito Federal      18002.0        18029.0   \n",
       " 32        NaT                                      NaN            NaN   \n",
       " \n",
       "      Valor_total  Valor_serviços_hospitalares Val_serv_hosp_-_compl_federal  \\\n",
       " 0   7.115572e+07                 5.390725e+07                        501662   \n",
       " 1   7.368996e+06                 5.862998e+06                             -   \n",
       " 2   2.619710e+06                 2.011796e+06                             -   \n",
       " 3   1.581896e+07                 1.223676e+07                             -   \n",
       " 4   2.689103e+06                 1.975724e+06                             -   \n",
       " 5   3.485418e+07                 2.600331e+07                        469787   \n",
       " 6   2.652283e+06                 1.915670e+06                             -   \n",
       " 7   5.152491e+06                 3.900986e+06                       31874.3   \n",
       " 8   2.961430e+08                 2.318020e+08                   1.01613e+06   \n",
       " 9   2.964543e+07                 2.312326e+07                       13845.7   \n",
       " 10  1.615245e+07                 1.266943e+07                       83640.9   \n",
       " 11  4.651984e+07                 3.637701e+07                       5685.02   \n",
       " 12  2.018987e+07                 1.566235e+07                       30660.2   \n",
       " 13  1.807079e+07                 1.418237e+07                             -   \n",
       " 14  6.680605e+07                 5.301833e+07                       26994.8   \n",
       " 15  1.811958e+07                 1.429981e+07                       17278.1   \n",
       " 16  9.121715e+06                 7.012941e+06                             -   \n",
       " 17  7.151728e+07                 5.545651e+07                        838027   \n",
       " 18  5.386757e+08                 4.308881e+08                   2.98324e+06   \n",
       " 19  1.538679e+08                 1.236119e+08                        801922   \n",
       " 20  2.468573e+07                 1.962107e+07                        115099   \n",
       " 21  7.738298e+07                 6.229660e+07                        145814   \n",
       " 22  2.827391e+08                 2.253585e+08                    1.9204e+06   \n",
       " 23  2.792346e+08                 2.249280e+08                        710784   \n",
       " 24  1.239330e+08                 9.881369e+07                        359527   \n",
       " 25  6.163689e+07                 4.933349e+07                        136362   \n",
       " 26  9.366472e+07                 7.678085e+07                        214895   \n",
       " 27  8.726975e+07                 6.935601e+07                        235708   \n",
       " 28  1.739586e+07                 1.361603e+07                       22764.2   \n",
       " 29  1.563028e+07                 1.240133e+07                             -   \n",
       " 30  3.393654e+07                 2.706912e+07                        212943   \n",
       " 31  2.030708e+07                 1.626953e+07                             -   \n",
       " 32           NaN                          NaN                           NaN   \n",
       " \n",
       "    Val_serv_hosp_-_compl_gestor  Valor_serviços_profissionais  \\\n",
       " 0                             -                  1.650029e+07   \n",
       " 1                             -                  1.505998e+06   \n",
       " 2                             -                  6.079139e+05   \n",
       " 3                             -                  3.582200e+06   \n",
       " 4                             -                  7.133791e+05   \n",
       " 5                             -                  8.153703e+06   \n",
       " 6                             -                  7.366136e+05   \n",
       " 7                             -                  1.200484e+06   \n",
       " 8                       52542.2                  6.267396e+07   \n",
       " 9                             -                  6.500859e+06   \n",
       " 10                            -                  3.357891e+06   \n",
       " 11                            -                  1.013387e+07   \n",
       " 12                      20181.3                  4.450409e+06   \n",
       " 13                            -                  3.888423e+06   \n",
       " 14                            -                  1.374598e+07   \n",
       " 15                            -                  3.792135e+06   \n",
       " 16                            -                  2.108774e+06   \n",
       " 17                      32360.9                  1.469562e+07   \n",
       " 18                      78453.3                  1.027905e+08   \n",
       " 19                      78453.3                  2.867241e+07   \n",
       " 20                            -                  4.876113e+06   \n",
       " 21                            -                  1.485841e+07   \n",
       " 22                            -                  5.438358e+07   \n",
       " 23                       104938                  5.306067e+07   \n",
       " 24                            -                  2.453062e+07   \n",
       " 25                       104938                  1.196172e+07   \n",
       " 26                            -                  1.656833e+07   \n",
       " 27                        73433                  1.747135e+07   \n",
       " 28                      2986.72                  3.739552e+06   \n",
       " 29                            -                  3.228946e+06   \n",
       " 30                      70446.3                  6.465308e+06   \n",
       " 31                            -                  4.037543e+06   \n",
       " 32                          NaN                           NaN   \n",
       " \n",
       "    Val_serv_prof_-_compl_federal Val_serv_prof_-_compl_gestor  \\\n",
       " 0                              -                            -   \n",
       " 1                              -                            -   \n",
       " 2                              -                            -   \n",
       " 3                              -                            -   \n",
       " 4                              -                            -   \n",
       " 5                              -                            -   \n",
       " 6                              -                            -   \n",
       " 7                              -                            -   \n",
       " 8                        52542.2                      56229.7   \n",
       " 9                              -                            -   \n",
       " 10                             -                            -   \n",
       " 11                             -                            -   \n",
       " 12                       20181.3                      10239.8   \n",
       " 13                             -                            -   \n",
       " 14                             -                            -   \n",
       " 15                             -                            -   \n",
       " 16                             -                            -   \n",
       " 17                       32360.9                      45989.9   \n",
       " 18                       78453.3                       181672   \n",
       " 19                       78453.3                       168169   \n",
       " 20                             -                            -   \n",
       " 21                             -                            -   \n",
       " 22                             -                      13502.9   \n",
       " 23                        104938                            -   \n",
       " 24                             -                            -   \n",
       " 25                        104938                            -   \n",
       " 26                             -                            -   \n",
       " 27                         73433                      3475.79   \n",
       " 28                       2986.72                       488.48   \n",
       " 29                             -                            -   \n",
       " 30                       70446.3                      2987.31   \n",
       " 31                             -                            -   \n",
       " 32                           NaN                          NaN   \n",
       " \n",
       "     Valor_médio_AIH  Valor_médio_intern  Dias_permanência  Média_permanência  \\\n",
       " 0            847.45              847.56          385064.0                4.6   \n",
       " 1            776.17              776.17           43865.0                4.6   \n",
       " 2            706.31              708.41           17772.0                4.8   \n",
       " 3           1001.01             1001.01           84490.0                5.3   \n",
       " 4            774.73              774.73           16463.0                4.7   \n",
       " 5            821.90              821.90          173131.0                4.1   \n",
       " 6            718.19              718.19           19848.0                5.4   \n",
       " 7            956.29              956.29           29495.0                5.5   \n",
       " 8           1104.14             1117.39         1349674.0                5.1   \n",
       " 9            762.90              769.73          169744.0                4.4   \n",
       " 10           892.80              899.31           86843.0                4.8   \n",
       " 11          1130.71             1144.62          225090.0                5.5   \n",
       " 12          1367.51             1386.48           82405.0                5.7   \n",
       " 13          1167.67             1194.76           85223.0                5.6   \n",
       " 14          1430.02             1443.99          259718.0                5.6   \n",
       " 15          1187.23             1219.60           72051.0                4.8   \n",
       " 16          1138.22             1138.22           43673.0                5.4   \n",
       " 17          1023.34             1035.12          324927.0                4.7   \n",
       " 18          1365.23             1396.73         2205862.0                5.7   \n",
       " 19          1466.29             1476.56          536576.0                5.1   \n",
       " 20          1257.17             1261.08           94676.0                4.8   \n",
       " 21          1267.78             1316.60          443295.0                7.5   \n",
       " 22          1353.10             1392.03         1131315.0                5.6   \n",
       " 23          1549.25             1567.66          923443.0                5.2   \n",
       " 24          1654.78             1689.45          328474.0                4.5   \n",
       " 25          1488.42             1496.59          194319.0                4.7   \n",
       " 26          1465.02             1473.18          400650.0                6.3   \n",
       " 27          1133.40             1145.96          375711.0                4.9   \n",
       " 28          1218.45             1226.87           66883.0                4.7   \n",
       " 29           960.56              968.00           72514.0                4.5   \n",
       " 30          1194.11             1219.60          133081.0                4.8   \n",
       " 31          1126.36             1128.05          103233.0                5.7   \n",
       " 32              NaN                 NaN               NaN                NaN   \n",
       " \n",
       "      Óbitos  Taxa_mortalidade  \n",
       " 0    2211.0              2.63  \n",
       " 1     252.0              2.65  \n",
       " 2     140.0              3.79  \n",
       " 3     462.0              2.92  \n",
       " 4     126.0              3.63  \n",
       " 5     984.0              2.32  \n",
       " 6      77.0              2.09  \n",
       " 7     170.0              3.16  \n",
       " 8    9554.0              3.60  \n",
       " 9     798.0              2.07  \n",
       " 10    495.0              2.76  \n",
       " 11   1578.0              3.88  \n",
       " 12    519.0              3.56  \n",
       " 13    696.0              4.60  \n",
       " 14   2004.0              4.33  \n",
       " 15    557.0              3.75  \n",
       " 16    357.0              4.45  \n",
       " 17   2550.0              3.69  \n",
       " 18  20007.0              5.19  \n",
       " 19   4905.0              4.71  \n",
       " 20    733.0              3.74  \n",
       " 21   4042.0              6.88  \n",
       " 22  10327.0              5.08  \n",
       " 23   8341.0              4.68  \n",
       " 24   2828.0              3.86  \n",
       " 25   1859.0              4.51  \n",
       " 26   3654.0              5.75  \n",
       " 27   2607.0              3.42  \n",
       " 28    561.0              3.96  \n",
       " 29    616.0              3.81  \n",
       " 30    944.0              3.39  \n",
       " 31    486.0              2.70  \n",
       " 32      NaN               NaN  ,\n",
       " 'nov18':          Data Região/Unidade da Federação  Internações  AIH_aprovadas  \\\n",
       " 0  2018-11-01                Região Norte      81849.0        81861.0   \n",
       " 1  2018-11-01                 .. Rondônia       9498.0         9498.0   \n",
       " 2  2018-11-01                     .. Acre       3766.0         3778.0   \n",
       " 3  2018-11-01                 .. Amazonas      15196.0        15196.0   \n",
       " 4  2018-11-01                  .. Roraima       3696.0         3696.0   \n",
       " 5  2018-11-01                     .. Pará      41006.0        41006.0   \n",
       " 6  2018-11-01                    .. Amapá       3438.0         3438.0   \n",
       " 7  2018-11-01                .. Tocantins       5249.0         5249.0   \n",
       " 8  2018-11-01             Região Nordeste     262129.0       265091.0   \n",
       " 9  2018-11-01                 .. Maranhão      38106.0        38361.0   \n",
       " 10 2018-11-01                    .. Piauí      17380.0        17506.0   \n",
       " 11 2018-11-01                    .. Ceará      40878.0        41315.0   \n",
       " 12 2018-11-01      .. Rio Grande do Norte      14480.0        14701.0   \n",
       " 13 2018-11-01                  .. Paraíba      14880.0        15149.0   \n",
       " 14 2018-11-01               .. Pernambuco      45745.0        46197.0   \n",
       " 15 2018-11-01                  .. Alagoas      14205.0        14571.0   \n",
       " 16 2018-11-01                  .. Sergipe       7518.0         7553.0   \n",
       " 17 2018-11-01                    .. Bahia      68937.0        69738.0   \n",
       " 18 2018-11-01              Região Sudeste     378554.0       387363.0   \n",
       " 19 2018-11-01             .. Minas Gerais     100308.0       101051.0   \n",
       " 20 2018-11-01           .. Espírito Santo      19328.0        19394.0   \n",
       " 21 2018-11-01           .. Rio de Janeiro      57284.0        59394.0   \n",
       " 22 2018-11-01                .. São Paulo     201634.0       207524.0   \n",
       " 23 2018-11-01                  Região Sul     175182.0       177077.0   \n",
       " 24 2018-11-01                   .. Paraná      74335.0        75725.0   \n",
       " 25 2018-11-01           .. Santa Catarina      39606.0        39827.0   \n",
       " 26 2018-11-01        .. Rio Grande do Sul      61241.0        61525.0   \n",
       " 27 2018-11-01         Região Centro-Oeste      70709.0        71575.0   \n",
       " 28 2018-11-01       .. Mato Grosso do Sul      13695.0        13799.0   \n",
       " 29 2018-11-01              .. Mato Grosso      15167.0        15299.0   \n",
       " 30 2018-11-01                    .. Goiás      26386.0        26988.0   \n",
       " 31 2018-11-01         .. Distrito Federal      15461.0        15489.0   \n",
       " 32        NaT                                      NaN            NaN   \n",
       " \n",
       "      Valor_total  Valor_serviços_hospitalares Val_serv_hosp_-_compl_federal  \\\n",
       " 0   7.109388e+07                 5.416236e+07                        573195   \n",
       " 1   8.328187e+06                 6.687975e+06                       7496.88   \n",
       " 2   3.342614e+06                 2.616741e+06                             -   \n",
       " 3   1.539116e+07                 1.189729e+07                             -   \n",
       " 4   2.771881e+06                 2.061387e+06                             -   \n",
       " 5   3.424717e+07                 2.561816e+07                        507765   \n",
       " 6   2.139142e+06                 1.534159e+06                             -   \n",
       " 7   4.873716e+06                 3.746646e+06                       57933.3   \n",
       " 8   2.954060e+08                 2.307647e+08                   1.45416e+06   \n",
       " 9   2.845992e+07                 2.219369e+07                       30323.7   \n",
       " 10  1.586916e+07                 1.240187e+07                       72589.9   \n",
       " 11  4.785002e+07                 3.762134e+07                       46815.3   \n",
       " 12  2.058126e+07                 1.592731e+07                       75653.1   \n",
       " 13  1.835040e+07                 1.438479e+07                             -   \n",
       " 14  6.437067e+07                 5.094438e+07                       91959.7   \n",
       " 15  1.692536e+07                 1.315752e+07                        115700   \n",
       " 16  9.139082e+06                 7.051906e+06                        3315.2   \n",
       " 17  7.386010e+07                 5.708185e+07                    1.0178e+06   \n",
       " 18  5.280615e+08                 4.198535e+08                   5.11454e+06   \n",
       " 19  1.448677e+08                 1.160941e+08                   1.03402e+06   \n",
       " 20  2.417008e+07                 1.893054e+07                        129675   \n",
       " 21  7.507591e+07                 5.951950e+07                        725683   \n",
       " 22  2.839478e+08                 2.253093e+08                   3.22516e+06   \n",
       " 23  2.781653e+08                 2.230784e+08                   1.46045e+06   \n",
       " 24  1.253173e+08                 9.983899e+07                        561452   \n",
       " 25  5.976666e+07                 4.747522e+07                        291175   \n",
       " 26  9.308129e+07                 7.576417e+07                        607827   \n",
       " 27  8.141411e+07                 6.460110e+07                        531316   \n",
       " 28  1.639008e+07                 1.281099e+07                         29565   \n",
       " 29  1.481311e+07                 1.180280e+07                             -   \n",
       " 30  3.369259e+07                 2.673836e+07                        501751   \n",
       " 31  1.651832e+07                 1.324896e+07                             -   \n",
       " 32           NaN                          NaN                           NaN   \n",
       " \n",
       "    Val_serv_hosp_-_compl_gestor  Valor_serviços_profissionais  \\\n",
       " 0                             -                   16072445.72   \n",
       " 1                             -                    1628627.79   \n",
       " 2                             -                     725873.23   \n",
       " 3                             -                    3493875.02   \n",
       " 4                             -                     710494.62   \n",
       " 5                             -                    7872849.14   \n",
       " 6                             -                     604982.70   \n",
       " 7                             -                    1035743.22   \n",
       " 8                       58074.1                   62348495.06   \n",
       " 9                             -                    6218743.82   \n",
       " 10                            -                    3354993.58   \n",
       " 11                            -                   10156182.86   \n",
       " 12                      32705.1                    4474361.88   \n",
       " 13                            -                    3965603.57   \n",
       " 14                            -                   13283495.53   \n",
       " 15                            -                    3586454.62   \n",
       " 16                            -                    2082286.32   \n",
       " 17                      25368.9                   15226372.88   \n",
       " 18                      81291.3                   99968257.77   \n",
       " 19                      80960.1                   26801329.22   \n",
       " 20                            -                    4990372.56   \n",
       " 21                            -                   14461342.51   \n",
       " 22                        331.2                   53715213.48   \n",
       " 23                       110901                   52671087.14   \n",
       " 24                            -                   24573496.87   \n",
       " 25                       110901                   11674218.30   \n",
       " 26                            -                   16423371.97   \n",
       " 27                      41145.2                   16007204.48   \n",
       " 28                            -                    3529023.63   \n",
       " 29                            -                    3010312.51   \n",
       " 30                      41145.2                    6198500.53   \n",
       " 31                            -                    3269367.81   \n",
       " 32                          NaN                           NaN   \n",
       " \n",
       "    Val_serv_prof_-_compl_federal Val_serv_prof_-_compl_gestor  \\\n",
       " 0                              -                            -   \n",
       " 1                              -                            -   \n",
       " 2                              -                            -   \n",
       " 3                              -                            -   \n",
       " 4                              -                            -   \n",
       " 5                              -                            -   \n",
       " 6                              -                            -   \n",
       " 7                              -                            -   \n",
       " 8                        58074.1                      61054.8   \n",
       " 9                              -                            -   \n",
       " 10                             -                            -   \n",
       " 11                             -                            -   \n",
       " 12                       32705.1                      27225.6   \n",
       " 13                             -                            -   \n",
       " 14                             -                            -   \n",
       " 15                             -                            -   \n",
       " 16                             -                            -   \n",
       " 17                       25368.9                      33829.2   \n",
       " 18                       81291.3                       162372   \n",
       " 19                       80960.1                       162372   \n",
       " 20                             -                            -   \n",
       " 21                             -                            -   \n",
       " 22                         331.2                            -   \n",
       " 23                        110901                            -   \n",
       " 24                             -                            -   \n",
       " 25                        110901                            -   \n",
       " 26                             -                            -   \n",
       " 27                       41145.2                      4033.41   \n",
       " 28                             -                            -   \n",
       " 29                             -                            -   \n",
       " 30                       41145.2                      4033.41   \n",
       " 31                             -                            -   \n",
       " 32                           NaN                          NaN   \n",
       " \n",
       "     Valor_médio_AIH  Valor_médio_intern  Dias_permanência  Média_permanência  \\\n",
       " 0            868.47              868.60          382040.0                4.7   \n",
       " 1            876.84              876.84           46239.0                4.9   \n",
       " 2            884.76              887.58           20423.0                5.4   \n",
       " 3           1012.84             1012.84           80197.0                5.3   \n",
       " 4            749.97              749.97           23120.0                6.3   \n",
       " 5            835.17              835.17          168173.0                4.1   \n",
       " 6            622.21              622.21           16494.0                4.8   \n",
       " 7            928.50              928.50           27394.0                5.2   \n",
       " 8           1114.36             1126.95         1330748.0                5.1   \n",
       " 9            741.90              746.86          168430.0                4.4   \n",
       " 10           906.50              913.07           85129.0                4.9   \n",
       " 11          1158.18             1170.56          224373.0                5.5   \n",
       " 12          1399.99             1421.36           82973.0                5.7   \n",
       " 13          1211.33             1233.23           84542.0                5.7   \n",
       " 14          1393.39             1407.16          247070.0                5.4   \n",
       " 15          1161.58             1191.51           68585.0                4.8   \n",
       " 16          1209.99             1215.63           44335.0                5.9   \n",
       " 17          1059.11             1071.41          325311.0                4.7   \n",
       " 18          1363.22             1394.94         2152053.0                5.7   \n",
       " 19          1433.61             1444.23          514046.0                5.1   \n",
       " 20          1246.27             1250.52           88870.0                4.6   \n",
       " 21          1264.03             1310.59          428662.0                7.5   \n",
       " 22          1368.26             1408.23         1120475.0                5.6   \n",
       " 23          1570.87             1587.86          888539.0                5.1   \n",
       " 24          1654.90             1685.85          324449.0                4.4   \n",
       " 25          1500.66             1509.03          184704.0                4.7   \n",
       " 26          1512.90             1519.92          379386.0                6.2   \n",
       " 27          1137.47             1151.40          352064.0                5.0   \n",
       " 28          1187.77             1196.79           62401.0                4.6   \n",
       " 29           968.24              976.67           69562.0                4.6   \n",
       " 30          1248.43             1276.91          127031.0                4.8   \n",
       " 31          1066.46             1068.39           93070.0                6.0   \n",
       " 32              NaN                 NaN               NaN                NaN   \n",
       " \n",
       "      Óbitos  Taxa_mortalidade  \n",
       " 0    2183.0              2.67  \n",
       " 1     273.0              2.87  \n",
       " 2     185.0              4.91  \n",
       " 3     467.0              3.07  \n",
       " 4     110.0              2.98  \n",
       " 5     889.0              2.17  \n",
       " 6      91.0              2.65  \n",
       " 7     168.0              3.20  \n",
       " 8    9186.0              3.50  \n",
       " 9     813.0              2.13  \n",
       " 10    513.0              2.95  \n",
       " 11   1555.0              3.80  \n",
       " 12    513.0              3.54  \n",
       " 13    720.0              4.84  \n",
       " 14   1838.0              4.02  \n",
       " 15    497.0              3.50  \n",
       " 16    347.0              4.62  \n",
       " 17   2390.0              3.47  \n",
       " 18  18713.0              4.94  \n",
       " 19   4390.0              4.38  \n",
       " 20    685.0              3.54  \n",
       " 21   3709.0              6.47  \n",
       " 22   9929.0              4.92  \n",
       " 23   7580.0              4.33  \n",
       " 24   2802.0              3.77  \n",
       " 25   1615.0              4.08  \n",
       " 26   3163.0              5.16  \n",
       " 27   2416.0              3.42  \n",
       " 28    526.0              3.84  \n",
       " 29    495.0              3.26  \n",
       " 30    881.0              3.34  \n",
       " 31    514.0              3.32  \n",
       " 32      NaN               NaN  ,\n",
       " 'dez18':          Data Região/Unidade da Federação  Internações  AIH_aprovadas  \\\n",
       " 0  2018-12-01                Região Norte      78872.0        78883.0   \n",
       " 1  2018-12-01                 .. Rondônia       9444.0         9444.0   \n",
       " 2  2018-12-01                     .. Acre       2580.0         2591.0   \n",
       " 3  2018-12-01                 .. Amazonas      15117.0        15117.0   \n",
       " 4  2018-12-01                  .. Roraima       3591.0         3591.0   \n",
       " 5  2018-12-01                     .. Pará      39340.0        39340.0   \n",
       " 6  2018-12-01                    .. Amapá       3591.0         3591.0   \n",
       " 7  2018-12-01                .. Tocantins       5209.0         5209.0   \n",
       " 8  2018-12-01             Região Nordeste     248565.0       251514.0   \n",
       " 9  2018-12-01                 .. Maranhão      37420.0        37684.0   \n",
       " 10 2018-12-01                    .. Piauí      18112.0        18234.0   \n",
       " 11 2018-12-01                    .. Ceará      39262.0        39706.0   \n",
       " 12 2018-12-01      .. Rio Grande do Norte      12567.0        12788.0   \n",
       " 13 2018-12-01                  .. Paraíba      14230.0        14436.0   \n",
       " 14 2018-12-01               .. Pernambuco      43396.0        43839.0   \n",
       " 15 2018-12-01                  .. Alagoas      13443.0        13831.0   \n",
       " 16 2018-12-01                  .. Sergipe       7109.0         7161.0   \n",
       " 17 2018-12-01                    .. Bahia      63026.0        63835.0   \n",
       " 18 2018-12-01              Região Sudeste     369628.0       378544.0   \n",
       " 19 2018-12-01             .. Minas Gerais     100584.0       101335.0   \n",
       " 20 2018-12-01           .. Espírito Santo      18887.0        18969.0   \n",
       " 21 2018-12-01           .. Rio de Janeiro      52664.0        54733.0   \n",
       " 22 2018-12-01                .. São Paulo     197493.0       203507.0   \n",
       " 23 2018-12-01                  Região Sul     167175.0       169108.0   \n",
       " 24 2018-12-01                   .. Paraná      69396.0        70796.0   \n",
       " 25 2018-12-01           .. Santa Catarina      38206.0        38419.0   \n",
       " 26 2018-12-01        .. Rio Grande do Sul      59573.0        59893.0   \n",
       " 27 2018-12-01         Região Centro-Oeste      68623.0        69479.0   \n",
       " 28 2018-12-01       .. Mato Grosso do Sul      13117.0        13220.0   \n",
       " 29 2018-12-01              .. Mato Grosso      14796.0        14917.0   \n",
       " 30 2018-12-01                    .. Goiás      26818.0        27418.0   \n",
       " 31 2018-12-01         .. Distrito Federal      13892.0        13924.0   \n",
       " 32        NaT                                      NaN            NaN   \n",
       " \n",
       "      Valor_total  Valor_serviços_hospitalares Val_serv_hosp_-_compl_federal  \\\n",
       " 0   6.972169e+07                 5.293635e+07                        291149   \n",
       " 1   8.408513e+06                 6.675324e+06                       7333.27   \n",
       " 2   2.123426e+06                 1.622439e+06                             -   \n",
       " 3   1.415436e+07                 1.086942e+07                             -   \n",
       " 4   2.938769e+06                 2.138799e+06                             -   \n",
       " 5   3.412123e+07                 2.567429e+07                        232067   \n",
       " 6   2.654305e+06                 1.918191e+06                             -   \n",
       " 7   5.321091e+06                 4.037895e+06                       51748.5   \n",
       " 8   2.810887e+08                 2.197277e+08                   1.34764e+06   \n",
       " 9   2.959627e+07                 2.316082e+07                       48919.3   \n",
       " 10  1.703795e+07                 1.325272e+07                        147433   \n",
       " 11  4.527497e+07                 3.537612e+07                       53734.2   \n",
       " 12  1.722689e+07                 1.319336e+07                        113246   \n",
       " 13  1.741356e+07                 1.367211e+07                             -   \n",
       " 14  6.331963e+07                 5.024784e+07                        188875   \n",
       " 15  1.576509e+07                 1.220642e+07                       68839.7   \n",
       " 16  8.405179e+06                 6.479308e+06                       7076.01   \n",
       " 17  6.704913e+07                 5.213897e+07                        719522   \n",
       " 18  5.256797e+08                 4.184654e+08                   4.97533e+06   \n",
       " 19  1.467122e+08                 1.171931e+08                   1.28565e+06   \n",
       " 20  2.450206e+07                 1.939472e+07                       90611.5   \n",
       " 21  7.128643e+07                 5.691944e+07                        563960   \n",
       " 22  2.831790e+08                 2.249581e+08                   3.03511e+06   \n",
       " 23  2.622882e+08                 2.104483e+08                   1.41437e+06   \n",
       " 24  1.175288e+08                 9.416859e+07                        367168   \n",
       " 25  5.570871e+07                 4.413386e+07                        300350   \n",
       " 26  8.905071e+07                 7.214585e+07                        746856   \n",
       " 27  7.949316e+07                 6.302567e+07                        548318   \n",
       " 28  1.535089e+07                 1.200423e+07                       19736.9   \n",
       " 29  1.383421e+07                 1.097985e+07                             -   \n",
       " 30  3.633755e+07                 2.881366e+07                        528581   \n",
       " 31  1.397051e+07                 1.122792e+07                             -   \n",
       " 32           NaN                          NaN                           NaN   \n",
       " \n",
       "    Val_serv_hosp_-_compl_gestor  Valor_serviços_profissionais  \\\n",
       " 0                             -                   16317513.68   \n",
       " 1                             -                    1720477.75   \n",
       " 2                             -                     500987.12   \n",
       " 3                             -                    3284947.28   \n",
       " 4                             -                     799970.74   \n",
       " 5                             -                    8072612.58   \n",
       " 6                             -                     736113.33   \n",
       " 7                             -                    1202404.88   \n",
       " 8                       54465.2                   59198828.80   \n",
       " 9                             -                    6369130.02   \n",
       " 10                            -                    3556437.62   \n",
       " 11                            -                    9817633.86   \n",
       " 12                      33000.3                    3802942.44   \n",
       " 13                            -                    3741451.28   \n",
       " 14                            -                   12780131.37   \n",
       " 15                            -                    3449202.62   \n",
       " 16                            -                    1915228.67   \n",
       " 17                      21464.8                   13766670.92   \n",
       " 18                      69207.8                   99184853.71   \n",
       " 19                      69207.8                   27166105.23   \n",
       " 20                            -                    4927374.81   \n",
       " 21                            -                   13533014.46   \n",
       " 22                            -                   53558359.21   \n",
       " 23                      68469.6                   49581470.58   \n",
       " 24                            -                   22801687.79   \n",
       " 25                      68469.6                   10974912.92   \n",
       " 26                            -                   15804869.87   \n",
       " 27                      87189.1                   15585070.59   \n",
       " 28                            -                    3312045.63   \n",
       " 29                            -                    2854355.42   \n",
       " 30                      87189.1                    6676081.84   \n",
       " 31                            -                    2742587.70   \n",
       " 32                          NaN                           NaN   \n",
       " \n",
       "    Val_serv_prof_-_compl_federal Val_serv_prof_-_compl_gestor  \\\n",
       " 0                              -                            -   \n",
       " 1                              -                            -   \n",
       " 2                              -                            -   \n",
       " 3                              -                            -   \n",
       " 4                              -                            -   \n",
       " 5                              -                            -   \n",
       " 6                              -                            -   \n",
       " 7                              -                            -   \n",
       " 8                        54465.2                        49612   \n",
       " 9                              -                            -   \n",
       " 10                             -                            -   \n",
       " 11                             -                            -   \n",
       " 12                       33000.3                      21203.5   \n",
       " 13                             -                            -   \n",
       " 14                             -                            -   \n",
       " 15                             -                            -   \n",
       " 16                             -                            -   \n",
       " 17                       21464.8                      28408.5   \n",
       " 18                       69207.8                       140958   \n",
       " 19                       69207.8                       140958   \n",
       " 20                             -                            -   \n",
       " 21                             -                            -   \n",
       " 22                             -                            -   \n",
       " 23                       68469.6                            -   \n",
       " 24                             -                            -   \n",
       " 25                       68469.6                            -   \n",
       " 26                             -                            -   \n",
       " 27                       87189.1                      9267.95   \n",
       " 28                             -                            -   \n",
       " 29                             -                            -   \n",
       " 30                       87189.1                      9267.95   \n",
       " 31                             -                            -   \n",
       " 32                           NaN                          NaN   \n",
       " \n",
       "     Valor_médio_AIH  Valor_médio_intern  Dias_permanência  Média_permanência  \\\n",
       " 0            883.86              883.99          359338.0                4.6   \n",
       " 1            890.36              890.36           44186.0                4.7   \n",
       " 2            819.54              823.03           12900.0                5.0   \n",
       " 3            936.32              936.32           77161.0                5.1   \n",
       " 4            818.37              818.37           19346.0                5.4   \n",
       " 5            867.34              867.34          160348.0                4.1   \n",
       " 6            739.15              739.15           17692.0                4.9   \n",
       " 7           1021.52             1021.52           27705.0                5.3   \n",
       " 8           1117.59             1130.85         1274889.0                5.1   \n",
       " 9            785.38              790.92          175421.0                4.7   \n",
       " 10           934.41              940.70           87254.0                4.8   \n",
       " 11          1140.26             1153.15          217626.0                5.5   \n",
       " 12          1347.11             1370.80           69879.0                5.6   \n",
       " 13          1206.26             1223.72           79608.0                5.6   \n",
       " 14          1444.37             1459.11          241999.0                5.6   \n",
       " 15          1139.84             1172.74           65346.0                4.9   \n",
       " 16          1173.74             1182.33           40940.0                5.8   \n",
       " 17          1050.35             1063.83          296816.0                4.7   \n",
       " 18          1388.69             1422.19         2107254.0                5.7   \n",
       " 19          1447.79             1458.60          508841.0                5.1   \n",
       " 20          1291.69             1297.30           93784.0                5.0   \n",
       " 21          1302.44             1353.61          387438.0                7.4   \n",
       " 22          1391.50             1433.87         1117191.0                5.7   \n",
       " 23          1551.01             1568.94          851396.0                5.1   \n",
       " 24          1660.10             1693.60          310115.0                4.5   \n",
       " 25          1450.03             1458.11          175483.0                4.6   \n",
       " 26          1486.83             1494.82          365798.0                6.1   \n",
       " 27          1144.13             1158.40          342731.0                5.0   \n",
       " 28          1161.19             1170.31           62002.0                4.7   \n",
       " 29           927.41              935.00           67471.0                4.6   \n",
       " 30          1325.32             1354.97          131314.0                4.9   \n",
       " 31          1003.34             1005.65           81944.0                5.9   \n",
       " 32              NaN                 NaN               NaN                NaN   \n",
       " \n",
       "      Óbitos  Taxa_mortalidade  \n",
       " 0    2165.0              2.74  \n",
       " 1     283.0              3.00  \n",
       " 2     111.0              4.30  \n",
       " 3     496.0              3.28  \n",
       " 4     102.0              2.84  \n",
       " 5     961.0              2.44  \n",
       " 6      82.0              2.28  \n",
       " 7     130.0              2.50  \n",
       " 8    8900.0              3.58  \n",
       " 9     857.0              2.29  \n",
       " 10    464.0              2.56  \n",
       " 11   1484.0              3.78  \n",
       " 12    465.0              3.70  \n",
       " 13    599.0              4.21  \n",
       " 14   1858.0              4.28  \n",
       " 15    536.0              3.99  \n",
       " 16    378.0              5.32  \n",
       " 17   2259.0              3.58  \n",
       " 18  18908.0              5.12  \n",
       " 19   4543.0              4.52  \n",
       " 20    614.0              3.25  \n",
       " 21   3646.0              6.92  \n",
       " 22  10105.0              5.12  \n",
       " 23   7081.0              4.24  \n",
       " 24   2608.0              3.76  \n",
       " 25   1552.0              4.06  \n",
       " 26   2921.0              4.90  \n",
       " 27   2227.0              3.25  \n",
       " 28    461.0              3.51  \n",
       " 29    476.0              3.22  \n",
       " 30    925.0              3.45  \n",
       " 31    365.0              2.63  \n",
       " 32      NaN               NaN  ,\n",
       " 'jan19':          Data Região/Unidade da Federação  Internações  AIH_aprovadas  \\\n",
       " 0  2019-01-01                Região Norte      81136.0        81136.0   \n",
       " 1  2019-01-01                 .. Rondônia       9705.0         9705.0   \n",
       " 2  2019-01-01                     .. Acre       3284.0         3284.0   \n",
       " 3  2019-01-01                 .. Amazonas      17444.0        17444.0   \n",
       " 4  2019-01-01                  .. Roraima       3274.0         3274.0   \n",
       " 5  2019-01-01                     .. Pará      38091.0        38091.0   \n",
       " 6  2019-01-01                    .. Amapá       3640.0         3640.0   \n",
       " 7  2019-01-01                .. Tocantins       5698.0         5698.0   \n",
       " 8  2019-01-01             Região Nordeste     263730.0       266865.0   \n",
       " 9  2019-01-01                 .. Maranhão      38717.0        39018.0   \n",
       " 10 2019-01-01                    .. Piauí      17601.0        17724.0   \n",
       " 11 2019-01-01                    .. Ceará      44176.0        44578.0   \n",
       " 12 2019-01-01      .. Rio Grande do Norte      14764.0        14981.0   \n",
       " 13 2019-01-01                  .. Paraíba      14803.0        15138.0   \n",
       " 14 2019-01-01               .. Pernambuco      45812.0        46267.0   \n",
       " 15 2019-01-01                  .. Alagoas      13509.0        13936.0   \n",
       " 16 2019-01-01                  .. Sergipe       7888.0         7931.0   \n",
       " 17 2019-01-01                    .. Bahia      66460.0        67292.0   \n",
       " 18 2019-01-01              Região Sudeste     388543.0       397101.0   \n",
       " 19 2019-01-01             .. Minas Gerais     102950.0       103700.0   \n",
       " 20 2019-01-01           .. Espírito Santo      19382.0        19460.0   \n",
       " 21 2019-01-01           .. Rio de Janeiro      60470.0        62412.0   \n",
       " 22 2019-01-01                .. São Paulo     205741.0       211529.0   \n",
       " 23 2019-01-01                  Região Sul     172712.0       174638.0   \n",
       " 24 2019-01-01                   .. Paraná      72424.0        73808.0   \n",
       " 25 2019-01-01           .. Santa Catarina      40755.0        40966.0   \n",
       " 26 2019-01-01        .. Rio Grande do Sul      59533.0        59864.0   \n",
       " 27 2019-01-01         Região Centro-Oeste      74375.0        75153.0   \n",
       " 28 2019-01-01       .. Mato Grosso do Sul      14192.0        14284.0   \n",
       " 29 2019-01-01              .. Mato Grosso      14777.0        14880.0   \n",
       " 30 2019-01-01                    .. Goiás      27005.0        27573.0   \n",
       " 31 2019-01-01         .. Distrito Federal      18401.0        18416.0   \n",
       " 32        NaT                                      NaN            NaN   \n",
       " \n",
       "      Valor_total  Valor_serviços_hospitalares Val_serv_hosp_-_compl_federal  \\\n",
       " 0   7.346175e+07                 5.684536e+07                       17231.6   \n",
       " 1   9.350758e+06                 7.495929e+06                             -   \n",
       " 2   2.664655e+06                 2.052807e+06                             -   \n",
       " 3   1.679140e+07                 1.297918e+07                             -   \n",
       " 4   2.527889e+06                 1.872303e+06                             -   \n",
       " 5   3.378617e+07                 2.604422e+07                        800.96   \n",
       " 6   2.549806e+06                 1.869383e+06                             -   \n",
       " 7   5.791080e+06                 4.531538e+06                       16430.7   \n",
       " 8   2.995242e+08                 2.368431e+08                        327116   \n",
       " 9   3.059738e+07                 2.401958e+07                             -   \n",
       " 10  1.588252e+07                 1.253823e+07                       42192.5   \n",
       " 11  4.945140e+07                 3.880914e+07                       96463.7   \n",
       " 12  2.250265e+07                 1.779311e+07                       21609.1   \n",
       " 13  1.869705e+07                 1.481042e+07                             -   \n",
       " 14  6.673613e+07                 5.323785e+07                       58233.3   \n",
       " 15  1.585862e+07                 1.247816e+07                             -   \n",
       " 16  9.870763e+06                 7.737130e+06                             -   \n",
       " 17  6.992769e+07                 5.541947e+07                        108618   \n",
       " 18  5.573891e+08                 4.501105e+08                   1.26739e+06   \n",
       " 19  1.540628e+08                 1.250944e+08                        224175   \n",
       " 20  2.500541e+07                 2.014216e+07                       3859.68   \n",
       " 21  8.014080e+07                 6.430378e+07                        400574   \n",
       " 22  2.981801e+08                 2.405702e+08                        638777   \n",
       " 23  2.710226e+08                 2.189008e+08                        318368   \n",
       " 24  1.224609e+08                 9.832092e+07                       14107.1   \n",
       " 25  5.889697e+07                 4.702081e+07                        132451   \n",
       " 26  8.966470e+07                 7.355906e+07                        171810   \n",
       " 27  8.663436e+07                 6.926951e+07                        119445   \n",
       " 28  1.710872e+07                 1.332232e+07                         12466   \n",
       " 29  1.420421e+07                 1.136426e+07                             -   \n",
       " 30  3.512928e+07                 2.831381e+07                        106979   \n",
       " 31  2.019215e+07                 1.626912e+07                             -   \n",
       " 32           NaN                          NaN                           NaN   \n",
       " \n",
       "    Val_serv_hosp_-_compl_gestor  Valor_serviços_profissionais  \\\n",
       " 0                             -                  1.658991e+07   \n",
       " 1                             -                  1.854829e+06   \n",
       " 2                             -                  6.118477e+05   \n",
       " 3                             -                  3.812222e+06   \n",
       " 4                             -                  6.555856e+05   \n",
       " 5                             -                  7.740739e+06   \n",
       " 6                             -                  6.804224e+05   \n",
       " 7                             -                  1.234266e+06   \n",
       " 8                       41044.5                  6.210439e+07   \n",
       " 9                             -                  6.577802e+06   \n",
       " 10                            -                  3.276792e+06   \n",
       " 11                            -                  1.049801e+07   \n",
       " 12                      26015.6                  4.633417e+06   \n",
       " 13                            -                  3.886628e+06   \n",
       " 14                            -                  1.340721e+07   \n",
       " 15                            -                  3.380457e+06   \n",
       " 16                            -                  2.133633e+06   \n",
       " 17                      15028.9                  1.431043e+07   \n",
       " 18                      76827.2                  1.050797e+08   \n",
       " 19                      76827.2                  2.835517e+07   \n",
       " 20                            -                  4.856845e+06   \n",
       " 21                            -                  1.524720e+07   \n",
       " 22                            -                  5.662044e+07   \n",
       " 23                         4675                  5.162730e+07   \n",
       " 24                            -                  2.411734e+07   \n",
       " 25                         4675                  1.165085e+07   \n",
       " 26                            -                  1.585911e+07   \n",
       " 27                      66959.1                  1.710780e+07   \n",
       " 28                            -                  3.765377e+06   \n",
       " 29                            -                  2.839952e+06   \n",
       " 30                      66959.1                  6.579438e+06   \n",
       " 31                            -                  3.923035e+06   \n",
       " 32                          NaN                           NaN   \n",
       " \n",
       "    Val_serv_prof_-_compl_federal Val_serv_prof_-_compl_gestor  \\\n",
       " 0                              -                            -   \n",
       " 1                              -                            -   \n",
       " 2                              -                            -   \n",
       " 3                              -                            -   \n",
       " 4                              -                            -   \n",
       " 5                              -                            -   \n",
       " 6                              -                            -   \n",
       " 7                              -                            -   \n",
       " 8                        41044.5                      34607.1   \n",
       " 9                              -                            -   \n",
       " 10                             -                            -   \n",
       " 11                             -                            -   \n",
       " 12                       26015.6                      15908.4   \n",
       " 13                             -                            -   \n",
       " 14                             -                            -   \n",
       " 15                             -                            -   \n",
       " 16                             -                            -   \n",
       " 17                       15028.9                      18698.7   \n",
       " 18                       76827.2                       147614   \n",
       " 19                       76827.2                       147614   \n",
       " 20                             -                            -   \n",
       " 21                             -                            -   \n",
       " 22                             -                            -   \n",
       " 23                          4675                            -   \n",
       " 24                             -                            -   \n",
       " 25                          4675                            -   \n",
       " 26                             -                            -   \n",
       " 27                       66959.1                      7583.75   \n",
       " 28                             -                            -   \n",
       " 29                             -                            -   \n",
       " 30                       66959.1                      7583.75   \n",
       " 31                             -                            -   \n",
       " 32                           NaN                          NaN   \n",
       " \n",
       "     Valor_médio_AIH  Valor_médio_intern  Dias_permanência  Média_permanência  \\\n",
       " 0            905.41              905.41          392780.0                4.8   \n",
       " 1            963.50              963.50           50638.0                5.2   \n",
       " 2            811.41              811.41           15896.0                4.8   \n",
       " 3            962.59              962.59           88946.0                5.1   \n",
       " 4            772.11              772.11           22204.0                6.8   \n",
       " 5            886.99              886.99          162430.0                4.3   \n",
       " 6            700.50              700.50           20383.0                5.6   \n",
       " 7           1016.34             1016.34           32283.0                5.7   \n",
       " 8           1122.38             1135.72         1388005.0                5.3   \n",
       " 9            784.19              790.28          178890.0                4.6   \n",
       " 10           896.10              902.36           84633.0                4.8   \n",
       " 11          1109.32             1119.42          242101.0                5.5   \n",
       " 12          1502.08             1524.16           98414.0                6.7   \n",
       " 13          1235.11             1263.06           87187.0                5.9   \n",
       " 14          1442.41             1456.74          259221.0                5.7   \n",
       " 15          1137.96             1173.93           69028.0                5.1   \n",
       " 16          1244.58             1251.36           47298.0                6.0   \n",
       " 17          1039.17             1052.18          321233.0                4.8   \n",
       " 18          1403.65             1434.56         2282499.0                5.9   \n",
       " 19          1485.66             1496.48          539634.0                5.2   \n",
       " 20          1284.96             1290.14           99934.0                5.2   \n",
       " 21          1284.06             1325.30          457925.0                7.6   \n",
       " 22          1409.64             1449.30         1185006.0                5.8   \n",
       " 23          1551.91             1569.22          876787.0                5.1   \n",
       " 24          1659.18             1690.89          320396.0                4.4   \n",
       " 25          1437.70             1445.15          188448.0                4.6   \n",
       " 26          1497.81             1506.13          367943.0                6.2   \n",
       " 27          1152.77             1164.83          384102.0                5.2   \n",
       " 28          1197.75             1205.52           66114.0                4.7   \n",
       " 29           954.58              961.24           66823.0                4.5   \n",
       " 30          1274.05             1300.84          132721.0                4.9   \n",
       " 31          1096.45             1097.34          118444.0                6.4   \n",
       " 32              NaN                 NaN               NaN                NaN   \n",
       " \n",
       "      Óbitos  Taxa_mortalidade  \n",
       " 0    2451.0              3.02  \n",
       " 1     298.0              3.07  \n",
       " 2     135.0              4.11  \n",
       " 3     570.0              3.27  \n",
       " 4     114.0              3.48  \n",
       " 5     972.0              2.55  \n",
       " 6     116.0              3.19  \n",
       " 7     246.0              4.32  \n",
       " 8   10136.0              3.84  \n",
       " 9    1022.0              2.64  \n",
       " 10    509.0              2.89  \n",
       " 11   1672.0              3.78  \n",
       " 12    674.0              4.57  \n",
       " 13    756.0              5.11  \n",
       " 14   2005.0              4.38  \n",
       " 15    538.0              3.98  \n",
       " 16    448.0              5.68  \n",
       " 17   2512.0              3.78  \n",
       " 18  20958.0              5.39  \n",
       " 19   4872.0              4.73  \n",
       " 20    780.0              4.02  \n",
       " 21   4257.0              7.04  \n",
       " 22  11049.0              5.37  \n",
       " 23   7926.0              4.59  \n",
       " 24   2922.0              4.03  \n",
       " 25   1772.0              4.35  \n",
       " 26   3232.0              5.43  \n",
       " 27   2678.0              3.60  \n",
       " 28    506.0              3.57  \n",
       " 29    560.0              3.79  \n",
       " 30   1040.0              3.85  \n",
       " 31    572.0              3.11  \n",
       " 32      NaN               NaN  ,\n",
       " 'fev19':          Data Região/Unidade da Federação  Internações  AIH_aprovadas  \\\n",
       " 0  2019-02-01                Região Norte        79757          79760   \n",
       " 1  2019-02-01                 .. Rondônia         9621           9621   \n",
       " 2  2019-02-01                     .. Acre         2899           2902   \n",
       " 3  2019-02-01                 .. Amazonas        15345          15345   \n",
       " 4  2019-02-01                  .. Roraima         3086           3086   \n",
       " 5  2019-02-01                     .. Pará        39237          39237   \n",
       " 6  2019-02-01                    .. Amapá         3463           3463   \n",
       " 7  2019-02-01                .. Tocantins         6106           6106   \n",
       " 8  2019-02-01             Região Nordeste       250276         253424   \n",
       " 9  2019-02-01                 .. Maranhão        35905          36177   \n",
       " 10 2019-02-01                    .. Piauí        16879          17004   \n",
       " 11 2019-02-01                    .. Ceará        41793          42218   \n",
       " 12 2019-02-01      .. Rio Grande do Norte        14120          14322   \n",
       " 13 2019-02-01                  .. Paraíba        13971          14310   \n",
       " 14 2019-02-01               .. Pernambuco        43829          44299   \n",
       " 15 2019-02-01                  .. Alagoas        13327          13811   \n",
       " 16 2019-02-01                  .. Sergipe         7229           7274   \n",
       " 17 2019-02-01                    .. Bahia        63223          64009   \n",
       " 18 2019-02-01              Região Sudeste       374515         383130   \n",
       " 19 2019-02-01             .. Minas Gerais       101050         101797   \n",
       " 20 2019-02-01           .. Espírito Santo        19010          19073   \n",
       " 21 2019-02-01           .. Rio de Janeiro        56642          58662   \n",
       " 22 2019-02-01                .. São Paulo       197813         203598   \n",
       " 23 2019-02-01                  Região Sul       169138         171104   \n",
       " 24 2019-02-01                   .. Paraná        70915          72305   \n",
       " 25 2019-02-01           .. Santa Catarina        38940          39164   \n",
       " 26 2019-02-01        .. Rio Grande do Sul        59283          59635   \n",
       " 27 2019-02-01         Região Centro-Oeste        73516          74296   \n",
       " 28 2019-02-01       .. Mato Grosso do Sul        14263          14362   \n",
       " 29 2019-02-01              .. Mato Grosso        14710          14786   \n",
       " 30 2019-02-01                    .. Goiás        26070          26646   \n",
       " 31 2019-02-01         .. Distrito Federal        18473          18502   \n",
       " \n",
       "      Valor_total  Valor_serviços_hospitalares Val_serv_hosp_-_compl_federal  \\\n",
       " 0   6.800088e+07                 5.250805e+07                         27534   \n",
       " 1   8.142533e+06                 6.569809e+06                             -   \n",
       " 2   1.906430e+06                 1.444113e+06                             -   \n",
       " 3   1.436999e+07                 1.115323e+07                             -   \n",
       " 4   2.587642e+06                 1.939460e+06                             -   \n",
       " 5   3.282023e+07                 2.511616e+07                       7014.94   \n",
       " 6   2.294126e+06                 1.660114e+06                             -   \n",
       " 7   5.879936e+06                 4.625171e+06                       20519.1   \n",
       " 8   2.814428e+08                 2.214856e+08                        282512   \n",
       " 9   2.733992e+07                 2.140990e+07                             -   \n",
       " 10  1.543345e+07                 1.220486e+07                       43087.7   \n",
       " 11  4.754457e+07                 3.759725e+07                       17329.9   \n",
       " 12  2.018120e+07                 1.562237e+07                       37818.8   \n",
       " 13  1.827451e+07                 1.447874e+07                             -   \n",
       " 14  6.298937e+07                 4.989230e+07                        115952   \n",
       " 15  1.706448e+07                 1.335132e+07                       18191.2   \n",
       " 16  9.577714e+06                 7.582902e+06                             -   \n",
       " 17  6.303758e+07                 4.934593e+07                       50132.2   \n",
       " 18  5.253302e+08                 4.207602e+08                   2.24727e+06   \n",
       " 19  1.479344e+08                 1.188504e+08                        691682   \n",
       " 20  2.443336e+07                 1.954558e+07                             -   \n",
       " 21  7.353557e+07                 5.865359e+07                        390554   \n",
       " 22  2.794269e+08                 2.237106e+08                   1.16503e+06   \n",
       " 23  2.665163e+08                 2.151048e+08                        335634   \n",
       " 24  1.198365e+08                 9.609322e+07                         39581   \n",
       " 25  5.742049e+07                 4.581416e+07                       77106.9   \n",
       " 26  8.925931e+07                 7.319737e+07                        218946   \n",
       " 27  8.507196e+07                 6.750764e+07                        360623   \n",
       " 28  1.771381e+07                 1.385159e+07                       32627.2   \n",
       " 29  1.526207e+07                 1.225791e+07                        970.38   \n",
       " 30  3.359975e+07                 2.662306e+07                        327025   \n",
       " 31  1.849633e+07                 1.477508e+07                             -   \n",
       " \n",
       "    Val_serv_hosp_-_compl_gestor  Valor_serviços_profissionais  \\\n",
       " 0                             -                  1.544987e+07   \n",
       " 1                             -                  1.572724e+06   \n",
       " 2                             -                  4.623170e+05   \n",
       " 3                             -                  3.216760e+06   \n",
       " 4                             -                  6.481819e+05   \n",
       " 5                             -                  7.693408e+06   \n",
       " 6                             -                  6.340126e+05   \n",
       " 7                             -                  1.222465e+06   \n",
       " 8                       47081.9                  5.944117e+07   \n",
       " 9                             -                  5.930012e+06   \n",
       " 10                            -                  3.161842e+06   \n",
       " 11                            -                  9.920681e+06   \n",
       " 12                      28584.1                  4.457151e+06   \n",
       " 13                            -                  3.795771e+06   \n",
       " 14                            -                  1.291836e+07   \n",
       " 15                            -                  3.685225e+06   \n",
       " 16                            -                  1.994811e+06   \n",
       " 17                      18497.7                  1.357731e+07   \n",
       " 18                      82430.6                  1.007792e+08   \n",
       " 19                      82430.6                  2.766822e+07   \n",
       " 20                            -                  4.887784e+06   \n",
       " 21                            -                  1.430586e+07   \n",
       " 22                            -                  5.391730e+07   \n",
       " 23                            -                  5.092373e+07   \n",
       " 24                            -                  2.367912e+07   \n",
       " 25                            -                  1.147793e+07   \n",
       " 26                            -                  1.576668e+07   \n",
       " 27                       220665                  1.680055e+07   \n",
       " 28                            -                  3.808760e+06   \n",
       " 29                            -                  3.002676e+06   \n",
       " 30                       220665                  6.267858e+06   \n",
       " 31                            -                  3.721253e+06   \n",
       " \n",
       "    Val_serv_prof_-_compl_federal Val_serv_prof_-_compl_gestor  \\\n",
       " 0                              -                            -   \n",
       " 1                              -                            -   \n",
       " 2                              -                            -   \n",
       " 3                              -                            -   \n",
       " 4                              -                            -   \n",
       " 5                              -                            -   \n",
       " 6                              -                            -   \n",
       " 7                              -                            -   \n",
       " 8                        47081.9                      38064.8   \n",
       " 9                              -                            -   \n",
       " 10                             -                            -   \n",
       " 11                             -                            -   \n",
       " 12                       28584.1                      15010.9   \n",
       " 13                             -                            -   \n",
       " 14                             -                            -   \n",
       " 15                             -                            -   \n",
       " 16                             -                            -   \n",
       " 17                       18497.7                      23053.9   \n",
       " 18                       82430.6                       199779   \n",
       " 19                       82430.6                       199779   \n",
       " 20                             -                            -   \n",
       " 21                             -                            -   \n",
       " 22                             -                            -   \n",
       " 23                             -                            -   \n",
       " 24                             -                            -   \n",
       " 25                             -                            -   \n",
       " 26                             -                            -   \n",
       " 27                        220665                      7093.39   \n",
       " 28                             -                            -   \n",
       " 29                             -                            -   \n",
       " 30                        220665                      7093.39   \n",
       " 31                             -                            -   \n",
       " \n",
       "     Valor_médio_AIH  Valor_médio_intern  Dias_permanência  Média_permanência  \\\n",
       " 0            852.57              852.60            372482                4.7   \n",
       " 1            846.33              846.33             44110                4.6   \n",
       " 2            656.94              657.62             14069                4.9   \n",
       " 3            936.46              936.46             80411                5.2   \n",
       " 4            838.51              838.51             20437                6.6   \n",
       " 5            836.46              836.46            160326                4.1   \n",
       " 6            662.47              662.47             16190                4.7   \n",
       " 7            962.98              962.98             36939                6.0   \n",
       " 8           1110.56             1124.53           1278299                5.1   \n",
       " 9            755.73              761.45            162328                4.5   \n",
       " 10           907.64              914.36             81342                4.8   \n",
       " 11          1126.17             1137.62            232166                5.6   \n",
       " 12          1409.10             1429.26             86429                6.1   \n",
       " 13          1277.05             1308.03             79419                5.7   \n",
       " 14          1421.91             1437.16            238132                5.4   \n",
       " 15          1235.57             1280.44             71229                5.3   \n",
       " 16          1316.71             1324.90             44704                6.2   \n",
       " 17           984.82              997.07            282550                4.5   \n",
       " 18          1371.15             1402.69           2104960                5.6   \n",
       " 19          1453.23             1463.97            516766                5.1   \n",
       " 20          1281.04             1285.29             90167                4.7   \n",
       " 21          1253.55             1298.25            410270                7.2   \n",
       " 22          1372.44             1412.58           1087757                5.5   \n",
       " 23          1557.63             1575.73            845784                5.0   \n",
       " 24          1657.38             1689.86            306517                4.3   \n",
       " 25          1466.15             1474.59            180457                4.6   \n",
       " 26          1496.76             1505.65            358810                6.1   \n",
       " 27          1145.04             1157.19            366483                5.0   \n",
       " 28          1233.38             1241.94             66906                4.7   \n",
       " 29          1032.20             1037.53             69397                4.7   \n",
       " 30          1260.97             1288.83            125461                4.8   \n",
       " 31           999.69             1001.26            104719                5.7   \n",
       " \n",
       "     Óbitos  Taxa_mortalidade  \n",
       " 0     2263              2.84  \n",
       " 1      270              2.81  \n",
       " 2      107              3.69  \n",
       " 3      494              3.22  \n",
       " 4      122              3.95  \n",
       " 5      934              2.38  \n",
       " 6       72              2.08  \n",
       " 7      264              4.32  \n",
       " 8     8999              3.60  \n",
       " 9      835              2.33  \n",
       " 10     522              3.09  \n",
       " 11    1495              3.58  \n",
       " 12     523              3.70  \n",
       " 13     671              4.80  \n",
       " 14    1844              4.21  \n",
       " 15     523              3.92  \n",
       " 16     445              6.16  \n",
       " 17    2141              3.39  \n",
       " 18   18477              4.93  \n",
       " 19    4467              4.42  \n",
       " 20     666              3.50  \n",
       " 21    3643              6.43  \n",
       " 22    9701              4.90  \n",
       " 23    7179              4.24  \n",
       " 24    2636              3.72  \n",
       " 25    1528              3.92  \n",
       " 26    3015              5.09  \n",
       " 27    2578              3.51  \n",
       " 28     542              3.80  \n",
       " 29     617              4.19  \n",
       " 30     920              3.53  \n",
       " 31     499              2.70  ,\n",
       " 'abr19':          Data Região/Unidade da Federação  Internações  AIH_aprovadas  \\\n",
       " 0  2019-04-01                Região Norte      84066.0        84066.0   \n",
       " 1  2019-04-01                 .. Rondônia      10363.0        10363.0   \n",
       " 2  2019-04-01                     .. Acre       3037.0         3037.0   \n",
       " 3  2019-04-01                 .. Amazonas      16052.0        16052.0   \n",
       " 4  2019-04-01                  .. Roraima       3172.0         3172.0   \n",
       " 5  2019-04-01                     .. Pará      41561.0        41561.0   \n",
       " 6  2019-04-01                    .. Amapá       3468.0         3468.0   \n",
       " 7  2019-04-01                .. Tocantins       6413.0         6413.0   \n",
       " 8  2019-04-01             Região Nordeste     272469.0       275451.0   \n",
       " 9  2019-04-01                 .. Maranhão      38263.0        38561.0   \n",
       " 10 2019-04-01                    .. Piauí      17815.0        17938.0   \n",
       " 11 2019-04-01                    .. Ceará      44173.0        44653.0   \n",
       " 12 2019-04-01      .. Rio Grande do Norte      14886.0        15078.0   \n",
       " 13 2019-04-01                  .. Paraíba      15562.0        15817.0   \n",
       " 14 2019-04-01               .. Pernambuco      48588.0        49005.0   \n",
       " 15 2019-04-01                  .. Alagoas      13815.0        14326.0   \n",
       " 16 2019-04-01                  .. Sergipe       8329.0         8379.0   \n",
       " 17 2019-04-01                    .. Bahia      71038.0        71694.0   \n",
       " 18 2019-04-01              Região Sudeste     401499.0       410187.0   \n",
       " 19 2019-04-01             .. Minas Gerais     108124.0       108868.0   \n",
       " 20 2019-04-01           .. Espírito Santo      19504.0        19564.0   \n",
       " 21 2019-04-01           .. Rio de Janeiro      58084.0        60166.0   \n",
       " 22 2019-04-01                .. São Paulo     215787.0       221589.0   \n",
       " 23 2019-04-01                  Região Sul     175836.0       177831.0   \n",
       " 24 2019-04-01                   .. Paraná      72330.0        73739.0   \n",
       " 25 2019-04-01           .. Santa Catarina      41215.0        41410.0   \n",
       " 26 2019-04-01        .. Rio Grande do Sul      62291.0        62682.0   \n",
       " 27 2019-04-01         Região Centro-Oeste      79195.0        80138.0   \n",
       " 28 2019-04-01       .. Mato Grosso do Sul      15213.0        15333.0   \n",
       " 29 2019-04-01              .. Mato Grosso      16089.0        16214.0   \n",
       " 30 2019-04-01                    .. Goiás      28434.0        29056.0   \n",
       " 31 2019-04-01         .. Distrito Federal      19459.0        19535.0   \n",
       " 32        NaT                                      NaN            NaN   \n",
       " \n",
       "      Valor_total  Valor_serviços_hospitalares Val_serv_hosp_-_compl_federal  \\\n",
       " 0   7.518770e+07                 5.802569e+07                        121530   \n",
       " 1   9.379198e+06                 7.521986e+06                        4476.9   \n",
       " 2   2.411628e+06                 1.854866e+06                             -   \n",
       " 3   1.562291e+07                 1.213897e+07                             -   \n",
       " 4   2.422446e+06                 1.868708e+06                             -   \n",
       " 5   3.592659e+07                 2.743697e+07                       82593.6   \n",
       " 6   2.746817e+06                 2.065117e+06                             -   \n",
       " 7   6.678115e+06                 5.139072e+06                       34459.1   \n",
       " 8   3.044096e+08                 2.396969e+08                        810369   \n",
       " 9   2.981932e+07                 2.344191e+07                       32416.8   \n",
       " 10  1.705142e+07                 1.348584e+07                       51483.3   \n",
       " 11  4.964833e+07                 3.902430e+07                       46281.7   \n",
       " 12  2.181861e+07                 1.690975e+07                       64534.4   \n",
       " 13  1.881698e+07                 1.485261e+07                             -   \n",
       " 14  6.495928e+07                 5.153623e+07                        136348   \n",
       " 15  1.645627e+07                 1.285090e+07                       49449.1   \n",
       " 16  1.018391e+07                 7.875333e+06                             -   \n",
       " 17  7.565548e+07                 5.972001e+07                        429855   \n",
       " 18  5.542580e+08                 4.439021e+08                   2.83027e+06   \n",
       " 19  1.566616e+08                 1.259399e+08                        965574   \n",
       " 20  2.396048e+07                 1.905849e+07                             -   \n",
       " 21  7.584841e+07                 6.056583e+07                        562895   \n",
       " 22  2.977875e+08                 2.383379e+08                    1.3018e+06   \n",
       " 23  2.763581e+08                 2.225271e+08                        907098   \n",
       " 24  1.201772e+08                 9.631934e+07                        142971   \n",
       " 25  6.102809e+07                 4.858755e+07                        240819   \n",
       " 26  9.515279e+07                 7.762022e+07                        523307   \n",
       " 27  8.883618e+07                 7.039662e+07                        438671   \n",
       " 28  1.825387e+07                 1.425844e+07                       46084.5   \n",
       " 29  1.581953e+07                 1.264445e+07                       1288.45   \n",
       " 30  3.620055e+07                 2.865340e+07                        391298   \n",
       " 31  1.856223e+07                 1.484033e+07                             -   \n",
       " 32           NaN                          NaN                           NaN   \n",
       " \n",
       "    Val_serv_hosp_-_compl_gestor  Valor_serviços_profissionais  \\\n",
       " 0                             -                  1.697998e+07   \n",
       " 1                             -                  1.849955e+06   \n",
       " 2                             -                  5.567620e+05   \n",
       " 3                             -                  3.483938e+06   \n",
       " 4                             -                  5.537380e+05   \n",
       " 5                             -                  8.368507e+06   \n",
       " 6                             -                  6.817006e+05   \n",
       " 7                             -                  1.485377e+06   \n",
       " 8                       48397.2                  6.336618e+07   \n",
       " 9                             -                  6.327285e+06   \n",
       " 10                            -                  3.488710e+06   \n",
       " 11                            -                  1.055419e+07   \n",
       " 12                      28887.6                  4.762896e+06   \n",
       " 13                            -                  3.964372e+06   \n",
       " 14                            -                  1.320667e+07   \n",
       " 15                            -                  3.525803e+06   \n",
       " 16                            -                  2.308577e+06   \n",
       " 17                      19509.5                  1.522767e+07   \n",
       " 18                      85928.8                  1.056124e+08   \n",
       " 19                      85928.8                  2.888499e+07   \n",
       " 20                            -                  4.901992e+06   \n",
       " 21                            -                  1.442405e+07   \n",
       " 22                            -                  5.740133e+07   \n",
       " 23                            -                  5.241736e+07   \n",
       " 24                            -                  2.361378e+07   \n",
       " 25                            -                  1.204479e+07   \n",
       " 26                            -                  1.675880e+07   \n",
       " 27                      92323.4                  1.768118e+07   \n",
       " 28                            -                  3.919993e+06   \n",
       " 29                            -                  3.173128e+06   \n",
       " 30                      92323.4                  6.866156e+06   \n",
       " 31                            -                  3.721900e+06   \n",
       " 32                          NaN                           NaN   \n",
       " \n",
       "    Val_serv_prof_-_compl_federal Val_serv_prof_-_compl_gestor  \\\n",
       " 0                              -                            -   \n",
       " 1                              -                            -   \n",
       " 2                              -                            -   \n",
       " 3                              -                            -   \n",
       " 4                              -                            -   \n",
       " 5                              -                            -   \n",
       " 6                              -                            -   \n",
       " 7                              -                            -   \n",
       " 8                        48397.2                      44285.2   \n",
       " 9                              -                            -   \n",
       " 10                             -                            -   \n",
       " 11                             -                            -   \n",
       " 12                       28887.6                      16542.3   \n",
       " 13                             -                            -   \n",
       " 14                             -                            -   \n",
       " 15                             -                            -   \n",
       " 16                             -                            -   \n",
       " 17                       19509.5                      27742.9   \n",
       " 18                       85928.8                       185618   \n",
       " 19                       85928.8                       185618   \n",
       " 20                             -                            -   \n",
       " 21                             -                            -   \n",
       " 22                             -                            -   \n",
       " 23                             -                            -   \n",
       " 24                             -                            -   \n",
       " 25                             -                            -   \n",
       " 26                             -                            -   \n",
       " 27                       92323.4                      8839.11   \n",
       " 28                             -                            -   \n",
       " 29                             -                            -   \n",
       " 30                       92323.4                      8839.11   \n",
       " 31                             -                            -   \n",
       " 32                           NaN                          NaN   \n",
       " \n",
       "     Valor_médio_AIH  Valor_médio_intern  Dias_permanência  Média_permanência  \\\n",
       " 0            894.39              894.39          392737.0                4.7   \n",
       " 1            905.07              905.07           47277.0                4.6   \n",
       " 2            794.08              794.08           15630.0                5.1   \n",
       " 3            973.27              973.27           84585.0                5.3   \n",
       " 4            763.70              763.70           18617.0                5.9   \n",
       " 5            864.43              864.43          174028.0                4.2   \n",
       " 6            792.05              792.05           17052.0                4.9   \n",
       " 7           1041.34             1041.34           35548.0                5.5   \n",
       " 8           1105.13             1117.23         1387267.0                5.1   \n",
       " 9            773.30              779.33          170598.0                4.5   \n",
       " 10           950.58              957.14           88823.0                5.0   \n",
       " 11          1111.87             1123.95          243893.0                5.5   \n",
       " 12          1447.05             1465.71           86394.0                5.8   \n",
       " 13          1189.67             1209.16           86301.0                5.5   \n",
       " 14          1325.56             1336.94          258864.0                5.3   \n",
       " 15          1148.70             1191.19           73428.0                5.3   \n",
       " 16          1215.41             1222.71           46772.0                5.6   \n",
       " 17          1055.26             1065.00          332194.0                4.7   \n",
       " 18          1351.23             1380.47         2244026.0                5.6   \n",
       " 19          1439.01             1448.91          545247.0                5.0   \n",
       " 20          1224.72             1228.49           90977.0                4.7   \n",
       " 21          1260.65             1305.84          422618.0                7.3   \n",
       " 22          1343.87             1380.01         1185184.0                5.5   \n",
       " 23          1554.05             1571.68          879583.0                5.0   \n",
       " 24          1629.76             1661.51          310831.0                4.3   \n",
       " 25          1473.75             1480.73          188264.0                4.6   \n",
       " 26          1518.02             1527.55          380488.0                6.1   \n",
       " 27          1108.54             1121.74          390737.0                4.9   \n",
       " 28          1190.50             1199.89           70647.0                4.6   \n",
       " 29           975.67              983.25           72864.0                4.5   \n",
       " 30          1245.89             1273.14          135764.0                4.8   \n",
       " 31           950.20              953.91          111462.0                5.7   \n",
       " 32              NaN                 NaN               NaN                NaN   \n",
       " \n",
       "      Óbitos  Taxa_mortalidade  \n",
       " 0    2401.0              2.86  \n",
       " 1     317.0              3.06  \n",
       " 2     120.0              3.95  \n",
       " 3     532.0              3.31  \n",
       " 4     115.0              3.63  \n",
       " 5     981.0              2.36  \n",
       " 6     116.0              3.34  \n",
       " 7     220.0              3.43  \n",
       " 8   10167.0              3.73  \n",
       " 9     895.0              2.34  \n",
       " 10    617.0              3.46  \n",
       " 11   1754.0              3.97  \n",
       " 12    520.0              3.49  \n",
       " 13    717.0              4.61  \n",
       " 14   2027.0              4.17  \n",
       " 15    521.0              3.77  \n",
       " 16    434.0              5.21  \n",
       " 17   2682.0              3.78  \n",
       " 18  19356.0              4.82  \n",
       " 19   4751.0              4.39  \n",
       " 20    697.0              3.57  \n",
       " 21   3785.0              6.52  \n",
       " 22  10123.0              4.69  \n",
       " 23   7265.0              4.13  \n",
       " 24   2605.0              3.60  \n",
       " 25   1677.0              4.07  \n",
       " 26   2983.0              4.79  \n",
       " 27   2617.0              3.30  \n",
       " 28    570.0              3.75  \n",
       " 29    566.0              3.52  \n",
       " 30    948.0              3.33  \n",
       " 31    533.0              2.74  \n",
       " 32      NaN               NaN  ,\n",
       " 'jun19':          Data Região/Unidade da Federação  Internações  AIH_aprovadas  \\\n",
       " 0  2019-06-01                Região Norte        82202          82202   \n",
       " 1  2019-06-01                 .. Rondônia         9380           9380   \n",
       " 2  2019-06-01                     .. Acre         4213           4213   \n",
       " 3  2019-06-01                 .. Amazonas        15199          15199   \n",
       " 4  2019-06-01                  .. Roraima         3591           3591   \n",
       " 5  2019-06-01                     .. Pará        40506          40506   \n",
       " 6  2019-06-01                    .. Amapá         3166           3166   \n",
       " 7  2019-06-01                .. Tocantins         6147           6147   \n",
       " 8  2019-06-01             Região Nordeste       266898         270049   \n",
       " 9  2019-06-01                 .. Maranhão        35229          35604   \n",
       " 10 2019-06-01                    .. Piauí        17855          17995   \n",
       " 11 2019-06-01                    .. Ceará        41645          42091   \n",
       " 12 2019-06-01      .. Rio Grande do Norte        15270          15455   \n",
       " 13 2019-06-01                  .. Paraíba        15888          16194   \n",
       " 14 2019-06-01               .. Pernambuco        48332          48810   \n",
       " 15 2019-06-01                  .. Alagoas        14788          15315   \n",
       " 16 2019-06-01                  .. Sergipe         7817           7863   \n",
       " 17 2019-06-01                    .. Bahia        70074          70722   \n",
       " 18 2019-06-01              Região Sudeste       397679         406377   \n",
       " 19 2019-06-01             .. Minas Gerais       107102         107840   \n",
       " 20 2019-06-01           .. Espírito Santo        19856          19938   \n",
       " 21 2019-06-01           .. Rio de Janeiro        60909          62918   \n",
       " 22 2019-06-01                .. São Paulo       209812         215681   \n",
       " 23 2019-06-01                  Região Sul       181327         183274   \n",
       " 24 2019-06-01                   .. Paraná        73283          74624   \n",
       " 25 2019-06-01           .. Santa Catarina        42729          42958   \n",
       " 26 2019-06-01        .. Rio Grande do Sul        65315          65692   \n",
       " 27 2019-06-01         Região Centro-Oeste        77310          78291   \n",
       " 28 2019-06-01       .. Mato Grosso do Sul        14515          14617   \n",
       " 29 2019-06-01              .. Mato Grosso        16007          16160   \n",
       " 30 2019-06-01                    .. Goiás        28023          28628   \n",
       " 31 2019-06-01         .. Distrito Federal        18765          18886   \n",
       " \n",
       "      Valor_total  Valor_serviços_hospitalares Val_serv_hosp_-_compl_federal  \\\n",
       " 0   7.180652e+07                 5.499275e+07                        334408   \n",
       " 1   7.492752e+06                 5.914422e+06                       1008.56   \n",
       " 2   3.260154e+06                 2.487881e+06                             -   \n",
       " 3   1.518485e+07                 1.181482e+07                        200.05   \n",
       " 4   2.851292e+06                 2.127497e+06                             -   \n",
       " 5   3.477925e+07                 2.636771e+07                        294344   \n",
       " 6   2.109126e+06                 1.545415e+06                             -   \n",
       " 7   6.129092e+06                 4.735000e+06                       38855.2   \n",
       " 8   3.039324e+08                 2.390871e+08                   1.05983e+06   \n",
       " 9   2.892116e+07                 2.269135e+07                             -   \n",
       " 10  1.695241e+07                 1.346219e+07                       52065.6   \n",
       " 11  4.974002e+07                 3.925942e+07                       15912.8   \n",
       " 12  2.149197e+07                 1.661003e+07                       98810.6   \n",
       " 13  1.940040e+07                 1.534547e+07                             -   \n",
       " 14  6.794394e+07                 5.411058e+07                        129279   \n",
       " 15  1.780006e+07                 1.385769e+07                       61925.8   \n",
       " 16  9.397453e+06                 7.242711e+06                             -   \n",
       " 17  7.228493e+07                 5.650767e+07                        701833   \n",
       " 18  5.540254e+08                 4.425427e+08                   4.05935e+06   \n",
       " 19  1.546147e+08                 1.241980e+08                        874438   \n",
       " 20  2.619298e+07                 2.067209e+07                        121775   \n",
       " 21  8.004399e+07                 6.336486e+07                   1.06217e+06   \n",
       " 22  2.931737e+08                 2.343078e+08                   2.00097e+06   \n",
       " 23  2.811553e+08                 2.256151e+08                   1.28401e+06   \n",
       " 24  1.255112e+08                 1.003253e+08                        319682   \n",
       " 25  6.341803e+07                 5.039874e+07                        361979   \n",
       " 26  9.222605e+07                 7.489108e+07                        602353   \n",
       " 27  9.179039e+07                 7.314360e+07                        457998   \n",
       " 28  1.811778e+07                 1.403952e+07                        115305   \n",
       " 29  1.659264e+07                 1.331706e+07                       3723.33   \n",
       " 30  3.689289e+07                 2.963053e+07                        338970   \n",
       " 31  2.018708e+07                 1.615649e+07                             -   \n",
       " \n",
       "    Val_serv_hosp_-_compl_gestor  Valor_serviços_profissionais  \\\n",
       " 0                             -                  1.633349e+07   \n",
       " 1                             -                  1.576751e+06   \n",
       " 2                             -                  7.722723e+05   \n",
       " 3                             -                  3.369693e+06   \n",
       " 4                             -                  7.237948e+05   \n",
       " 5                             -                  7.994236e+06   \n",
       " 6                             -                  5.637109e+05   \n",
       " 7                             -                  1.333034e+06   \n",
       " 8                       46833.3                  6.317871e+07   \n",
       " 9                             -                  6.229808e+06   \n",
       " 10                            -                  3.411299e+06   \n",
       " 11                            -                  1.045630e+07   \n",
       " 12                      29480.8                  4.694887e+06   \n",
       " 13                            -                  4.054928e+06   \n",
       " 14                            -                  1.363406e+07   \n",
       " 15                            -                  3.842005e+06   \n",
       " 16                            -                  2.154741e+06   \n",
       " 17                      17352.5                  1.470068e+07   \n",
       " 18                      93011.5                  1.047821e+08   \n",
       " 19                      92569.9                  2.865008e+07   \n",
       " 20                            -                  5.288243e+06   \n",
       " 21                            -                  1.509442e+07   \n",
       " 22                        441.6                  5.574932e+07   \n",
       " 23                        47800                  5.347848e+07   \n",
       " 24                            -                  2.465567e+07   \n",
       " 25                        47800                  1.238257e+07   \n",
       " 26                            -                  1.644024e+07   \n",
       " 27                      56046.8                  1.789704e+07   \n",
       " 28                            -                  3.894663e+06   \n",
       " 29                            -                  3.269869e+06   \n",
       " 30                      56046.8                  6.701915e+06   \n",
       " 31                            -                  4.030595e+06   \n",
       " \n",
       "    Val_serv_prof_-_compl_federal Val_serv_prof_-_compl_gestor  \\\n",
       " 0                              -                            -   \n",
       " 1                              -                            -   \n",
       " 2                              -                            -   \n",
       " 3                              -                            -   \n",
       " 4                              -                            -   \n",
       " 5                              -                            -   \n",
       " 6                              -                            -   \n",
       " 7                              -                            -   \n",
       " 8                        46833.3                      40191.1   \n",
       " 9                              -                            -   \n",
       " 10                             -                            -   \n",
       " 11                             -                            -   \n",
       " 12                       29480.8                      19735.7   \n",
       " 13                             -                            -   \n",
       " 14                             -                            -   \n",
       " 15                             -                            -   \n",
       " 16                             -                            -   \n",
       " 17                       17352.5                      20455.4   \n",
       " 18                       93011.5                       193444   \n",
       " 19                       92569.9                       193444   \n",
       " 20                             -                            -   \n",
       " 21                             -                            -   \n",
       " 22                         441.6                            -   \n",
       " 23                         47800                            -   \n",
       " 24                             -                            -   \n",
       " 25                         47800                            -   \n",
       " 26                             -                            -   \n",
       " 27                       56046.8                      5516.59   \n",
       " 28                             -                            -   \n",
       " 29                             -                            -   \n",
       " 30                       56046.8                      5516.59   \n",
       " 31                             -                            -   \n",
       " \n",
       "     Valor_médio_AIH  Valor_médio_intern  Dias_permanência  Média_permanência  \\\n",
       " 0            873.54              873.54            385596                4.7   \n",
       " 1            798.80              798.80             43589                4.6   \n",
       " 2            773.83              773.83             19579                4.6   \n",
       " 3            999.07              999.07             80499                5.3   \n",
       " 4            794.01              794.01             20921                5.8   \n",
       " 5            858.62              858.62            169860                4.2   \n",
       " 6            666.18              666.18             16412                5.2   \n",
       " 7            997.09              997.09             34736                5.7   \n",
       " 8           1125.47             1138.76           1375253                5.2   \n",
       " 9            812.30              820.95            168351                4.8   \n",
       " 10           942.06              949.45             87640                4.9   \n",
       " 11          1181.73             1194.38            240774                5.8   \n",
       " 12          1390.62             1407.46             85595                5.6   \n",
       " 13          1198.00             1221.07             87615                5.5   \n",
       " 14          1392.01             1405.78            262572                5.4   \n",
       " 15          1162.26             1203.68             77464                5.2   \n",
       " 16          1195.15             1202.18             43020                5.5   \n",
       " 17          1022.10             1031.55            322222                4.6   \n",
       " 18          1363.33             1393.15           2226454                5.6   \n",
       " 19          1433.74             1443.62            540899                5.1   \n",
       " 20          1313.72             1319.15             94647                4.8   \n",
       " 21          1272.20             1314.16            443698                7.3   \n",
       " 22          1359.29             1397.32           1147210                5.5   \n",
       " 23          1534.07             1550.54            903132                5.0   \n",
       " 24          1681.91             1712.69            317321                4.3   \n",
       " 25          1476.28             1484.19            197042                4.6   \n",
       " 26          1403.92             1412.02            388769                6.0   \n",
       " 27          1172.43             1187.30            385844                5.0   \n",
       " 28          1239.50             1248.21             68286                4.7   \n",
       " 29          1026.77             1036.59             73361                4.6   \n",
       " 30          1288.70             1316.52            134937                4.8   \n",
       " 31          1068.89             1075.78            109260                5.8   \n",
       " \n",
       "     Óbitos  Taxa_mortalidade  \n",
       " 0     2318              2.82  \n",
       " 1      237              2.53  \n",
       " 2      146              3.47  \n",
       " 3      446              2.93  \n",
       " 4      124              3.45  \n",
       " 5     1064              2.63  \n",
       " 6       90              2.84  \n",
       " 7      211              3.43  \n",
       " 8    10414              3.90  \n",
       " 9      979              2.78  \n",
       " 10     563              3.15  \n",
       " 11    1692              4.06  \n",
       " 12     569              3.73  \n",
       " 13     833              5.24  \n",
       " 14    2160              4.47  \n",
       " 15     606              4.10  \n",
       " 16     384              4.91  \n",
       " 17    2628              3.75  \n",
       " 18   21287              5.35  \n",
       " 19    5063              4.73  \n",
       " 20     731              3.68  \n",
       " 21    4525              7.43  \n",
       " 22   10968              5.23  \n",
       " 23    7693              4.24  \n",
       " 24    2732              3.73  \n",
       " 25    1748              4.09  \n",
       " 26    3213              4.92  \n",
       " 27    2765              3.58  \n",
       " 28     496              3.42  \n",
       " 29     618              3.86  \n",
       " 30    1047              3.74  \n",
       " 31     604              3.22  ,\n",
       " 'jul19':          Data Região/Unidade da Federação  Internações  AIH_aprovadas  \\\n",
       " 0  2019-07-01                Região Norte      75363.0        75363.0   \n",
       " 1  2019-07-01                 .. Rondônia       9603.0         9603.0   \n",
       " 2  2019-07-01                 .. Amazonas      16248.0        16248.0   \n",
       " 3  2019-07-01                  .. Roraima       4324.0         4324.0   \n",
       " 4  2019-07-01                     .. Pará      34774.0        34774.0   \n",
       " 5  2019-07-01                    .. Amapá       3407.0         3407.0   \n",
       " 6  2019-07-01                .. Tocantins       7007.0         7007.0   \n",
       " 7  2019-07-01             Região Nordeste     267944.0       271043.0   \n",
       " 8  2019-07-01                 .. Maranhão      33351.0        33766.0   \n",
       " 9  2019-07-01                    .. Piauí      16590.0        16727.0   \n",
       " 10 2019-07-01                    .. Ceará      41228.0        41677.0   \n",
       " 11 2019-07-01      .. Rio Grande do Norte      15435.0        15627.0   \n",
       " 12 2019-07-01                  .. Paraíba      16022.0        16305.0   \n",
       " 13 2019-07-01               .. Pernambuco      49437.0        49882.0   \n",
       " 14 2019-07-01                  .. Alagoas      15459.0        15956.0   \n",
       " 15 2019-07-01                  .. Sergipe       8032.0         8077.0   \n",
       " 16 2019-07-01                    .. Bahia      72390.0        73026.0   \n",
       " 17 2019-07-01              Região Sudeste     408395.0       416299.0   \n",
       " 18 2019-07-01             .. Minas Gerais     110732.0       111474.0   \n",
       " 19 2019-07-01           .. Espírito Santo      21645.0        21719.0   \n",
       " 20 2019-07-01           .. Rio de Janeiro      61719.0        63017.0   \n",
       " 21 2019-07-01                .. São Paulo     214299.0       220089.0   \n",
       " 22 2019-07-01                  Região Sul     187638.0       189646.0   \n",
       " 23 2019-07-01                   .. Paraná      74845.0        76230.0   \n",
       " 24 2019-07-01           .. Santa Catarina      44943.0        45159.0   \n",
       " 25 2019-07-01        .. Rio Grande do Sul      67850.0        68257.0   \n",
       " 26 2019-07-01         Região Centro-Oeste      78785.0        79787.0   \n",
       " 27 2019-07-01       .. Mato Grosso do Sul      15150.0        15247.0   \n",
       " 28 2019-07-01              .. Mato Grosso      15824.0        15964.0   \n",
       " 29 2019-07-01                    .. Goiás      27835.0        28465.0   \n",
       " 30 2019-07-01         .. Distrito Federal      19976.0        20111.0   \n",
       " 31        NaT                         NaN          NaN            NaN   \n",
       " 32        NaT                         NaN          NaN            NaN   \n",
       " 33        NaT                         NaN          NaN            NaN   \n",
       " 34        NaT                         NaN          NaN            NaN   \n",
       " 35        NaT                         NaN          NaN            NaN   \n",
       " 36        NaT                                      NaN            NaN   \n",
       " \n",
       "      Valor_total  Valor_serviços_hospitalares Val_serv_hosp_-_compl_federal  \\\n",
       " 0   6.582182e+07                 5.059227e+07                        282125   \n",
       " 1   9.404751e+06                 7.666946e+06                             -   \n",
       " 2   1.562431e+07                 1.216663e+07                       1221.31   \n",
       " 3   3.137537e+06                 2.356232e+06                             -   \n",
       " 4   2.817863e+07                 2.124135e+07                        248197   \n",
       " 5   2.380728e+06                 1.776869e+06                             -   \n",
       " 6   7.095859e+06                 5.384238e+06                       32706.7   \n",
       " 7   3.130741e+08                 2.454389e+08                   1.56333e+06   \n",
       " 8   2.865809e+07                 2.244814e+07                       50267.1   \n",
       " 9   1.627561e+07                 1.293886e+07                       77814.5   \n",
       " 10  5.136341e+07                 4.055644e+07                       37734.2   \n",
       " 11  2.205867e+07                 1.718067e+07                       61849.8   \n",
       " 12  1.946543e+07                 1.531535e+07                             -   \n",
       " 13  7.036799e+07                 5.558425e+07                        289995   \n",
       " 14  1.839724e+07                 1.430781e+07                       86485.7   \n",
       " 15  9.931458e+06                 7.709589e+06                             -   \n",
       " 16  7.655622e+07                 5.939778e+07                        959180   \n",
       " 17  5.841409e+08                 4.669866e+08                   3.98493e+06   \n",
       " 18  1.654405e+08                 1.329964e+08                        768341   \n",
       " 19  2.910695e+07                 2.302760e+07                        140303   \n",
       " 20  8.527935e+07                 6.717371e+07                   1.27813e+06   \n",
       " 21  3.043141e+08                 2.437889e+08                   1.79816e+06   \n",
       " 22  2.944153e+08                 2.362523e+08                   1.53269e+06   \n",
       " 23  1.258644e+08                 1.002322e+08                        499388   \n",
       " 24  6.645805e+07                 5.284261e+07                        366413   \n",
       " 25  1.020928e+08                 8.317754e+07                        666889   \n",
       " 26  9.487529e+07                 7.548076e+07                        559601   \n",
       " 27  1.952363e+07                 1.529613e+07                        136920   \n",
       " 28  1.608209e+07                 1.288967e+07                             -   \n",
       " 29  3.705342e+07                 2.944633e+07                        422680   \n",
       " 30  2.221615e+07                 1.784863e+07                             -   \n",
       " 31           NaN                          NaN                           NaN   \n",
       " 32           NaN                          NaN                           NaN   \n",
       " 33           NaN                          NaN                           NaN   \n",
       " 34           NaN                          NaN                           NaN   \n",
       " 35           NaN                          NaN                           NaN   \n",
       " 36           NaN                          NaN                           NaN   \n",
       " \n",
       "    Val_serv_hosp_-_compl_gestor  Valor_serviços_profissionais  \\\n",
       " 0                             -                  1.482012e+07   \n",
       " 1                             -                  1.737806e+06   \n",
       " 2                             -                  3.455638e+06   \n",
       " 3                             -                  7.813057e+05   \n",
       " 4                             -                  6.581739e+06   \n",
       " 5                             -                  6.038583e+05   \n",
       " 6                             -                  1.659776e+06   \n",
       " 7                       29897.6                  6.524551e+07   \n",
       " 8                             -                  6.134106e+06   \n",
       " 9                             -                  3.217744e+06   \n",
       " 10                            -                  1.074957e+07   \n",
       " 11                      15660.1                  4.770026e+06   \n",
       " 12                            -                  4.150075e+06   \n",
       " 13                            -                  1.434477e+07   \n",
       " 14                            -                  3.951723e+06   \n",
       " 15                            -                  2.221869e+06   \n",
       " 16                      14237.5                  1.570563e+07   \n",
       " 17                       163920                  1.104527e+08   \n",
       " 18                       163920                  3.070783e+07   \n",
       " 19                            -                  5.788359e+06   \n",
       " 20                            -                  1.622089e+07   \n",
       " 21                            -                  5.773565e+07   \n",
       " 22                        39375                  5.571837e+07   \n",
       " 23                            -                  2.482290e+07   \n",
       " 24                        39375                  1.295605e+07   \n",
       " 25                            -                  1.793942e+07   \n",
       " 26                      67707.7                  1.849670e+07   \n",
       " 27                            -                  4.014367e+06   \n",
       " 28                            -                  3.192422e+06   \n",
       " 29                      67707.7                  6.922391e+06   \n",
       " 30                            -                  4.367522e+06   \n",
       " 31                          NaN                           NaN   \n",
       " 32                          NaN                           NaN   \n",
       " 33                          NaN                           NaN   \n",
       " 34                          NaN                           NaN   \n",
       " 35                          NaN                           NaN   \n",
       " 36                          NaN                           NaN   \n",
       " \n",
       "    Val_serv_prof_-_compl_federal Val_serv_prof_-_compl_gestor  \\\n",
       " 0                              -                            -   \n",
       " 1                              -                            -   \n",
       " 2                              -                            -   \n",
       " 3                              -                            -   \n",
       " 4                              -                            -   \n",
       " 5                              -                            -   \n",
       " 6                              -                            -   \n",
       " 7                        29897.6                        27799   \n",
       " 8                              -                            -   \n",
       " 9                              -                            -   \n",
       " 10                             -                            -   \n",
       " 11                       15660.1                      9624.58   \n",
       " 12                             -                            -   \n",
       " 13                             -                            -   \n",
       " 14                             -                            -   \n",
       " 15                             -                            -   \n",
       " 16                       14237.5                      18174.4   \n",
       " 17                        163920                       210382   \n",
       " 18                        163920                       210382   \n",
       " 19                             -                            -   \n",
       " 20                             -                            -   \n",
       " 21                             -                            -   \n",
       " 22                         39375                            -   \n",
       " 23                             -                            -   \n",
       " 24                         39375                            -   \n",
       " 25                             -                            -   \n",
       " 26                       67707.7                       7192.1   \n",
       " 27                             -                            -   \n",
       " 28                             -                            -   \n",
       " 29                       67707.7                       7192.1   \n",
       " 30                             -                            -   \n",
       " 31                           NaN                          NaN   \n",
       " 32                           NaN                          NaN   \n",
       " 33                           NaN                          NaN   \n",
       " 34                           NaN                          NaN   \n",
       " 35                           NaN                          NaN   \n",
       " 36                           NaN                          NaN   \n",
       " \n",
       "     Valor_médio_AIH  Valor_médio_intern  Dias_permanência  Média_permanência  \\\n",
       " 0            873.40              873.40          358202.0                4.8   \n",
       " 1            979.36              979.36           53043.0                5.5   \n",
       " 2            961.61              961.61           85512.0                5.3   \n",
       " 3            725.61              725.61           25560.0                5.9   \n",
       " 4            810.34              810.34          138135.0                4.0   \n",
       " 5            698.78              698.78           18703.0                5.5   \n",
       " 6           1012.68             1012.68           37249.0                5.3   \n",
       " 7           1155.07             1168.43         1395106.0                5.2   \n",
       " 8            848.73              859.29          166594.0                5.0   \n",
       " 9            973.01              981.05           81932.0                4.9   \n",
       " 10          1232.42             1245.84          238580.0                5.8   \n",
       " 11          1411.57             1429.13           92162.0                6.0   \n",
       " 12          1193.83             1214.92           88357.0                5.5   \n",
       " 13          1410.69             1423.39          262688.0                5.3   \n",
       " 14          1153.00             1190.07           79992.0                5.2   \n",
       " 15          1229.60             1236.49           45789.0                5.7   \n",
       " 16          1048.34             1057.55          339012.0                4.7   \n",
       " 17          1403.18             1430.33         2300476.0                5.6   \n",
       " 18          1484.12             1494.06          564069.0                5.1   \n",
       " 19          1340.16             1344.74          106978.0                4.9   \n",
       " 20          1353.28             1381.74          436572.0                7.1   \n",
       " 21          1382.69             1420.04         1192857.0                5.6   \n",
       " 22          1552.45             1569.06          941146.0                5.0   \n",
       " 23          1651.11             1681.67          320599.0                4.3   \n",
       " 24          1471.65             1478.72          205917.0                4.6   \n",
       " 25          1495.71             1504.68          414630.0                6.1   \n",
       " 26          1189.11             1204.23          397947.0                5.1   \n",
       " 27          1280.49             1288.69           70907.0                4.7   \n",
       " 28          1007.40             1016.31           74218.0                4.7   \n",
       " 29          1301.72             1331.18          135793.0                4.9   \n",
       " 30          1104.68             1112.14          117029.0                5.9   \n",
       " 31              NaN                 NaN               NaN                NaN   \n",
       " 32              NaN                 NaN               NaN                NaN   \n",
       " 33              NaN                 NaN               NaN                NaN   \n",
       " 34              NaN                 NaN               NaN                NaN   \n",
       " 35              NaN                 NaN               NaN                NaN   \n",
       " 36              NaN                 NaN               NaN                NaN   \n",
       " \n",
       "      Óbitos  Taxa_mortalidade  \n",
       " 0    2149.0              2.85  \n",
       " 1     315.0              3.28  \n",
       " 2     536.0              3.30  \n",
       " 3     171.0              3.95  \n",
       " 4     832.0              2.39  \n",
       " 5      85.0              2.49  \n",
       " 6     210.0              3.00  \n",
       " 7   10575.0              3.95  \n",
       " 8     879.0              2.64  \n",
       " 9     480.0              2.89  \n",
       " 10   1662.0              4.03  \n",
       " 11    687.0              4.45  \n",
       " 12    799.0              4.99  \n",
       " 13   2191.0              4.43  \n",
       " 14    576.0              3.73  \n",
       " 15    429.0              5.34  \n",
       " 16   2872.0              3.97  \n",
       " 17  22652.0              5.55  \n",
       " 18   5442.0              4.91  \n",
       " 19    841.0              3.89  \n",
       " 20   4381.0              7.10  \n",
       " 21  11988.0              5.59  \n",
       " 22   8583.0              4.57  \n",
       " 23   2950.0              3.94  \n",
       " 24   1887.0              4.20  \n",
       " 25   3746.0              5.52  \n",
       " 26   2965.0              3.76  \n",
       " 27    613.0              4.05  \n",
       " 28    683.0              4.32  \n",
       " 29   1077.0              3.87  \n",
       " 30    592.0              2.96  \n",
       " 31      NaN               NaN  \n",
       " 32      NaN               NaN  \n",
       " 33      NaN               NaN  \n",
       " 34      NaN               NaN  \n",
       " 35      NaN               NaN  \n",
       " 36      NaN               NaN  }"
      ]
     },
     "execution_count": 52,
     "metadata": {},
     "output_type": "execute_result"
    }
   ],
   "source": [
    "sheets"
   ]
  },
  {
   "cell_type": "code",
   "execution_count": 53,
   "metadata": {},
   "outputs": [
    {
     "data": {
      "text/html": [
       "<div>\n",
       "<style scoped>\n",
       "    .dataframe tbody tr th:only-of-type {\n",
       "        vertical-align: middle;\n",
       "    }\n",
       "\n",
       "    .dataframe tbody tr th {\n",
       "        vertical-align: top;\n",
       "    }\n",
       "\n",
       "    .dataframe thead th {\n",
       "        text-align: right;\n",
       "    }\n",
       "</style>\n",
       "<table border=\"1\" class=\"dataframe\">\n",
       "  <thead>\n",
       "    <tr style=\"text-align: right;\">\n",
       "      <th></th>\n",
       "      <th>Data</th>\n",
       "      <th>Região/Unidade da Federação</th>\n",
       "      <th>Internações</th>\n",
       "      <th>AIH_aprovadas</th>\n",
       "      <th>Valor_total</th>\n",
       "      <th>Valor_serviços_hospitalares</th>\n",
       "      <th>Val_serv_hosp_-_compl_federal</th>\n",
       "      <th>Val_serv_hosp_-_compl_gestor</th>\n",
       "      <th>Valor_serviços_profissionais</th>\n",
       "      <th>Val_serv_prof_-_compl_federal</th>\n",
       "      <th>Val_serv_prof_-_compl_gestor</th>\n",
       "      <th>Valor_médio_AIH</th>\n",
       "      <th>Valor_médio_intern</th>\n",
       "      <th>Dias_permanência</th>\n",
       "      <th>Média_permanência</th>\n",
       "      <th>Óbitos</th>\n",
       "      <th>Taxa_mortalidade</th>\n",
       "    </tr>\n",
       "  </thead>\n",
       "  <tbody>\n",
       "    <tr>\n",
       "      <th>0</th>\n",
       "      <td>2017-12-01</td>\n",
       "      <td>Região Norte</td>\n",
       "      <td>80359.0</td>\n",
       "      <td>80383.0</td>\n",
       "      <td>67267305.18</td>\n",
       "      <td>50730417.62</td>\n",
       "      <td>561206</td>\n",
       "      <td>1100.81</td>\n",
       "      <td>15700377.99</td>\n",
       "      <td>1100.81</td>\n",
       "      <td>586.51</td>\n",
       "      <td>836.83</td>\n",
       "      <td>837.08</td>\n",
       "      <td>358295.0</td>\n",
       "      <td>4.5</td>\n",
       "      <td>1929.0</td>\n",
       "      <td>2.40</td>\n",
       "    </tr>\n",
       "    <tr>\n",
       "      <th>1</th>\n",
       "      <td>2017-12-01</td>\n",
       "      <td>.. Rondônia</td>\n",
       "      <td>9783.0</td>\n",
       "      <td>9783.0</td>\n",
       "      <td>7507845.13</td>\n",
       "      <td>5931386.18</td>\n",
       "      <td>-</td>\n",
       "      <td>-</td>\n",
       "      <td>1576458.95</td>\n",
       "      <td>-</td>\n",
       "      <td>-</td>\n",
       "      <td>767.44</td>\n",
       "      <td>767.44</td>\n",
       "      <td>42043.0</td>\n",
       "      <td>4.3</td>\n",
       "      <td>235.0</td>\n",
       "      <td>2.40</td>\n",
       "    </tr>\n",
       "    <tr>\n",
       "      <th>2</th>\n",
       "      <td>2017-12-01</td>\n",
       "      <td>.. Acre</td>\n",
       "      <td>3463.0</td>\n",
       "      <td>3487.0</td>\n",
       "      <td>2610454.55</td>\n",
       "      <td>1966308.65</td>\n",
       "      <td>-</td>\n",
       "      <td>-</td>\n",
       "      <td>644145.90</td>\n",
       "      <td>-</td>\n",
       "      <td>-</td>\n",
       "      <td>748.62</td>\n",
       "      <td>753.81</td>\n",
       "      <td>16660.0</td>\n",
       "      <td>4.8</td>\n",
       "      <td>106.0</td>\n",
       "      <td>3.06</td>\n",
       "    </tr>\n",
       "    <tr>\n",
       "      <th>3</th>\n",
       "      <td>2017-12-01</td>\n",
       "      <td>.. Amazonas</td>\n",
       "      <td>14337.0</td>\n",
       "      <td>14337.0</td>\n",
       "      <td>13169660.32</td>\n",
       "      <td>10020114.86</td>\n",
       "      <td>-</td>\n",
       "      <td>-</td>\n",
       "      <td>3149545.46</td>\n",
       "      <td>-</td>\n",
       "      <td>-</td>\n",
       "      <td>918.58</td>\n",
       "      <td>918.58</td>\n",
       "      <td>72629.0</td>\n",
       "      <td>5.1</td>\n",
       "      <td>403.0</td>\n",
       "      <td>2.81</td>\n",
       "    </tr>\n",
       "    <tr>\n",
       "      <th>4</th>\n",
       "      <td>2017-12-01</td>\n",
       "      <td>.. Roraima</td>\n",
       "      <td>3513.0</td>\n",
       "      <td>3513.0</td>\n",
       "      <td>2635287.45</td>\n",
       "      <td>1986327.47</td>\n",
       "      <td>-</td>\n",
       "      <td>-</td>\n",
       "      <td>648959.98</td>\n",
       "      <td>-</td>\n",
       "      <td>-</td>\n",
       "      <td>750.15</td>\n",
       "      <td>750.15</td>\n",
       "      <td>18231.0</td>\n",
       "      <td>5.2</td>\n",
       "      <td>87.0</td>\n",
       "      <td>2.48</td>\n",
       "    </tr>\n",
       "    <tr>\n",
       "      <th>...</th>\n",
       "      <td>...</td>\n",
       "      <td>...</td>\n",
       "      <td>...</td>\n",
       "      <td>...</td>\n",
       "      <td>...</td>\n",
       "      <td>...</td>\n",
       "      <td>...</td>\n",
       "      <td>...</td>\n",
       "      <td>...</td>\n",
       "      <td>...</td>\n",
       "      <td>...</td>\n",
       "      <td>...</td>\n",
       "      <td>...</td>\n",
       "      <td>...</td>\n",
       "      <td>...</td>\n",
       "      <td>...</td>\n",
       "      <td>...</td>\n",
       "    </tr>\n",
       "    <tr>\n",
       "      <th>32</th>\n",
       "      <td>NaT</td>\n",
       "      <td>NaN</td>\n",
       "      <td>NaN</td>\n",
       "      <td>NaN</td>\n",
       "      <td>NaN</td>\n",
       "      <td>NaN</td>\n",
       "      <td>NaN</td>\n",
       "      <td>NaN</td>\n",
       "      <td>NaN</td>\n",
       "      <td>NaN</td>\n",
       "      <td>NaN</td>\n",
       "      <td>NaN</td>\n",
       "      <td>NaN</td>\n",
       "      <td>NaN</td>\n",
       "      <td>NaN</td>\n",
       "      <td>NaN</td>\n",
       "      <td>NaN</td>\n",
       "    </tr>\n",
       "    <tr>\n",
       "      <th>33</th>\n",
       "      <td>NaT</td>\n",
       "      <td>NaN</td>\n",
       "      <td>NaN</td>\n",
       "      <td>NaN</td>\n",
       "      <td>NaN</td>\n",
       "      <td>NaN</td>\n",
       "      <td>NaN</td>\n",
       "      <td>NaN</td>\n",
       "      <td>NaN</td>\n",
       "      <td>NaN</td>\n",
       "      <td>NaN</td>\n",
       "      <td>NaN</td>\n",
       "      <td>NaN</td>\n",
       "      <td>NaN</td>\n",
       "      <td>NaN</td>\n",
       "      <td>NaN</td>\n",
       "      <td>NaN</td>\n",
       "    </tr>\n",
       "    <tr>\n",
       "      <th>34</th>\n",
       "      <td>NaT</td>\n",
       "      <td>NaN</td>\n",
       "      <td>NaN</td>\n",
       "      <td>NaN</td>\n",
       "      <td>NaN</td>\n",
       "      <td>NaN</td>\n",
       "      <td>NaN</td>\n",
       "      <td>NaN</td>\n",
       "      <td>NaN</td>\n",
       "      <td>NaN</td>\n",
       "      <td>NaN</td>\n",
       "      <td>NaN</td>\n",
       "      <td>NaN</td>\n",
       "      <td>NaN</td>\n",
       "      <td>NaN</td>\n",
       "      <td>NaN</td>\n",
       "      <td>NaN</td>\n",
       "    </tr>\n",
       "    <tr>\n",
       "      <th>35</th>\n",
       "      <td>NaT</td>\n",
       "      <td>NaN</td>\n",
       "      <td>NaN</td>\n",
       "      <td>NaN</td>\n",
       "      <td>NaN</td>\n",
       "      <td>NaN</td>\n",
       "      <td>NaN</td>\n",
       "      <td>NaN</td>\n",
       "      <td>NaN</td>\n",
       "      <td>NaN</td>\n",
       "      <td>NaN</td>\n",
       "      <td>NaN</td>\n",
       "      <td>NaN</td>\n",
       "      <td>NaN</td>\n",
       "      <td>NaN</td>\n",
       "      <td>NaN</td>\n",
       "      <td>NaN</td>\n",
       "    </tr>\n",
       "    <tr>\n",
       "      <th>36</th>\n",
       "      <td>NaT</td>\n",
       "      <td></td>\n",
       "      <td>NaN</td>\n",
       "      <td>NaN</td>\n",
       "      <td>NaN</td>\n",
       "      <td>NaN</td>\n",
       "      <td>NaN</td>\n",
       "      <td>NaN</td>\n",
       "      <td>NaN</td>\n",
       "      <td>NaN</td>\n",
       "      <td>NaN</td>\n",
       "      <td>NaN</td>\n",
       "      <td>NaN</td>\n",
       "      <td>NaN</td>\n",
       "      <td>NaN</td>\n",
       "      <td>NaN</td>\n",
       "      <td>NaN</td>\n",
       "    </tr>\n",
       "  </tbody>\n",
       "</table>\n",
       "<p>462 rows × 17 columns</p>\n",
       "</div>"
      ],
      "text/plain": [
       "         Data Região/Unidade da Federação  Internações  AIH_aprovadas  \\\n",
       "0  2017-12-01                Região Norte      80359.0        80383.0   \n",
       "1  2017-12-01                 .. Rondônia       9783.0         9783.0   \n",
       "2  2017-12-01                     .. Acre       3463.0         3487.0   \n",
       "3  2017-12-01                 .. Amazonas      14337.0        14337.0   \n",
       "4  2017-12-01                  .. Roraima       3513.0         3513.0   \n",
       "..        ...                         ...          ...            ...   \n",
       "32        NaT                         NaN          NaN            NaN   \n",
       "33        NaT                         NaN          NaN            NaN   \n",
       "34        NaT                         NaN          NaN            NaN   \n",
       "35        NaT                         NaN          NaN            NaN   \n",
       "36        NaT                                      NaN            NaN   \n",
       "\n",
       "    Valor_total  Valor_serviços_hospitalares Val_serv_hosp_-_compl_federal  \\\n",
       "0   67267305.18                  50730417.62                        561206   \n",
       "1    7507845.13                   5931386.18                             -   \n",
       "2    2610454.55                   1966308.65                             -   \n",
       "3   13169660.32                  10020114.86                             -   \n",
       "4    2635287.45                   1986327.47                             -   \n",
       "..          ...                          ...                           ...   \n",
       "32          NaN                          NaN                           NaN   \n",
       "33          NaN                          NaN                           NaN   \n",
       "34          NaN                          NaN                           NaN   \n",
       "35          NaN                          NaN                           NaN   \n",
       "36          NaN                          NaN                           NaN   \n",
       "\n",
       "   Val_serv_hosp_-_compl_gestor  Valor_serviços_profissionais  \\\n",
       "0                       1100.81                   15700377.99   \n",
       "1                             -                    1576458.95   \n",
       "2                             -                     644145.90   \n",
       "3                             -                    3149545.46   \n",
       "4                             -                     648959.98   \n",
       "..                          ...                           ...   \n",
       "32                          NaN                           NaN   \n",
       "33                          NaN                           NaN   \n",
       "34                          NaN                           NaN   \n",
       "35                          NaN                           NaN   \n",
       "36                          NaN                           NaN   \n",
       "\n",
       "   Val_serv_prof_-_compl_federal Val_serv_prof_-_compl_gestor  \\\n",
       "0                        1100.81                       586.51   \n",
       "1                              -                            -   \n",
       "2                              -                            -   \n",
       "3                              -                            -   \n",
       "4                              -                            -   \n",
       "..                           ...                          ...   \n",
       "32                           NaN                          NaN   \n",
       "33                           NaN                          NaN   \n",
       "34                           NaN                          NaN   \n",
       "35                           NaN                          NaN   \n",
       "36                           NaN                          NaN   \n",
       "\n",
       "    Valor_médio_AIH  Valor_médio_intern  Dias_permanência  Média_permanência  \\\n",
       "0            836.83              837.08          358295.0                4.5   \n",
       "1            767.44              767.44           42043.0                4.3   \n",
       "2            748.62              753.81           16660.0                4.8   \n",
       "3            918.58              918.58           72629.0                5.1   \n",
       "4            750.15              750.15           18231.0                5.2   \n",
       "..              ...                 ...               ...                ...   \n",
       "32              NaN                 NaN               NaN                NaN   \n",
       "33              NaN                 NaN               NaN                NaN   \n",
       "34              NaN                 NaN               NaN                NaN   \n",
       "35              NaN                 NaN               NaN                NaN   \n",
       "36              NaN                 NaN               NaN                NaN   \n",
       "\n",
       "    Óbitos  Taxa_mortalidade  \n",
       "0   1929.0              2.40  \n",
       "1    235.0              2.40  \n",
       "2    106.0              3.06  \n",
       "3    403.0              2.81  \n",
       "4     87.0              2.48  \n",
       "..     ...               ...  \n",
       "32     NaN               NaN  \n",
       "33     NaN               NaN  \n",
       "34     NaN               NaN  \n",
       "35     NaN               NaN  \n",
       "36     NaN               NaN  \n",
       "\n",
       "[462 rows x 17 columns]"
      ]
     },
     "execution_count": 53,
     "metadata": {},
     "output_type": "execute_result"
    }
   ],
   "source": [
    "df = pd.concat(sheets[frame] for frame in sheets.keys())\n",
    "df"
   ]
  },
  {
   "cell_type": "code",
   "execution_count": 54,
   "metadata": {},
   "outputs": [],
   "source": [
    "#formartar nome das regioes\n",
    "\n",
    "df['Região/Unidade da Federação'] = df['Região/Unidade da Federação'].str.replace(r'\\W',\"\")\n",
    "\n",
    "#formartar valores dos campos de - para 0\n",
    "\n",
    "df['Val_serv_prof_-_compl_gestor'] = df['Val_serv_prof_-_compl_gestor'].replace('-','0')\n",
    "df['Val_serv_hosp_-_compl_federal'] = df['Val_serv_hosp_-_compl_federal'].replace('-','0')\n",
    "df['Val_serv_hosp_-_compl_gestor'] = df['Val_serv_hosp_-_compl_gestor'].replace('-','0')\n",
    "df['Val_serv_prof_-_compl_federal'] = df['Val_serv_prof_-_compl_federal'].replace('-','0')\n",
    "\n",
    "#renomear o nome das colunas\n",
    "\n",
    "df.rename({'Região/Unidade da Federação': 'regiao_unidade_da_federacao',\n",
    "           'Val_serv_hosp_-_compl_federal': 'Val_serv_hosp_compl_federal',\n",
    "           'Val_serv_hosp_-_compl_gestor':'Val_serv_hosp_compl_gestor',\n",
    "           'Val_serv_prof_-_compl_federal':'Val_serv_prof_compl_federal',\n",
    "           'Val_serv_prof_-_compl_gestor':'Val_serv_prof_compl_gestor',\n",
    "           'Valor_médio_AIH':'Valor_medio_AIH',\n",
    "           'Valor_médio_intern':'Valor_medio_intern',\n",
    "           'Dias_permanência':'Dias_permanencia',\n",
    "           'Média_permanência':'Media_permanencia',\n",
    "           'Óbitos':'obitos',\n",
    "           'valor_serviços_hospitalares': 'valor_servicos_hospitalares',\n",
    "           'internações':'internacoes',\n",
    "           'Valor_serviços_hospitalares':'Valor_servicos_hospitalares',\n",
    "           'Valor_serviços_profissionais':'Valor_servicos_profissionais',\n",
    "           'Internações':'Internacoes'\n",
    "          },axis=1, inplace=True)\n",
    "\n",
    "#deixar os cabeçalhos em minusculo\n",
    "\n",
    "df.columns = map(str.lower, df.columns)"
   ]
  },
  {
   "cell_type": "code",
   "execution_count": 55,
   "metadata": {},
   "outputs": [
    {
     "data": {
      "text/plain": [
       "33351.0"
      ]
     },
     "execution_count": 55,
     "metadata": {},
     "output_type": "execute_result"
    }
   ],
   "source": [
    "#tirar a mediana de internações de todas as sheets da planilha se referindo a todos os meses e anos\n",
    "df['internacoes'].median()"
   ]
  },
  {
   "cell_type": "code",
   "execution_count": 56,
   "metadata": {},
   "outputs": [
    {
     "data": {
      "text/plain": [
       "27694512.0"
      ]
     },
     "execution_count": 56,
     "metadata": {},
     "output_type": "execute_result"
    }
   ],
   "source": [
    "#tirar o total de internações de todas as sheets da planilha se referindo a todos os meses e anos\n",
    "df['internacoes'].sum()"
   ]
  },
  {
   "cell_type": "code",
   "execution_count": 57,
   "metadata": {},
   "outputs": [],
   "source": [
    "#soma dias de permanencia internado de todos os meses e anos disponiveis na planilha\n",
    "df_permanencia_internacao = df.groupby(['data','internacoes']).agg({'dias_permanencia': np.sum}).reset_index() "
   ]
  },
  {
   "cell_type": "code",
   "execution_count": 58,
   "metadata": {},
   "outputs": [
    {
     "data": {
      "text/html": [
       "<div>\n",
       "<style scoped>\n",
       "    .dataframe tbody tr th:only-of-type {\n",
       "        vertical-align: middle;\n",
       "    }\n",
       "\n",
       "    .dataframe tbody tr th {\n",
       "        vertical-align: top;\n",
       "    }\n",
       "\n",
       "    .dataframe thead th {\n",
       "        text-align: right;\n",
       "    }\n",
       "</style>\n",
       "<table border=\"1\" class=\"dataframe\">\n",
       "  <thead>\n",
       "    <tr style=\"text-align: right;\">\n",
       "      <th></th>\n",
       "      <th>data</th>\n",
       "      <th>internacoes</th>\n",
       "      <th>dias_permanencia</th>\n",
       "    </tr>\n",
       "  </thead>\n",
       "  <tbody>\n",
       "    <tr>\n",
       "      <th>0</th>\n",
       "      <td>2017-12-01</td>\n",
       "      <td>2493.0</td>\n",
       "      <td>12648.0</td>\n",
       "    </tr>\n",
       "    <tr>\n",
       "      <th>1</th>\n",
       "      <td>2017-12-01</td>\n",
       "      <td>3463.0</td>\n",
       "      <td>16660.0</td>\n",
       "    </tr>\n",
       "    <tr>\n",
       "      <th>2</th>\n",
       "      <td>2017-12-01</td>\n",
       "      <td>3513.0</td>\n",
       "      <td>18231.0</td>\n",
       "    </tr>\n",
       "    <tr>\n",
       "      <th>3</th>\n",
       "      <td>2017-12-01</td>\n",
       "      <td>5803.0</td>\n",
       "      <td>28698.0</td>\n",
       "    </tr>\n",
       "    <tr>\n",
       "      <th>4</th>\n",
       "      <td>2017-12-01</td>\n",
       "      <td>6908.0</td>\n",
       "      <td>37040.0</td>\n",
       "    </tr>\n",
       "    <tr>\n",
       "      <th>...</th>\n",
       "      <td>...</td>\n",
       "      <td>...</td>\n",
       "      <td>...</td>\n",
       "    </tr>\n",
       "    <tr>\n",
       "      <th>441</th>\n",
       "      <td>2019-07-01</td>\n",
       "      <td>110732.0</td>\n",
       "      <td>564069.0</td>\n",
       "    </tr>\n",
       "    <tr>\n",
       "      <th>442</th>\n",
       "      <td>2019-07-01</td>\n",
       "      <td>187638.0</td>\n",
       "      <td>941146.0</td>\n",
       "    </tr>\n",
       "    <tr>\n",
       "      <th>443</th>\n",
       "      <td>2019-07-01</td>\n",
       "      <td>214299.0</td>\n",
       "      <td>1192857.0</td>\n",
       "    </tr>\n",
       "    <tr>\n",
       "      <th>444</th>\n",
       "      <td>2019-07-01</td>\n",
       "      <td>267944.0</td>\n",
       "      <td>1395106.0</td>\n",
       "    </tr>\n",
       "    <tr>\n",
       "      <th>445</th>\n",
       "      <td>2019-07-01</td>\n",
       "      <td>408395.0</td>\n",
       "      <td>2300476.0</td>\n",
       "    </tr>\n",
       "  </tbody>\n",
       "</table>\n",
       "<p>446 rows × 3 columns</p>\n",
       "</div>"
      ],
      "text/plain": [
       "          data  internacoes  dias_permanencia\n",
       "0   2017-12-01       2493.0           12648.0\n",
       "1   2017-12-01       3463.0           16660.0\n",
       "2   2017-12-01       3513.0           18231.0\n",
       "3   2017-12-01       5803.0           28698.0\n",
       "4   2017-12-01       6908.0           37040.0\n",
       "..         ...          ...               ...\n",
       "441 2019-07-01     110732.0          564069.0\n",
       "442 2019-07-01     187638.0          941146.0\n",
       "443 2019-07-01     214299.0         1192857.0\n",
       "444 2019-07-01     267944.0         1395106.0\n",
       "445 2019-07-01     408395.0         2300476.0\n",
       "\n",
       "[446 rows x 3 columns]"
      ]
     },
     "execution_count": 58,
     "metadata": {},
     "output_type": "execute_result"
    }
   ],
   "source": [
    "df_permanencia_internacao"
   ]
  },
  {
   "cell_type": "code",
   "execution_count": 60,
   "metadata": {},
   "outputs": [
    {
     "data": {
      "application/vnd.plotly.v1+json": {
       "config": {
        "plotlyServerURL": "https://plot.ly"
       },
       "data": [
        {
         "alignmentgroup": "True",
         "hovertemplate": "<b>%{hovertext}</b><br><br>data=%{x}<br>internacoes=%{y}<br>dias_permanencia=%{marker.color}<extra></extra>",
         "hovertext": [
          12648,
          16660,
          18231,
          28698,
          37040,
          42043,
          74577,
          61001,
          73471,
          72629,
          66488,
          86714,
          97681,
          83497,
          98158,
          127847,
          212341,
          177792,
          173939,
          167386,
          251960,
          425600,
          363698,
          308100,
          353017,
          313874,
          358295,
          501519,
          855364,
          1155837,
          1301639,
          2181114,
          14489,
          15649,
          18126,
          33017,
          40725,
          48101,
          63341,
          80678,
          70656,
          78395,
          88168,
          75386,
          109738,
          89680,
          95532,
          131802,
          179497,
          164193,
          191447,
          240779,
          259811,
          445792,
          368417,
          323610,
          310853,
          380267,
          371970,
          533778,
          870717,
          1164944,
          1373604,
          2240046,
          14169,
          18636,
          19446,
          27526,
          46971,
          47175,
          64229,
          74924,
          91424,
          79680,
          87485,
          73605,
          113415,
          89659,
          101791,
          125777,
          187007,
          193997,
          171709,
          239420,
          260462,
          444325,
          374623,
          330516,
          321244,
          377026,
          378341,
          534974,
          889864,
          1171452,
          1407868,
          2252542,
          14947,
          15859,
          18456,
          29476,
          48441,
          45849,
          69105,
          73492,
          84432,
          88055,
          91282,
          75201,
          89282,
          114229,
          107610,
          130613,
          183303,
          172356,
          199623,
          241505,
          274402,
          453975,
          378660,
          338210,
          325474,
          389148,
          381375,
          541701,
          903757,
          1186537,
          1427972,
          2289823,
          15651,
          19370,
          20078,
          29276,
          49376,
          43583,
          68662,
          76095,
          93792,
          82831,
          92368,
          76040,
          91358,
          99067,
          128478,
          130266,
          175070,
          171880,
          200894,
          239946,
          269650,
          481919,
          395062,
          333803,
          336596,
          403446,
          382669,
          553916,
          932552,
          1192725,
          1421458,
          2327627,
          19489,
          18281,
          20032,
          33763,
          48829,
          49862,
          65443,
          72118,
          87446,
          69747,
          81814,
          92214,
          92535,
          101714,
          135619,
          131985,
          172674,
          174262,
          205463,
          246006,
          266496,
          452446,
          404357,
          339979,
          334521,
          402794,
          397503,
          547279,
          944341,
          1183251,
          1418297,
          2284690,
          16463,
          19848,
          17772,
          29495,
          43673,
          43865,
          66883,
          82405,
          72051,
          85223,
          84490,
          72514,
          86843,
          103233,
          94676,
          133081,
          169744,
          225090,
          194319,
          173131,
          259718,
          443295,
          400650,
          324927,
          328474,
          375711,
          385064,
          536576,
          923443,
          1131315,
          1349674,
          2205862,
          16494,
          23120,
          20423,
          27394,
          44335,
          46239,
          62401,
          68585,
          82973,
          84542,
          69562,
          80197,
          93070,
          85129,
          88870,
          127031,
          168430,
          184704,
          224373,
          168173,
          247070,
          428662,
          379386,
          325311,
          352064,
          324449,
          382040,
          514046,
          888539,
          1120475,
          1330748,
          2152053,
          12900,
          37038,
          27705,
          40940,
          44186,
          69879,
          62002,
          65346,
          81944,
          79608,
          67471,
          77161,
          87254,
          93784,
          131314,
          175421,
          175483,
          217626,
          160348,
          241999,
          387438,
          365798,
          296816,
          342731,
          310115,
          359338,
          508841,
          851396,
          1117191,
          1274889,
          2107254,
          22204,
          15896,
          20383,
          32283,
          47298,
          50638,
          69028,
          66114,
          98414,
          66823,
          87187,
          88946,
          84633,
          118444,
          99934,
          132721,
          162430,
          178890,
          188448,
          242101,
          259221,
          367943,
          457925,
          321233,
          320396,
          384102,
          392780,
          539634,
          876787,
          1185006,
          1388005,
          2282499,
          14069,
          20437,
          16190,
          36939,
          44704,
          44110,
          71229,
          79419,
          86429,
          66906,
          69397,
          80411,
          81342,
          104719,
          90167,
          125461,
          162328,
          180457,
          160326,
          232166,
          238132,
          410270,
          358810,
          282550,
          306517,
          366483,
          372482,
          516766,
          845784,
          1087757,
          1278299,
          2104960,
          15630,
          18617,
          17052,
          35548,
          46772,
          47277,
          73428,
          86394,
          70647,
          86301,
          84585,
          72864,
          88823,
          111462,
          90977,
          135764,
          170598,
          188264,
          174028,
          243893,
          258864,
          422618,
          380488,
          332194,
          310831,
          390737,
          392737,
          545247,
          879583,
          1185184,
          1387267,
          2244026,
          16412,
          20921,
          19579,
          34736,
          43020,
          43589,
          68286,
          77464,
          80499,
          85595,
          87615,
          73361,
          87640,
          109260,
          94647,
          134937,
          168351,
          169860,
          240774,
          197042,
          262572,
          443698,
          388769,
          322222,
          317321,
          385844,
          385596,
          540899,
          903132,
          1147210,
          1375253,
          2226454,
          18703,
          25560,
          37249,
          45789,
          53043,
          70907,
          92162,
          79992,
          74218,
          88357,
          85512,
          81932,
          117029,
          106978,
          135793,
          166594,
          138135,
          238580,
          205917,
          262688,
          436572,
          414630,
          339012,
          320599,
          358202,
          397947,
          564069,
          941146,
          1192857,
          1395106,
          2300476
         ],
         "legendgroup": "",
         "marker": {
          "color": [
           12648,
           16660,
           18231,
           28698,
           37040,
           42043,
           74577,
           61001,
           73471,
           72629,
           66488,
           86714,
           97681,
           83497,
           98158,
           127847,
           212341,
           177792,
           173939,
           167386,
           251960,
           425600,
           363698,
           308100,
           353017,
           313874,
           358295,
           501519,
           855364,
           1155837,
           1301639,
           2181114,
           14489,
           15649,
           18126,
           33017,
           40725,
           48101,
           63341,
           80678,
           70656,
           78395,
           88168,
           75386,
           109738,
           89680,
           95532,
           131802,
           179497,
           164193,
           191447,
           240779,
           259811,
           445792,
           368417,
           323610,
           310853,
           380267,
           371970,
           533778,
           870717,
           1164944,
           1373604,
           2240046,
           14169,
           18636,
           19446,
           27526,
           46971,
           47175,
           64229,
           74924,
           91424,
           79680,
           87485,
           73605,
           113415,
           89659,
           101791,
           125777,
           187007,
           193997,
           171709,
           239420,
           260462,
           444325,
           374623,
           330516,
           321244,
           377026,
           378341,
           534974,
           889864,
           1171452,
           1407868,
           2252542,
           14947,
           15859,
           18456,
           29476,
           48441,
           45849,
           69105,
           73492,
           84432,
           88055,
           91282,
           75201,
           89282,
           114229,
           107610,
           130613,
           183303,
           172356,
           199623,
           241505,
           274402,
           453975,
           378660,
           338210,
           325474,
           389148,
           381375,
           541701,
           903757,
           1186537,
           1427972,
           2289823,
           15651,
           19370,
           20078,
           29276,
           49376,
           43583,
           68662,
           76095,
           93792,
           82831,
           92368,
           76040,
           91358,
           99067,
           128478,
           130266,
           175070,
           171880,
           200894,
           239946,
           269650,
           481919,
           395062,
           333803,
           336596,
           403446,
           382669,
           553916,
           932552,
           1192725,
           1421458,
           2327627,
           19489,
           18281,
           20032,
           33763,
           48829,
           49862,
           65443,
           72118,
           87446,
           69747,
           81814,
           92214,
           92535,
           101714,
           135619,
           131985,
           172674,
           174262,
           205463,
           246006,
           266496,
           452446,
           404357,
           339979,
           334521,
           402794,
           397503,
           547279,
           944341,
           1183251,
           1418297,
           2284690,
           16463,
           19848,
           17772,
           29495,
           43673,
           43865,
           66883,
           82405,
           72051,
           85223,
           84490,
           72514,
           86843,
           103233,
           94676,
           133081,
           169744,
           225090,
           194319,
           173131,
           259718,
           443295,
           400650,
           324927,
           328474,
           375711,
           385064,
           536576,
           923443,
           1131315,
           1349674,
           2205862,
           16494,
           23120,
           20423,
           27394,
           44335,
           46239,
           62401,
           68585,
           82973,
           84542,
           69562,
           80197,
           93070,
           85129,
           88870,
           127031,
           168430,
           184704,
           224373,
           168173,
           247070,
           428662,
           379386,
           325311,
           352064,
           324449,
           382040,
           514046,
           888539,
           1120475,
           1330748,
           2152053,
           12900,
           37038,
           27705,
           40940,
           44186,
           69879,
           62002,
           65346,
           81944,
           79608,
           67471,
           77161,
           87254,
           93784,
           131314,
           175421,
           175483,
           217626,
           160348,
           241999,
           387438,
           365798,
           296816,
           342731,
           310115,
           359338,
           508841,
           851396,
           1117191,
           1274889,
           2107254,
           22204,
           15896,
           20383,
           32283,
           47298,
           50638,
           69028,
           66114,
           98414,
           66823,
           87187,
           88946,
           84633,
           118444,
           99934,
           132721,
           162430,
           178890,
           188448,
           242101,
           259221,
           367943,
           457925,
           321233,
           320396,
           384102,
           392780,
           539634,
           876787,
           1185006,
           1388005,
           2282499,
           14069,
           20437,
           16190,
           36939,
           44704,
           44110,
           71229,
           79419,
           86429,
           66906,
           69397,
           80411,
           81342,
           104719,
           90167,
           125461,
           162328,
           180457,
           160326,
           232166,
           238132,
           410270,
           358810,
           282550,
           306517,
           366483,
           372482,
           516766,
           845784,
           1087757,
           1278299,
           2104960,
           15630,
           18617,
           17052,
           35548,
           46772,
           47277,
           73428,
           86394,
           70647,
           86301,
           84585,
           72864,
           88823,
           111462,
           90977,
           135764,
           170598,
           188264,
           174028,
           243893,
           258864,
           422618,
           380488,
           332194,
           310831,
           390737,
           392737,
           545247,
           879583,
           1185184,
           1387267,
           2244026,
           16412,
           20921,
           19579,
           34736,
           43020,
           43589,
           68286,
           77464,
           80499,
           85595,
           87615,
           73361,
           87640,
           109260,
           94647,
           134937,
           168351,
           169860,
           240774,
           197042,
           262572,
           443698,
           388769,
           322222,
           317321,
           385844,
           385596,
           540899,
           903132,
           1147210,
           1375253,
           2226454,
           18703,
           25560,
           37249,
           45789,
           53043,
           70907,
           92162,
           79992,
           74218,
           88357,
           85512,
           81932,
           117029,
           106978,
           135793,
           166594,
           138135,
           238580,
           205917,
           262688,
           436572,
           414630,
           339012,
           320599,
           358202,
           397947,
           564069,
           941146,
           1192857,
           1395106,
           2300476
          ],
          "coloraxis": "coloraxis",
          "pattern": {
           "shape": ""
          }
         },
         "name": "",
         "offsetgroup": "",
         "orientation": "v",
         "showlegend": false,
         "textposition": "auto",
         "type": "bar",
         "x": [
          "2017-12-01T00:00:00",
          "2017-12-01T00:00:00",
          "2017-12-01T00:00:00",
          "2017-12-01T00:00:00",
          "2017-12-01T00:00:00",
          "2017-12-01T00:00:00",
          "2017-12-01T00:00:00",
          "2017-12-01T00:00:00",
          "2017-12-01T00:00:00",
          "2017-12-01T00:00:00",
          "2017-12-01T00:00:00",
          "2017-12-01T00:00:00",
          "2017-12-01T00:00:00",
          "2017-12-01T00:00:00",
          "2017-12-01T00:00:00",
          "2017-12-01T00:00:00",
          "2017-12-01T00:00:00",
          "2017-12-01T00:00:00",
          "2017-12-01T00:00:00",
          "2017-12-01T00:00:00",
          "2017-12-01T00:00:00",
          "2017-12-01T00:00:00",
          "2017-12-01T00:00:00",
          "2017-12-01T00:00:00",
          "2017-12-01T00:00:00",
          "2017-12-01T00:00:00",
          "2017-12-01T00:00:00",
          "2017-12-01T00:00:00",
          "2017-12-01T00:00:00",
          "2017-12-01T00:00:00",
          "2017-12-01T00:00:00",
          "2017-12-01T00:00:00",
          "2018-03-01T00:00:00",
          "2018-03-01T00:00:00",
          "2018-03-01T00:00:00",
          "2018-03-01T00:00:00",
          "2018-03-01T00:00:00",
          "2018-03-01T00:00:00",
          "2018-03-01T00:00:00",
          "2018-03-01T00:00:00",
          "2018-03-01T00:00:00",
          "2018-03-01T00:00:00",
          "2018-03-01T00:00:00",
          "2018-03-01T00:00:00",
          "2018-03-01T00:00:00",
          "2018-03-01T00:00:00",
          "2018-03-01T00:00:00",
          "2018-03-01T00:00:00",
          "2018-03-01T00:00:00",
          "2018-03-01T00:00:00",
          "2018-03-01T00:00:00",
          "2018-03-01T00:00:00",
          "2018-03-01T00:00:00",
          "2018-03-01T00:00:00",
          "2018-03-01T00:00:00",
          "2018-03-01T00:00:00",
          "2018-03-01T00:00:00",
          "2018-03-01T00:00:00",
          "2018-03-01T00:00:00",
          "2018-03-01T00:00:00",
          "2018-03-01T00:00:00",
          "2018-03-01T00:00:00",
          "2018-03-01T00:00:00",
          "2018-03-01T00:00:00",
          "2018-04-01T00:00:00",
          "2018-04-01T00:00:00",
          "2018-04-01T00:00:00",
          "2018-04-01T00:00:00",
          "2018-04-01T00:00:00",
          "2018-04-01T00:00:00",
          "2018-04-01T00:00:00",
          "2018-04-01T00:00:00",
          "2018-04-01T00:00:00",
          "2018-04-01T00:00:00",
          "2018-04-01T00:00:00",
          "2018-04-01T00:00:00",
          "2018-04-01T00:00:00",
          "2018-04-01T00:00:00",
          "2018-04-01T00:00:00",
          "2018-04-01T00:00:00",
          "2018-04-01T00:00:00",
          "2018-04-01T00:00:00",
          "2018-04-01T00:00:00",
          "2018-04-01T00:00:00",
          "2018-04-01T00:00:00",
          "2018-04-01T00:00:00",
          "2018-04-01T00:00:00",
          "2018-04-01T00:00:00",
          "2018-04-01T00:00:00",
          "2018-04-01T00:00:00",
          "2018-04-01T00:00:00",
          "2018-04-01T00:00:00",
          "2018-04-01T00:00:00",
          "2018-04-01T00:00:00",
          "2018-04-01T00:00:00",
          "2018-04-01T00:00:00",
          "2018-05-01T00:00:00",
          "2018-05-01T00:00:00",
          "2018-05-01T00:00:00",
          "2018-05-01T00:00:00",
          "2018-05-01T00:00:00",
          "2018-05-01T00:00:00",
          "2018-05-01T00:00:00",
          "2018-05-01T00:00:00",
          "2018-05-01T00:00:00",
          "2018-05-01T00:00:00",
          "2018-05-01T00:00:00",
          "2018-05-01T00:00:00",
          "2018-05-01T00:00:00",
          "2018-05-01T00:00:00",
          "2018-05-01T00:00:00",
          "2018-05-01T00:00:00",
          "2018-05-01T00:00:00",
          "2018-05-01T00:00:00",
          "2018-05-01T00:00:00",
          "2018-05-01T00:00:00",
          "2018-05-01T00:00:00",
          "2018-05-01T00:00:00",
          "2018-05-01T00:00:00",
          "2018-05-01T00:00:00",
          "2018-05-01T00:00:00",
          "2018-05-01T00:00:00",
          "2018-05-01T00:00:00",
          "2018-05-01T00:00:00",
          "2018-05-01T00:00:00",
          "2018-05-01T00:00:00",
          "2018-05-01T00:00:00",
          "2018-05-01T00:00:00",
          "2018-07-01T00:00:00",
          "2018-07-01T00:00:00",
          "2018-07-01T00:00:00",
          "2018-07-01T00:00:00",
          "2018-07-01T00:00:00",
          "2018-07-01T00:00:00",
          "2018-07-01T00:00:00",
          "2018-07-01T00:00:00",
          "2018-07-01T00:00:00",
          "2018-07-01T00:00:00",
          "2018-07-01T00:00:00",
          "2018-07-01T00:00:00",
          "2018-07-01T00:00:00",
          "2018-07-01T00:00:00",
          "2018-07-01T00:00:00",
          "2018-07-01T00:00:00",
          "2018-07-01T00:00:00",
          "2018-07-01T00:00:00",
          "2018-07-01T00:00:00",
          "2018-07-01T00:00:00",
          "2018-07-01T00:00:00",
          "2018-07-01T00:00:00",
          "2018-07-01T00:00:00",
          "2018-07-01T00:00:00",
          "2018-07-01T00:00:00",
          "2018-07-01T00:00:00",
          "2018-07-01T00:00:00",
          "2018-07-01T00:00:00",
          "2018-07-01T00:00:00",
          "2018-07-01T00:00:00",
          "2018-07-01T00:00:00",
          "2018-07-01T00:00:00",
          "2018-08-01T00:00:00",
          "2018-08-01T00:00:00",
          "2018-08-01T00:00:00",
          "2018-08-01T00:00:00",
          "2018-08-01T00:00:00",
          "2018-08-01T00:00:00",
          "2018-08-01T00:00:00",
          "2018-08-01T00:00:00",
          "2018-08-01T00:00:00",
          "2018-08-01T00:00:00",
          "2018-08-01T00:00:00",
          "2018-08-01T00:00:00",
          "2018-08-01T00:00:00",
          "2018-08-01T00:00:00",
          "2018-08-01T00:00:00",
          "2018-08-01T00:00:00",
          "2018-08-01T00:00:00",
          "2018-08-01T00:00:00",
          "2018-08-01T00:00:00",
          "2018-08-01T00:00:00",
          "2018-08-01T00:00:00",
          "2018-08-01T00:00:00",
          "2018-08-01T00:00:00",
          "2018-08-01T00:00:00",
          "2018-08-01T00:00:00",
          "2018-08-01T00:00:00",
          "2018-08-01T00:00:00",
          "2018-08-01T00:00:00",
          "2018-08-01T00:00:00",
          "2018-08-01T00:00:00",
          "2018-08-01T00:00:00",
          "2018-08-01T00:00:00",
          "2018-09-01T00:00:00",
          "2018-09-01T00:00:00",
          "2018-09-01T00:00:00",
          "2018-09-01T00:00:00",
          "2018-09-01T00:00:00",
          "2018-09-01T00:00:00",
          "2018-09-01T00:00:00",
          "2018-09-01T00:00:00",
          "2018-09-01T00:00:00",
          "2018-09-01T00:00:00",
          "2018-09-01T00:00:00",
          "2018-09-01T00:00:00",
          "2018-09-01T00:00:00",
          "2018-09-01T00:00:00",
          "2018-09-01T00:00:00",
          "2018-09-01T00:00:00",
          "2018-09-01T00:00:00",
          "2018-09-01T00:00:00",
          "2018-09-01T00:00:00",
          "2018-09-01T00:00:00",
          "2018-09-01T00:00:00",
          "2018-09-01T00:00:00",
          "2018-09-01T00:00:00",
          "2018-09-01T00:00:00",
          "2018-09-01T00:00:00",
          "2018-09-01T00:00:00",
          "2018-09-01T00:00:00",
          "2018-09-01T00:00:00",
          "2018-09-01T00:00:00",
          "2018-09-01T00:00:00",
          "2018-09-01T00:00:00",
          "2018-09-01T00:00:00",
          "2018-11-01T00:00:00",
          "2018-11-01T00:00:00",
          "2018-11-01T00:00:00",
          "2018-11-01T00:00:00",
          "2018-11-01T00:00:00",
          "2018-11-01T00:00:00",
          "2018-11-01T00:00:00",
          "2018-11-01T00:00:00",
          "2018-11-01T00:00:00",
          "2018-11-01T00:00:00",
          "2018-11-01T00:00:00",
          "2018-11-01T00:00:00",
          "2018-11-01T00:00:00",
          "2018-11-01T00:00:00",
          "2018-11-01T00:00:00",
          "2018-11-01T00:00:00",
          "2018-11-01T00:00:00",
          "2018-11-01T00:00:00",
          "2018-11-01T00:00:00",
          "2018-11-01T00:00:00",
          "2018-11-01T00:00:00",
          "2018-11-01T00:00:00",
          "2018-11-01T00:00:00",
          "2018-11-01T00:00:00",
          "2018-11-01T00:00:00",
          "2018-11-01T00:00:00",
          "2018-11-01T00:00:00",
          "2018-11-01T00:00:00",
          "2018-11-01T00:00:00",
          "2018-11-01T00:00:00",
          "2018-11-01T00:00:00",
          "2018-11-01T00:00:00",
          "2018-12-01T00:00:00",
          "2018-12-01T00:00:00",
          "2018-12-01T00:00:00",
          "2018-12-01T00:00:00",
          "2018-12-01T00:00:00",
          "2018-12-01T00:00:00",
          "2018-12-01T00:00:00",
          "2018-12-01T00:00:00",
          "2018-12-01T00:00:00",
          "2018-12-01T00:00:00",
          "2018-12-01T00:00:00",
          "2018-12-01T00:00:00",
          "2018-12-01T00:00:00",
          "2018-12-01T00:00:00",
          "2018-12-01T00:00:00",
          "2018-12-01T00:00:00",
          "2018-12-01T00:00:00",
          "2018-12-01T00:00:00",
          "2018-12-01T00:00:00",
          "2018-12-01T00:00:00",
          "2018-12-01T00:00:00",
          "2018-12-01T00:00:00",
          "2018-12-01T00:00:00",
          "2018-12-01T00:00:00",
          "2018-12-01T00:00:00",
          "2018-12-01T00:00:00",
          "2018-12-01T00:00:00",
          "2018-12-01T00:00:00",
          "2018-12-01T00:00:00",
          "2018-12-01T00:00:00",
          "2018-12-01T00:00:00",
          "2019-01-01T00:00:00",
          "2019-01-01T00:00:00",
          "2019-01-01T00:00:00",
          "2019-01-01T00:00:00",
          "2019-01-01T00:00:00",
          "2019-01-01T00:00:00",
          "2019-01-01T00:00:00",
          "2019-01-01T00:00:00",
          "2019-01-01T00:00:00",
          "2019-01-01T00:00:00",
          "2019-01-01T00:00:00",
          "2019-01-01T00:00:00",
          "2019-01-01T00:00:00",
          "2019-01-01T00:00:00",
          "2019-01-01T00:00:00",
          "2019-01-01T00:00:00",
          "2019-01-01T00:00:00",
          "2019-01-01T00:00:00",
          "2019-01-01T00:00:00",
          "2019-01-01T00:00:00",
          "2019-01-01T00:00:00",
          "2019-01-01T00:00:00",
          "2019-01-01T00:00:00",
          "2019-01-01T00:00:00",
          "2019-01-01T00:00:00",
          "2019-01-01T00:00:00",
          "2019-01-01T00:00:00",
          "2019-01-01T00:00:00",
          "2019-01-01T00:00:00",
          "2019-01-01T00:00:00",
          "2019-01-01T00:00:00",
          "2019-01-01T00:00:00",
          "2019-02-01T00:00:00",
          "2019-02-01T00:00:00",
          "2019-02-01T00:00:00",
          "2019-02-01T00:00:00",
          "2019-02-01T00:00:00",
          "2019-02-01T00:00:00",
          "2019-02-01T00:00:00",
          "2019-02-01T00:00:00",
          "2019-02-01T00:00:00",
          "2019-02-01T00:00:00",
          "2019-02-01T00:00:00",
          "2019-02-01T00:00:00",
          "2019-02-01T00:00:00",
          "2019-02-01T00:00:00",
          "2019-02-01T00:00:00",
          "2019-02-01T00:00:00",
          "2019-02-01T00:00:00",
          "2019-02-01T00:00:00",
          "2019-02-01T00:00:00",
          "2019-02-01T00:00:00",
          "2019-02-01T00:00:00",
          "2019-02-01T00:00:00",
          "2019-02-01T00:00:00",
          "2019-02-01T00:00:00",
          "2019-02-01T00:00:00",
          "2019-02-01T00:00:00",
          "2019-02-01T00:00:00",
          "2019-02-01T00:00:00",
          "2019-02-01T00:00:00",
          "2019-02-01T00:00:00",
          "2019-02-01T00:00:00",
          "2019-02-01T00:00:00",
          "2019-04-01T00:00:00",
          "2019-04-01T00:00:00",
          "2019-04-01T00:00:00",
          "2019-04-01T00:00:00",
          "2019-04-01T00:00:00",
          "2019-04-01T00:00:00",
          "2019-04-01T00:00:00",
          "2019-04-01T00:00:00",
          "2019-04-01T00:00:00",
          "2019-04-01T00:00:00",
          "2019-04-01T00:00:00",
          "2019-04-01T00:00:00",
          "2019-04-01T00:00:00",
          "2019-04-01T00:00:00",
          "2019-04-01T00:00:00",
          "2019-04-01T00:00:00",
          "2019-04-01T00:00:00",
          "2019-04-01T00:00:00",
          "2019-04-01T00:00:00",
          "2019-04-01T00:00:00",
          "2019-04-01T00:00:00",
          "2019-04-01T00:00:00",
          "2019-04-01T00:00:00",
          "2019-04-01T00:00:00",
          "2019-04-01T00:00:00",
          "2019-04-01T00:00:00",
          "2019-04-01T00:00:00",
          "2019-04-01T00:00:00",
          "2019-04-01T00:00:00",
          "2019-04-01T00:00:00",
          "2019-04-01T00:00:00",
          "2019-04-01T00:00:00",
          "2019-06-01T00:00:00",
          "2019-06-01T00:00:00",
          "2019-06-01T00:00:00",
          "2019-06-01T00:00:00",
          "2019-06-01T00:00:00",
          "2019-06-01T00:00:00",
          "2019-06-01T00:00:00",
          "2019-06-01T00:00:00",
          "2019-06-01T00:00:00",
          "2019-06-01T00:00:00",
          "2019-06-01T00:00:00",
          "2019-06-01T00:00:00",
          "2019-06-01T00:00:00",
          "2019-06-01T00:00:00",
          "2019-06-01T00:00:00",
          "2019-06-01T00:00:00",
          "2019-06-01T00:00:00",
          "2019-06-01T00:00:00",
          "2019-06-01T00:00:00",
          "2019-06-01T00:00:00",
          "2019-06-01T00:00:00",
          "2019-06-01T00:00:00",
          "2019-06-01T00:00:00",
          "2019-06-01T00:00:00",
          "2019-06-01T00:00:00",
          "2019-06-01T00:00:00",
          "2019-06-01T00:00:00",
          "2019-06-01T00:00:00",
          "2019-06-01T00:00:00",
          "2019-06-01T00:00:00",
          "2019-06-01T00:00:00",
          "2019-06-01T00:00:00",
          "2019-07-01T00:00:00",
          "2019-07-01T00:00:00",
          "2019-07-01T00:00:00",
          "2019-07-01T00:00:00",
          "2019-07-01T00:00:00",
          "2019-07-01T00:00:00",
          "2019-07-01T00:00:00",
          "2019-07-01T00:00:00",
          "2019-07-01T00:00:00",
          "2019-07-01T00:00:00",
          "2019-07-01T00:00:00",
          "2019-07-01T00:00:00",
          "2019-07-01T00:00:00",
          "2019-07-01T00:00:00",
          "2019-07-01T00:00:00",
          "2019-07-01T00:00:00",
          "2019-07-01T00:00:00",
          "2019-07-01T00:00:00",
          "2019-07-01T00:00:00",
          "2019-07-01T00:00:00",
          "2019-07-01T00:00:00",
          "2019-07-01T00:00:00",
          "2019-07-01T00:00:00",
          "2019-07-01T00:00:00",
          "2019-07-01T00:00:00",
          "2019-07-01T00:00:00",
          "2019-07-01T00:00:00",
          "2019-07-01T00:00:00",
          "2019-07-01T00:00:00",
          "2019-07-01T00:00:00",
          "2019-07-01T00:00:00"
         ],
         "xaxis": "x",
         "y": [
          2493,
          3463,
          3513,
          5803,
          6908,
          9783,
          12602,
          13411,
          13557,
          14337,
          14931,
          14998,
          15334,
          17763,
          20115,
          26601,
          37661,
          38118,
          38308,
          40967,
          45467,
          53294,
          60383,
          62557,
          70277,
          70396,
          80359,
          98755,
          168897,
          198083,
          249821,
          370247,
          3018,
          3339,
          3567,
          6335,
          7280,
          10315,
          13502,
          14246,
          14252,
          15120,
          15614,
          16674,
          17820,
          18425,
          19599,
          27890,
          39267,
          40553,
          41757,
          42387,
          47835,
          58584,
          61995,
          66504,
          71795,
          75886,
          82247,
          105344,
          175547,
          211205,
          265810,
          394732,
          2723,
          3461,
          4237,
          5166,
          7993,
          10290,
          13927,
          14713,
          15363,
          15446,
          15569,
          16113,
          18192,
          18292,
          21100,
          27058,
          40613,
          41428,
          41899,
          43074,
          47612,
          60348,
          62533,
          70190,
          73214,
          75290,
          83222,
          105513,
          177175,
          210204,
          273419,
          397165,
          2504,
          3309,
          3504,
          5851,
          8389,
          10537,
          14360,
          15118,
          15705,
          15751,
          16364,
          16591,
          18548,
          18943,
          21471,
          28492,
          40561,
          41519,
          41710,
          43237,
          49833,
          61332,
          62498,
          70984,
          73085,
          78386,
          82929,
          105513,
          177293,
          212696,
          278785,
          401012,
          2897,
          3661,
          3941,
          5783,
          8572,
          9965,
          14634,
          14975,
          15444,
          15802,
          16113,
          16499,
          18206,
          20408,
          20646,
          27002,
          39301,
          40598,
          42849,
          42936,
          47708,
          62421,
          64053,
          70628,
          74451,
          78781,
          82647,
          106719,
          181353,
          207804,
          273883,
          397352,
          3506,
          3739,
          3982,
          5917,
          8557,
          10379,
          13642,
          14484,
          14917,
          15367,
          15657,
          16558,
          18546,
          20517,
          20828,
          27281,
          39636,
          41606,
          43170,
          43485,
          48823,
          61022,
          64525,
          71433,
          74103,
          77118,
          84786,
          105993,
          181798,
          212547,
          276439,
          400079,
          3471,
          3693,
          3698,
          5388,
          8014,
          9494,
          14179,
          14562,
          14857,
          15125,
          15803,
          16147,
          17961,
          18002,
          19575,
          27826,
          38514,
          40642,
          41185,
          42407,
          46265,
          58775,
          63580,
          69091,
          73357,
          76154,
          83954,
          104207,
          178122,
          203113,
          265031,
          385670,
          3438,
          3696,
          3766,
          5249,
          7518,
          9498,
          13695,
          14205,
          14480,
          14880,
          15167,
          15196,
          15461,
          17380,
          19328,
          26386,
          38106,
          39606,
          40878,
          41006,
          45745,
          57284,
          61241,
          68937,
          70709,
          74335,
          81849,
          100308,
          175182,
          201634,
          262129,
          378554,
          2580,
          3591,
          5209,
          7109,
          9444,
          12567,
          13117,
          13443,
          13892,
          14230,
          14796,
          15117,
          18112,
          18887,
          26818,
          37420,
          38206,
          39262,
          39340,
          43396,
          52664,
          59573,
          63026,
          68623,
          69396,
          78872,
          100584,
          167175,
          197493,
          248565,
          369628,
          3274,
          3284,
          3640,
          5698,
          7888,
          9705,
          13509,
          14192,
          14764,
          14777,
          14803,
          17444,
          17601,
          18401,
          19382,
          27005,
          38091,
          38717,
          40755,
          44176,
          45812,
          59533,
          60470,
          66460,
          72424,
          74375,
          81136,
          102950,
          172712,
          205741,
          263730,
          388543,
          2899,
          3086,
          3463,
          6106,
          7229,
          9621,
          13327,
          13971,
          14120,
          14263,
          14710,
          15345,
          16879,
          18473,
          19010,
          26070,
          35905,
          38940,
          39237,
          41793,
          43829,
          56642,
          59283,
          63223,
          70915,
          73516,
          79757,
          101050,
          169138,
          197813,
          250276,
          374515,
          3037,
          3172,
          3468,
          6413,
          8329,
          10363,
          13815,
          14886,
          15213,
          15562,
          16052,
          16089,
          17815,
          19459,
          19504,
          28434,
          38263,
          41215,
          41561,
          44173,
          48588,
          58084,
          62291,
          71038,
          72330,
          79195,
          84066,
          108124,
          175836,
          215787,
          272469,
          401499,
          3166,
          3591,
          4213,
          6147,
          7817,
          9380,
          14515,
          14788,
          15199,
          15270,
          15888,
          16007,
          17855,
          18765,
          19856,
          28023,
          35229,
          40506,
          41645,
          42729,
          48332,
          60909,
          65315,
          70074,
          73283,
          77310,
          82202,
          107102,
          181327,
          209812,
          266898,
          397679,
          3407,
          4324,
          7007,
          8032,
          9603,
          15150,
          15435,
          15459,
          15824,
          16022,
          16248,
          16590,
          19976,
          21645,
          27835,
          33351,
          34774,
          41228,
          44943,
          49437,
          61719,
          67850,
          72390,
          74845,
          75363,
          78785,
          110732,
          187638,
          214299,
          267944,
          408395
         ],
         "yaxis": "y"
        }
       ],
       "layout": {
        "barmode": "relative",
        "coloraxis": {
         "colorbar": {
          "title": {
           "text": "dias_permanencia"
          }
         },
         "colorscale": [
          [
           0,
           "#0d0887"
          ],
          [
           0.1111111111111111,
           "#46039f"
          ],
          [
           0.2222222222222222,
           "#7201a8"
          ],
          [
           0.3333333333333333,
           "#9c179e"
          ],
          [
           0.4444444444444444,
           "#bd3786"
          ],
          [
           0.5555555555555556,
           "#d8576b"
          ],
          [
           0.6666666666666666,
           "#ed7953"
          ],
          [
           0.7777777777777778,
           "#fb9f3a"
          ],
          [
           0.8888888888888888,
           "#fdca26"
          ],
          [
           1,
           "#f0f921"
          ]
         ]
        },
        "legend": {
         "tracegroupgap": 0
        },
        "template": {
         "data": {
          "bar": [
           {
            "error_x": {
             "color": "#2a3f5f"
            },
            "error_y": {
             "color": "#2a3f5f"
            },
            "marker": {
             "line": {
              "color": "#E5ECF6",
              "width": 0.5
             },
             "pattern": {
              "fillmode": "overlay",
              "size": 10,
              "solidity": 0.2
             }
            },
            "type": "bar"
           }
          ],
          "barpolar": [
           {
            "marker": {
             "line": {
              "color": "#E5ECF6",
              "width": 0.5
             },
             "pattern": {
              "fillmode": "overlay",
              "size": 10,
              "solidity": 0.2
             }
            },
            "type": "barpolar"
           }
          ],
          "carpet": [
           {
            "aaxis": {
             "endlinecolor": "#2a3f5f",
             "gridcolor": "white",
             "linecolor": "white",
             "minorgridcolor": "white",
             "startlinecolor": "#2a3f5f"
            },
            "baxis": {
             "endlinecolor": "#2a3f5f",
             "gridcolor": "white",
             "linecolor": "white",
             "minorgridcolor": "white",
             "startlinecolor": "#2a3f5f"
            },
            "type": "carpet"
           }
          ],
          "choropleth": [
           {
            "colorbar": {
             "outlinewidth": 0,
             "ticks": ""
            },
            "type": "choropleth"
           }
          ],
          "contour": [
           {
            "colorbar": {
             "outlinewidth": 0,
             "ticks": ""
            },
            "colorscale": [
             [
              0,
              "#0d0887"
             ],
             [
              0.1111111111111111,
              "#46039f"
             ],
             [
              0.2222222222222222,
              "#7201a8"
             ],
             [
              0.3333333333333333,
              "#9c179e"
             ],
             [
              0.4444444444444444,
              "#bd3786"
             ],
             [
              0.5555555555555556,
              "#d8576b"
             ],
             [
              0.6666666666666666,
              "#ed7953"
             ],
             [
              0.7777777777777778,
              "#fb9f3a"
             ],
             [
              0.8888888888888888,
              "#fdca26"
             ],
             [
              1,
              "#f0f921"
             ]
            ],
            "type": "contour"
           }
          ],
          "contourcarpet": [
           {
            "colorbar": {
             "outlinewidth": 0,
             "ticks": ""
            },
            "type": "contourcarpet"
           }
          ],
          "heatmap": [
           {
            "colorbar": {
             "outlinewidth": 0,
             "ticks": ""
            },
            "colorscale": [
             [
              0,
              "#0d0887"
             ],
             [
              0.1111111111111111,
              "#46039f"
             ],
             [
              0.2222222222222222,
              "#7201a8"
             ],
             [
              0.3333333333333333,
              "#9c179e"
             ],
             [
              0.4444444444444444,
              "#bd3786"
             ],
             [
              0.5555555555555556,
              "#d8576b"
             ],
             [
              0.6666666666666666,
              "#ed7953"
             ],
             [
              0.7777777777777778,
              "#fb9f3a"
             ],
             [
              0.8888888888888888,
              "#fdca26"
             ],
             [
              1,
              "#f0f921"
             ]
            ],
            "type": "heatmap"
           }
          ],
          "heatmapgl": [
           {
            "colorbar": {
             "outlinewidth": 0,
             "ticks": ""
            },
            "colorscale": [
             [
              0,
              "#0d0887"
             ],
             [
              0.1111111111111111,
              "#46039f"
             ],
             [
              0.2222222222222222,
              "#7201a8"
             ],
             [
              0.3333333333333333,
              "#9c179e"
             ],
             [
              0.4444444444444444,
              "#bd3786"
             ],
             [
              0.5555555555555556,
              "#d8576b"
             ],
             [
              0.6666666666666666,
              "#ed7953"
             ],
             [
              0.7777777777777778,
              "#fb9f3a"
             ],
             [
              0.8888888888888888,
              "#fdca26"
             ],
             [
              1,
              "#f0f921"
             ]
            ],
            "type": "heatmapgl"
           }
          ],
          "histogram": [
           {
            "marker": {
             "pattern": {
              "fillmode": "overlay",
              "size": 10,
              "solidity": 0.2
             }
            },
            "type": "histogram"
           }
          ],
          "histogram2d": [
           {
            "colorbar": {
             "outlinewidth": 0,
             "ticks": ""
            },
            "colorscale": [
             [
              0,
              "#0d0887"
             ],
             [
              0.1111111111111111,
              "#46039f"
             ],
             [
              0.2222222222222222,
              "#7201a8"
             ],
             [
              0.3333333333333333,
              "#9c179e"
             ],
             [
              0.4444444444444444,
              "#bd3786"
             ],
             [
              0.5555555555555556,
              "#d8576b"
             ],
             [
              0.6666666666666666,
              "#ed7953"
             ],
             [
              0.7777777777777778,
              "#fb9f3a"
             ],
             [
              0.8888888888888888,
              "#fdca26"
             ],
             [
              1,
              "#f0f921"
             ]
            ],
            "type": "histogram2d"
           }
          ],
          "histogram2dcontour": [
           {
            "colorbar": {
             "outlinewidth": 0,
             "ticks": ""
            },
            "colorscale": [
             [
              0,
              "#0d0887"
             ],
             [
              0.1111111111111111,
              "#46039f"
             ],
             [
              0.2222222222222222,
              "#7201a8"
             ],
             [
              0.3333333333333333,
              "#9c179e"
             ],
             [
              0.4444444444444444,
              "#bd3786"
             ],
             [
              0.5555555555555556,
              "#d8576b"
             ],
             [
              0.6666666666666666,
              "#ed7953"
             ],
             [
              0.7777777777777778,
              "#fb9f3a"
             ],
             [
              0.8888888888888888,
              "#fdca26"
             ],
             [
              1,
              "#f0f921"
             ]
            ],
            "type": "histogram2dcontour"
           }
          ],
          "mesh3d": [
           {
            "colorbar": {
             "outlinewidth": 0,
             "ticks": ""
            },
            "type": "mesh3d"
           }
          ],
          "parcoords": [
           {
            "line": {
             "colorbar": {
              "outlinewidth": 0,
              "ticks": ""
             }
            },
            "type": "parcoords"
           }
          ],
          "pie": [
           {
            "automargin": true,
            "type": "pie"
           }
          ],
          "scatter": [
           {
            "fillpattern": {
             "fillmode": "overlay",
             "size": 10,
             "solidity": 0.2
            },
            "type": "scatter"
           }
          ],
          "scatter3d": [
           {
            "line": {
             "colorbar": {
              "outlinewidth": 0,
              "ticks": ""
             }
            },
            "marker": {
             "colorbar": {
              "outlinewidth": 0,
              "ticks": ""
             }
            },
            "type": "scatter3d"
           }
          ],
          "scattercarpet": [
           {
            "marker": {
             "colorbar": {
              "outlinewidth": 0,
              "ticks": ""
             }
            },
            "type": "scattercarpet"
           }
          ],
          "scattergeo": [
           {
            "marker": {
             "colorbar": {
              "outlinewidth": 0,
              "ticks": ""
             }
            },
            "type": "scattergeo"
           }
          ],
          "scattergl": [
           {
            "marker": {
             "colorbar": {
              "outlinewidth": 0,
              "ticks": ""
             }
            },
            "type": "scattergl"
           }
          ],
          "scattermapbox": [
           {
            "marker": {
             "colorbar": {
              "outlinewidth": 0,
              "ticks": ""
             }
            },
            "type": "scattermapbox"
           }
          ],
          "scatterpolar": [
           {
            "marker": {
             "colorbar": {
              "outlinewidth": 0,
              "ticks": ""
             }
            },
            "type": "scatterpolar"
           }
          ],
          "scatterpolargl": [
           {
            "marker": {
             "colorbar": {
              "outlinewidth": 0,
              "ticks": ""
             }
            },
            "type": "scatterpolargl"
           }
          ],
          "scatterternary": [
           {
            "marker": {
             "colorbar": {
              "outlinewidth": 0,
              "ticks": ""
             }
            },
            "type": "scatterternary"
           }
          ],
          "surface": [
           {
            "colorbar": {
             "outlinewidth": 0,
             "ticks": ""
            },
            "colorscale": [
             [
              0,
              "#0d0887"
             ],
             [
              0.1111111111111111,
              "#46039f"
             ],
             [
              0.2222222222222222,
              "#7201a8"
             ],
             [
              0.3333333333333333,
              "#9c179e"
             ],
             [
              0.4444444444444444,
              "#bd3786"
             ],
             [
              0.5555555555555556,
              "#d8576b"
             ],
             [
              0.6666666666666666,
              "#ed7953"
             ],
             [
              0.7777777777777778,
              "#fb9f3a"
             ],
             [
              0.8888888888888888,
              "#fdca26"
             ],
             [
              1,
              "#f0f921"
             ]
            ],
            "type": "surface"
           }
          ],
          "table": [
           {
            "cells": {
             "fill": {
              "color": "#EBF0F8"
             },
             "line": {
              "color": "white"
             }
            },
            "header": {
             "fill": {
              "color": "#C8D4E3"
             },
             "line": {
              "color": "white"
             }
            },
            "type": "table"
           }
          ]
         },
         "layout": {
          "annotationdefaults": {
           "arrowcolor": "#2a3f5f",
           "arrowhead": 0,
           "arrowwidth": 1
          },
          "autotypenumbers": "strict",
          "coloraxis": {
           "colorbar": {
            "outlinewidth": 0,
            "ticks": ""
           }
          },
          "colorscale": {
           "diverging": [
            [
             0,
             "#8e0152"
            ],
            [
             0.1,
             "#c51b7d"
            ],
            [
             0.2,
             "#de77ae"
            ],
            [
             0.3,
             "#f1b6da"
            ],
            [
             0.4,
             "#fde0ef"
            ],
            [
             0.5,
             "#f7f7f7"
            ],
            [
             0.6,
             "#e6f5d0"
            ],
            [
             0.7,
             "#b8e186"
            ],
            [
             0.8,
             "#7fbc41"
            ],
            [
             0.9,
             "#4d9221"
            ],
            [
             1,
             "#276419"
            ]
           ],
           "sequential": [
            [
             0,
             "#0d0887"
            ],
            [
             0.1111111111111111,
             "#46039f"
            ],
            [
             0.2222222222222222,
             "#7201a8"
            ],
            [
             0.3333333333333333,
             "#9c179e"
            ],
            [
             0.4444444444444444,
             "#bd3786"
            ],
            [
             0.5555555555555556,
             "#d8576b"
            ],
            [
             0.6666666666666666,
             "#ed7953"
            ],
            [
             0.7777777777777778,
             "#fb9f3a"
            ],
            [
             0.8888888888888888,
             "#fdca26"
            ],
            [
             1,
             "#f0f921"
            ]
           ],
           "sequentialminus": [
            [
             0,
             "#0d0887"
            ],
            [
             0.1111111111111111,
             "#46039f"
            ],
            [
             0.2222222222222222,
             "#7201a8"
            ],
            [
             0.3333333333333333,
             "#9c179e"
            ],
            [
             0.4444444444444444,
             "#bd3786"
            ],
            [
             0.5555555555555556,
             "#d8576b"
            ],
            [
             0.6666666666666666,
             "#ed7953"
            ],
            [
             0.7777777777777778,
             "#fb9f3a"
            ],
            [
             0.8888888888888888,
             "#fdca26"
            ],
            [
             1,
             "#f0f921"
            ]
           ]
          },
          "colorway": [
           "#636efa",
           "#EF553B",
           "#00cc96",
           "#ab63fa",
           "#FFA15A",
           "#19d3f3",
           "#FF6692",
           "#B6E880",
           "#FF97FF",
           "#FECB52"
          ],
          "font": {
           "color": "#2a3f5f"
          },
          "geo": {
           "bgcolor": "white",
           "lakecolor": "white",
           "landcolor": "#E5ECF6",
           "showlakes": true,
           "showland": true,
           "subunitcolor": "white"
          },
          "hoverlabel": {
           "align": "left"
          },
          "hovermode": "closest",
          "mapbox": {
           "style": "light"
          },
          "paper_bgcolor": "white",
          "plot_bgcolor": "#E5ECF6",
          "polar": {
           "angularaxis": {
            "gridcolor": "white",
            "linecolor": "white",
            "ticks": ""
           },
           "bgcolor": "#E5ECF6",
           "radialaxis": {
            "gridcolor": "white",
            "linecolor": "white",
            "ticks": ""
           }
          },
          "scene": {
           "xaxis": {
            "backgroundcolor": "#E5ECF6",
            "gridcolor": "white",
            "gridwidth": 2,
            "linecolor": "white",
            "showbackground": true,
            "ticks": "",
            "zerolinecolor": "white"
           },
           "yaxis": {
            "backgroundcolor": "#E5ECF6",
            "gridcolor": "white",
            "gridwidth": 2,
            "linecolor": "white",
            "showbackground": true,
            "ticks": "",
            "zerolinecolor": "white"
           },
           "zaxis": {
            "backgroundcolor": "#E5ECF6",
            "gridcolor": "white",
            "gridwidth": 2,
            "linecolor": "white",
            "showbackground": true,
            "ticks": "",
            "zerolinecolor": "white"
           }
          },
          "shapedefaults": {
           "line": {
            "color": "#2a3f5f"
           }
          },
          "ternary": {
           "aaxis": {
            "gridcolor": "white",
            "linecolor": "white",
            "ticks": ""
           },
           "baxis": {
            "gridcolor": "white",
            "linecolor": "white",
            "ticks": ""
           },
           "bgcolor": "#E5ECF6",
           "caxis": {
            "gridcolor": "white",
            "linecolor": "white",
            "ticks": ""
           }
          },
          "title": {
           "x": 0.05
          },
          "xaxis": {
           "automargin": true,
           "gridcolor": "white",
           "linecolor": "white",
           "ticks": "",
           "title": {
            "standoff": 15
           },
           "zerolinecolor": "white",
           "zerolinewidth": 2
          },
          "yaxis": {
           "automargin": true,
           "gridcolor": "white",
           "linecolor": "white",
           "ticks": "",
           "title": {
            "standoff": 15
           },
           "zerolinecolor": "white",
           "zerolinewidth": 2
          }
         }
        },
        "title": {
         "text": "Permanencia de internação por dias, buscando em todas os meses e anos"
        },
        "xaxis": {
         "anchor": "y",
         "domain": [
          0,
          1
         ],
         "title": {
          "text": "data"
         }
        },
        "yaxis": {
         "anchor": "x",
         "domain": [
          0,
          1
         ],
         "title": {
          "text": "internacoes"
         }
        }
       }
      },
      "text/html": [
       "<div>                            <div id=\"25c53600-892a-4f25-9428-d7d767095578\" class=\"plotly-graph-div\" style=\"height:525px; width:100%;\"></div>            <script type=\"text/javascript\">                require([\"plotly\"], function(Plotly) {                    window.PLOTLYENV=window.PLOTLYENV || {};                                    if (document.getElementById(\"25c53600-892a-4f25-9428-d7d767095578\")) {                    Plotly.newPlot(                        \"25c53600-892a-4f25-9428-d7d767095578\",                        [{\"alignmentgroup\":\"True\",\"hovertemplate\":\"<b>%{hovertext}</b><br><br>data=%{x}<br>internacoes=%{y}<br>dias_permanencia=%{marker.color}<extra></extra>\",\"hovertext\":[12648.0,16660.0,18231.0,28698.0,37040.0,42043.0,74577.0,61001.0,73471.0,72629.0,66488.0,86714.0,97681.0,83497.0,98158.0,127847.0,212341.0,177792.0,173939.0,167386.0,251960.0,425600.0,363698.0,308100.0,353017.0,313874.0,358295.0,501519.0,855364.0,1155837.0,1301639.0,2181114.0,14489.0,15649.0,18126.0,33017.0,40725.0,48101.0,63341.0,80678.0,70656.0,78395.0,88168.0,75386.0,109738.0,89680.0,95532.0,131802.0,179497.0,164193.0,191447.0,240779.0,259811.0,445792.0,368417.0,323610.0,310853.0,380267.0,371970.0,533778.0,870717.0,1164944.0,1373604.0,2240046.0,14169.0,18636.0,19446.0,27526.0,46971.0,47175.0,64229.0,74924.0,91424.0,79680.0,87485.0,73605.0,113415.0,89659.0,101791.0,125777.0,187007.0,193997.0,171709.0,239420.0,260462.0,444325.0,374623.0,330516.0,321244.0,377026.0,378341.0,534974.0,889864.0,1171452.0,1407868.0,2252542.0,14947.0,15859.0,18456.0,29476.0,48441.0,45849.0,69105.0,73492.0,84432.0,88055.0,91282.0,75201.0,89282.0,114229.0,107610.0,130613.0,183303.0,172356.0,199623.0,241505.0,274402.0,453975.0,378660.0,338210.0,325474.0,389148.0,381375.0,541701.0,903757.0,1186537.0,1427972.0,2289823.0,15651.0,19370.0,20078.0,29276.0,49376.0,43583.0,68662.0,76095.0,93792.0,82831.0,92368.0,76040.0,91358.0,99067.0,128478.0,130266.0,175070.0,171880.0,200894.0,239946.0,269650.0,481919.0,395062.0,333803.0,336596.0,403446.0,382669.0,553916.0,932552.0,1192725.0,1421458.0,2327627.0,19489.0,18281.0,20032.0,33763.0,48829.0,49862.0,65443.0,72118.0,87446.0,69747.0,81814.0,92214.0,92535.0,101714.0,135619.0,131985.0,172674.0,174262.0,205463.0,246006.0,266496.0,452446.0,404357.0,339979.0,334521.0,402794.0,397503.0,547279.0,944341.0,1183251.0,1418297.0,2284690.0,16463.0,19848.0,17772.0,29495.0,43673.0,43865.0,66883.0,82405.0,72051.0,85223.0,84490.0,72514.0,86843.0,103233.0,94676.0,133081.0,169744.0,225090.0,194319.0,173131.0,259718.0,443295.0,400650.0,324927.0,328474.0,375711.0,385064.0,536576.0,923443.0,1131315.0,1349674.0,2205862.0,16494.0,23120.0,20423.0,27394.0,44335.0,46239.0,62401.0,68585.0,82973.0,84542.0,69562.0,80197.0,93070.0,85129.0,88870.0,127031.0,168430.0,184704.0,224373.0,168173.0,247070.0,428662.0,379386.0,325311.0,352064.0,324449.0,382040.0,514046.0,888539.0,1120475.0,1330748.0,2152053.0,12900.0,37038.0,27705.0,40940.0,44186.0,69879.0,62002.0,65346.0,81944.0,79608.0,67471.0,77161.0,87254.0,93784.0,131314.0,175421.0,175483.0,217626.0,160348.0,241999.0,387438.0,365798.0,296816.0,342731.0,310115.0,359338.0,508841.0,851396.0,1117191.0,1274889.0,2107254.0,22204.0,15896.0,20383.0,32283.0,47298.0,50638.0,69028.0,66114.0,98414.0,66823.0,87187.0,88946.0,84633.0,118444.0,99934.0,132721.0,162430.0,178890.0,188448.0,242101.0,259221.0,367943.0,457925.0,321233.0,320396.0,384102.0,392780.0,539634.0,876787.0,1185006.0,1388005.0,2282499.0,14069.0,20437.0,16190.0,36939.0,44704.0,44110.0,71229.0,79419.0,86429.0,66906.0,69397.0,80411.0,81342.0,104719.0,90167.0,125461.0,162328.0,180457.0,160326.0,232166.0,238132.0,410270.0,358810.0,282550.0,306517.0,366483.0,372482.0,516766.0,845784.0,1087757.0,1278299.0,2104960.0,15630.0,18617.0,17052.0,35548.0,46772.0,47277.0,73428.0,86394.0,70647.0,86301.0,84585.0,72864.0,88823.0,111462.0,90977.0,135764.0,170598.0,188264.0,174028.0,243893.0,258864.0,422618.0,380488.0,332194.0,310831.0,390737.0,392737.0,545247.0,879583.0,1185184.0,1387267.0,2244026.0,16412.0,20921.0,19579.0,34736.0,43020.0,43589.0,68286.0,77464.0,80499.0,85595.0,87615.0,73361.0,87640.0,109260.0,94647.0,134937.0,168351.0,169860.0,240774.0,197042.0,262572.0,443698.0,388769.0,322222.0,317321.0,385844.0,385596.0,540899.0,903132.0,1147210.0,1375253.0,2226454.0,18703.0,25560.0,37249.0,45789.0,53043.0,70907.0,92162.0,79992.0,74218.0,88357.0,85512.0,81932.0,117029.0,106978.0,135793.0,166594.0,138135.0,238580.0,205917.0,262688.0,436572.0,414630.0,339012.0,320599.0,358202.0,397947.0,564069.0,941146.0,1192857.0,1395106.0,2300476.0],\"legendgroup\":\"\",\"marker\":{\"color\":[12648.0,16660.0,18231.0,28698.0,37040.0,42043.0,74577.0,61001.0,73471.0,72629.0,66488.0,86714.0,97681.0,83497.0,98158.0,127847.0,212341.0,177792.0,173939.0,167386.0,251960.0,425600.0,363698.0,308100.0,353017.0,313874.0,358295.0,501519.0,855364.0,1155837.0,1301639.0,2181114.0,14489.0,15649.0,18126.0,33017.0,40725.0,48101.0,63341.0,80678.0,70656.0,78395.0,88168.0,75386.0,109738.0,89680.0,95532.0,131802.0,179497.0,164193.0,191447.0,240779.0,259811.0,445792.0,368417.0,323610.0,310853.0,380267.0,371970.0,533778.0,870717.0,1164944.0,1373604.0,2240046.0,14169.0,18636.0,19446.0,27526.0,46971.0,47175.0,64229.0,74924.0,91424.0,79680.0,87485.0,73605.0,113415.0,89659.0,101791.0,125777.0,187007.0,193997.0,171709.0,239420.0,260462.0,444325.0,374623.0,330516.0,321244.0,377026.0,378341.0,534974.0,889864.0,1171452.0,1407868.0,2252542.0,14947.0,15859.0,18456.0,29476.0,48441.0,45849.0,69105.0,73492.0,84432.0,88055.0,91282.0,75201.0,89282.0,114229.0,107610.0,130613.0,183303.0,172356.0,199623.0,241505.0,274402.0,453975.0,378660.0,338210.0,325474.0,389148.0,381375.0,541701.0,903757.0,1186537.0,1427972.0,2289823.0,15651.0,19370.0,20078.0,29276.0,49376.0,43583.0,68662.0,76095.0,93792.0,82831.0,92368.0,76040.0,91358.0,99067.0,128478.0,130266.0,175070.0,171880.0,200894.0,239946.0,269650.0,481919.0,395062.0,333803.0,336596.0,403446.0,382669.0,553916.0,932552.0,1192725.0,1421458.0,2327627.0,19489.0,18281.0,20032.0,33763.0,48829.0,49862.0,65443.0,72118.0,87446.0,69747.0,81814.0,92214.0,92535.0,101714.0,135619.0,131985.0,172674.0,174262.0,205463.0,246006.0,266496.0,452446.0,404357.0,339979.0,334521.0,402794.0,397503.0,547279.0,944341.0,1183251.0,1418297.0,2284690.0,16463.0,19848.0,17772.0,29495.0,43673.0,43865.0,66883.0,82405.0,72051.0,85223.0,84490.0,72514.0,86843.0,103233.0,94676.0,133081.0,169744.0,225090.0,194319.0,173131.0,259718.0,443295.0,400650.0,324927.0,328474.0,375711.0,385064.0,536576.0,923443.0,1131315.0,1349674.0,2205862.0,16494.0,23120.0,20423.0,27394.0,44335.0,46239.0,62401.0,68585.0,82973.0,84542.0,69562.0,80197.0,93070.0,85129.0,88870.0,127031.0,168430.0,184704.0,224373.0,168173.0,247070.0,428662.0,379386.0,325311.0,352064.0,324449.0,382040.0,514046.0,888539.0,1120475.0,1330748.0,2152053.0,12900.0,37038.0,27705.0,40940.0,44186.0,69879.0,62002.0,65346.0,81944.0,79608.0,67471.0,77161.0,87254.0,93784.0,131314.0,175421.0,175483.0,217626.0,160348.0,241999.0,387438.0,365798.0,296816.0,342731.0,310115.0,359338.0,508841.0,851396.0,1117191.0,1274889.0,2107254.0,22204.0,15896.0,20383.0,32283.0,47298.0,50638.0,69028.0,66114.0,98414.0,66823.0,87187.0,88946.0,84633.0,118444.0,99934.0,132721.0,162430.0,178890.0,188448.0,242101.0,259221.0,367943.0,457925.0,321233.0,320396.0,384102.0,392780.0,539634.0,876787.0,1185006.0,1388005.0,2282499.0,14069.0,20437.0,16190.0,36939.0,44704.0,44110.0,71229.0,79419.0,86429.0,66906.0,69397.0,80411.0,81342.0,104719.0,90167.0,125461.0,162328.0,180457.0,160326.0,232166.0,238132.0,410270.0,358810.0,282550.0,306517.0,366483.0,372482.0,516766.0,845784.0,1087757.0,1278299.0,2104960.0,15630.0,18617.0,17052.0,35548.0,46772.0,47277.0,73428.0,86394.0,70647.0,86301.0,84585.0,72864.0,88823.0,111462.0,90977.0,135764.0,170598.0,188264.0,174028.0,243893.0,258864.0,422618.0,380488.0,332194.0,310831.0,390737.0,392737.0,545247.0,879583.0,1185184.0,1387267.0,2244026.0,16412.0,20921.0,19579.0,34736.0,43020.0,43589.0,68286.0,77464.0,80499.0,85595.0,87615.0,73361.0,87640.0,109260.0,94647.0,134937.0,168351.0,169860.0,240774.0,197042.0,262572.0,443698.0,388769.0,322222.0,317321.0,385844.0,385596.0,540899.0,903132.0,1147210.0,1375253.0,2226454.0,18703.0,25560.0,37249.0,45789.0,53043.0,70907.0,92162.0,79992.0,74218.0,88357.0,85512.0,81932.0,117029.0,106978.0,135793.0,166594.0,138135.0,238580.0,205917.0,262688.0,436572.0,414630.0,339012.0,320599.0,358202.0,397947.0,564069.0,941146.0,1192857.0,1395106.0,2300476.0],\"coloraxis\":\"coloraxis\",\"pattern\":{\"shape\":\"\"}},\"name\":\"\",\"offsetgroup\":\"\",\"orientation\":\"v\",\"showlegend\":false,\"textposition\":\"auto\",\"x\":[\"2017-12-01T00:00:00\",\"2017-12-01T00:00:00\",\"2017-12-01T00:00:00\",\"2017-12-01T00:00:00\",\"2017-12-01T00:00:00\",\"2017-12-01T00:00:00\",\"2017-12-01T00:00:00\",\"2017-12-01T00:00:00\",\"2017-12-01T00:00:00\",\"2017-12-01T00:00:00\",\"2017-12-01T00:00:00\",\"2017-12-01T00:00:00\",\"2017-12-01T00:00:00\",\"2017-12-01T00:00:00\",\"2017-12-01T00:00:00\",\"2017-12-01T00:00:00\",\"2017-12-01T00:00:00\",\"2017-12-01T00:00:00\",\"2017-12-01T00:00:00\",\"2017-12-01T00:00:00\",\"2017-12-01T00:00:00\",\"2017-12-01T00:00:00\",\"2017-12-01T00:00:00\",\"2017-12-01T00:00:00\",\"2017-12-01T00:00:00\",\"2017-12-01T00:00:00\",\"2017-12-01T00:00:00\",\"2017-12-01T00:00:00\",\"2017-12-01T00:00:00\",\"2017-12-01T00:00:00\",\"2017-12-01T00:00:00\",\"2017-12-01T00:00:00\",\"2018-03-01T00:00:00\",\"2018-03-01T00:00:00\",\"2018-03-01T00:00:00\",\"2018-03-01T00:00:00\",\"2018-03-01T00:00:00\",\"2018-03-01T00:00:00\",\"2018-03-01T00:00:00\",\"2018-03-01T00:00:00\",\"2018-03-01T00:00:00\",\"2018-03-01T00:00:00\",\"2018-03-01T00:00:00\",\"2018-03-01T00:00:00\",\"2018-03-01T00:00:00\",\"2018-03-01T00:00:00\",\"2018-03-01T00:00:00\",\"2018-03-01T00:00:00\",\"2018-03-01T00:00:00\",\"2018-03-01T00:00:00\",\"2018-03-01T00:00:00\",\"2018-03-01T00:00:00\",\"2018-03-01T00:00:00\",\"2018-03-01T00:00:00\",\"2018-03-01T00:00:00\",\"2018-03-01T00:00:00\",\"2018-03-01T00:00:00\",\"2018-03-01T00:00:00\",\"2018-03-01T00:00:00\",\"2018-03-01T00:00:00\",\"2018-03-01T00:00:00\",\"2018-03-01T00:00:00\",\"2018-03-01T00:00:00\",\"2018-03-01T00:00:00\",\"2018-04-01T00:00:00\",\"2018-04-01T00:00:00\",\"2018-04-01T00:00:00\",\"2018-04-01T00:00:00\",\"2018-04-01T00:00:00\",\"2018-04-01T00:00:00\",\"2018-04-01T00:00:00\",\"2018-04-01T00:00:00\",\"2018-04-01T00:00:00\",\"2018-04-01T00:00:00\",\"2018-04-01T00:00:00\",\"2018-04-01T00:00:00\",\"2018-04-01T00:00:00\",\"2018-04-01T00:00:00\",\"2018-04-01T00:00:00\",\"2018-04-01T00:00:00\",\"2018-04-01T00:00:00\",\"2018-04-01T00:00:00\",\"2018-04-01T00:00:00\",\"2018-04-01T00:00:00\",\"2018-04-01T00:00:00\",\"2018-04-01T00:00:00\",\"2018-04-01T00:00:00\",\"2018-04-01T00:00:00\",\"2018-04-01T00:00:00\",\"2018-04-01T00:00:00\",\"2018-04-01T00:00:00\",\"2018-04-01T00:00:00\",\"2018-04-01T00:00:00\",\"2018-04-01T00:00:00\",\"2018-04-01T00:00:00\",\"2018-04-01T00:00:00\",\"2018-05-01T00:00:00\",\"2018-05-01T00:00:00\",\"2018-05-01T00:00:00\",\"2018-05-01T00:00:00\",\"2018-05-01T00:00:00\",\"2018-05-01T00:00:00\",\"2018-05-01T00:00:00\",\"2018-05-01T00:00:00\",\"2018-05-01T00:00:00\",\"2018-05-01T00:00:00\",\"2018-05-01T00:00:00\",\"2018-05-01T00:00:00\",\"2018-05-01T00:00:00\",\"2018-05-01T00:00:00\",\"2018-05-01T00:00:00\",\"2018-05-01T00:00:00\",\"2018-05-01T00:00:00\",\"2018-05-01T00:00:00\",\"2018-05-01T00:00:00\",\"2018-05-01T00:00:00\",\"2018-05-01T00:00:00\",\"2018-05-01T00:00:00\",\"2018-05-01T00:00:00\",\"2018-05-01T00:00:00\",\"2018-05-01T00:00:00\",\"2018-05-01T00:00:00\",\"2018-05-01T00:00:00\",\"2018-05-01T00:00:00\",\"2018-05-01T00:00:00\",\"2018-05-01T00:00:00\",\"2018-05-01T00:00:00\",\"2018-05-01T00:00:00\",\"2018-07-01T00:00:00\",\"2018-07-01T00:00:00\",\"2018-07-01T00:00:00\",\"2018-07-01T00:00:00\",\"2018-07-01T00:00:00\",\"2018-07-01T00:00:00\",\"2018-07-01T00:00:00\",\"2018-07-01T00:00:00\",\"2018-07-01T00:00:00\",\"2018-07-01T00:00:00\",\"2018-07-01T00:00:00\",\"2018-07-01T00:00:00\",\"2018-07-01T00:00:00\",\"2018-07-01T00:00:00\",\"2018-07-01T00:00:00\",\"2018-07-01T00:00:00\",\"2018-07-01T00:00:00\",\"2018-07-01T00:00:00\",\"2018-07-01T00:00:00\",\"2018-07-01T00:00:00\",\"2018-07-01T00:00:00\",\"2018-07-01T00:00:00\",\"2018-07-01T00:00:00\",\"2018-07-01T00:00:00\",\"2018-07-01T00:00:00\",\"2018-07-01T00:00:00\",\"2018-07-01T00:00:00\",\"2018-07-01T00:00:00\",\"2018-07-01T00:00:00\",\"2018-07-01T00:00:00\",\"2018-07-01T00:00:00\",\"2018-07-01T00:00:00\",\"2018-08-01T00:00:00\",\"2018-08-01T00:00:00\",\"2018-08-01T00:00:00\",\"2018-08-01T00:00:00\",\"2018-08-01T00:00:00\",\"2018-08-01T00:00:00\",\"2018-08-01T00:00:00\",\"2018-08-01T00:00:00\",\"2018-08-01T00:00:00\",\"2018-08-01T00:00:00\",\"2018-08-01T00:00:00\",\"2018-08-01T00:00:00\",\"2018-08-01T00:00:00\",\"2018-08-01T00:00:00\",\"2018-08-01T00:00:00\",\"2018-08-01T00:00:00\",\"2018-08-01T00:00:00\",\"2018-08-01T00:00:00\",\"2018-08-01T00:00:00\",\"2018-08-01T00:00:00\",\"2018-08-01T00:00:00\",\"2018-08-01T00:00:00\",\"2018-08-01T00:00:00\",\"2018-08-01T00:00:00\",\"2018-08-01T00:00:00\",\"2018-08-01T00:00:00\",\"2018-08-01T00:00:00\",\"2018-08-01T00:00:00\",\"2018-08-01T00:00:00\",\"2018-08-01T00:00:00\",\"2018-08-01T00:00:00\",\"2018-08-01T00:00:00\",\"2018-09-01T00:00:00\",\"2018-09-01T00:00:00\",\"2018-09-01T00:00:00\",\"2018-09-01T00:00:00\",\"2018-09-01T00:00:00\",\"2018-09-01T00:00:00\",\"2018-09-01T00:00:00\",\"2018-09-01T00:00:00\",\"2018-09-01T00:00:00\",\"2018-09-01T00:00:00\",\"2018-09-01T00:00:00\",\"2018-09-01T00:00:00\",\"2018-09-01T00:00:00\",\"2018-09-01T00:00:00\",\"2018-09-01T00:00:00\",\"2018-09-01T00:00:00\",\"2018-09-01T00:00:00\",\"2018-09-01T00:00:00\",\"2018-09-01T00:00:00\",\"2018-09-01T00:00:00\",\"2018-09-01T00:00:00\",\"2018-09-01T00:00:00\",\"2018-09-01T00:00:00\",\"2018-09-01T00:00:00\",\"2018-09-01T00:00:00\",\"2018-09-01T00:00:00\",\"2018-09-01T00:00:00\",\"2018-09-01T00:00:00\",\"2018-09-01T00:00:00\",\"2018-09-01T00:00:00\",\"2018-09-01T00:00:00\",\"2018-09-01T00:00:00\",\"2018-11-01T00:00:00\",\"2018-11-01T00:00:00\",\"2018-11-01T00:00:00\",\"2018-11-01T00:00:00\",\"2018-11-01T00:00:00\",\"2018-11-01T00:00:00\",\"2018-11-01T00:00:00\",\"2018-11-01T00:00:00\",\"2018-11-01T00:00:00\",\"2018-11-01T00:00:00\",\"2018-11-01T00:00:00\",\"2018-11-01T00:00:00\",\"2018-11-01T00:00:00\",\"2018-11-01T00:00:00\",\"2018-11-01T00:00:00\",\"2018-11-01T00:00:00\",\"2018-11-01T00:00:00\",\"2018-11-01T00:00:00\",\"2018-11-01T00:00:00\",\"2018-11-01T00:00:00\",\"2018-11-01T00:00:00\",\"2018-11-01T00:00:00\",\"2018-11-01T00:00:00\",\"2018-11-01T00:00:00\",\"2018-11-01T00:00:00\",\"2018-11-01T00:00:00\",\"2018-11-01T00:00:00\",\"2018-11-01T00:00:00\",\"2018-11-01T00:00:00\",\"2018-11-01T00:00:00\",\"2018-11-01T00:00:00\",\"2018-11-01T00:00:00\",\"2018-12-01T00:00:00\",\"2018-12-01T00:00:00\",\"2018-12-01T00:00:00\",\"2018-12-01T00:00:00\",\"2018-12-01T00:00:00\",\"2018-12-01T00:00:00\",\"2018-12-01T00:00:00\",\"2018-12-01T00:00:00\",\"2018-12-01T00:00:00\",\"2018-12-01T00:00:00\",\"2018-12-01T00:00:00\",\"2018-12-01T00:00:00\",\"2018-12-01T00:00:00\",\"2018-12-01T00:00:00\",\"2018-12-01T00:00:00\",\"2018-12-01T00:00:00\",\"2018-12-01T00:00:00\",\"2018-12-01T00:00:00\",\"2018-12-01T00:00:00\",\"2018-12-01T00:00:00\",\"2018-12-01T00:00:00\",\"2018-12-01T00:00:00\",\"2018-12-01T00:00:00\",\"2018-12-01T00:00:00\",\"2018-12-01T00:00:00\",\"2018-12-01T00:00:00\",\"2018-12-01T00:00:00\",\"2018-12-01T00:00:00\",\"2018-12-01T00:00:00\",\"2018-12-01T00:00:00\",\"2018-12-01T00:00:00\",\"2019-01-01T00:00:00\",\"2019-01-01T00:00:00\",\"2019-01-01T00:00:00\",\"2019-01-01T00:00:00\",\"2019-01-01T00:00:00\",\"2019-01-01T00:00:00\",\"2019-01-01T00:00:00\",\"2019-01-01T00:00:00\",\"2019-01-01T00:00:00\",\"2019-01-01T00:00:00\",\"2019-01-01T00:00:00\",\"2019-01-01T00:00:00\",\"2019-01-01T00:00:00\",\"2019-01-01T00:00:00\",\"2019-01-01T00:00:00\",\"2019-01-01T00:00:00\",\"2019-01-01T00:00:00\",\"2019-01-01T00:00:00\",\"2019-01-01T00:00:00\",\"2019-01-01T00:00:00\",\"2019-01-01T00:00:00\",\"2019-01-01T00:00:00\",\"2019-01-01T00:00:00\",\"2019-01-01T00:00:00\",\"2019-01-01T00:00:00\",\"2019-01-01T00:00:00\",\"2019-01-01T00:00:00\",\"2019-01-01T00:00:00\",\"2019-01-01T00:00:00\",\"2019-01-01T00:00:00\",\"2019-01-01T00:00:00\",\"2019-01-01T00:00:00\",\"2019-02-01T00:00:00\",\"2019-02-01T00:00:00\",\"2019-02-01T00:00:00\",\"2019-02-01T00:00:00\",\"2019-02-01T00:00:00\",\"2019-02-01T00:00:00\",\"2019-02-01T00:00:00\",\"2019-02-01T00:00:00\",\"2019-02-01T00:00:00\",\"2019-02-01T00:00:00\",\"2019-02-01T00:00:00\",\"2019-02-01T00:00:00\",\"2019-02-01T00:00:00\",\"2019-02-01T00:00:00\",\"2019-02-01T00:00:00\",\"2019-02-01T00:00:00\",\"2019-02-01T00:00:00\",\"2019-02-01T00:00:00\",\"2019-02-01T00:00:00\",\"2019-02-01T00:00:00\",\"2019-02-01T00:00:00\",\"2019-02-01T00:00:00\",\"2019-02-01T00:00:00\",\"2019-02-01T00:00:00\",\"2019-02-01T00:00:00\",\"2019-02-01T00:00:00\",\"2019-02-01T00:00:00\",\"2019-02-01T00:00:00\",\"2019-02-01T00:00:00\",\"2019-02-01T00:00:00\",\"2019-02-01T00:00:00\",\"2019-02-01T00:00:00\",\"2019-04-01T00:00:00\",\"2019-04-01T00:00:00\",\"2019-04-01T00:00:00\",\"2019-04-01T00:00:00\",\"2019-04-01T00:00:00\",\"2019-04-01T00:00:00\",\"2019-04-01T00:00:00\",\"2019-04-01T00:00:00\",\"2019-04-01T00:00:00\",\"2019-04-01T00:00:00\",\"2019-04-01T00:00:00\",\"2019-04-01T00:00:00\",\"2019-04-01T00:00:00\",\"2019-04-01T00:00:00\",\"2019-04-01T00:00:00\",\"2019-04-01T00:00:00\",\"2019-04-01T00:00:00\",\"2019-04-01T00:00:00\",\"2019-04-01T00:00:00\",\"2019-04-01T00:00:00\",\"2019-04-01T00:00:00\",\"2019-04-01T00:00:00\",\"2019-04-01T00:00:00\",\"2019-04-01T00:00:00\",\"2019-04-01T00:00:00\",\"2019-04-01T00:00:00\",\"2019-04-01T00:00:00\",\"2019-04-01T00:00:00\",\"2019-04-01T00:00:00\",\"2019-04-01T00:00:00\",\"2019-04-01T00:00:00\",\"2019-04-01T00:00:00\",\"2019-06-01T00:00:00\",\"2019-06-01T00:00:00\",\"2019-06-01T00:00:00\",\"2019-06-01T00:00:00\",\"2019-06-01T00:00:00\",\"2019-06-01T00:00:00\",\"2019-06-01T00:00:00\",\"2019-06-01T00:00:00\",\"2019-06-01T00:00:00\",\"2019-06-01T00:00:00\",\"2019-06-01T00:00:00\",\"2019-06-01T00:00:00\",\"2019-06-01T00:00:00\",\"2019-06-01T00:00:00\",\"2019-06-01T00:00:00\",\"2019-06-01T00:00:00\",\"2019-06-01T00:00:00\",\"2019-06-01T00:00:00\",\"2019-06-01T00:00:00\",\"2019-06-01T00:00:00\",\"2019-06-01T00:00:00\",\"2019-06-01T00:00:00\",\"2019-06-01T00:00:00\",\"2019-06-01T00:00:00\",\"2019-06-01T00:00:00\",\"2019-06-01T00:00:00\",\"2019-06-01T00:00:00\",\"2019-06-01T00:00:00\",\"2019-06-01T00:00:00\",\"2019-06-01T00:00:00\",\"2019-06-01T00:00:00\",\"2019-06-01T00:00:00\",\"2019-07-01T00:00:00\",\"2019-07-01T00:00:00\",\"2019-07-01T00:00:00\",\"2019-07-01T00:00:00\",\"2019-07-01T00:00:00\",\"2019-07-01T00:00:00\",\"2019-07-01T00:00:00\",\"2019-07-01T00:00:00\",\"2019-07-01T00:00:00\",\"2019-07-01T00:00:00\",\"2019-07-01T00:00:00\",\"2019-07-01T00:00:00\",\"2019-07-01T00:00:00\",\"2019-07-01T00:00:00\",\"2019-07-01T00:00:00\",\"2019-07-01T00:00:00\",\"2019-07-01T00:00:00\",\"2019-07-01T00:00:00\",\"2019-07-01T00:00:00\",\"2019-07-01T00:00:00\",\"2019-07-01T00:00:00\",\"2019-07-01T00:00:00\",\"2019-07-01T00:00:00\",\"2019-07-01T00:00:00\",\"2019-07-01T00:00:00\",\"2019-07-01T00:00:00\",\"2019-07-01T00:00:00\",\"2019-07-01T00:00:00\",\"2019-07-01T00:00:00\",\"2019-07-01T00:00:00\",\"2019-07-01T00:00:00\"],\"xaxis\":\"x\",\"y\":[2493.0,3463.0,3513.0,5803.0,6908.0,9783.0,12602.0,13411.0,13557.0,14337.0,14931.0,14998.0,15334.0,17763.0,20115.0,26601.0,37661.0,38118.0,38308.0,40967.0,45467.0,53294.0,60383.0,62557.0,70277.0,70396.0,80359.0,98755.0,168897.0,198083.0,249821.0,370247.0,3018.0,3339.0,3567.0,6335.0,7280.0,10315.0,13502.0,14246.0,14252.0,15120.0,15614.0,16674.0,17820.0,18425.0,19599.0,27890.0,39267.0,40553.0,41757.0,42387.0,47835.0,58584.0,61995.0,66504.0,71795.0,75886.0,82247.0,105344.0,175547.0,211205.0,265810.0,394732.0,2723.0,3461.0,4237.0,5166.0,7993.0,10290.0,13927.0,14713.0,15363.0,15446.0,15569.0,16113.0,18192.0,18292.0,21100.0,27058.0,40613.0,41428.0,41899.0,43074.0,47612.0,60348.0,62533.0,70190.0,73214.0,75290.0,83222.0,105513.0,177175.0,210204.0,273419.0,397165.0,2504.0,3309.0,3504.0,5851.0,8389.0,10537.0,14360.0,15118.0,15705.0,15751.0,16364.0,16591.0,18548.0,18943.0,21471.0,28492.0,40561.0,41519.0,41710.0,43237.0,49833.0,61332.0,62498.0,70984.0,73085.0,78386.0,82929.0,105513.0,177293.0,212696.0,278785.0,401012.0,2897.0,3661.0,3941.0,5783.0,8572.0,9965.0,14634.0,14975.0,15444.0,15802.0,16113.0,16499.0,18206.0,20408.0,20646.0,27002.0,39301.0,40598.0,42849.0,42936.0,47708.0,62421.0,64053.0,70628.0,74451.0,78781.0,82647.0,106719.0,181353.0,207804.0,273883.0,397352.0,3506.0,3739.0,3982.0,5917.0,8557.0,10379.0,13642.0,14484.0,14917.0,15367.0,15657.0,16558.0,18546.0,20517.0,20828.0,27281.0,39636.0,41606.0,43170.0,43485.0,48823.0,61022.0,64525.0,71433.0,74103.0,77118.0,84786.0,105993.0,181798.0,212547.0,276439.0,400079.0,3471.0,3693.0,3698.0,5388.0,8014.0,9494.0,14179.0,14562.0,14857.0,15125.0,15803.0,16147.0,17961.0,18002.0,19575.0,27826.0,38514.0,40642.0,41185.0,42407.0,46265.0,58775.0,63580.0,69091.0,73357.0,76154.0,83954.0,104207.0,178122.0,203113.0,265031.0,385670.0,3438.0,3696.0,3766.0,5249.0,7518.0,9498.0,13695.0,14205.0,14480.0,14880.0,15167.0,15196.0,15461.0,17380.0,19328.0,26386.0,38106.0,39606.0,40878.0,41006.0,45745.0,57284.0,61241.0,68937.0,70709.0,74335.0,81849.0,100308.0,175182.0,201634.0,262129.0,378554.0,2580.0,3591.0,5209.0,7109.0,9444.0,12567.0,13117.0,13443.0,13892.0,14230.0,14796.0,15117.0,18112.0,18887.0,26818.0,37420.0,38206.0,39262.0,39340.0,43396.0,52664.0,59573.0,63026.0,68623.0,69396.0,78872.0,100584.0,167175.0,197493.0,248565.0,369628.0,3274.0,3284.0,3640.0,5698.0,7888.0,9705.0,13509.0,14192.0,14764.0,14777.0,14803.0,17444.0,17601.0,18401.0,19382.0,27005.0,38091.0,38717.0,40755.0,44176.0,45812.0,59533.0,60470.0,66460.0,72424.0,74375.0,81136.0,102950.0,172712.0,205741.0,263730.0,388543.0,2899.0,3086.0,3463.0,6106.0,7229.0,9621.0,13327.0,13971.0,14120.0,14263.0,14710.0,15345.0,16879.0,18473.0,19010.0,26070.0,35905.0,38940.0,39237.0,41793.0,43829.0,56642.0,59283.0,63223.0,70915.0,73516.0,79757.0,101050.0,169138.0,197813.0,250276.0,374515.0,3037.0,3172.0,3468.0,6413.0,8329.0,10363.0,13815.0,14886.0,15213.0,15562.0,16052.0,16089.0,17815.0,19459.0,19504.0,28434.0,38263.0,41215.0,41561.0,44173.0,48588.0,58084.0,62291.0,71038.0,72330.0,79195.0,84066.0,108124.0,175836.0,215787.0,272469.0,401499.0,3166.0,3591.0,4213.0,6147.0,7817.0,9380.0,14515.0,14788.0,15199.0,15270.0,15888.0,16007.0,17855.0,18765.0,19856.0,28023.0,35229.0,40506.0,41645.0,42729.0,48332.0,60909.0,65315.0,70074.0,73283.0,77310.0,82202.0,107102.0,181327.0,209812.0,266898.0,397679.0,3407.0,4324.0,7007.0,8032.0,9603.0,15150.0,15435.0,15459.0,15824.0,16022.0,16248.0,16590.0,19976.0,21645.0,27835.0,33351.0,34774.0,41228.0,44943.0,49437.0,61719.0,67850.0,72390.0,74845.0,75363.0,78785.0,110732.0,187638.0,214299.0,267944.0,408395.0],\"yaxis\":\"y\",\"type\":\"bar\"}],                        {\"template\":{\"data\":{\"histogram2dcontour\":[{\"type\":\"histogram2dcontour\",\"colorbar\":{\"outlinewidth\":0,\"ticks\":\"\"},\"colorscale\":[[0.0,\"#0d0887\"],[0.1111111111111111,\"#46039f\"],[0.2222222222222222,\"#7201a8\"],[0.3333333333333333,\"#9c179e\"],[0.4444444444444444,\"#bd3786\"],[0.5555555555555556,\"#d8576b\"],[0.6666666666666666,\"#ed7953\"],[0.7777777777777778,\"#fb9f3a\"],[0.8888888888888888,\"#fdca26\"],[1.0,\"#f0f921\"]]}],\"choropleth\":[{\"type\":\"choropleth\",\"colorbar\":{\"outlinewidth\":0,\"ticks\":\"\"}}],\"histogram2d\":[{\"type\":\"histogram2d\",\"colorbar\":{\"outlinewidth\":0,\"ticks\":\"\"},\"colorscale\":[[0.0,\"#0d0887\"],[0.1111111111111111,\"#46039f\"],[0.2222222222222222,\"#7201a8\"],[0.3333333333333333,\"#9c179e\"],[0.4444444444444444,\"#bd3786\"],[0.5555555555555556,\"#d8576b\"],[0.6666666666666666,\"#ed7953\"],[0.7777777777777778,\"#fb9f3a\"],[0.8888888888888888,\"#fdca26\"],[1.0,\"#f0f921\"]]}],\"heatmap\":[{\"type\":\"heatmap\",\"colorbar\":{\"outlinewidth\":0,\"ticks\":\"\"},\"colorscale\":[[0.0,\"#0d0887\"],[0.1111111111111111,\"#46039f\"],[0.2222222222222222,\"#7201a8\"],[0.3333333333333333,\"#9c179e\"],[0.4444444444444444,\"#bd3786\"],[0.5555555555555556,\"#d8576b\"],[0.6666666666666666,\"#ed7953\"],[0.7777777777777778,\"#fb9f3a\"],[0.8888888888888888,\"#fdca26\"],[1.0,\"#f0f921\"]]}],\"heatmapgl\":[{\"type\":\"heatmapgl\",\"colorbar\":{\"outlinewidth\":0,\"ticks\":\"\"},\"colorscale\":[[0.0,\"#0d0887\"],[0.1111111111111111,\"#46039f\"],[0.2222222222222222,\"#7201a8\"],[0.3333333333333333,\"#9c179e\"],[0.4444444444444444,\"#bd3786\"],[0.5555555555555556,\"#d8576b\"],[0.6666666666666666,\"#ed7953\"],[0.7777777777777778,\"#fb9f3a\"],[0.8888888888888888,\"#fdca26\"],[1.0,\"#f0f921\"]]}],\"contourcarpet\":[{\"type\":\"contourcarpet\",\"colorbar\":{\"outlinewidth\":0,\"ticks\":\"\"}}],\"contour\":[{\"type\":\"contour\",\"colorbar\":{\"outlinewidth\":0,\"ticks\":\"\"},\"colorscale\":[[0.0,\"#0d0887\"],[0.1111111111111111,\"#46039f\"],[0.2222222222222222,\"#7201a8\"],[0.3333333333333333,\"#9c179e\"],[0.4444444444444444,\"#bd3786\"],[0.5555555555555556,\"#d8576b\"],[0.6666666666666666,\"#ed7953\"],[0.7777777777777778,\"#fb9f3a\"],[0.8888888888888888,\"#fdca26\"],[1.0,\"#f0f921\"]]}],\"surface\":[{\"type\":\"surface\",\"colorbar\":{\"outlinewidth\":0,\"ticks\":\"\"},\"colorscale\":[[0.0,\"#0d0887\"],[0.1111111111111111,\"#46039f\"],[0.2222222222222222,\"#7201a8\"],[0.3333333333333333,\"#9c179e\"],[0.4444444444444444,\"#bd3786\"],[0.5555555555555556,\"#d8576b\"],[0.6666666666666666,\"#ed7953\"],[0.7777777777777778,\"#fb9f3a\"],[0.8888888888888888,\"#fdca26\"],[1.0,\"#f0f921\"]]}],\"mesh3d\":[{\"type\":\"mesh3d\",\"colorbar\":{\"outlinewidth\":0,\"ticks\":\"\"}}],\"scatter\":[{\"fillpattern\":{\"fillmode\":\"overlay\",\"size\":10,\"solidity\":0.2},\"type\":\"scatter\"}],\"parcoords\":[{\"type\":\"parcoords\",\"line\":{\"colorbar\":{\"outlinewidth\":0,\"ticks\":\"\"}}}],\"scatterpolargl\":[{\"type\":\"scatterpolargl\",\"marker\":{\"colorbar\":{\"outlinewidth\":0,\"ticks\":\"\"}}}],\"bar\":[{\"error_x\":{\"color\":\"#2a3f5f\"},\"error_y\":{\"color\":\"#2a3f5f\"},\"marker\":{\"line\":{\"color\":\"#E5ECF6\",\"width\":0.5},\"pattern\":{\"fillmode\":\"overlay\",\"size\":10,\"solidity\":0.2}},\"type\":\"bar\"}],\"scattergeo\":[{\"type\":\"scattergeo\",\"marker\":{\"colorbar\":{\"outlinewidth\":0,\"ticks\":\"\"}}}],\"scatterpolar\":[{\"type\":\"scatterpolar\",\"marker\":{\"colorbar\":{\"outlinewidth\":0,\"ticks\":\"\"}}}],\"histogram\":[{\"marker\":{\"pattern\":{\"fillmode\":\"overlay\",\"size\":10,\"solidity\":0.2}},\"type\":\"histogram\"}],\"scattergl\":[{\"type\":\"scattergl\",\"marker\":{\"colorbar\":{\"outlinewidth\":0,\"ticks\":\"\"}}}],\"scatter3d\":[{\"type\":\"scatter3d\",\"line\":{\"colorbar\":{\"outlinewidth\":0,\"ticks\":\"\"}},\"marker\":{\"colorbar\":{\"outlinewidth\":0,\"ticks\":\"\"}}}],\"scattermapbox\":[{\"type\":\"scattermapbox\",\"marker\":{\"colorbar\":{\"outlinewidth\":0,\"ticks\":\"\"}}}],\"scatterternary\":[{\"type\":\"scatterternary\",\"marker\":{\"colorbar\":{\"outlinewidth\":0,\"ticks\":\"\"}}}],\"scattercarpet\":[{\"type\":\"scattercarpet\",\"marker\":{\"colorbar\":{\"outlinewidth\":0,\"ticks\":\"\"}}}],\"carpet\":[{\"aaxis\":{\"endlinecolor\":\"#2a3f5f\",\"gridcolor\":\"white\",\"linecolor\":\"white\",\"minorgridcolor\":\"white\",\"startlinecolor\":\"#2a3f5f\"},\"baxis\":{\"endlinecolor\":\"#2a3f5f\",\"gridcolor\":\"white\",\"linecolor\":\"white\",\"minorgridcolor\":\"white\",\"startlinecolor\":\"#2a3f5f\"},\"type\":\"carpet\"}],\"table\":[{\"cells\":{\"fill\":{\"color\":\"#EBF0F8\"},\"line\":{\"color\":\"white\"}},\"header\":{\"fill\":{\"color\":\"#C8D4E3\"},\"line\":{\"color\":\"white\"}},\"type\":\"table\"}],\"barpolar\":[{\"marker\":{\"line\":{\"color\":\"#E5ECF6\",\"width\":0.5},\"pattern\":{\"fillmode\":\"overlay\",\"size\":10,\"solidity\":0.2}},\"type\":\"barpolar\"}],\"pie\":[{\"automargin\":true,\"type\":\"pie\"}]},\"layout\":{\"autotypenumbers\":\"strict\",\"colorway\":[\"#636efa\",\"#EF553B\",\"#00cc96\",\"#ab63fa\",\"#FFA15A\",\"#19d3f3\",\"#FF6692\",\"#B6E880\",\"#FF97FF\",\"#FECB52\"],\"font\":{\"color\":\"#2a3f5f\"},\"hovermode\":\"closest\",\"hoverlabel\":{\"align\":\"left\"},\"paper_bgcolor\":\"white\",\"plot_bgcolor\":\"#E5ECF6\",\"polar\":{\"bgcolor\":\"#E5ECF6\",\"angularaxis\":{\"gridcolor\":\"white\",\"linecolor\":\"white\",\"ticks\":\"\"},\"radialaxis\":{\"gridcolor\":\"white\",\"linecolor\":\"white\",\"ticks\":\"\"}},\"ternary\":{\"bgcolor\":\"#E5ECF6\",\"aaxis\":{\"gridcolor\":\"white\",\"linecolor\":\"white\",\"ticks\":\"\"},\"baxis\":{\"gridcolor\":\"white\",\"linecolor\":\"white\",\"ticks\":\"\"},\"caxis\":{\"gridcolor\":\"white\",\"linecolor\":\"white\",\"ticks\":\"\"}},\"coloraxis\":{\"colorbar\":{\"outlinewidth\":0,\"ticks\":\"\"}},\"colorscale\":{\"sequential\":[[0.0,\"#0d0887\"],[0.1111111111111111,\"#46039f\"],[0.2222222222222222,\"#7201a8\"],[0.3333333333333333,\"#9c179e\"],[0.4444444444444444,\"#bd3786\"],[0.5555555555555556,\"#d8576b\"],[0.6666666666666666,\"#ed7953\"],[0.7777777777777778,\"#fb9f3a\"],[0.8888888888888888,\"#fdca26\"],[1.0,\"#f0f921\"]],\"sequentialminus\":[[0.0,\"#0d0887\"],[0.1111111111111111,\"#46039f\"],[0.2222222222222222,\"#7201a8\"],[0.3333333333333333,\"#9c179e\"],[0.4444444444444444,\"#bd3786\"],[0.5555555555555556,\"#d8576b\"],[0.6666666666666666,\"#ed7953\"],[0.7777777777777778,\"#fb9f3a\"],[0.8888888888888888,\"#fdca26\"],[1.0,\"#f0f921\"]],\"diverging\":[[0,\"#8e0152\"],[0.1,\"#c51b7d\"],[0.2,\"#de77ae\"],[0.3,\"#f1b6da\"],[0.4,\"#fde0ef\"],[0.5,\"#f7f7f7\"],[0.6,\"#e6f5d0\"],[0.7,\"#b8e186\"],[0.8,\"#7fbc41\"],[0.9,\"#4d9221\"],[1,\"#276419\"]]},\"xaxis\":{\"gridcolor\":\"white\",\"linecolor\":\"white\",\"ticks\":\"\",\"title\":{\"standoff\":15},\"zerolinecolor\":\"white\",\"automargin\":true,\"zerolinewidth\":2},\"yaxis\":{\"gridcolor\":\"white\",\"linecolor\":\"white\",\"ticks\":\"\",\"title\":{\"standoff\":15},\"zerolinecolor\":\"white\",\"automargin\":true,\"zerolinewidth\":2},\"scene\":{\"xaxis\":{\"backgroundcolor\":\"#E5ECF6\",\"gridcolor\":\"white\",\"linecolor\":\"white\",\"showbackground\":true,\"ticks\":\"\",\"zerolinecolor\":\"white\",\"gridwidth\":2},\"yaxis\":{\"backgroundcolor\":\"#E5ECF6\",\"gridcolor\":\"white\",\"linecolor\":\"white\",\"showbackground\":true,\"ticks\":\"\",\"zerolinecolor\":\"white\",\"gridwidth\":2},\"zaxis\":{\"backgroundcolor\":\"#E5ECF6\",\"gridcolor\":\"white\",\"linecolor\":\"white\",\"showbackground\":true,\"ticks\":\"\",\"zerolinecolor\":\"white\",\"gridwidth\":2}},\"shapedefaults\":{\"line\":{\"color\":\"#2a3f5f\"}},\"annotationdefaults\":{\"arrowcolor\":\"#2a3f5f\",\"arrowhead\":0,\"arrowwidth\":1},\"geo\":{\"bgcolor\":\"white\",\"landcolor\":\"#E5ECF6\",\"subunitcolor\":\"white\",\"showland\":true,\"showlakes\":true,\"lakecolor\":\"white\"},\"title\":{\"x\":0.05},\"mapbox\":{\"style\":\"light\"}}},\"xaxis\":{\"anchor\":\"y\",\"domain\":[0.0,1.0],\"title\":{\"text\":\"data\"}},\"yaxis\":{\"anchor\":\"x\",\"domain\":[0.0,1.0],\"title\":{\"text\":\"internacoes\"}},\"coloraxis\":{\"colorbar\":{\"title\":{\"text\":\"dias_permanencia\"}},\"colorscale\":[[0.0,\"#0d0887\"],[0.1111111111111111,\"#46039f\"],[0.2222222222222222,\"#7201a8\"],[0.3333333333333333,\"#9c179e\"],[0.4444444444444444,\"#bd3786\"],[0.5555555555555556,\"#d8576b\"],[0.6666666666666666,\"#ed7953\"],[0.7777777777777778,\"#fb9f3a\"],[0.8888888888888888,\"#fdca26\"],[1.0,\"#f0f921\"]]},\"legend\":{\"tracegroupgap\":0},\"title\":{\"text\":\"Permanencia de interna\\u00e7\\u00e3o por dias, buscando em todas os meses e anos\"},\"barmode\":\"relative\"},                        {\"responsive\": true}                    ).then(function(){\n",
       "                            \n",
       "var gd = document.getElementById('25c53600-892a-4f25-9428-d7d767095578');\n",
       "var x = new MutationObserver(function (mutations, observer) {{\n",
       "        var display = window.getComputedStyle(gd).display;\n",
       "        if (!display || display === 'none') {{\n",
       "            console.log([gd, 'removed!']);\n",
       "            Plotly.purge(gd);\n",
       "            observer.disconnect();\n",
       "        }}\n",
       "}});\n",
       "\n",
       "// Listen for the removal of the full notebook cells\n",
       "var notebookContainer = gd.closest('#notebook-container');\n",
       "if (notebookContainer) {{\n",
       "    x.observe(notebookContainer, {childList: true});\n",
       "}}\n",
       "\n",
       "// Listen for the clearing of the current output cell\n",
       "var outputEl = gd.closest('.output');\n",
       "if (outputEl) {{\n",
       "    x.observe(outputEl, {childList: true});\n",
       "}}\n",
       "\n",
       "                        })                };                });            </script>        </div>"
      ]
     },
     "metadata": {},
     "output_type": "display_data"
    }
   ],
   "source": [
    "px.bar(df_permanencia_internacao, y='internacoes', x='data', color='dias_permanencia', hover_name='dias_permanencia', title='Permanencia de internação por dias, buscando em todas os meses e anos')"
   ]
  },
  {
   "cell_type": "code",
   "execution_count": null,
   "metadata": {},
   "outputs": [],
   "source": []
  }
 ],
 "metadata": {
  "kernelspec": {
   "display_name": "Python 3",
   "language": "python",
   "name": "python3"
  },
  "language_info": {
   "codemirror_mode": {
    "name": "ipython",
    "version": 3
   },
   "file_extension": ".py",
   "mimetype": "text/x-python",
   "name": "python",
   "nbconvert_exporter": "python",
   "pygments_lexer": "ipython3",
   "version": "3.7.6"
  }
 },
 "nbformat": 4,
 "nbformat_minor": 4
}
